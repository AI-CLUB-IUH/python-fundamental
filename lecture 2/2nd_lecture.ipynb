{
 "cells": [
  {
   "cell_type": "markdown",
   "id": "94d11284-6bd1-4aea-881d-c278b0343059",
   "metadata": {},
   "source": [
    "# Buổi trước chúng ta đã học gì:\n",
    "- Biểu thức, toán tử và độ ưu tiên toán tử\n",
    "- Kiểu dữ liệu nguyên, thực và chuỗi\n",
    "- Biến như cái \"hộp\"\n",
    "- Hàm xuất `print()`, hàm nhập `input()` và các hàm ép kiểu `str()`, `int()`, `float()`\n",
    "- Làm bài tập sẽ nhớ, chưa nhớ thì nên làm bài tập 😒"
   ]
  },
  {
   "cell_type": "markdown",
   "id": "a100fb64-bf52-41b8-9ca1-05af83dea99d",
   "metadata": {},
   "source": [
    "## Flow review"
   ]
  },
  {
   "cell_type": "markdown",
   "id": "3465b0e1-1096-426d-b940-ecd910f13344",
   "metadata": {
    "execution": {
     "iopub.execute_input": "2021-10-13T09:48:17.565728Z",
     "iopub.status.busy": "2021-10-13T09:48:17.564727Z",
     "iopub.status.idle": "2021-10-13T09:48:17.630733Z",
     "shell.execute_reply": "2021-10-13T09:48:17.629762Z",
     "shell.execute_reply.started": "2021-10-13T09:48:17.565728Z"
    },
    "tags": []
   },
   "source": [
    "![](assets/flow_python.png)"
   ]
  },
  {
   "cell_type": "markdown",
   "id": "8eecc3d5-24a3-4ebd-a497-b811e986d5af",
   "metadata": {},
   "source": [
    "## Lưu đồ nói cho bạn biết bạn nên làm gì vào trời mưa"
   ]
  },
  {
   "cell_type": "markdown",
   "id": "03cb767a-4d3c-4596-a094-ea5b1a896193",
   "metadata": {},
   "source": [
    "![](assets/rain_flowcontrol.jpg)"
   ]
  },
  {
   "cell_type": "markdown",
   "id": "a6362eed-b7c7-431c-aa90-70eee21faf20",
   "metadata": {},
   "source": [
    "Trong lưu đồ thuật toán, có nhiều hơn một đường để đi từ `start` đến `end`. Điều này cũng đúng với những dòng code.\n",
    "\n",
    "\n",
    "Lưu đồ thể hiện những hình thoi là một câu lệnh điều kiện, còn những lệnh khác là hình chữ nhật, điểm bắt đầu và kết thúc là một hình chữ nhật được bo góc.\n",
    "\n",
    "Trước tiên, ta cần phải biết `Yes` và `No` trong Python biểu diễn như thế nào."
   ]
  },
  {
   "cell_type": "markdown",
   "id": "f0d1efa8-f4b9-48d4-9506-7bf8a60074cd",
   "metadata": {},
   "source": [
    "# Giá trị Bool"
   ]
  },
  {
   "cell_type": "markdown",
   "id": "53f3f0c1-6453-4682-852d-461f186c98a5",
   "metadata": {},
   "source": [
    "<u>Key</u>: Boolean values"
   ]
  },
  {
   "cell_type": "markdown",
   "id": "3b3884ac-9270-44b6-a920-869bfe950959",
   "metadata": {},
   "source": [
    "![](assets/value_range.png)"
   ]
  },
  {
   "cell_type": "markdown",
   "id": "90d74369-bfa8-4661-8309-cb88f3fc31ec",
   "metadata": {},
   "source": [
    "Nhớ viết hoa **T**rue và **F**alse"
   ]
  },
  {
   "cell_type": "code",
   "execution_count": 1,
   "id": "c5d6fb16-1808-4ae5-872f-83db62b018cf",
   "metadata": {
    "execution": {
     "iopub.execute_input": "2021-10-14T12:45:16.674457Z",
     "iopub.status.busy": "2021-10-14T12:45:16.673403Z",
     "iopub.status.idle": "2021-10-14T12:45:16.696190Z",
     "shell.execute_reply": "2021-10-14T12:45:16.693596Z",
     "shell.execute_reply.started": "2021-10-14T12:45:16.674457Z"
    },
    "tags": []
   },
   "outputs": [
    {
     "data": {
      "text/plain": [
       "True"
      ]
     },
     "execution_count": 1,
     "metadata": {},
     "output_type": "execute_result"
    }
   ],
   "source": [
    "True"
   ]
  },
  {
   "cell_type": "code",
   "execution_count": 2,
   "id": "63d0528b-b033-4098-9bda-13e896c20567",
   "metadata": {
    "execution": {
     "iopub.execute_input": "2021-10-14T12:45:21.094453Z",
     "iopub.status.busy": "2021-10-14T12:45:21.094453Z",
     "iopub.status.idle": "2021-10-14T12:45:21.301449Z",
     "shell.execute_reply": "2021-10-14T12:45:21.299465Z",
     "shell.execute_reply.started": "2021-10-14T12:45:21.094453Z"
    },
    "tags": []
   },
   "outputs": [
    {
     "ename": "NameError",
     "evalue": "name 'true' is not defined",
     "output_type": "error",
     "traceback": [
      "\u001b[1;31m---------------------------------------------------------------------------\u001b[0m",
      "\u001b[1;31mNameError\u001b[0m                                 Traceback (most recent call last)",
      "\u001b[1;32m~\\AppData\\Local\\Temp/ipykernel_22104/592217714.py\u001b[0m in \u001b[0;36m<module>\u001b[1;34m\u001b[0m\n\u001b[1;32m----> 1\u001b[1;33m \u001b[0mtrue\u001b[0m\u001b[1;33m\u001b[0m\u001b[1;33m\u001b[0m\u001b[0m\n\u001b[0m",
      "\u001b[1;31mNameError\u001b[0m: name 'true' is not defined"
     ]
    }
   ],
   "source": [
    "true"
   ]
  },
  {
   "cell_type": "code",
   "execution_count": 5,
   "id": "c19bf38b-e42b-444e-8b30-13314594ea64",
   "metadata": {
    "execution": {
     "iopub.execute_input": "2021-10-14T12:48:30.138810Z",
     "iopub.status.busy": "2021-10-14T12:48:30.138810Z",
     "iopub.status.idle": "2021-10-14T12:48:30.149233Z",
     "shell.execute_reply": "2021-10-14T12:48:30.148649Z",
     "shell.execute_reply.started": "2021-10-14T12:48:30.138810Z"
    },
    "tags": []
   },
   "outputs": [
    {
     "data": {
      "text/plain": [
       "False"
      ]
     },
     "execution_count": 5,
     "metadata": {},
     "output_type": "execute_result"
    }
   ],
   "source": [
    "False"
   ]
  },
  {
   "cell_type": "code",
   "execution_count": null,
   "id": "53b4260d-66a7-4cef-885b-3bc8c69735a6",
   "metadata": {
    "tags": []
   },
   "outputs": [],
   "source": [
    "false"
   ]
  },
  {
   "cell_type": "code",
   "execution_count": null,
   "id": "d8dbe2e4-b3d4-49a6-bdf4-1f976d52d077",
   "metadata": {
    "tags": []
   },
   "outputs": [],
   "source": [
    "spam = True"
   ]
  },
  {
   "cell_type": "code",
   "execution_count": null,
   "id": "7310ea80-26b2-40c3-b761-e16dae2c3f0c",
   "metadata": {
    "tags": []
   },
   "outputs": [],
   "source": [
    "spam"
   ]
  },
  {
   "cell_type": "code",
   "execution_count": 4,
   "id": "127f35a1-d04a-462f-9d95-29688aaf749c",
   "metadata": {
    "execution": {
     "iopub.execute_input": "2021-10-14T12:46:02.940066Z",
     "iopub.status.busy": "2021-10-14T12:46:02.940066Z",
     "iopub.status.idle": "2021-10-14T12:46:02.952942Z",
     "shell.execute_reply": "2021-10-14T12:46:02.951010Z",
     "shell.execute_reply.started": "2021-10-14T12:46:02.940066Z"
    },
    "tags": []
   },
   "outputs": [
    {
     "ename": "SyntaxError",
     "evalue": "cannot assign to literal (Temp/ipykernel_22104/1889857868.py, line 1)",
     "output_type": "error",
     "traceback": [
      "\u001b[1;36m  File \u001b[1;32m\"C:\\Users\\nvatu\\AppData\\Local\\Temp/ipykernel_22104/1889857868.py\"\u001b[1;36m, line \u001b[1;32m1\u001b[0m\n\u001b[1;33m    2 = 2 + 2\u001b[0m\n\u001b[1;37m    ^\u001b[0m\n\u001b[1;31mSyntaxError\u001b[0m\u001b[1;31m:\u001b[0m cannot assign to literal\n"
     ]
    }
   ],
   "source": [
    "2 = 2 + 2"
   ]
  },
  {
   "cell_type": "code",
   "execution_count": 3,
   "id": "e2da2cc5-9351-4601-a636-58cbb5cf576c",
   "metadata": {
    "execution": {
     "iopub.execute_input": "2021-10-14T12:45:52.515477Z",
     "iopub.status.busy": "2021-10-14T12:45:52.515477Z",
     "iopub.status.idle": "2021-10-14T12:45:52.527251Z",
     "shell.execute_reply": "2021-10-14T12:45:52.525201Z",
     "shell.execute_reply.started": "2021-10-14T12:45:52.515477Z"
    },
    "tags": []
   },
   "outputs": [
    {
     "ename": "SyntaxError",
     "evalue": "cannot assign to True (Temp/ipykernel_22104/1730036152.py, line 1)",
     "output_type": "error",
     "traceback": [
      "\u001b[1;36m  File \u001b[1;32m\"C:\\Users\\nvatu\\AppData\\Local\\Temp/ipykernel_22104/1730036152.py\"\u001b[1;36m, line \u001b[1;32m1\u001b[0m\n\u001b[1;33m    True = 2 + 2\u001b[0m\n\u001b[1;37m    ^\u001b[0m\n\u001b[1;31mSyntaxError\u001b[0m\u001b[1;31m:\u001b[0m cannot assign to True\n"
     ]
    }
   ],
   "source": [
    "True = 2 + 2"
   ]
  },
  {
   "cell_type": "code",
   "execution_count": null,
   "id": "a0d3c908-a329-4321-94da-c64845eea640",
   "metadata": {
    "tags": []
   },
   "outputs": [],
   "source": [
    "False = 'Hello World'"
   ]
  },
  {
   "cell_type": "code",
   "execution_count": 7,
   "id": "52cb7572-b94d-4f37-818e-88a537b04ecb",
   "metadata": {
    "execution": {
     "iopub.execute_input": "2021-10-14T12:51:03.395931Z",
     "iopub.status.busy": "2021-10-14T12:51:03.395594Z",
     "iopub.status.idle": "2021-10-14T12:51:03.404676Z",
     "shell.execute_reply": "2021-10-14T12:51:03.403494Z",
     "shell.execute_reply.started": "2021-10-14T12:51:03.395931Z"
    },
    "tags": []
   },
   "outputs": [
    {
     "data": {
      "text/plain": [
       "10.0"
      ]
     },
     "execution_count": 7,
     "metadata": {},
     "output_type": "execute_result"
    }
   ],
   "source": [
    "5 + 5.0"
   ]
  },
  {
   "cell_type": "code",
   "execution_count": 8,
   "id": "e9eb112a-64d8-47ab-bf68-01d817463f20",
   "metadata": {
    "execution": {
     "iopub.execute_input": "2021-10-14T12:51:11.286573Z",
     "iopub.status.busy": "2021-10-14T12:51:11.286573Z",
     "iopub.status.idle": "2021-10-14T12:51:11.304291Z",
     "shell.execute_reply": "2021-10-14T12:51:11.303100Z",
     "shell.execute_reply.started": "2021-10-14T12:51:11.286573Z"
    },
    "tags": []
   },
   "outputs": [
    {
     "data": {
      "text/plain": [
       "'hellohellohellohellohello'"
      ]
     },
     "execution_count": 8,
     "metadata": {},
     "output_type": "execute_result"
    }
   ],
   "source": [
    "'hello' * 5"
   ]
  },
  {
   "cell_type": "markdown",
   "id": "34af15c5-1ec6-4d06-a114-f334fdf79e3e",
   "metadata": {},
   "source": [
    "# Toán tử so sánh"
   ]
  },
  {
   "cell_type": "markdown",
   "id": "5c9fafe0-31fb-4d17-a85c-beea326bab65",
   "metadata": {},
   "source": [
    "Toán tử so sánh còn được gọi với cái tên quen thuộc khác là *toán tử quan hệ*.\n",
    "\n",
    "Dùng để so sánh **2** giá trị và kết quả của phép so sánh là giá trị Bool."
   ]
  },
  {
   "cell_type": "markdown",
   "id": "9b103cbd-7eea-42ff-ac99-7fcd309fdf2b",
   "metadata": {},
   "source": [
    "<u>Key</u>: Comparison operators, relational operators"
   ]
  },
  {
   "cell_type": "markdown",
   "id": "0896582d-ec80-4d13-b648-e81c3aad2d1d",
   "metadata": {},
   "source": [
    "|Toán tử|Ý nghĩa|\n",
    "|--|--|\n",
    "|`==`|`Bằng với`|\n",
    "|`!=`|`Không bằng với`|\n",
    "|`<`|`Bé hơn`|\n",
    "|`>`|`Lớn hơn`|\n",
    "|`<=`|`Bé hơn hoặc bằng`|\n",
    "|`>=`|`Lớn hơn hoặc bằng`|"
   ]
  },
  {
   "cell_type": "markdown",
   "id": "9ce770c6-9f7c-457e-b029-81395e5f457e",
   "metadata": {},
   "source": [
    "=> Python sẽ dùng toán tử trên bảng kia và biến biểu thức thành `True` hoặc `False`"
   ]
  },
  {
   "cell_type": "code",
   "execution_count": 9,
   "id": "711ac71c-fa25-4e7e-ae7a-4684f301831c",
   "metadata": {
    "execution": {
     "iopub.execute_input": "2021-10-14T12:52:27.153449Z",
     "iopub.status.busy": "2021-10-14T12:52:27.152524Z",
     "iopub.status.idle": "2021-10-14T12:52:27.166054Z",
     "shell.execute_reply": "2021-10-14T12:52:27.164844Z",
     "shell.execute_reply.started": "2021-10-14T12:52:27.153449Z"
    },
    "tags": []
   },
   "outputs": [
    {
     "data": {
      "text/plain": [
       "True"
      ]
     },
     "execution_count": 9,
     "metadata": {},
     "output_type": "execute_result"
    }
   ],
   "source": [
    "42 == 42"
   ]
  },
  {
   "cell_type": "code",
   "execution_count": 10,
   "id": "feaedcc3-478f-4a5d-9d05-fa57a2c7224f",
   "metadata": {
    "execution": {
     "iopub.execute_input": "2021-10-14T12:52:32.796439Z",
     "iopub.status.busy": "2021-10-14T12:52:32.795337Z",
     "iopub.status.idle": "2021-10-14T12:52:32.809167Z",
     "shell.execute_reply": "2021-10-14T12:52:32.808279Z",
     "shell.execute_reply.started": "2021-10-14T12:52:32.796439Z"
    },
    "tags": []
   },
   "outputs": [
    {
     "data": {
      "text/plain": [
       "False"
      ]
     },
     "execution_count": 10,
     "metadata": {},
     "output_type": "execute_result"
    }
   ],
   "source": [
    "42 == 99"
   ]
  },
  {
   "cell_type": "code",
   "execution_count": 11,
   "id": "6d028a10-00c1-4ce6-8466-8f9e853632c7",
   "metadata": {
    "execution": {
     "iopub.execute_input": "2021-10-14T12:52:43.167457Z",
     "iopub.status.busy": "2021-10-14T12:52:43.166458Z",
     "iopub.status.idle": "2021-10-14T12:52:43.179751Z",
     "shell.execute_reply": "2021-10-14T12:52:43.178919Z",
     "shell.execute_reply.started": "2021-10-14T12:52:43.167457Z"
    },
    "tags": []
   },
   "outputs": [
    {
     "data": {
      "text/plain": [
       "True"
      ]
     },
     "execution_count": 11,
     "metadata": {},
     "output_type": "execute_result"
    }
   ],
   "source": [
    "2 != 3"
   ]
  },
  {
   "cell_type": "code",
   "execution_count": 12,
   "id": "2713daad-cb87-4f5d-8ff2-2a50e71548f1",
   "metadata": {
    "execution": {
     "iopub.execute_input": "2021-10-14T12:52:59.011002Z",
     "iopub.status.busy": "2021-10-14T12:52:59.010028Z",
     "iopub.status.idle": "2021-10-14T12:52:59.028868Z",
     "shell.execute_reply": "2021-10-14T12:52:59.026089Z",
     "shell.execute_reply.started": "2021-10-14T12:52:59.011002Z"
    },
    "tags": []
   },
   "outputs": [
    {
     "data": {
      "text/plain": [
       "False"
      ]
     },
     "execution_count": 12,
     "metadata": {},
     "output_type": "execute_result"
    }
   ],
   "source": [
    "2 != 2"
   ]
  },
  {
   "cell_type": "code",
   "execution_count": 13,
   "id": "706f1595-4131-4ce7-b97a-f36ab93c0c30",
   "metadata": {
    "execution": {
     "iopub.execute_input": "2021-10-14T12:53:02.211139Z",
     "iopub.status.busy": "2021-10-14T12:53:02.210566Z",
     "iopub.status.idle": "2021-10-14T12:53:02.219917Z",
     "shell.execute_reply": "2021-10-14T12:53:02.218397Z",
     "shell.execute_reply.started": "2021-10-14T12:53:02.211139Z"
    },
    "tags": []
   },
   "outputs": [
    {
     "data": {
      "text/plain": [
       "False"
      ]
     },
     "execution_count": 13,
     "metadata": {},
     "output_type": "execute_result"
    }
   ],
   "source": [
    "8 >= 9"
   ]
  },
  {
   "cell_type": "code",
   "execution_count": null,
   "id": "e108127b-4d6b-4bef-a77b-5337739aefa5",
   "metadata": {
    "tags": []
   },
   "outputs": [],
   "source": [
    "10 <= 2"
   ]
  },
  {
   "cell_type": "code",
   "execution_count": null,
   "id": "25a8fbb1-c226-4152-964e-d648973fd71d",
   "metadata": {
    "tags": []
   },
   "outputs": [],
   "source": [
    "10 ** 100 == 10 ** 99"
   ]
  },
  {
   "cell_type": "code",
   "execution_count": 20,
   "id": "71e6fb10-bb6e-4fb8-a8af-c848406d913a",
   "metadata": {
    "execution": {
     "iopub.execute_input": "2021-10-14T13:00:23.105852Z",
     "iopub.status.busy": "2021-10-14T13:00:23.104847Z",
     "iopub.status.idle": "2021-10-14T13:00:23.125265Z",
     "shell.execute_reply": "2021-10-14T13:00:23.123262Z",
     "shell.execute_reply.started": "2021-10-14T13:00:23.105852Z"
    },
    "tags": []
   },
   "outputs": [
    {
     "data": {
      "text/plain": [
       "291733167875766667063796853374976"
      ]
     },
     "execution_count": 20,
     "metadata": {},
     "output_type": "execute_result"
    }
   ],
   "source": [
    "42 ** 20"
   ]
  },
  {
   "cell_type": "code",
   "execution_count": null,
   "id": "d9eca848-e5c2-4f60-819e-a5cea34c1c63",
   "metadata": {
    "tags": []
   },
   "outputs": [],
   "source": [
    "20 ** 45 == 42 ** 20"
   ]
  },
  {
   "cell_type": "code",
   "execution_count": null,
   "id": "cd2d834a-af2c-410e-b0fd-db5562f7ab32",
   "metadata": {
    "tags": []
   },
   "outputs": [],
   "source": [
    "20 ** 45 != 42 ** 20"
   ]
  },
  {
   "cell_type": "code",
   "execution_count": null,
   "id": "e6115a6e-e21f-4c3b-8b33-04ffb0ceaec3",
   "metadata": {
    "tags": []
   },
   "outputs": [],
   "source": [
    "20 ** 45 <= 42 ** 20"
   ]
  },
  {
   "cell_type": "code",
   "execution_count": null,
   "id": "3cf31490-f78b-424b-ba6c-fb2799a8c588",
   "metadata": {
    "tags": []
   },
   "outputs": [],
   "source": [
    "20 ** 45 >= 42 ** 20"
   ]
  },
  {
   "cell_type": "code",
   "execution_count": null,
   "id": "a99a693c-3be8-4300-a286-bfee0b9c4027",
   "metadata": {
    "tags": []
   },
   "outputs": [],
   "source": [
    "20 ** 45 < 42 ** 20"
   ]
  },
  {
   "cell_type": "code",
   "execution_count": null,
   "id": "222af6c4-c4e1-48dc-9e07-9df72fa0d2b4",
   "metadata": {
    "tags": []
   },
   "outputs": [],
   "source": [
    "20 ** 45 > 42 ** 20"
   ]
  },
  {
   "cell_type": "code",
   "execution_count": 16,
   "id": "86afa62e-1ef8-415f-bc48-710cded3d641",
   "metadata": {
    "execution": {
     "iopub.execute_input": "2021-10-14T12:55:01.733797Z",
     "iopub.status.busy": "2021-10-14T12:55:01.732796Z",
     "iopub.status.idle": "2021-10-14T12:55:01.755689Z",
     "shell.execute_reply": "2021-10-14T12:55:01.753954Z",
     "shell.execute_reply.started": "2021-10-14T12:55:01.733797Z"
    },
    "tags": []
   },
   "outputs": [
    {
     "data": {
      "text/plain": [
       "False"
      ]
     },
     "execution_count": 16,
     "metadata": {},
     "output_type": "execute_result"
    }
   ],
   "source": [
    "'h' == 'H'"
   ]
  },
  {
   "cell_type": "code",
   "execution_count": 17,
   "id": "588fcce5-9d7a-4311-a8c4-a603c5d01ca9",
   "metadata": {
    "execution": {
     "iopub.execute_input": "2021-10-14T12:55:36.233138Z",
     "iopub.status.busy": "2021-10-14T12:55:36.232136Z",
     "iopub.status.idle": "2021-10-14T12:55:36.248435Z",
     "shell.execute_reply": "2021-10-14T12:55:36.246558Z",
     "shell.execute_reply.started": "2021-10-14T12:55:36.233138Z"
    },
    "tags": []
   },
   "outputs": [
    {
     "data": {
      "text/plain": [
       "104"
      ]
     },
     "execution_count": 17,
     "metadata": {},
     "output_type": "execute_result"
    }
   ],
   "source": [
    "ord('h')"
   ]
  },
  {
   "cell_type": "code",
   "execution_count": 18,
   "id": "dfba7cec-2349-427d-979e-df80615f0206",
   "metadata": {
    "execution": {
     "iopub.execute_input": "2021-10-14T12:55:38.570544Z",
     "iopub.status.busy": "2021-10-14T12:55:38.570544Z",
     "iopub.status.idle": "2021-10-14T12:55:38.590546Z",
     "shell.execute_reply": "2021-10-14T12:55:38.589680Z",
     "shell.execute_reply.started": "2021-10-14T12:55:38.570544Z"
    },
    "tags": []
   },
   "outputs": [
    {
     "data": {
      "text/plain": [
       "72"
      ]
     },
     "execution_count": 18,
     "metadata": {},
     "output_type": "execute_result"
    }
   ],
   "source": [
    "ord('H')"
   ]
  },
  {
   "cell_type": "code",
   "execution_count": 15,
   "id": "5d3dc484-565c-4c29-a82d-805148e9d436",
   "metadata": {
    "execution": {
     "iopub.execute_input": "2021-10-14T12:54:08.284916Z",
     "iopub.status.busy": "2021-10-14T12:54:08.284740Z",
     "iopub.status.idle": "2021-10-14T12:54:08.291738Z",
     "shell.execute_reply": "2021-10-14T12:54:08.291000Z",
     "shell.execute_reply.started": "2021-10-14T12:54:08.284916Z"
    },
    "tags": []
   },
   "outputs": [
    {
     "data": {
      "text/plain": [
       "False"
      ]
     },
     "execution_count": 15,
     "metadata": {},
     "output_type": "execute_result"
    }
   ],
   "source": [
    "'hello' == 'Hello'"
   ]
  },
  {
   "cell_type": "code",
   "execution_count": 14,
   "id": "a2136538-c706-4d5e-b803-438147603750",
   "metadata": {
    "execution": {
     "iopub.execute_input": "2021-10-14T12:53:42.837878Z",
     "iopub.status.busy": "2021-10-14T12:53:42.837878Z",
     "iopub.status.idle": "2021-10-14T12:53:42.861953Z",
     "shell.execute_reply": "2021-10-14T12:53:42.860848Z",
     "shell.execute_reply.started": "2021-10-14T12:53:42.837878Z"
    },
    "tags": []
   },
   "outputs": [
    {
     "ename": "NameError",
     "evalue": "name 'chao' is not defined",
     "output_type": "error",
     "traceback": [
      "\u001b[1;31m---------------------------------------------------------------------------\u001b[0m",
      "\u001b[1;31mNameError\u001b[0m                                 Traceback (most recent call last)",
      "\u001b[1;32m~\\AppData\\Local\\Temp/ipykernel_22104/479921154.py\u001b[0m in \u001b[0;36m<module>\u001b[1;34m\u001b[0m\n\u001b[1;32m----> 1\u001b[1;33m \u001b[0mchao\u001b[0m \u001b[1;33m==\u001b[0m \u001b[0mchao\u001b[0m\u001b[1;33m\u001b[0m\u001b[1;33m\u001b[0m\u001b[0m\n\u001b[0m",
      "\u001b[1;31mNameError\u001b[0m: name 'chao' is not defined"
     ]
    }
   ],
   "source": [
    "chao == chao"
   ]
  },
  {
   "cell_type": "code",
   "execution_count": null,
   "id": "e7d73f76-d887-444f-b139-b98f6eabb50d",
   "metadata": {
    "tags": []
   },
   "outputs": [],
   "source": [
    "'hello' == 'hello'"
   ]
  },
  {
   "cell_type": "code",
   "execution_count": null,
   "id": "9811f526-fd04-4a42-a5fb-f2c3332fd09d",
   "metadata": {
    "tags": []
   },
   "outputs": [],
   "source": [
    "'dog' != 'cat'"
   ]
  },
  {
   "cell_type": "code",
   "execution_count": null,
   "id": "9e2f7054-1e13-4305-9952-74fbaa088195",
   "metadata": {
    "tags": []
   },
   "outputs": [],
   "source": [
    "True == True"
   ]
  },
  {
   "cell_type": "code",
   "execution_count": null,
   "id": "c2aa7234-f2f3-413f-954c-34bdd24b24b7",
   "metadata": {
    "tags": []
   },
   "outputs": [],
   "source": [
    "True != False"
   ]
  },
  {
   "cell_type": "code",
   "execution_count": null,
   "id": "134a6a88-174c-497c-bbc4-2fad1d5104d4",
   "metadata": {
    "tags": []
   },
   "outputs": [],
   "source": [
    "42 == 42.0000"
   ]
  },
  {
   "cell_type": "code",
   "execution_count": null,
   "id": "6234210a-7b3c-4e27-adee-f23a0b9bb08b",
   "metadata": {
    "tags": []
   },
   "outputs": [],
   "source": [
    "42 == '42'"
   ]
  },
  {
   "cell_type": "code",
   "execution_count": null,
   "id": "2a38bd2c-0863-432d-8dbb-60b4cd91af5b",
   "metadata": {
    "tags": []
   },
   "outputs": [],
   "source": [
    "42 < 100"
   ]
  },
  {
   "cell_type": "code",
   "execution_count": null,
   "id": "ab7a2e42-f3f0-4f0f-b215-1ef33c3f05d6",
   "metadata": {
    "tags": []
   },
   "outputs": [],
   "source": [
    "'42' < '342'"
   ]
  },
  {
   "cell_type": "markdown",
   "id": "d024c5e4-5556-4261-b6d9-162be17256c0",
   "metadata": {},
   "source": [
    "# Sự khác nhau giữa `=` và `==`"
   ]
  },
  {
   "cell_type": "markdown",
   "id": "bfdad9bb-f78d-40d6-bbd3-d4cdc2a686e5",
   "metadata": {},
   "source": [
    "Một cái là phép gán, một cái là toán tử quan hệ so sánh"
   ]
  },
  {
   "cell_type": "markdown",
   "id": "d490c7df-df39-4abe-8b6a-f6a68c38d04d",
   "metadata": {},
   "source": [
    "<div style=\"display: flex; margin: 0 auto;\">\n",
    "    <div style=\"border: 1px dashed black; padding: 5px 30px; border-radius: 5%;\">\n",
    "        <h1>=</h1>\n",
    "        <hr>\n",
    "        <img src=\"assets/box.jpg\" style=\"width: 28rem\" />\n",
    "    </div>\n",
    "    <div style=\"height: 100%; width: 20px; background-color: blue\"></div>\n",
    "    <div style=\"border: 1px dashed black; padding: 5px 30px; border-radius: 5%;\">\n",
    "        <h1>==</h1>\n",
    "        <hr>\n",
    "        <img src=\"assets/equal.jpg\" style=\"width: 38rem\" />\n",
    "    </div>\n",
    "</div>"
   ]
  },
  {
   "cell_type": "code",
   "execution_count": 19,
   "id": "d41b4eac-f0e5-4da1-acf7-a55a89087c6c",
   "metadata": {
    "execution": {
     "iopub.execute_input": "2021-10-14T12:59:25.517049Z",
     "iopub.status.busy": "2021-10-14T12:59:25.516017Z",
     "iopub.status.idle": "2021-10-14T12:59:25.541063Z",
     "shell.execute_reply": "2021-10-14T12:59:25.539378Z",
     "shell.execute_reply.started": "2021-10-14T12:59:25.517049Z"
    },
    "tags": []
   },
   "outputs": [
    {
     "ename": "SyntaxError",
     "evalue": "cannot assign to literal (Temp/ipykernel_22104/3619573732.py, line 1)",
     "output_type": "error",
     "traceback": [
      "\u001b[1;36m  File \u001b[1;32m\"C:\\Users\\nvatu\\AppData\\Local\\Temp/ipykernel_22104/3619573732.py\"\u001b[1;36m, line \u001b[1;32m1\u001b[0m\n\u001b[1;33m    5 = 5\u001b[0m\n\u001b[1;37m    ^\u001b[0m\n\u001b[1;31mSyntaxError\u001b[0m\u001b[1;31m:\u001b[0m cannot assign to literal\n"
     ]
    }
   ],
   "source": [
    "5 = 5"
   ]
  },
  {
   "cell_type": "markdown",
   "id": "5c6447d2-55be-462e-9c2f-d9a13e01c5f2",
   "metadata": {},
   "source": [
    "# Toán tử luận lý"
   ]
  },
  {
   "cell_type": "markdown",
   "id": "f106072f-e8e5-445a-8339-5fdd6dd40705",
   "metadata": {},
   "source": [
    "<u>Key</u>: Toán tử Bool, Boolean Operators"
   ]
  },
  {
   "cell_type": "markdown",
   "id": "39b4f23a-db4a-4790-ac33-9b812e47fdce",
   "metadata": {
    "execution": {
     "iopub.execute_input": "2021-10-13T11:47:25.005282Z",
     "iopub.status.busy": "2021-10-13T11:47:25.004395Z",
     "iopub.status.idle": "2021-10-13T11:47:25.027858Z",
     "shell.execute_reply": "2021-10-13T11:47:25.026858Z",
     "shell.execute_reply.started": "2021-10-13T11:47:25.005282Z"
    },
    "tags": []
   },
   "source": [
    "Gồm 3 phép toán: `and`, `or` và `not`"
   ]
  },
  {
   "cell_type": "markdown",
   "id": "0d143044-c9af-4405-bf74-f291cbfd0ca2",
   "metadata": {},
   "source": [
    "## Toán tử Bool nhị phân"
   ]
  },
  {
   "cell_type": "markdown",
   "id": "8c0f5706-e32e-4a6b-ba03-269a2fb71493",
   "metadata": {},
   "source": [
    "<u>Key:</u> binary boolean operators"
   ]
  },
  {
   "cell_type": "markdown",
   "id": "08bf67bb-5914-4921-a0a2-4b676988ed99",
   "metadata": {},
   "source": [
    "Toán tử `and` và `or` thường nhận hai giá trị kiểu Bool, nên vì thế đây là toán tử nhị phân (nhị là 2, 2 là true hoặc false)"
   ]
  },
  {
   "cell_type": "markdown",
   "id": "83ed7423-72b1-4e30-92cc-0d3b60cfc82a",
   "metadata": {
    "execution": {
     "iopub.execute_input": "2021-10-14T13:06:51.932561Z",
     "iopub.status.busy": "2021-10-14T13:06:51.932561Z",
     "iopub.status.idle": "2021-10-14T13:06:51.952650Z",
     "shell.execute_reply": "2021-10-14T13:06:51.951703Z",
     "shell.execute_reply.started": "2021-10-14T13:06:51.932561Z"
    },
    "tags": []
   },
   "source": [
    "Key: bit manipulation, các phép thao tác trên bit"
   ]
  },
  {
   "cell_type": "markdown",
   "id": "dcc16a6e-d83c-4c14-a50c-da1d93931fc8",
   "metadata": {},
   "source": [
    "### `and`"
   ]
  },
  {
   "cell_type": "code",
   "execution_count": 24,
   "id": "c3cdaf35-1c04-4a30-a515-7ea2c8449c9c",
   "metadata": {
    "execution": {
     "iopub.execute_input": "2021-10-14T13:06:27.171071Z",
     "iopub.status.busy": "2021-10-14T13:06:27.171071Z",
     "iopub.status.idle": "2021-10-14T13:06:27.190278Z",
     "shell.execute_reply": "2021-10-14T13:06:27.189447Z",
     "shell.execute_reply.started": "2021-10-14T13:06:27.171071Z"
    },
    "tags": []
   },
   "outputs": [
    {
     "data": {
      "text/plain": [
       "1"
      ]
     },
     "execution_count": 24,
     "metadata": {},
     "output_type": "execute_result"
    }
   ],
   "source": [
    "int(True)"
   ]
  },
  {
   "cell_type": "code",
   "execution_count": 25,
   "id": "9cc20c9d-99eb-4cf7-aa01-5497261d83d2",
   "metadata": {
    "execution": {
     "iopub.execute_input": "2021-10-14T13:06:31.757471Z",
     "iopub.status.busy": "2021-10-14T13:06:31.757471Z",
     "iopub.status.idle": "2021-10-14T13:06:31.776387Z",
     "shell.execute_reply": "2021-10-14T13:06:31.775389Z",
     "shell.execute_reply.started": "2021-10-14T13:06:31.757471Z"
    },
    "tags": []
   },
   "outputs": [
    {
     "data": {
      "text/plain": [
       "0"
      ]
     },
     "execution_count": 25,
     "metadata": {},
     "output_type": "execute_result"
    }
   ],
   "source": [
    "int(False)"
   ]
  },
  {
   "cell_type": "code",
   "execution_count": 23,
   "id": "9b566b83-c1a9-4275-8305-98d97e62ea9a",
   "metadata": {
    "execution": {
     "iopub.execute_input": "2021-10-14T13:06:03.216217Z",
     "iopub.status.busy": "2021-10-14T13:06:03.216217Z",
     "iopub.status.idle": "2021-10-14T13:06:03.235901Z",
     "shell.execute_reply": "2021-10-14T13:06:03.235108Z",
     "shell.execute_reply.started": "2021-10-14T13:06:03.216217Z"
    },
    "tags": []
   },
   "outputs": [
    {
     "data": {
      "text/plain": [
       "2"
      ]
     },
     "execution_count": 23,
     "metadata": {},
     "output_type": "execute_result"
    }
   ],
   "source": [
    "True + True"
   ]
  },
  {
   "cell_type": "code",
   "execution_count": 21,
   "id": "2c63d482-ce60-466e-b65e-0d2fef517675",
   "metadata": {
    "execution": {
     "iopub.execute_input": "2021-10-14T13:05:42.800301Z",
     "iopub.status.busy": "2021-10-14T13:05:42.799959Z",
     "iopub.status.idle": "2021-10-14T13:05:42.808289Z",
     "shell.execute_reply": "2021-10-14T13:05:42.806271Z",
     "shell.execute_reply.started": "2021-10-14T13:05:42.800301Z"
    },
    "tags": []
   },
   "outputs": [
    {
     "data": {
      "text/plain": [
       "True"
      ]
     },
     "execution_count": 21,
     "metadata": {},
     "output_type": "execute_result"
    }
   ],
   "source": [
    "True and True"
   ]
  },
  {
   "cell_type": "code",
   "execution_count": 22,
   "id": "7dedfaa7-6a61-4b51-bdbc-581ca30a8e93",
   "metadata": {
    "execution": {
     "iopub.execute_input": "2021-10-14T13:05:46.248817Z",
     "iopub.status.busy": "2021-10-14T13:05:46.247663Z",
     "iopub.status.idle": "2021-10-14T13:05:46.262237Z",
     "shell.execute_reply": "2021-10-14T13:05:46.261252Z",
     "shell.execute_reply.started": "2021-10-14T13:05:46.248817Z"
    },
    "tags": []
   },
   "outputs": [
    {
     "data": {
      "text/plain": [
       "False"
      ]
     },
     "execution_count": 22,
     "metadata": {},
     "output_type": "execute_result"
    }
   ],
   "source": [
    "True and False"
   ]
  },
  {
   "cell_type": "markdown",
   "id": "0e082e54-b2c8-4cff-a479-aa30866fda78",
   "metadata": {},
   "source": [
    "|Biểu thức|Kết quả là...|\n",
    "|--|--|\n",
    "|`True and True`|`True`|\n",
    "|`True and False`|`False`|\n",
    "|`False and True`|`False`|\n",
    "|`False and False`|`False`|"
   ]
  },
  {
   "cell_type": "markdown",
   "id": "faf86b38-e23a-42e1-96cc-bed44d15fa40",
   "metadata": {},
   "source": [
    "![](assets/and.jpg)"
   ]
  },
  {
   "cell_type": "markdown",
   "id": "7308a247-8f4d-4661-b8f9-6a3d65799162",
   "metadata": {},
   "source": [
    "### `or`"
   ]
  },
  {
   "cell_type": "code",
   "execution_count": 27,
   "id": "7c489853-735a-4591-a9be-0b97f089d804",
   "metadata": {
    "execution": {
     "iopub.execute_input": "2021-10-14T13:09:32.870157Z",
     "iopub.status.busy": "2021-10-14T13:09:32.869197Z",
     "iopub.status.idle": "2021-10-14T13:09:32.882896Z",
     "shell.execute_reply": "2021-10-14T13:09:32.881630Z",
     "shell.execute_reply.started": "2021-10-14T13:09:32.870157Z"
    },
    "tags": []
   },
   "outputs": [
    {
     "data": {
      "text/plain": [
       "False"
      ]
     },
     "execution_count": 27,
     "metadata": {},
     "output_type": "execute_result"
    }
   ],
   "source": [
    "False or False"
   ]
  },
  {
   "cell_type": "code",
   "execution_count": 28,
   "id": "ce5c9ce9-f58d-49bd-8e03-b5bffb417733",
   "metadata": {
    "execution": {
     "iopub.execute_input": "2021-10-14T13:09:35.430185Z",
     "iopub.status.busy": "2021-10-14T13:09:35.430185Z",
     "iopub.status.idle": "2021-10-14T13:09:35.438277Z",
     "shell.execute_reply": "2021-10-14T13:09:35.437270Z",
     "shell.execute_reply.started": "2021-10-14T13:09:35.430185Z"
    },
    "tags": []
   },
   "outputs": [
    {
     "data": {
      "text/plain": [
       "True"
      ]
     },
     "execution_count": 28,
     "metadata": {},
     "output_type": "execute_result"
    }
   ],
   "source": [
    "False or True"
   ]
  },
  {
   "cell_type": "markdown",
   "id": "aa8d27c8-9261-4c81-932e-be5d1ef8bdeb",
   "metadata": {},
   "source": [
    "|Biểu thức|Kết quả là...|\n",
    "|--|--|\n",
    "|`True or True`|`True`|\n",
    "|`True or False`|`True`|\n",
    "|`False or True`|`True`|\n",
    "|`False or False`|`False`|"
   ]
  },
  {
   "cell_type": "markdown",
   "id": "703a321d-e30e-456a-a8c5-8376bfffddf9",
   "metadata": {},
   "source": [
    "![](assets/or.jpg)"
   ]
  },
  {
   "cell_type": "markdown",
   "id": "67856257-e9de-4305-96d9-0f86521494f6",
   "metadata": {},
   "source": [
    "Câu hỏi mở: and là đảo của or, nhớ 1 cái ra cái còn lại nhỉ\n"
   ]
  },
  {
   "cell_type": "code",
   "execution_count": 36,
   "id": "0fff8de5-745a-4a59-afc1-8b9f3ba15f76",
   "metadata": {
    "execution": {
     "iopub.execute_input": "2021-10-14T13:19:53.654845Z",
     "iopub.status.busy": "2021-10-14T13:19:53.654845Z",
     "iopub.status.idle": "2021-10-14T13:19:53.678059Z",
     "shell.execute_reply": "2021-10-14T13:19:53.676058Z",
     "shell.execute_reply.started": "2021-10-14T13:19:53.654845Z"
    }
   },
   "outputs": [
    {
     "data": {
      "text/plain": [
       "False"
      ]
     },
     "execution_count": 36,
     "metadata": {},
     "output_type": "execute_result"
    }
   ],
   "source": [
    "not (True and True)"
   ]
  },
  {
   "cell_type": "code",
   "execution_count": 37,
   "id": "bfe8d30b-5227-4201-b0e2-2b3c460a9f4b",
   "metadata": {
    "execution": {
     "iopub.execute_input": "2021-10-14T13:19:53.872026Z",
     "iopub.status.busy": "2021-10-14T13:19:53.872026Z",
     "iopub.status.idle": "2021-10-14T13:19:53.895741Z",
     "shell.execute_reply": "2021-10-14T13:19:53.893722Z",
     "shell.execute_reply.started": "2021-10-14T13:19:53.872026Z"
    }
   },
   "outputs": [
    {
     "data": {
      "text/plain": [
       "True"
      ]
     },
     "execution_count": 37,
     "metadata": {},
     "output_type": "execute_result"
    }
   ],
   "source": [
    "not (True and False)"
   ]
  },
  {
   "cell_type": "code",
   "execution_count": 38,
   "id": "55687dc2-7796-4125-bfac-f2c8e5e5a474",
   "metadata": {
    "execution": {
     "iopub.execute_input": "2021-10-14T13:19:54.162340Z",
     "iopub.status.busy": "2021-10-14T13:19:54.161741Z",
     "iopub.status.idle": "2021-10-14T13:19:54.187845Z",
     "shell.execute_reply": "2021-10-14T13:19:54.186060Z",
     "shell.execute_reply.started": "2021-10-14T13:19:54.162340Z"
    }
   },
   "outputs": [
    {
     "data": {
      "text/plain": [
       "True"
      ]
     },
     "execution_count": 38,
     "metadata": {},
     "output_type": "execute_result"
    }
   ],
   "source": [
    "not (False and True)"
   ]
  },
  {
   "cell_type": "code",
   "execution_count": 39,
   "id": "6f7bae32-74f7-4499-b62f-4f12c475ee9b",
   "metadata": {
    "execution": {
     "iopub.execute_input": "2021-10-14T13:19:54.524609Z",
     "iopub.status.busy": "2021-10-14T13:19:54.523600Z",
     "iopub.status.idle": "2021-10-14T13:19:54.539609Z",
     "shell.execute_reply": "2021-10-14T13:19:54.538617Z",
     "shell.execute_reply.started": "2021-10-14T13:19:54.524609Z"
    }
   },
   "outputs": [
    {
     "data": {
      "text/plain": [
       "True"
      ]
     },
     "execution_count": 39,
     "metadata": {},
     "output_type": "execute_result"
    }
   ],
   "source": [
    "not (False and False)"
   ]
  },
  {
   "cell_type": "markdown",
   "id": "550f247c-b2a2-42a7-baac-fb819f82043f",
   "metadata": {},
   "source": [
    "## `not`"
   ]
  },
  {
   "cell_type": "markdown",
   "id": "f43eb2a6-9e52-4fa7-853d-6cdac94aa24c",
   "metadata": {},
   "source": [
    "Toán tử `not` chỉ dùng cho một giá trị, chứ không phải 2 như `and` và `or`"
   ]
  },
  {
   "cell_type": "markdown",
   "id": "d31ceeb2-2686-4899-9398-0e3bbb8ff8df",
   "metadata": {},
   "source": [
    "Toán tử `not` sẽ phủ định giá trị của một giá trị kiểu Bool"
   ]
  },
  {
   "cell_type": "markdown",
   "id": "9031fc32-7d43-449e-9209-71b138267a30",
   "metadata": {},
   "source": [
    "|Biểu thức|Kết quả là|\n",
    "|--|--|\n",
    "|`not True`|`False`|\n",
    "|`not False`|`True`|"
   ]
  },
  {
   "cell_type": "code",
   "execution_count": null,
   "id": "cd8495d4-3734-412d-beca-dcdd0d7e9513",
   "metadata": {},
   "outputs": [],
   "source": [
    "True: 1, False: 0"
   ]
  },
  {
   "cell_type": "code",
   "execution_count": 29,
   "id": "56546753-ff36-4abf-b7d4-4614b987060b",
   "metadata": {
    "execution": {
     "iopub.execute_input": "2021-10-14T13:13:15.130079Z",
     "iopub.status.busy": "2021-10-14T13:13:15.128892Z",
     "iopub.status.idle": "2021-10-14T13:13:15.139523Z",
     "shell.execute_reply": "2021-10-14T13:13:15.138514Z",
     "shell.execute_reply.started": "2021-10-14T13:13:15.129897Z"
    },
    "tags": []
   },
   "outputs": [
    {
     "data": {
      "text/plain": [
       "0"
      ]
     },
     "execution_count": 29,
     "metadata": {},
     "output_type": "execute_result"
    }
   ],
   "source": [
    "1 - 1"
   ]
  },
  {
   "cell_type": "code",
   "execution_count": 30,
   "id": "bd02730e-d385-4965-bafd-ccd3fab4415e",
   "metadata": {
    "execution": {
     "iopub.execute_input": "2021-10-14T13:13:19.843335Z",
     "iopub.status.busy": "2021-10-14T13:13:19.843335Z",
     "iopub.status.idle": "2021-10-14T13:13:19.861825Z",
     "shell.execute_reply": "2021-10-14T13:13:19.860876Z",
     "shell.execute_reply.started": "2021-10-14T13:13:19.843335Z"
    },
    "tags": []
   },
   "outputs": [
    {
     "data": {
      "text/plain": [
       "1"
      ]
     },
     "execution_count": 30,
     "metadata": {},
     "output_type": "execute_result"
    }
   ],
   "source": [
    "1 - 0"
   ]
  },
  {
   "cell_type": "code",
   "execution_count": 31,
   "id": "572a7d80-4735-430c-8cee-7053ad3edd51",
   "metadata": {
    "execution": {
     "iopub.execute_input": "2021-10-14T13:13:43.468886Z",
     "iopub.status.busy": "2021-10-14T13:13:43.468228Z",
     "iopub.status.idle": "2021-10-14T13:13:43.480961Z",
     "shell.execute_reply": "2021-10-14T13:13:43.480386Z",
     "shell.execute_reply.started": "2021-10-14T13:13:43.468886Z"
    },
    "tags": []
   },
   "outputs": [
    {
     "data": {
      "text/plain": [
       "False"
      ]
     },
     "execution_count": 31,
     "metadata": {},
     "output_type": "execute_result"
    }
   ],
   "source": [
    "not True"
   ]
  },
  {
   "cell_type": "code",
   "execution_count": 32,
   "id": "3668c8b8-0048-4767-80bc-a61a9adc9cda",
   "metadata": {
    "execution": {
     "iopub.execute_input": "2021-10-14T13:13:57.264535Z",
     "iopub.status.busy": "2021-10-14T13:13:57.263533Z",
     "iopub.status.idle": "2021-10-14T13:13:57.283582Z",
     "shell.execute_reply": "2021-10-14T13:13:57.282791Z",
     "shell.execute_reply.started": "2021-10-14T13:13:57.264535Z"
    },
    "tags": []
   },
   "outputs": [
    {
     "data": {
      "text/plain": [
       "True"
      ]
     },
     "execution_count": 32,
     "metadata": {},
     "output_type": "execute_result"
    }
   ],
   "source": [
    "not not True"
   ]
  },
  {
   "cell_type": "code",
   "execution_count": 33,
   "id": "b43787bf-6d7a-4e2d-a3b1-3398dd72b02e",
   "metadata": {
    "execution": {
     "iopub.execute_input": "2021-10-14T13:14:16.765641Z",
     "iopub.status.busy": "2021-10-14T13:14:16.765641Z",
     "iopub.status.idle": "2021-10-14T13:14:16.780222Z",
     "shell.execute_reply": "2021-10-14T13:14:16.779418Z",
     "shell.execute_reply.started": "2021-10-14T13:14:16.765641Z"
    },
    "tags": []
   },
   "outputs": [
    {
     "data": {
      "text/plain": [
       "False"
      ]
     },
     "execution_count": 33,
     "metadata": {},
     "output_type": "execute_result"
    }
   ],
   "source": [
    "not not not True"
   ]
  },
  {
   "cell_type": "code",
   "execution_count": null,
   "id": "1b034d60-17d4-479a-a0a4-e03e7db65f7e",
   "metadata": {
    "tags": []
   },
   "outputs": [],
   "source": [
    "not not not not True"
   ]
  },
  {
   "cell_type": "code",
   "execution_count": 34,
   "id": "928ea7d7-dbec-4089-ba32-9c5fa74bc5c4",
   "metadata": {
    "execution": {
     "iopub.execute_input": "2021-10-14T13:15:53.024849Z",
     "iopub.status.busy": "2021-10-14T13:15:53.024182Z",
     "iopub.status.idle": "2021-10-14T13:15:53.037580Z",
     "shell.execute_reply": "2021-10-14T13:15:53.036584Z",
     "shell.execute_reply.started": "2021-10-14T13:15:53.024849Z"
    },
    "tags": []
   },
   "outputs": [
    {
     "data": {
      "text/plain": [
       "False"
      ]
     },
     "execution_count": 34,
     "metadata": {},
     "output_type": "execute_result"
    }
   ],
   "source": [
    "not (True and True)"
   ]
  },
  {
   "cell_type": "code",
   "execution_count": 35,
   "id": "fe15d9a3-ba21-45ce-8cbe-aa693da7340f",
   "metadata": {
    "execution": {
     "iopub.execute_input": "2021-10-14T13:16:11.395144Z",
     "iopub.status.busy": "2021-10-14T13:16:11.395144Z",
     "iopub.status.idle": "2021-10-14T13:16:11.412365Z",
     "shell.execute_reply": "2021-10-14T13:16:11.412365Z",
     "shell.execute_reply.started": "2021-10-14T13:16:11.395144Z"
    },
    "tags": []
   },
   "outputs": [
    {
     "data": {
      "text/plain": [
       "False"
      ]
     },
     "execution_count": 35,
     "metadata": {},
     "output_type": "execute_result"
    }
   ],
   "source": [
    "not True"
   ]
  },
  {
   "cell_type": "markdown",
   "id": "8dcf54e9-c32c-4dad-8173-bf95e5617a28",
   "metadata": {},
   "source": [
    "## ![](assets/not.png)"
   ]
  },
  {
   "cell_type": "markdown",
   "id": "b36ce897-3d7f-4218-9ed8-a7079fc67711",
   "metadata": {},
   "source": [
    "# Trộn lẫn toán tử `Bool` và toán tử `so sánh`"
   ]
  },
  {
   "cell_type": "markdown",
   "id": "defd4234-cb24-4eeb-8e48-584caec24b67",
   "metadata": {
    "execution": {
     "iopub.execute_input": "2021-10-13T12:09:18.290529Z",
     "iopub.status.busy": "2021-10-13T12:09:18.289506Z",
     "iopub.status.idle": "2021-10-13T12:09:18.297686Z",
     "shell.execute_reply": "2021-10-13T12:09:18.296647Z",
     "shell.execute_reply.started": "2021-10-13T12:09:18.290529Z"
    },
    "tags": []
   },
   "source": [
    "<u>Key</u>: Mixing Boolean and Comparison Operators"
   ]
  },
  {
   "cell_type": "code",
   "execution_count": null,
   "id": "271fb5a1-a200-4979-b573-f298d0a8d3a9",
   "metadata": {
    "tags": []
   },
   "outputs": [],
   "source": [
    "(4 < 5) and (5 < 6)"
   ]
  },
  {
   "cell_type": "markdown",
   "id": "136872b1-6662-45db-98dc-57aac761d2f0",
   "metadata": {},
   "source": [
    "![](assets/exp_bool.jpg)"
   ]
  },
  {
   "cell_type": "code",
   "execution_count": null,
   "id": "981e5c8f-8a68-4ba4-ad4d-f37cb914d580",
   "metadata": {
    "tags": []
   },
   "outputs": [],
   "source": [
    "(4 < 5) and (9 < 6)"
   ]
  },
  {
   "cell_type": "code",
   "execution_count": null,
   "id": "48bf4d87-288c-43cb-9d5f-2f9624ef73da",
   "metadata": {
    "tags": []
   },
   "outputs": [],
   "source": [
    "(1 == 2) or (2 == 2)"
   ]
  },
  {
   "cell_type": "code",
   "execution_count": null,
   "id": "b7511659-f831-4938-aafc-d6bb11da8f76",
   "metadata": {
    "tags": []
   },
   "outputs": [],
   "source": [
    "2 + 2 == 4 and not 2 + 2 == 5 and 2 * 2 == 2 + 2"
   ]
  },
  {
   "cell_type": "markdown",
   "id": "3b62d5ac-0051-43cd-a504-bcf6c04f57ec",
   "metadata": {},
   "source": [
    "Thứ tự ưu tiên (đứng đầu tiên sẽ thực hiện trước): \n",
    "`not`, `and`, `or`"
   ]
  },
  {
   "cell_type": "code",
   "execution_count": 40,
   "id": "df800bc0-51fb-4531-84fa-d2ce42e5929c",
   "metadata": {
    "execution": {
     "iopub.execute_input": "2021-10-14T13:25:08.712614Z",
     "iopub.status.busy": "2021-10-14T13:25:08.711616Z",
     "iopub.status.idle": "2021-10-14T13:25:08.729934Z",
     "shell.execute_reply": "2021-10-14T13:25:08.728954Z",
     "shell.execute_reply.started": "2021-10-14T13:25:08.712614Z"
    },
    "tags": []
   },
   "outputs": [
    {
     "data": {
      "text/plain": [
       "False"
      ]
     },
     "execution_count": 40,
     "metadata": {},
     "output_type": "execute_result"
    }
   ],
   "source": [
    "88 > 99"
   ]
  },
  {
   "cell_type": "code",
   "execution_count": 42,
   "id": "3c031f7b-4ea3-4f62-8de6-f2f121d2b771",
   "metadata": {
    "execution": {
     "iopub.execute_input": "2021-10-14T13:25:18.796198Z",
     "iopub.status.busy": "2021-10-14T13:25:18.795203Z",
     "iopub.status.idle": "2021-10-14T13:25:18.810775Z",
     "shell.execute_reply": "2021-10-14T13:25:18.809773Z",
     "shell.execute_reply.started": "2021-10-14T13:25:18.796198Z"
    },
    "tags": []
   },
   "outputs": [
    {
     "data": {
      "text/plain": [
       "False"
      ]
     },
     "execution_count": 42,
     "metadata": {},
     "output_type": "execute_result"
    }
   ],
   "source": [
    "6 < 3"
   ]
  },
  {
   "cell_type": "code",
   "execution_count": 41,
   "id": "d6acafaa-5c00-4a28-b030-b688bfcf6c3d",
   "metadata": {
    "execution": {
     "iopub.execute_input": "2021-10-14T13:25:13.633148Z",
     "iopub.status.busy": "2021-10-14T13:25:13.632627Z",
     "iopub.status.idle": "2021-10-14T13:25:13.645703Z",
     "shell.execute_reply": "2021-10-14T13:25:13.645703Z",
     "shell.execute_reply.started": "2021-10-14T13:25:13.633148Z"
    },
    "tags": []
   },
   "outputs": [
    {
     "data": {
      "text/plain": [
       "True"
      ]
     },
     "execution_count": 41,
     "metadata": {},
     "output_type": "execute_result"
    }
   ],
   "source": [
    "9 > 8"
   ]
  },
  {
   "cell_type": "code",
   "execution_count": null,
   "id": "60b461ed-a92f-4674-ab03-f661d13a7c06",
   "metadata": {},
   "outputs": [],
   "source": [
    "9 > 8 and 6 < 3 or 88 > 99"
   ]
  },
  {
   "cell_type": "code",
   "execution_count": null,
   "id": "fcf6ea14-081b-4c71-8b97-5a5989966081",
   "metadata": {},
   "outputs": [],
   "source": [
    "True and False or False"
   ]
  },
  {
   "cell_type": "code",
   "execution_count": 43,
   "id": "90c7269f-7fea-44cb-a1af-52f8f8414ec7",
   "metadata": {
    "execution": {
     "iopub.execute_input": "2021-10-14T13:25:47.716716Z",
     "iopub.status.busy": "2021-10-14T13:25:47.716716Z",
     "iopub.status.idle": "2021-10-14T13:25:47.722718Z",
     "shell.execute_reply": "2021-10-14T13:25:47.722718Z",
     "shell.execute_reply.started": "2021-10-14T13:25:47.716716Z"
    },
    "tags": []
   },
   "outputs": [
    {
     "data": {
      "text/plain": [
       "False"
      ]
     },
     "execution_count": 43,
     "metadata": {},
     "output_type": "execute_result"
    }
   ],
   "source": [
    "True and False"
   ]
  },
  {
   "cell_type": "code",
   "execution_count": 49,
   "id": "e5f3de1a-7596-41e8-aef5-03bb79414839",
   "metadata": {
    "execution": {
     "iopub.execute_input": "2021-10-14T13:26:34.726332Z",
     "iopub.status.busy": "2021-10-14T13:26:34.725486Z",
     "iopub.status.idle": "2021-10-14T13:26:34.745334Z",
     "shell.execute_reply": "2021-10-14T13:26:34.744327Z",
     "shell.execute_reply.started": "2021-10-14T13:26:34.726332Z"
    },
    "tags": []
   },
   "outputs": [
    {
     "data": {
      "text/plain": [
       "False"
      ]
     },
     "execution_count": 49,
     "metadata": {},
     "output_type": "execute_result"
    }
   ],
   "source": [
    "False or False"
   ]
  },
  {
   "cell_type": "code",
   "execution_count": null,
   "id": "9a384993-7ac0-4b5a-91d1-8cf886d38a84",
   "metadata": {
    "tags": []
   },
   "outputs": [],
   "source": [
    "(9 > 8) and (6 > 3) or (88 > 99) and not (55 ** 2 == 255)"
   ]
  },
  {
   "cell_type": "code",
   "execution_count": null,
   "id": "9da5aa3c-9677-422f-bf58-7b354de4688e",
   "metadata": {
    "tags": []
   },
   "outputs": [],
   "source": [
    "not (not (not (not not 5 % 2 == 0))) and not not (7 % 3 == 2)"
   ]
  },
  {
   "cell_type": "markdown",
   "id": "274229d3-b42f-4a78-947f-86d5b5deb5d2",
   "metadata": {},
   "source": [
    "**Đố, tại sao 4 dòng code dưới đây nó lại kì lạ thế?**"
   ]
  },
  {
   "cell_type": "code",
   "execution_count": 45,
   "id": "301dc9ad-d86e-4554-a4c3-75d889a0a2ba",
   "metadata": {
    "execution": {
     "iopub.execute_input": "2021-10-14T13:26:19.076561Z",
     "iopub.status.busy": "2021-10-14T13:26:19.076561Z",
     "iopub.status.idle": "2021-10-14T13:26:19.095253Z",
     "shell.execute_reply": "2021-10-14T13:26:19.094388Z",
     "shell.execute_reply.started": "2021-10-14T13:26:19.076561Z"
    },
    "tags": []
   },
   "outputs": [
    {
     "data": {
      "text/plain": [
       "5"
      ]
     },
     "execution_count": 45,
     "metadata": {},
     "output_type": "execute_result"
    }
   ],
   "source": [
    "5 or 6"
   ]
  },
  {
   "cell_type": "code",
   "execution_count": 46,
   "id": "9b894d5d-f76f-42bd-9ffa-38e876d0b270",
   "metadata": {
    "execution": {
     "iopub.execute_input": "2021-10-14T13:26:20.992523Z",
     "iopub.status.busy": "2021-10-14T13:26:20.991468Z",
     "iopub.status.idle": "2021-10-14T13:26:21.006806Z",
     "shell.execute_reply": "2021-10-14T13:26:21.005755Z",
     "shell.execute_reply.started": "2021-10-14T13:26:20.992523Z"
    },
    "tags": []
   },
   "outputs": [
    {
     "data": {
      "text/plain": [
       "6"
      ]
     },
     "execution_count": 46,
     "metadata": {},
     "output_type": "execute_result"
    }
   ],
   "source": [
    "5 and 6"
   ]
  },
  {
   "cell_type": "code",
   "execution_count": 47,
   "id": "4de56c77-543e-439b-91a3-3c68e94dd1cc",
   "metadata": {
    "execution": {
     "iopub.execute_input": "2021-10-14T13:26:23.112675Z",
     "iopub.status.busy": "2021-10-14T13:26:23.112675Z",
     "iopub.status.idle": "2021-10-14T13:26:23.128799Z",
     "shell.execute_reply": "2021-10-14T13:26:23.127911Z",
     "shell.execute_reply.started": "2021-10-14T13:26:23.112675Z"
    },
    "tags": []
   },
   "outputs": [
    {
     "data": {
      "text/plain": [
       "6"
      ]
     },
     "execution_count": 47,
     "metadata": {},
     "output_type": "execute_result"
    }
   ],
   "source": [
    "not 5 or 6"
   ]
  },
  {
   "cell_type": "code",
   "execution_count": 48,
   "id": "b31194fa-c660-4d2c-8dce-5b56d16abfe0",
   "metadata": {
    "execution": {
     "iopub.execute_input": "2021-10-14T13:26:24.903268Z",
     "iopub.status.busy": "2021-10-14T13:26:24.903268Z",
     "iopub.status.idle": "2021-10-14T13:26:24.924899Z",
     "shell.execute_reply": "2021-10-14T13:26:24.924141Z",
     "shell.execute_reply.started": "2021-10-14T13:26:24.903268Z"
    },
    "tags": []
   },
   "outputs": [
    {
     "data": {
      "text/plain": [
       "False"
      ]
     },
     "execution_count": 48,
     "metadata": {},
     "output_type": "execute_result"
    }
   ],
   "source": [
    "not 5 and 6"
   ]
  },
  {
   "cell_type": "markdown",
   "id": "87b67f87-6661-4dff-8884-8e6aa65621a4",
   "metadata": {},
   "source": [
    "# Các phần tử điều khiển code"
   ]
  },
  {
   "cell_type": "markdown",
   "id": "49c70fe5-3b80-41e1-af71-1e03fdcc6f15",
   "metadata": {},
   "source": [
    "Những câu lệnh điều khiển luồng (flow control) thường bắt đầu với phần gọi là `điều kiện (condition)` và luôn luôn theo sau bởi một **khối lệnh** gọi là `mệnh đề (clause)`"
   ]
  },
  {
   "cell_type": "markdown",
   "id": "587e3d3c-72d4-42e1-96ad-30b8bc9f25e1",
   "metadata": {},
   "source": [
    "## Điều kiện (condition)"
   ]
  },
  {
   "cell_type": "markdown",
   "id": "d9ce8d37-2690-4bc0-b0f0-c7aec83e1daf",
   "metadata": {},
   "source": [
    "Tất cả các biểu thức Bool đều được coi là `điều kiện`"
   ]
  },
  {
   "cell_type": "markdown",
   "id": "6e76008b-9bab-40a3-8ffc-7a308648755d",
   "metadata": {},
   "source": [
    "## Khối lệnh (block of code)"
   ]
  },
  {
   "cell_type": "markdown",
   "id": "007af44f-f417-4497-892c-1b629748af34",
   "metadata": {},
   "source": [
    "Những dòng trong Python có thể gom lại với nhau thành một khối. Bắt đầu một khối lệnh bằng phím `<tab>`"
   ]
  },
  {
   "cell_type": "markdown",
   "id": "bae8a68f-aafb-4e35-8bc3-81226f7d9f3a",
   "metadata": {},
   "source": [
    "```python\n",
    "name = 'Mary'\n",
    "password = 'swordfish'\n",
    "if name == 'Mary':\n",
    "➊ print('Hello, Mary')\n",
    "   if password == 'swordfish':\n",
    "    ➋ print('Access granted.')\n",
    "   else:\n",
    "    ➌ print('Wrong password.')\n",
    "```"
   ]
  },
  {
   "cell_type": "markdown",
   "id": "bba3a045-e3ac-45f1-b0e9-fb937deb2f6a",
   "metadata": {},
   "source": [
    "Thử thêm ở đây: https://autbor.com/blocks/"
   ]
  },
  {
   "cell_type": "markdown",
   "id": "fdf16a5b-c24d-49b0-b256-df0577cf4986",
   "metadata": {},
   "source": [
    "## Các câu lệnh điều kiện"
   ]
  },
  {
   "cell_type": "markdown",
   "id": "698986a2-383d-4a0f-b21e-042f47beceb4",
   "metadata": {},
   "source": [
    "<u>Key</u>: Flow control statements"
   ]
  },
  {
   "cell_type": "markdown",
   "id": "c33278a9-3752-434c-93da-79b612f4f341",
   "metadata": {},
   "source": [
    "### `if` statements"
   ]
  },
  {
   "cell_type": "markdown",
   "id": "684e0cb7-0737-4563-84ef-ad709033031a",
   "metadata": {},
   "source": [
    "Câu lệnh `if` là câu lệnh phổ biến với tất cả ngôn ngữ lập trình. Một câu lệnh `if` khi dịch sang tiếng Việt sẽ như thế này:\n",
    "\n",
    "> Nếu `điều kiện` này **đúng**, thì làm `những dòng code` ở dưới. Nếu **sai** thì bỏ qua `những dòng code` ở dưới."
   ]
  },
  {
   "cell_type": "markdown",
   "id": "bba76e64-3353-4219-bd97-254c8728c66b",
   "metadata": {},
   "source": [
    "Một câu lệnh `if` chứa những thành phần sau đây:\n",
    "\n",
    "- Từ khóa `if`\n",
    "- Một biểu thức điều kiện (biểu thức bool)\n",
    "- Một dấu hai chấm `:`\n",
    "- Bắt đầu trên dòng mới, `<tab>` một cái rồi viết code vô"
   ]
  },
  {
   "cell_type": "code",
   "execution_count": 51,
   "id": "590665a1-cc63-475d-afc4-4d238370a252",
   "metadata": {
    "execution": {
     "iopub.execute_input": "2021-10-14T13:32:37.368060Z",
     "iopub.status.busy": "2021-10-14T13:32:37.367385Z",
     "iopub.status.idle": "2021-10-14T13:32:37.376959Z",
     "shell.execute_reply": "2021-10-14T13:32:37.376084Z",
     "shell.execute_reply.started": "2021-10-14T13:32:37.367385Z"
    },
    "tags": []
   },
   "outputs": [],
   "source": [
    "name = 'Aliceo'\n",
    "\n",
    "if name == 'Alice':\n",
    "    print('Hi, Alice')"
   ]
  },
  {
   "cell_type": "markdown",
   "id": "7e6367f7-ac95-473b-9bc3-fe2d32a810f6",
   "metadata": {},
   "source": [
    "![](assets/if1.jpg)"
   ]
  },
  {
   "cell_type": "code",
   "execution_count": null,
   "id": "677243e2-be49-4ad6-b43c-d77bd332ca05",
   "metadata": {
    "tags": []
   },
   "outputs": [],
   "source": [
    "if 1 + 1 == 3:\n",
    "    print('Thế giới thật kỳ lạ!')"
   ]
  },
  {
   "cell_type": "code",
   "execution_count": null,
   "id": "7e7fcb00-9658-4c8b-9627-f03f1beff4eb",
   "metadata": {
    "tags": []
   },
   "outputs": [],
   "source": [
    "if 1 + 1 == 2:\n",
    "    print('Thế giới bình thường!')"
   ]
  },
  {
   "cell_type": "markdown",
   "id": "865c363d-1879-430f-b184-3db34ed5ced4",
   "metadata": {},
   "source": [
    "Viết code kiểm tra xem biến `num` có phải là số chẵn không"
   ]
  },
  {
   "cell_type": "code",
   "execution_count": null,
   "id": "c1bec270-783c-4f9d-bce7-8ddcb8182a83",
   "metadata": {
    "tags": []
   },
   "outputs": [],
   "source": [
    "num = 2\n",
    "\n",
    "# viết code ở đây"
   ]
  },
  {
   "cell_type": "markdown",
   "id": "e14b0d30-8d2b-4ffc-876d-955df5241f67",
   "metadata": {},
   "source": [
    "Viết code kiểm tra xem biến `year` có phải là năm nhuận không"
   ]
  },
  {
   "cell_type": "code",
   "execution_count": null,
   "id": "b8014bbe-a207-4192-8209-3b6d60e001c0",
   "metadata": {
    "tags": []
   },
   "outputs": [],
   "source": [
    "year = 2020\n",
    "\n",
    "# viết code ở đây"
   ]
  },
  {
   "cell_type": "markdown",
   "id": "beb6448b-26d0-4a21-9a42-c20b49258795",
   "metadata": {},
   "source": [
    "### `else` statements"
   ]
  },
  {
   "cell_type": "markdown",
   "id": "234e4045-3840-4d6b-b060-89d9667d3279",
   "metadata": {},
   "source": [
    "Một câu lệnh `else` sẽ theo sau một câu lệnh `if`, và `else` sẽ chỉ được chạy khi câu lệnh `if` bị sai.\n",
    "\n",
    "Trong tiếng Việt, có thể dịch câu lệnh `if` và `else` thành:\n",
    "> Nếu điều kiện này **đúng**, thì sẽ thực hiện *đống code này*. Nếu **không**, thực hiện đống *code kia*."
   ]
  },
  {
   "cell_type": "markdown",
   "id": "7a682147-7168-47f7-ac42-6464e0f3630d",
   "metadata": {},
   "source": [
    "Một câu lệnh else chứa những thành phần sau đây:\n",
    "\n",
    "- Từ khóa `else`\n",
    "- Theo sau là một dấu `:`\n",
    "- Bắt đầu trên dòng mới, nhấn `<tab>` vô và viết code thôi"
   ]
  },
  {
   "cell_type": "markdown",
   "id": "6ae5b932-53aa-4aa5-b40b-4dac7e339988",
   "metadata": {},
   "source": [
    "Sự khác nhau giữa các thành phần trong `if` và `else` là gì?"
   ]
  },
  {
   "cell_type": "code",
   "execution_count": 54,
   "id": "97c1626c-481f-4cac-9da8-92b24d16f89e",
   "metadata": {
    "execution": {
     "iopub.execute_input": "2021-10-14T13:39:53.455393Z",
     "iopub.status.busy": "2021-10-14T13:39:53.455393Z",
     "iopub.status.idle": "2021-10-14T13:39:53.474203Z",
     "shell.execute_reply": "2021-10-14T13:39:53.473229Z",
     "shell.execute_reply.started": "2021-10-14T13:39:53.455393Z"
    },
    "tags": []
   },
   "outputs": [
    {
     "name": "stdout",
     "output_type": "stream",
     "text": [
      "Hello, stranger.\n"
     ]
    }
   ],
   "source": [
    "name = 'Dat'\n",
    "\n",
    "if name == 'Alice':\n",
    "    print('Hi, Alice.')\n",
    "else:\n",
    "    print('Hello, stranger.')"
   ]
  },
  {
   "cell_type": "markdown",
   "id": "171eb6f4-67d5-4812-85e1-3ca776b17201",
   "metadata": {},
   "source": [
    "![](assets/else.jpg)"
   ]
  },
  {
   "cell_type": "markdown",
   "id": "4ae09a92-020c-4376-a288-1ae4de2c8e7d",
   "metadata": {},
   "source": [
    "Viết code kiểm tra xem biến `num` có phải là số chẵn không, nếu không thì xuất ra thông báo"
   ]
  },
  {
   "cell_type": "code",
   "execution_count": null,
   "id": "78884dc7-6991-499a-ba80-5951f67f7995",
   "metadata": {
    "tags": []
   },
   "outputs": [],
   "source": [
    "num = 3\n",
    "\n",
    "# viết code ở đây"
   ]
  },
  {
   "cell_type": "markdown",
   "id": "2738d6b7-d6da-4b9c-b940-fc78de9415a7",
   "metadata": {
    "execution": {
     "iopub.execute_input": "2021-10-14T03:52:41.678906Z",
     "iopub.status.busy": "2021-10-14T03:52:41.678906Z",
     "iopub.status.idle": "2021-10-14T03:52:41.690498Z",
     "shell.execute_reply": "2021-10-14T03:52:41.689740Z",
     "shell.execute_reply.started": "2021-10-14T03:52:41.678906Z"
    },
    "tags": []
   },
   "source": [
    "Viết code kiểm tra xem biến `year` có phải là năm nhuận không, nếu không thì xuất ra thông báo"
   ]
  },
  {
   "cell_type": "code",
   "execution_count": null,
   "id": "8d0fc103-ca64-4057-8144-c66e5b2f7140",
   "metadata": {
    "tags": []
   },
   "outputs": [],
   "source": [
    "year = 2021\n",
    "\n",
    "# viết code ở đây"
   ]
  },
  {
   "cell_type": "markdown",
   "id": "65855b28-5686-40e2-bb62-7a0d65a6337d",
   "metadata": {},
   "source": [
    "### `elif` statements"
   ]
  },
  {
   "cell_type": "markdown",
   "id": "79a5d839-c47e-45c9-b5cc-283f016bd477",
   "metadata": {},
   "source": [
    "Trong trường hợp muốn thêm các câu lệnh điều kiện sau `if` nhưng trước `else`, các bạn có thể dùng `elif`.\n",
    "\n",
    "`elif` thực chất là `else if`, nghĩa là `\"không thì nếu\"`\n",
    "\n",
    "Trong tiếng Việt, có thể dịch `elif` thành:\n",
    "> Nếu **điều kiện này** đúng, thì thực hiện *đống code này*, nếu không thì kiểm tra **điều kiện kia**, nếu đúng thì thực hiện *đống code kia*, ..."
   ]
  },
  {
   "cell_type": "code",
   "execution_count": 57,
   "id": "662eba87-8ad3-43fa-8629-7efa5f4f8caf",
   "metadata": {
    "execution": {
     "iopub.execute_input": "2021-10-14T13:41:32.774047Z",
     "iopub.status.busy": "2021-10-14T13:41:32.774047Z",
     "iopub.status.idle": "2021-10-14T13:41:32.786811Z",
     "shell.execute_reply": "2021-10-14T13:41:32.785995Z",
     "shell.execute_reply.started": "2021-10-14T13:41:32.774047Z"
    },
    "tags": []
   },
   "outputs": [
    {
     "name": "stdout",
     "output_type": "stream",
     "text": [
      "You are not Alice, kiddo.\n"
     ]
    }
   ],
   "source": [
    "name = 'Dat'\n",
    "age = 10\n",
    "\n",
    "if name == 'Alice':\n",
    "    print('Hi, Alice.')\n",
    "elif age < 12:\n",
    "    print('You are not Alice, kiddo.')"
   ]
  },
  {
   "cell_type": "markdown",
   "id": "7348016c-4fdc-415b-bae8-9a69ed28344c",
   "metadata": {},
   "source": [
    "![](assets/elif.jpg)"
   ]
  },
  {
   "cell_type": "code",
   "execution_count": 59,
   "id": "0f97721a-d763-4018-8ca9-899548051303",
   "metadata": {
    "execution": {
     "iopub.execute_input": "2021-10-14T13:44:25.132788Z",
     "iopub.status.busy": "2021-10-14T13:44:25.131759Z",
     "iopub.status.idle": "2021-10-14T13:44:25.148658Z",
     "shell.execute_reply": "2021-10-14T13:44:25.147803Z",
     "shell.execute_reply.started": "2021-10-14T13:44:25.132788Z"
    },
    "tags": []
   },
   "outputs": [
    {
     "name": "stdout",
     "output_type": "stream",
     "text": [
      "Thằng này cấm uống bia\n",
      "Thu bằng lái\n",
      "Thu bóp\n",
      "Cấm lái xe\n"
     ]
    }
   ],
   "source": [
    "name = 'Dat'\n",
    "age = 17\n",
    "\n",
    "if name == 'Tuan':\n",
    "    print('Duoc uống bia')\n",
    "elif name == 'Dat' and age < 18:\n",
    "    print('Thằng này cấm uống bia')\n",
    "    print('Thu bằng lái')\n",
    "    print('Thu bóp')\n",
    "    print('Cấm lái xe')"
   ]
  },
  {
   "cell_type": "code",
   "execution_count": null,
   "id": "47f1e167-5117-4f1c-88e1-602a3ef7bd2f",
   "metadata": {
    "tags": []
   },
   "outputs": [],
   "source": [
    "name = 'Carol'\n",
    "age = 3000\n",
    "if name == 'Alice':\n",
    "    print('Hi, Alice.')\n",
    "elif age < 12:\n",
    "    print('You are not Alice, kiddo.')\n",
    "elif age > 2000:\n",
    "    print('Unlike you, Alice is not an undead, immortal vampire.')\n",
    "elif age > 100:\n",
    "    print('You are not Alice, grannie.')"
   ]
  },
  {
   "cell_type": "markdown",
   "id": "c113e10f-b902-4446-af2c-51ab6e4b3eb8",
   "metadata": {},
   "source": [
    "Xem thêm ở: https://autbor.com/vampire/"
   ]
  },
  {
   "cell_type": "markdown",
   "id": "7ba8ca05-1204-4c54-9eae-4c7befa51d4e",
   "metadata": {},
   "source": [
    "![](assets/elif1.jpg)"
   ]
  },
  {
   "cell_type": "markdown",
   "id": "02833673-7ebc-49f0-963e-c010502b14b0",
   "metadata": {},
   "source": [
    "#### 🪲 Bug phổ biến"
   ]
  },
  {
   "cell_type": "code",
   "execution_count": 61,
   "id": "a052ca1e-fe44-46dc-9781-72da31e10f9a",
   "metadata": {
    "execution": {
     "iopub.execute_input": "2021-10-14T13:48:41.271179Z",
     "iopub.status.busy": "2021-10-14T13:48:41.271179Z",
     "iopub.status.idle": "2021-10-14T13:48:41.291811Z",
     "shell.execute_reply": "2021-10-14T13:48:41.289752Z",
     "shell.execute_reply.started": "2021-10-14T13:48:41.271179Z"
    },
    "tags": []
   },
   "outputs": [
    {
     "name": "stdout",
     "output_type": "stream",
     "text": [
      "Unlike you, Alice is not an undead, immortal vampire.\n"
     ]
    }
   ],
   "source": [
    "name = 'Carol'\n",
    "age = 3000\n",
    "if name == 'Alice':\n",
    "   print('Hi, Alice.')\n",
    "elif age < 12:\n",
    "   print('You are not Alice, kiddo.')\n",
    "elif age > 100:\n",
    "   print('You are not Alice, grannie.')\n",
    "elif age > 2000:\n",
    "   print('Unlike you, Alice is not an undead, immortal vampire.')"
   ]
  },
  {
   "cell_type": "markdown",
   "id": "fd4b7e6a-a37a-4170-854e-7eb74d4b7c04",
   "metadata": {},
   "source": [
    "![](assets/elif2.jpg)"
   ]
  },
  {
   "cell_type": "markdown",
   "id": "c2ac0af8-8b67-4e9a-bffa-2243a7f94721",
   "metadata": {},
   "source": [
    "Xem thêm ở đây: https://autbor.com/vampire2/"
   ]
  },
  {
   "cell_type": "code",
   "execution_count": null,
   "id": "07af837e-6660-46da-aa90-eadaec36b7a8",
   "metadata": {
    "tags": []
   },
   "outputs": [],
   "source": [
    "name = 'Carol'\n",
    "age = 3000\n",
    "if name == 'Alice':\n",
    "    print('Hi, Alice.')\n",
    "elif age < 12:\n",
    "    print('You are not Alice, kiddo.')\n",
    "else:\n",
    "    print('You are neither Alice nor a little kid.')"
   ]
  },
  {
   "cell_type": "markdown",
   "id": "aa86be69-1b92-4a10-afb6-980467785482",
   "metadata": {
    "execution": {
     "iopub.execute_input": "2021-10-14T04:03:58.463054Z",
     "iopub.status.busy": "2021-10-14T04:03:58.463054Z",
     "iopub.status.idle": "2021-10-14T04:03:58.504948Z",
     "shell.execute_reply": "2021-10-14T04:03:58.504097Z",
     "shell.execute_reply.started": "2021-10-14T04:03:58.463054Z"
    },
    "tags": []
   },
   "source": [
    "![](assets/elif3.jpg)"
   ]
  },
  {
   "cell_type": "markdown",
   "id": "61a29b2c-e553-417a-8b0f-4402fe85cf73",
   "metadata": {},
   "source": [
    "Xem thêm ở đây:  https://autbor.com/littlekid/"
   ]
  },
  {
   "cell_type": "markdown",
   "id": "b28b3faa-d513-40ad-9079-10a87e533675",
   "metadata": {},
   "source": [
    "# Có luyện tập mới thành tài được 😀"
   ]
  },
  {
   "cell_type": "markdown",
   "id": "0f57ca4f-6d9e-4ef5-9766-dbf658021ec5",
   "metadata": {},
   "source": [
    "1. Kiểu `Bool` có những giá trị nào, bạn viết như thế nào để Python hiểu được?"
   ]
  },
  {
   "cell_type": "markdown",
   "id": "f8936e58-1302-4100-afb9-b7dbab3e8016",
   "metadata": {},
   "source": [
    "2. Kiểu `Bool` có bao nhiêu toán tử, và những toán tử đó là..."
   ]
  },
  {
   "cell_type": "markdown",
   "id": "a66ce0aa-e08b-4653-8bc5-8260344d6421",
   "metadata": {},
   "source": [
    "3. Viết lại bảng giá trị cho từng toán tử của kiểu `Bool` (hơi dài nhưng rất cần thiết đấy)"
   ]
  },
  {
   "cell_type": "markdown",
   "id": "0da06e33-788c-419b-95a0-81b1166264ac",
   "metadata": {},
   "source": [
    "4. Những dòng code này sẽ trả về giá trị nào?"
   ]
  },
  {
   "cell_type": "code",
   "execution_count": null,
   "id": "a216c361-bd35-4fa7-b85e-49d52780cdec",
   "metadata": {},
   "outputs": [],
   "source": [
    "(5 > 4) and (3 == 5)"
   ]
  },
  {
   "cell_type": "code",
   "execution_count": null,
   "id": "607544ce-6e9b-4f31-a4ce-f35e7ceed803",
   "metadata": {},
   "outputs": [],
   "source": [
    "not (5 > 4)"
   ]
  },
  {
   "cell_type": "code",
   "execution_count": null,
   "id": "20f86176-6cfa-4d77-b4dc-ba15e51552dd",
   "metadata": {},
   "outputs": [],
   "source": [
    "(5 > 4) or (3 == 5)"
   ]
  },
  {
   "cell_type": "code",
   "execution_count": null,
   "id": "434a718c-0991-4831-b77f-c221c40cbe35",
   "metadata": {},
   "outputs": [],
   "source": [
    "not ((5 > 4) or (3 == 5))"
   ]
  },
  {
   "cell_type": "code",
   "execution_count": null,
   "id": "cb63d9f8-37d9-48fd-818a-ac4dbe6a3322",
   "metadata": {},
   "outputs": [],
   "source": [
    "(True and True) and (True == False)"
   ]
  },
  {
   "cell_type": "code",
   "execution_count": null,
   "id": "d899fb9d-aa80-4b44-a3e9-5a369099acaa",
   "metadata": {
    "tags": []
   },
   "outputs": [],
   "source": [
    "(not False) or (not True)"
   ]
  },
  {
   "cell_type": "markdown",
   "id": "d0bf8f37-e021-4160-b444-57143271d7c3",
   "metadata": {},
   "source": [
    "5. Có bao nhiêu toán tử so sánh, những toán tử đó là gì?"
   ]
  },
  {
   "cell_type": "markdown",
   "id": "1dfa654a-8c4a-44b3-bf81-cda9e253d999",
   "metadata": {},
   "source": [
    "6. Sự khác nhau giữa `phép gán` và phép `so sánh bằng`"
   ]
  },
  {
   "cell_type": "markdown",
   "id": "8cd4c04e-3cfd-409e-b970-0ab141de1a39",
   "metadata": {},
   "source": [
    "7. Giải thích câu lệnh điều kiện là gì, và bạn sử dụng nó như thế nào?"
   ]
  },
  {
   "cell_type": "markdown",
   "id": "25e83ed4-9920-4a13-a312-8371dbb3c64b",
   "metadata": {},
   "source": [
    "8. Xác định 3 `khối lệnh` của đoạn code dưới đây\n",
    "\n",
    "```python\n",
    "spam = 0\n",
    "if spam == 10:\n",
    "    print('eggs')\n",
    "    if spam > 5:\n",
    "        print('bacon')\n",
    "    else:\n",
    "        print('ham')\n",
    "    print('spam')\n",
    "print('spam')\n",
    "```"
   ]
  },
  {
   "cell_type": "markdown",
   "id": "1c807487-db6d-4826-9708-4f4486cbd1d9",
   "metadata": {},
   "source": [
    "9. Viết code in ra chữ `\"Hello\"` nếu biến `spam` có giá trị là $1$, in ra chữ `\"Howdy\"` nếu biến `spam` có giá trị $2$, và in ra `\"Greetings!\"` nếu biến `spam` lưu trữ các giá trị khác"
   ]
  },
  {
   "cell_type": "markdown",
   "id": "575da3ee-a3e1-47b6-aacd-31a85fc8e8ce",
   "metadata": {},
   "source": [
    "10. Đây là một bài tập không khó cũng không dễ tí nào, nhưng bạn nào làm được thì sẽ có người yêu.\n",
    "Viết một con `Chatbot` để trả lời các câu hỏi dưới đây.\n",
    "\n",
    "- Hỏi: `\"Bạn tên là gì\"`\n",
    "- Trả lời: Đặt tên cho con `Chatbot` của bạn tùy ý\n",
    "---\n",
    "- Hỏi: `\"Bạn bao nhiêu tuổi\"`\n",
    "- Trả lời: Xác định cho con `Chatbot` một số tuổi nào đó\n",
    "---\n",
    "- Hỏi: `\"1 + 1 bằng mấy\"`\n",
    "- Trả lời: Bạn nghĩ bằng mấy 😏 \n",
    "---\n",
    "- Hỏi: `\"5 giai thừa bằng bao nhiêu\"`\n",
    "- Trả lời: Bạn tự ghi đáp án nha\n",
    "---\n",
    "- Hỏi: `\"Bạn học phòng nào\"`\n",
    "- Trả lời: Phòng thực hành của bạn đấy\n",
    "---\n",
    "- Hỏi: `\"Mentor phòng bạn có ăn hiếp bạn không\"`\n",
    "- Trả lời: 1 phút nói thật đây 🤣\n",
    "\n",
    "Và rất nhiều câu hỏi khác bạn có thể đưa vào cho con `Chatbot` này, tiếp tục phát triển nó nha."
   ]
  },
  {
   "cell_type": "markdown",
   "id": "77c2fefb-6786-4eb0-b182-19ad64603fee",
   "metadata": {},
   "source": [
    "Xem thêm ở đây: https://automatetheboringstuff.com/2e/chapter2/"
   ]
  }
 ],
 "metadata": {
  "kernelspec": {
   "display_name": "Python 3 (ipykernel)",
   "language": "python",
   "name": "python3"
  },
  "language_info": {
   "codemirror_mode": {
    "name": "ipython",
    "version": 3
   },
   "file_extension": ".py",
   "mimetype": "text/x-python",
   "name": "python",
   "nbconvert_exporter": "python",
   "pygments_lexer": "ipython3",
   "version": "3.8.11"
  }
 },
 "nbformat": 4,
 "nbformat_minor": 5
}
