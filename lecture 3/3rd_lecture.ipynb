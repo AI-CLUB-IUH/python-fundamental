{
 "cells": [
  {
   "cell_type": "markdown",
   "id": "eb9e464d-067b-4da2-a6ca-9c2ccc8c0eeb",
   "metadata": {
    "tags": []
   },
   "source": [
    "# Buổi trước chúng ta đã học gì"
   ]
  },
  {
   "cell_type": "markdown",
   "id": "8d63d759-1967-42d0-9222-e76ccdb31700",
   "metadata": {},
   "source": [
    "- Làm quen với lưu đồ (flow chart)\n",
    "- Giá trị kiểu Bool (`True` và `False`)\n",
    "- Toán tử so sánh (`<=`, `>=`, `==`, `!=`, `<`, `>`)\n",
    "- Toán tử Bool (`and`, `or`, `not`)\n",
    "- Câu lệnh điều kiện (`if`, `else`, `elif`)\n",
    "- Và nhớ phải làm bài tập, nếu chưa nhớ thì làm sẽ nhớ 😏"
   ]
  },
  {
   "cell_type": "markdown",
   "id": "8d4972a4-d969-4f8e-994d-828a9a0b4157",
   "metadata": {
    "tags": []
   },
   "source": [
    "# Nội dung kiến thức hôm nay"
   ]
  },
  {
   "cell_type": "markdown",
   "id": "ea7fc2cc-dec7-4d9c-8aa3-ac83c78f803a",
   "metadata": {},
   "source": [
    "- Vòng lặp `while`\n",
    "    - Sự khác nhau giữa `if` và `while`\n",
    "    - Sự khó chịu của vòng lặp `while`\n",
    "    - Câu lệnh `break`\n",
    "    - Câu lệnh `continue`\n",
    "- Vòng lặp `for` và hàm `range()`\n",
    "    - `while` cũng biến thành `for`\n",
    "    - Các tham số cho hàm `range()`\n",
    "- Làm quen với thư viện (modules)\n",
    "- Chương trình \"đoán số\"\n",
    "- Chương trình \"kéo, búa, bao\"\n",
    "- Luyện tập"
   ]
  },
  {
   "cell_type": "markdown",
   "id": "43acf0c4-7d3d-444c-9c82-bc7d82d83d0c",
   "metadata": {},
   "source": [
    "# Vòng lặp `while`"
   ]
  },
  {
   "cell_type": "markdown",
   "id": "b58a2044-4cad-4f41-af5e-9d62f8fd37a3",
   "metadata": {
    "execution": {
     "iopub.execute_input": "2021-10-16T06:33:35.990200Z",
     "iopub.status.busy": "2021-10-16T06:33:35.990200Z",
     "iopub.status.idle": "2021-10-16T06:33:36.027717Z",
     "shell.execute_reply": "2021-10-16T06:33:36.025967Z",
     "shell.execute_reply.started": "2021-10-16T06:33:35.990200Z"
    },
    "tags": []
   },
   "source": [
    "Các bạn có thể khiến một khối lệnh (block of code) chạy đi chạy lại bằng cách sử dụng `while`"
   ]
  },
  {
   "cell_type": "markdown",
   "id": "18e4d30e-fcc9-41c9-84ef-32cb0cb462bd",
   "metadata": {},
   "source": [
    "Câu lệnh `while` giống với `if` $100\\%$, chỉ khác logic chạy"
   ]
  },
  {
   "cell_type": "markdown",
   "id": "5491096b-85b9-412b-9e86-719d4f6294c6",
   "metadata": {},
   "source": [
    "Một câu lệnh `while` sẽ chứa những thứ sau đây:\n",
    "- Từ khóa `while`\n",
    "- Một điều kiện (mà kết quả của điều kiện là `True` hoặc `False`)\n",
    "- Một dấu `:`\n",
    "- Bắt đầu trên dòng mới, `<tab>` một cái rồi viết code vô."
   ]
  },
  {
   "cell_type": "markdown",
   "id": "3127f8c7-43a0-4a07-a6d9-a46a72eb6b10",
   "metadata": {},
   "source": [
    "## Sự khác nhau giữa `if` và `while`"
   ]
  },
  {
   "cell_type": "markdown",
   "id": "85c2511a-4cb8-4388-8b62-8f3b9495db0b",
   "metadata": {},
   "source": [
    "![](assets/if_while.png)"
   ]
  },
  {
   "cell_type": "markdown",
   "id": "c1f615b8-3f99-43d8-a19e-43d7d2e4ec97",
   "metadata": {},
   "source": [
    "### if"
   ]
  },
  {
   "cell_type": "code",
   "execution_count": 4,
   "id": "1e2cb5e2-5815-49f3-8cfb-387ce81e1618",
   "metadata": {
    "execution": {
     "iopub.execute_input": "2021-10-16T12:53:28.338591Z",
     "iopub.status.busy": "2021-10-16T12:53:28.337623Z",
     "iopub.status.idle": "2021-10-16T12:53:28.358108Z",
     "shell.execute_reply": "2021-10-16T12:53:28.357108Z",
     "shell.execute_reply.started": "2021-10-16T12:53:28.338591Z"
    },
    "tags": []
   },
   "outputs": [
    {
     "name": "stdout",
     "output_type": "stream",
     "text": [
      "Hello, world.\n",
      "1\n"
     ]
    }
   ],
   "source": [
    "spam = 0\n",
    "if spam < 5: # True\n",
    "    print('Hello, world.')\n",
    "    spam = spam + 1\n",
    "print(spam)"
   ]
  },
  {
   "cell_type": "markdown",
   "id": "ede59d54-9556-4da9-8217-0e16918329ac",
   "metadata": {},
   "source": [
    "### while"
   ]
  },
  {
   "cell_type": "code",
   "execution_count": 6,
   "id": "598ee47e-a989-49a5-ac4f-6704908a6025",
   "metadata": {
    "execution": {
     "iopub.execute_input": "2021-10-16T12:54:44.825478Z",
     "iopub.status.busy": "2021-10-16T12:54:44.825282Z",
     "iopub.status.idle": "2021-10-16T12:54:44.837997Z",
     "shell.execute_reply": "2021-10-16T12:54:44.836051Z",
     "shell.execute_reply.started": "2021-10-16T12:54:44.825478Z"
    },
    "tags": []
   },
   "outputs": [
    {
     "name": "stdout",
     "output_type": "stream",
     "text": [
      "Hello, world.\n",
      "1\n",
      "Hello, world.\n",
      "2\n",
      "Hello, world.\n",
      "3\n",
      "Hello, world.\n",
      "4\n",
      "Hello, world.\n",
      "5\n",
      "5\n"
     ]
    }
   ],
   "source": [
    "spam = 0\n",
    "while spam < 5:\n",
    "    print('Hello, world.')\n",
    "    spam = spam + 1\n",
    "    print(spam)\n",
    "print(spam)"
   ]
  },
  {
   "cell_type": "markdown",
   "id": "ae86200b-6fba-444f-870d-1e34bc5f41ea",
   "metadata": {},
   "source": [
    "### if"
   ]
  },
  {
   "cell_type": "markdown",
   "id": "db966938-c5c6-477c-8953-91df95af7bde",
   "metadata": {},
   "source": [
    "![](https://automatetheboringstuff.com/2e/images/000072.jpg)"
   ]
  },
  {
   "cell_type": "markdown",
   "id": "17b82526-06d3-4c57-8817-9e347321c8da",
   "metadata": {},
   "source": [
    "### while"
   ]
  },
  {
   "cell_type": "markdown",
   "id": "67f57898-a9d3-448e-b179-b1ac2a0bd933",
   "metadata": {},
   "source": [
    "![](https://automatetheboringstuff.com/2e/images/000112.jpg)"
   ]
  },
  {
   "cell_type": "markdown",
   "id": "0e3452de-547e-42c7-b24a-eb59c379c226",
   "metadata": {},
   "source": [
    "## Sự khó chịu của vòng lặp `while`"
   ]
  },
  {
   "cell_type": "code",
   "execution_count": 7,
   "id": "840678e4-0c69-4053-8995-2afd5c691dd8",
   "metadata": {
    "execution": {
     "iopub.execute_input": "2021-10-16T12:57:08.537088Z",
     "iopub.status.busy": "2021-10-16T12:57:08.537088Z",
     "iopub.status.idle": "2021-10-16T12:57:49.626531Z",
     "shell.execute_reply": "2021-10-16T12:57:49.625673Z",
     "shell.execute_reply.started": "2021-10-16T12:57:08.537088Z"
    },
    "tags": []
   },
   "outputs": [
    {
     "name": "stdout",
     "output_type": "stream",
     "text": [
      "Please type your name.\n"
     ]
    },
    {
     "name": "stdin",
     "output_type": "stream",
     "text": [
      " dat\n"
     ]
    },
    {
     "name": "stdout",
     "output_type": "stream",
     "text": [
      "Please type your name.\n"
     ]
    },
    {
     "name": "stdin",
     "output_type": "stream",
     "text": [
      " dat1\n"
     ]
    },
    {
     "name": "stdout",
     "output_type": "stream",
     "text": [
      "Please type your name.\n"
     ]
    },
    {
     "name": "stdin",
     "output_type": "stream",
     "text": [
      " dat2\n"
     ]
    },
    {
     "name": "stdout",
     "output_type": "stream",
     "text": [
      "Please type your name.\n"
     ]
    },
    {
     "name": "stdin",
     "output_type": "stream",
     "text": [
      " long\n"
     ]
    },
    {
     "name": "stdout",
     "output_type": "stream",
     "text": [
      "Please type your name.\n"
     ]
    },
    {
     "name": "stdin",
     "output_type": "stream",
     "text": [
      " vu\n"
     ]
    },
    {
     "name": "stdout",
     "output_type": "stream",
     "text": [
      "Please type your name.\n"
     ]
    },
    {
     "name": "stdin",
     "output_type": "stream",
     "text": [
      " your name\n"
     ]
    },
    {
     "name": "stdout",
     "output_type": "stream",
     "text": [
      "Thank you!\n"
     ]
    }
   ],
   "source": [
    "name = ''\n",
    "while name != 'your name':\n",
    "    print('Please type your name.')\n",
    "    name = input()\n",
    "print('Thank you!')"
   ]
  },
  {
   "cell_type": "markdown",
   "id": "7e1d319a-26ee-4600-91de-0009eb9ef082",
   "metadata": {},
   "source": [
    "Xem thêm ở đây: https://autbor.com/yourname/"
   ]
  },
  {
   "cell_type": "markdown",
   "id": "cc0ef813-13f5-48c6-b107-f62534111af2",
   "metadata": {},
   "source": [
    "![](https://automatetheboringstuff.com/2e/images/000042.jpg)"
   ]
  },
  {
   "cell_type": "markdown",
   "id": "0ef3ba8a-ca03-47f5-b9dc-b468abce823e",
   "metadata": {},
   "source": [
    "Nếu mà bạn không nhập đúng `your name`, chương trình sẽ chạy mãi 👀"
   ]
  },
  {
   "cell_type": "markdown",
   "id": "0c59ebc0-fe76-407b-9ea2-8b14127609e9",
   "metadata": {},
   "source": [
    "## câu lệnh `break`"
   ]
  },
  {
   "cell_type": "markdown",
   "id": "d6b91dff-eaac-4efd-83ff-dae17dde65af",
   "metadata": {},
   "source": [
    "câu lệnh `break` sẽ ngay lập tức dừng vòng `while`"
   ]
  },
  {
   "cell_type": "markdown",
   "id": "6032e2bb-b8c5-4ad7-a223-81568124b18f",
   "metadata": {},
   "source": [
    "### Một ví dụ về `break`"
   ]
  },
  {
   "cell_type": "markdown",
   "id": "bfe139a1-d522-4e9b-a077-eb784aa1f603",
   "metadata": {
    "execution": {
     "iopub.execute_input": "2021-10-16T07:01:22.811151Z",
     "iopub.status.busy": "2021-10-16T07:01:22.810104Z",
     "iopub.status.idle": "2021-10-16T07:01:22.861146Z",
     "shell.execute_reply": "2021-10-16T07:01:22.859293Z",
     "shell.execute_reply.started": "2021-10-16T07:01:22.811151Z"
    },
    "tags": []
   },
   "source": [
    "![](assets/break.jpg)"
   ]
  },
  {
   "cell_type": "code",
   "execution_count": 10,
   "id": "637aa3bd-0fc7-4850-80d5-7394b9802856",
   "metadata": {
    "execution": {
     "iopub.execute_input": "2021-10-16T13:07:00.193422Z",
     "iopub.status.busy": "2021-10-16T13:07:00.192419Z",
     "iopub.status.idle": "2021-10-16T13:07:00.203209Z",
     "shell.execute_reply": "2021-10-16T13:07:00.202416Z",
     "shell.execute_reply.started": "2021-10-16T13:07:00.193422Z"
    },
    "tags": []
   },
   "outputs": [],
   "source": [
    "ok = 5"
   ]
  },
  {
   "cell_type": "code",
   "execution_count": 9,
   "id": "de38b005-72bc-45e4-bf26-4001968aeefc",
   "metadata": {
    "execution": {
     "iopub.execute_input": "2021-10-16T13:04:12.653091Z",
     "iopub.status.busy": "2021-10-16T13:04:12.652562Z",
     "iopub.status.idle": "2021-10-16T13:04:18.844328Z",
     "shell.execute_reply": "2021-10-16T13:04:18.843726Z",
     "shell.execute_reply.started": "2021-10-16T13:04:12.653091Z"
    },
    "tags": []
   },
   "outputs": [
    {
     "name": "stdout",
     "output_type": "stream",
     "text": [
      "Please type your name.\n"
     ]
    },
    {
     "name": "stdin",
     "output_type": "stream",
     "text": [
      " your name\n"
     ]
    },
    {
     "name": "stdout",
     "output_type": "stream",
     "text": [
      "Thank you!\n"
     ]
    }
   ],
   "source": [
    "while True: # tạo một vòng lặp vô hạn\n",
    "        print('Please type your name.')\n",
    "        name = input()\n",
    "        if name == 'your name':\n",
    "            break\n",
    "print('Thank you!')"
   ]
  },
  {
   "cell_type": "markdown",
   "id": "673985bd-455d-45df-93d4-f1b74ef56058",
   "metadata": {},
   "source": [
    "Xem thêm ở đây: https://autbor.com/yourname2/"
   ]
  },
  {
   "cell_type": "markdown",
   "id": "b4ac40d6-2697-4ae6-af8c-eb7c27717c2a",
   "metadata": {},
   "source": [
    "![](https://automatetheboringstuff.com/2e/images/000134.jpg)"
   ]
  },
  {
   "cell_type": "markdown",
   "id": "01fee104-07f8-407e-a53b-dd7d4935186b",
   "metadata": {},
   "source": [
    "### Câu lệnh `continue`"
   ]
  },
  {
   "cell_type": "code",
   "execution_count": 11,
   "id": "5af540fd-e168-4b27-abb0-801cf2766082",
   "metadata": {
    "execution": {
     "iopub.execute_input": "2021-10-16T13:12:10.179963Z",
     "iopub.status.busy": "2021-10-16T13:12:10.178795Z",
     "iopub.status.idle": "2021-10-16T13:12:30.689658Z",
     "shell.execute_reply": "2021-10-16T13:12:30.687984Z",
     "shell.execute_reply.started": "2021-10-16T13:12:10.179963Z"
    },
    "tags": []
   },
   "outputs": [
    {
     "name": "stdout",
     "output_type": "stream",
     "text": [
      "Who are you?\n"
     ]
    },
    {
     "name": "stdin",
     "output_type": "stream",
     "text": [
      " Dat\n"
     ]
    },
    {
     "name": "stdout",
     "output_type": "stream",
     "text": [
      "Who are you?\n"
     ]
    },
    {
     "name": "stdin",
     "output_type": "stream",
     "text": [
      " Dat\n"
     ]
    },
    {
     "name": "stdout",
     "output_type": "stream",
     "text": [
      "Who are you?\n"
     ]
    },
    {
     "name": "stdin",
     "output_type": "stream",
     "text": [
      " jue\n"
     ]
    },
    {
     "name": "stdout",
     "output_type": "stream",
     "text": [
      "Who are you?\n"
     ]
    },
    {
     "name": "stdin",
     "output_type": "stream",
     "text": [
      " joe\n"
     ]
    },
    {
     "name": "stdout",
     "output_type": "stream",
     "text": [
      "Who are you?\n"
     ]
    },
    {
     "name": "stdin",
     "output_type": "stream",
     "text": [
      " Joe\n"
     ]
    },
    {
     "name": "stdout",
     "output_type": "stream",
     "text": [
      "Hello, Joe. What is the password? (It is a fish.)\n"
     ]
    },
    {
     "name": "stdin",
     "output_type": "stream",
     "text": [
      " swordfish\n"
     ]
    },
    {
     "name": "stdout",
     "output_type": "stream",
     "text": [
      "Access granted.\n"
     ]
    }
   ],
   "source": [
    "while True:\n",
    "    print('Who are you?')\n",
    "    name = input()\n",
    "    if name != 'Joe':\n",
    "        continue\n",
    "    print('Hello, Joe. What is the password? (It is a fish.)')\n",
    "    password = input()\n",
    "    if password == 'swordfish':\n",
    "        break\n",
    "print('Access granted.')"
   ]
  },
  {
   "cell_type": "markdown",
   "id": "f07ec540-1c10-4cdd-8d76-c54c580954d8",
   "metadata": {},
   "source": [
    "![](https://automatetheboringstuff.com/2e/images/000078.jpg)"
   ]
  },
  {
   "cell_type": "markdown",
   "id": "5c799907-d0a2-4564-8e8a-0ca23de474f9",
   "metadata": {},
   "source": [
    "Xem thêm ở đây: https://autbor.com/hellojoe/"
   ]
  },
  {
   "cell_type": "code",
   "execution_count": null,
   "id": "eb14e6f2-b432-417a-8f8c-b58e44b8a18e",
   "metadata": {
    "tags": []
   },
   "outputs": [],
   "source": [
    "name = ''\n",
    "while not name:\n",
    "    print('Enter your name:')\n",
    "    name = input()\n",
    "print('How many guests will you have?')\n",
    "numOfGuests = int(input())\n",
    "if numOfGuests:\n",
    "    print('Be sure to have enough room for all your guests.')\n",
    "print('Done')"
   ]
  },
  {
   "cell_type": "markdown",
   "id": "3dffde21-17e4-4e5e-b45a-6851bba627f2",
   "metadata": {},
   "source": [
    "Xem thêm ở đây: https://autbor.com/howmanyguests/"
   ]
  },
  {
   "cell_type": "markdown",
   "id": "728c64c7-7454-4e46-a424-4e4d216e2529",
   "metadata": {},
   "source": [
    "### Sự khác nhau giữa `continue` và `break`"
   ]
  },
  {
   "cell_type": "markdown",
   "id": "cfa3d0c8-7efb-4a08-bcee-6857d868b242",
   "metadata": {},
   "source": [
    "![](https://pythonclass.in/images/while-loop-break-vs%20continue.jpg)"
   ]
  },
  {
   "cell_type": "markdown",
   "id": "c7c82892-0b1a-4f0f-a83f-70cac2fa7b89",
   "metadata": {},
   "source": [
    "# Vòng lặp `for` và hàm `range()`"
   ]
  },
  {
   "cell_type": "markdown",
   "id": "1752c9b5-cdac-4d36-bbd4-20daf765abfe",
   "metadata": {
    "execution": {
     "iopub.execute_input": "2021-10-16T07:21:30.937631Z",
     "iopub.status.busy": "2021-10-16T07:21:30.937631Z",
     "iopub.status.idle": "2021-10-16T07:21:30.946807Z",
     "shell.execute_reply": "2021-10-16T07:21:30.945791Z",
     "shell.execute_reply.started": "2021-10-16T07:21:30.937631Z"
    },
    "tags": []
   },
   "source": [
    "Trong trường hợp bạn muốn chạy một khối lệnh một số lần cụ thể, bạn có thể dùng câu lệnh `for`"
   ]
  },
  {
   "cell_type": "markdown",
   "id": "b5ef8cf4-b52c-4801-809b-259641795279",
   "metadata": {},
   "source": [
    "`for` thường đi kèm với hàm `range()`"
   ]
  },
  {
   "cell_type": "code",
   "execution_count": null,
   "id": "3d753e4c-d701-4cf6-9349-491050e0dcea",
   "metadata": {
    "collapsed": true,
    "jupyter": {
     "outputs_hidden": true
    },
    "tags": []
   },
   "outputs": [
    {
     "name": "stdout",
     "output_type": "stream",
     "text": [
      "Help on class range in module builtins:\n",
      "\n",
      "class range(object)\n",
      " |  range(stop) -> range object\n",
      " |  range(start, stop[, step]) -> range object\n",
      " |  \n",
      " |  Return an object that produces a sequence of integers from start (inclusive)\n",
      " |  to stop (exclusive) by step.  range(i, j) produces i, i+1, i+2, ..., j-1.\n",
      " |  start defaults to 0, and stop is omitted!  range(4) produces 0, 1, 2, 3.\n",
      " |  These are exactly the valid indices for a list of 4 elements.\n",
      " |  When step is given, it specifies the increment (or decrement).\n",
      " |  \n",
      " |  Methods defined here:\n",
      " |  \n",
      " |  __bool__(self, /)\n",
      " |      self != 0\n",
      " |  \n",
      " |  __contains__(self, key, /)\n",
      " |      Return key in self.\n",
      " |  \n",
      " |  __eq__(self, value, /)\n",
      " |      Return self==value.\n",
      " |  \n",
      " |  __ge__(self, value, /)\n",
      " |      Return self>=value.\n",
      " |  \n",
      " |  __getattribute__(self, name, /)\n",
      " |      Return getattr(self, name).\n",
      " |  \n",
      " |  __getitem__(self, key, /)\n",
      " |      Return self[key].\n",
      " |  \n",
      " |  __gt__(self, value, /)\n",
      " |      Return self>value.\n",
      " |  \n",
      " |  __hash__(self, /)\n",
      " |      Return hash(self).\n",
      " |  \n",
      " |  __iter__(self, /)\n",
      " |      Implement iter(self).\n",
      " |  \n",
      " |  __le__(self, value, /)\n",
      " |      Return self<=value.\n",
      " |  \n",
      " |  __len__(self, /)\n",
      " |      Return len(self).\n",
      " |  \n",
      " |  __lt__(self, value, /)\n",
      " |      Return self<value.\n",
      " |  \n",
      " |  __ne__(self, value, /)\n",
      " |      Return self!=value.\n",
      " |  \n",
      " |  __reduce__(...)\n",
      " |      Helper for pickle.\n",
      " |  \n",
      " |  __repr__(self, /)\n",
      " |      Return repr(self).\n",
      " |  \n",
      " |  __reversed__(...)\n",
      " |      Return a reverse iterator.\n",
      " |  \n",
      " |  count(...)\n",
      " |      rangeobject.count(value) -> integer -- return number of occurrences of value\n",
      " |  \n",
      " |  index(...)\n",
      " |      rangeobject.index(value) -> integer -- return index of value.\n",
      " |      Raise ValueError if the value is not present.\n",
      " |  \n",
      " |  ----------------------------------------------------------------------\n",
      " |  Static methods defined here:\n",
      " |  \n",
      " |  __new__(*args, **kwargs) from builtins.type\n",
      " |      Create and return a new object.  See help(type) for accurate signature.\n",
      " |  \n",
      " |  ----------------------------------------------------------------------\n",
      " |  Data descriptors defined here:\n",
      " |  \n",
      " |  start\n",
      " |  \n",
      " |  step\n",
      " |  \n",
      " |  stop\n",
      "\n"
     ]
    }
   ],
   "source": [
    "help(range)"
   ]
  },
  {
   "cell_type": "code",
   "execution_count": 13,
   "id": "d52fa467-cb57-4c77-a019-5bb8f0469d53",
   "metadata": {
    "execution": {
     "iopub.execute_input": "2021-10-16T13:25:34.431593Z",
     "iopub.status.busy": "2021-10-16T13:25:34.431593Z",
     "iopub.status.idle": "2021-10-16T13:25:34.549742Z",
     "shell.execute_reply": "2021-10-16T13:25:34.548128Z",
     "shell.execute_reply.started": "2021-10-16T13:25:34.431593Z"
    },
    "tags": []
   },
   "outputs": [
    {
     "data": {
      "text/plain": [
       "\u001b[1;31mInit signature:\u001b[0m \u001b[0mrange\u001b[0m\u001b[1;33m(\u001b[0m\u001b[0mself\u001b[0m\u001b[1;33m,\u001b[0m \u001b[1;33m/\u001b[0m\u001b[1;33m,\u001b[0m \u001b[1;33m*\u001b[0m\u001b[0margs\u001b[0m\u001b[1;33m,\u001b[0m \u001b[1;33m**\u001b[0m\u001b[0mkwargs\u001b[0m\u001b[1;33m)\u001b[0m\u001b[1;33m\u001b[0m\u001b[1;33m\u001b[0m\u001b[0m\n",
       "\u001b[1;31mDocstring:\u001b[0m     \n",
       "range(stop) -> range object\n",
       "range(start, stop[, step]) -> range object\n",
       "\n",
       "Return an object that produces a sequence of integers from start (inclusive)\n",
       "to stop (exclusive) by step.  range(i, j) produces i, i+1, i+2, ..., j-1.\n",
       "start defaults to 0, and stop is omitted!  range(4) produces 0, 1, 2, 3.\n",
       "These are exactly the valid indices for a list of 4 elements.\n",
       "When step is given, it specifies the increment (or decrement).\n",
       "\u001b[1;31mType:\u001b[0m           type\n",
       "\u001b[1;31mSubclasses:\u001b[0m     \n"
      ]
     },
     "metadata": {},
     "output_type": "display_data"
    }
   ],
   "source": [
    "range?"
   ]
  },
  {
   "cell_type": "markdown",
   "id": "2c1988c3-5adc-4fb7-bb3e-a745b55181dd",
   "metadata": {},
   "source": [
    "Trong code, câu lệnh `for` thường trông như thế này `for i in range(5):` và nó chứa những thành phần sau:\n",
    "- Từ khóa `for`\n",
    "- Một tên biến bất kỳ (ở ví dụ trên là `i`)\n",
    "- Từ khóa `in`\n",
    "- Gọi đến hàm `range()` với tối đa 3 tham số truyền vào\n",
    "- Dấu `:`\n",
    "- Bắt đầu trên dòng mới, `<tab>` một cái vô rồi code."
   ]
  },
  {
   "cell_type": "code",
   "execution_count": 12,
   "id": "834353cd-cd0a-4d64-ad9a-0e1c2aaede13",
   "metadata": {
    "execution": {
     "iopub.execute_input": "2021-10-16T13:24:13.310950Z",
     "iopub.status.busy": "2021-10-16T13:24:13.310338Z",
     "iopub.status.idle": "2021-10-16T13:24:13.319924Z",
     "shell.execute_reply": "2021-10-16T13:24:13.317355Z",
     "shell.execute_reply.started": "2021-10-16T13:24:13.310950Z"
    },
    "tags": []
   },
   "outputs": [
    {
     "name": "stdout",
     "output_type": "stream",
     "text": [
      "My name is\n",
      "Jimmy Five Times (0)\n",
      "Jimmy Five Times (1)\n",
      "Jimmy Five Times (2)\n",
      "Jimmy Five Times (3)\n",
      "Jimmy Five Times (4)\n"
     ]
    }
   ],
   "source": [
    "print('My name is')\n",
    "for i in range(5):\n",
    "    print('Jimmy Five Times (' + str(i) + ')')"
   ]
  },
  {
   "cell_type": "markdown",
   "id": "825ddb26-c88d-46da-890f-217ee304593f",
   "metadata": {},
   "source": [
    "Có thể xem thêm ở đây: https://autbor.com/fivetimesfor/"
   ]
  },
  {
   "cell_type": "markdown",
   "id": "3b0ba4de-6499-4fac-864e-0f2a4b2a8759",
   "metadata": {},
   "source": [
    "![](https://automatetheboringstuff.com/2e/images/000027.jpg)"
   ]
  },
  {
   "cell_type": "code",
   "execution_count": 18,
   "id": "f654c4e1-d165-4f91-8bbb-a523efe0e02f",
   "metadata": {
    "execution": {
     "iopub.execute_input": "2021-10-16T13:30:25.053899Z",
     "iopub.status.busy": "2021-10-16T13:30:25.053293Z",
     "iopub.status.idle": "2021-10-16T13:30:25.065713Z",
     "shell.execute_reply": "2021-10-16T13:30:25.064713Z",
     "shell.execute_reply.started": "2021-10-16T13:30:25.053899Z"
    },
    "tags": []
   },
   "outputs": [
    {
     "name": "stdout",
     "output_type": "stream",
     "text": [
      "5050\n"
     ]
    }
   ],
   "source": [
    "total = 0\n",
    "for num in range(101):\n",
    "#     total = total + num\n",
    "    total += num\n",
    "print(total)"
   ]
  },
  {
   "cell_type": "code",
   "execution_count": 19,
   "id": "0698b180-a3d1-47c7-a690-806b19c889c2",
   "metadata": {
    "execution": {
     "iopub.execute_input": "2021-10-16T13:31:16.331184Z",
     "iopub.status.busy": "2021-10-16T13:31:16.330184Z",
     "iopub.status.idle": "2021-10-16T13:31:16.343825Z",
     "shell.execute_reply": "2021-10-16T13:31:16.342918Z",
     "shell.execute_reply.started": "2021-10-16T13:31:16.331184Z"
    },
    "tags": []
   },
   "outputs": [
    {
     "name": "stdout",
     "output_type": "stream",
     "text": [
      "120\n"
     ]
    }
   ],
   "source": [
    "factorial = 1\n",
    "for num in range(5 + 1):\n",
    "    if num == 0:\n",
    "        continue\n",
    "    factorial = factorial * num\n",
    "print(factorial)"
   ]
  },
  {
   "cell_type": "markdown",
   "id": "9205fd07-415d-43ff-8a55-029e8b4d68e9",
   "metadata": {},
   "source": [
    "## `while` cũng biến thành `for`"
   ]
  },
  {
   "cell_type": "code",
   "execution_count": 21,
   "id": "19f85f69-8481-41b9-bb66-27ddb13d0685",
   "metadata": {
    "execution": {
     "iopub.execute_input": "2021-10-16T13:34:22.117072Z",
     "iopub.status.busy": "2021-10-16T13:34:22.115628Z",
     "iopub.status.idle": "2021-10-16T13:34:22.131572Z",
     "shell.execute_reply": "2021-10-16T13:34:22.130574Z",
     "shell.execute_reply.started": "2021-10-16T13:34:22.117072Z"
    },
    "tags": []
   },
   "outputs": [
    {
     "name": "stdout",
     "output_type": "stream",
     "text": [
      "My name is\n",
      "Jimmy Five Times (0)\n",
      "Jimmy Five Times (1)\n",
      "Jimmy Five Times (2)\n",
      "Jimmy Five Times (3)\n",
      "Jimmy Five Times (4)\n"
     ]
    }
   ],
   "source": [
    "print('My name is')\n",
    "for i in range(5):\n",
    "    print('Jimmy Five Times (' + str(i) + ')')"
   ]
  },
  {
   "cell_type": "code",
   "execution_count": 20,
   "id": "26d73fa2-ae8e-43f6-95e4-ce1c52aa45c0",
   "metadata": {
    "execution": {
     "iopub.execute_input": "2021-10-16T13:34:16.996789Z",
     "iopub.status.busy": "2021-10-16T13:34:16.995790Z",
     "iopub.status.idle": "2021-10-16T13:34:17.002044Z",
     "shell.execute_reply": "2021-10-16T13:34:17.000934Z",
     "shell.execute_reply.started": "2021-10-16T13:34:16.996789Z"
    },
    "tags": []
   },
   "outputs": [
    {
     "name": "stdout",
     "output_type": "stream",
     "text": [
      "My name is\n",
      "Jimmy Five Times (0)\n",
      "Jimmy Five Times (1)\n",
      "Jimmy Five Times (2)\n",
      "Jimmy Five Times (3)\n",
      "Jimmy Five Times (4)\n"
     ]
    }
   ],
   "source": [
    "print('My name is')\n",
    "i = 0\n",
    "while i < 5:\n",
    "    print('Jimmy Five Times (' + str(i) + ')')\n",
    "    i = i + 1"
   ]
  },
  {
   "cell_type": "markdown",
   "id": "ea1d2dea-5f40-4645-895a-51833974de69",
   "metadata": {},
   "source": [
    "Xem thêm ở đây: https://autbor.com/fivetimeswhile/"
   ]
  },
  {
   "cell_type": "markdown",
   "id": "3953c325-13be-4541-961f-03629e9444d3",
   "metadata": {},
   "source": [
    "## Các tham số cho hàm `range()`"
   ]
  },
  {
   "cell_type": "markdown",
   "id": "f0c5daea-8790-4288-9569-0809cb599d38",
   "metadata": {},
   "source": [
    "Document của hàm `range()`: https://python-reference.readthedocs.io/en/latest/docs/functions/range.html"
   ]
  },
  {
   "cell_type": "code",
   "execution_count": 22,
   "id": "dbdfadf6-3457-40b7-b9ed-ae654c5b5a32",
   "metadata": {
    "collapsed": true,
    "execution": {
     "iopub.execute_input": "2021-10-16T13:35:15.903444Z",
     "iopub.status.busy": "2021-10-16T13:35:15.903444Z",
     "iopub.status.idle": "2021-10-16T13:35:15.923849Z",
     "shell.execute_reply": "2021-10-16T13:35:15.922963Z",
     "shell.execute_reply.started": "2021-10-16T13:35:15.903444Z"
    },
    "jupyter": {
     "outputs_hidden": true
    },
    "tags": []
   },
   "outputs": [
    {
     "name": "stdout",
     "output_type": "stream",
     "text": [
      "Help on class range in module builtins:\n",
      "\n",
      "class range(object)\n",
      " |  range(stop) -> range object\n",
      " |  range(start, stop[, step]) -> range object\n",
      " |  \n",
      " |  Return an object that produces a sequence of integers from start (inclusive)\n",
      " |  to stop (exclusive) by step.  range(i, j) produces i, i+1, i+2, ..., j-1.\n",
      " |  start defaults to 0, and stop is omitted!  range(4) produces 0, 1, 2, 3.\n",
      " |  These are exactly the valid indices for a list of 4 elements.\n",
      " |  When step is given, it specifies the increment (or decrement).\n",
      " |  \n",
      " |  Methods defined here:\n",
      " |  \n",
      " |  __bool__(self, /)\n",
      " |      self != 0\n",
      " |  \n",
      " |  __contains__(self, key, /)\n",
      " |      Return key in self.\n",
      " |  \n",
      " |  __eq__(self, value, /)\n",
      " |      Return self==value.\n",
      " |  \n",
      " |  __ge__(self, value, /)\n",
      " |      Return self>=value.\n",
      " |  \n",
      " |  __getattribute__(self, name, /)\n",
      " |      Return getattr(self, name).\n",
      " |  \n",
      " |  __getitem__(self, key, /)\n",
      " |      Return self[key].\n",
      " |  \n",
      " |  __gt__(self, value, /)\n",
      " |      Return self>value.\n",
      " |  \n",
      " |  __hash__(self, /)\n",
      " |      Return hash(self).\n",
      " |  \n",
      " |  __iter__(self, /)\n",
      " |      Implement iter(self).\n",
      " |  \n",
      " |  __le__(self, value, /)\n",
      " |      Return self<=value.\n",
      " |  \n",
      " |  __len__(self, /)\n",
      " |      Return len(self).\n",
      " |  \n",
      " |  __lt__(self, value, /)\n",
      " |      Return self<value.\n",
      " |  \n",
      " |  __ne__(self, value, /)\n",
      " |      Return self!=value.\n",
      " |  \n",
      " |  __reduce__(...)\n",
      " |      Helper for pickle.\n",
      " |  \n",
      " |  __repr__(self, /)\n",
      " |      Return repr(self).\n",
      " |  \n",
      " |  __reversed__(...)\n",
      " |      Return a reverse iterator.\n",
      " |  \n",
      " |  count(...)\n",
      " |      rangeobject.count(value) -> integer -- return number of occurrences of value\n",
      " |  \n",
      " |  index(...)\n",
      " |      rangeobject.index(value) -> integer -- return index of value.\n",
      " |      Raise ValueError if the value is not present.\n",
      " |  \n",
      " |  ----------------------------------------------------------------------\n",
      " |  Static methods defined here:\n",
      " |  \n",
      " |  __new__(*args, **kwargs) from builtins.type\n",
      " |      Create and return a new object.  See help(type) for accurate signature.\n",
      " |  \n",
      " |  ----------------------------------------------------------------------\n",
      " |  Data descriptors defined here:\n",
      " |  \n",
      " |  start\n",
      " |  \n",
      " |  step\n",
      " |  \n",
      " |  stop\n",
      "\n"
     ]
    }
   ],
   "source": [
    "help(range)"
   ]
  },
  {
   "cell_type": "code",
   "execution_count": 23,
   "id": "1ca637fd-1ade-48db-9e8d-603515b46af5",
   "metadata": {
    "execution": {
     "iopub.execute_input": "2021-10-16T13:35:50.887611Z",
     "iopub.status.busy": "2021-10-16T13:35:50.887611Z",
     "iopub.status.idle": "2021-10-16T13:35:50.903498Z",
     "shell.execute_reply": "2021-10-16T13:35:50.902361Z",
     "shell.execute_reply.started": "2021-10-16T13:35:50.887611Z"
    },
    "tags": []
   },
   "outputs": [
    {
     "name": "stdout",
     "output_type": "stream",
     "text": [
      "0\n",
      "1\n",
      "2\n",
      "3\n",
      "4\n",
      "5\n",
      "6\n"
     ]
    }
   ],
   "source": [
    "for i in range(7):\n",
    "    print(i)"
   ]
  },
  {
   "cell_type": "code",
   "execution_count": 24,
   "id": "7426eb50-414d-49a6-976c-0054a3937779",
   "metadata": {
    "execution": {
     "iopub.execute_input": "2021-10-16T13:36:50.879578Z",
     "iopub.status.busy": "2021-10-16T13:36:50.879578Z",
     "iopub.status.idle": "2021-10-16T13:36:50.891845Z",
     "shell.execute_reply": "2021-10-16T13:36:50.890887Z",
     "shell.execute_reply.started": "2021-10-16T13:36:50.879578Z"
    },
    "tags": []
   },
   "outputs": [
    {
     "name": "stdout",
     "output_type": "stream",
     "text": [
      "12\n",
      "13\n",
      "14\n",
      "15\n"
     ]
    }
   ],
   "source": [
    "for i in range(12, 16):\n",
    "    print(i)"
   ]
  },
  {
   "cell_type": "markdown",
   "id": "315282b4-f25a-4514-a311-0fd0ca80fab3",
   "metadata": {
    "execution": {
     "iopub.execute_input": "2021-10-16T07:31:29.989237Z",
     "iopub.status.busy": "2021-10-16T07:31:29.989237Z",
     "iopub.status.idle": "2021-10-16T07:31:30.004100Z",
     "shell.execute_reply": "2021-10-16T07:31:30.003201Z",
     "shell.execute_reply.started": "2021-10-16T07:31:29.989237Z"
    },
    "tags": []
   },
   "source": [
    "#### Cải thiện code việc tính giai thừa"
   ]
  },
  {
   "cell_type": "code",
   "execution_count": 2,
   "id": "2fddcfff-b4a5-46ac-8035-324c2b874a4a",
   "metadata": {
    "execution": {
     "iopub.execute_input": "2021-10-16T13:38:38.806275Z",
     "iopub.status.busy": "2021-10-16T13:38:38.806275Z",
     "iopub.status.idle": "2021-10-16T13:38:38.823623Z",
     "shell.execute_reply": "2021-10-16T13:38:38.822721Z",
     "shell.execute_reply.started": "2021-10-16T13:38:38.806275Z"
    },
    "tags": []
   },
   "outputs": [
    {
     "name": "stdout",
     "output_type": "stream",
     "text": [
      "120\n"
     ]
    }
   ],
   "source": [
    "# play here\n",
    "factorial = 1\n",
    "for num in range(1, 5 + 1):\n",
    "#     if num == 0:\n",
    "#         continue\n",
    "    factorial = factorial * num\n",
    "print(factorial)"
   ]
  },
  {
   "cell_type": "markdown",
   "id": "a0d18b01-2278-428b-a3d9-35730429bfdc",
   "metadata": {},
   "source": [
    "#### Cộng số chẵn từ a đến b"
   ]
  },
  {
   "cell_type": "code",
   "execution_count": 3,
   "id": "6ceda4aa-bab3-4c9e-badb-3dbad465c7a0",
   "metadata": {
    "execution": {
     "iopub.execute_input": "2021-10-16T13:39:55.885070Z",
     "iopub.status.busy": "2021-10-16T13:39:55.885070Z",
     "iopub.status.idle": "2021-10-16T13:39:55.893564Z",
     "shell.execute_reply": "2021-10-16T13:39:55.893564Z",
     "shell.execute_reply.started": "2021-10-16T13:39:55.885070Z"
    },
    "tags": []
   },
   "outputs": [
    {
     "name": "stdout",
     "output_type": "stream",
     "text": [
      "0 2 4 6 8 10 12 14 16 18 90\n"
     ]
    }
   ],
   "source": [
    "a = 0\n",
    "b = 20\n",
    "total = 0\n",
    "for i in range(a, b, 2):\n",
    "    print(i, end=' ')\n",
    "    total = total + i\n",
    "print(total)"
   ]
  },
  {
   "cell_type": "code",
   "execution_count": 5,
   "id": "817e798d-15ac-4f6b-8ad8-fea233a4ef65",
   "metadata": {
    "execution": {
     "iopub.execute_input": "2021-10-16T13:40:52.456665Z",
     "iopub.status.busy": "2021-10-16T13:40:52.455597Z",
     "iopub.status.idle": "2021-10-16T13:40:52.467581Z",
     "shell.execute_reply": "2021-10-16T13:40:52.466635Z",
     "shell.execute_reply.started": "2021-10-16T13:40:52.456665Z"
    },
    "tags": []
   },
   "outputs": [
    {
     "name": "stdout",
     "output_type": "stream",
     "text": [
      "1 3 5 7 9 11 13 15 17 19 100\n"
     ]
    }
   ],
   "source": [
    "a = 1\n",
    "b = 20\n",
    "total = 0\n",
    "for i in range(a, b, 2):\n",
    "    print(i, end=' ')\n",
    "    total = total + i\n",
    "print(total)"
   ]
  },
  {
   "cell_type": "markdown",
   "id": "5d7b74bf-579e-476a-931c-73ebc23199e9",
   "metadata": {},
   "source": [
    "#### Trong trường hợp muốn đi ngược lại"
   ]
  },
  {
   "cell_type": "code",
   "execution_count": 27,
   "id": "a333468d-3c3e-4c79-b10b-584b3dd9a03b",
   "metadata": {
    "execution": {
     "iopub.execute_input": "2021-10-16T14:03:48.315681Z",
     "iopub.status.busy": "2021-10-16T14:03:48.315128Z",
     "iopub.status.idle": "2021-10-16T14:03:48.325673Z",
     "shell.execute_reply": "2021-10-16T14:03:48.325673Z",
     "shell.execute_reply.started": "2021-10-16T14:03:48.315128Z"
    },
    "tags": []
   },
   "outputs": [
    {
     "name": "stdout",
     "output_type": "stream",
     "text": [
      "Help on _Helper in module _sitebuiltins object:\n",
      "\n",
      "class _Helper(builtins.object)\n",
      " |  Define the builtin 'help'.\n",
      " |  \n",
      " |  This is a wrapper around pydoc.help that provides a helpful message\n",
      " |  when 'help' is typed at the Python interactive prompt.\n",
      " |  \n",
      " |  Calling help() at the Python prompt starts an interactive help session.\n",
      " |  Calling help(thing) prints help for the python object 'thing'.\n",
      " |  \n",
      " |  Methods defined here:\n",
      " |  \n",
      " |  __call__(self, *args, **kwds)\n",
      " |      Call self as a function.\n",
      " |  \n",
      " |  __repr__(self)\n",
      " |      Return repr(self).\n",
      " |  \n",
      " |  ----------------------------------------------------------------------\n",
      " |  Data descriptors defined here:\n",
      " |  \n",
      " |  __dict__\n",
      " |      dictionary for instance variables (if defined)\n",
      " |  \n",
      " |  __weakref__\n",
      " |      list of weak references to the object (if defined)\n",
      "\n"
     ]
    }
   ],
   "source": [
    "help(help)"
   ]
  },
  {
   "cell_type": "code",
   "execution_count": 7,
   "id": "81463007-ae83-4a69-ac95-36eaf73784d8",
   "metadata": {
    "collapsed": true,
    "execution": {
     "iopub.execute_input": "2021-10-16T13:42:02.084024Z",
     "iopub.status.busy": "2021-10-16T13:42:02.084024Z",
     "iopub.status.idle": "2021-10-16T13:42:02.101781Z",
     "shell.execute_reply": "2021-10-16T13:42:02.100730Z",
     "shell.execute_reply.started": "2021-10-16T13:42:02.084024Z"
    },
    "jupyter": {
     "outputs_hidden": true
    },
    "tags": []
   },
   "outputs": [
    {
     "name": "stdout",
     "output_type": "stream",
     "text": [
      "Help on class range in module builtins:\n",
      "\n",
      "class range(object)\n",
      " |  range(stop) -> range object\n",
      " |  range(start, stop[, step]) -> range object\n",
      " |  \n",
      " |  Return an object that produces a sequence of integers from start (inclusive)\n",
      " |  to stop (exclusive) by step.  range(i, j) produces i, i+1, i+2, ..., j-1.\n",
      " |  start defaults to 0, and stop is omitted!  range(4) produces 0, 1, 2, 3.\n",
      " |  These are exactly the valid indices for a list of 4 elements.\n",
      " |  When step is given, it specifies the increment (or decrement).\n",
      " |  \n",
      " |  Methods defined here:\n",
      " |  \n",
      " |  __bool__(self, /)\n",
      " |      self != 0\n",
      " |  \n",
      " |  __contains__(self, key, /)\n",
      " |      Return key in self.\n",
      " |  \n",
      " |  __eq__(self, value, /)\n",
      " |      Return self==value.\n",
      " |  \n",
      " |  __ge__(self, value, /)\n",
      " |      Return self>=value.\n",
      " |  \n",
      " |  __getattribute__(self, name, /)\n",
      " |      Return getattr(self, name).\n",
      " |  \n",
      " |  __getitem__(self, key, /)\n",
      " |      Return self[key].\n",
      " |  \n",
      " |  __gt__(self, value, /)\n",
      " |      Return self>value.\n",
      " |  \n",
      " |  __hash__(self, /)\n",
      " |      Return hash(self).\n",
      " |  \n",
      " |  __iter__(self, /)\n",
      " |      Implement iter(self).\n",
      " |  \n",
      " |  __le__(self, value, /)\n",
      " |      Return self<=value.\n",
      " |  \n",
      " |  __len__(self, /)\n",
      " |      Return len(self).\n",
      " |  \n",
      " |  __lt__(self, value, /)\n",
      " |      Return self<value.\n",
      " |  \n",
      " |  __ne__(self, value, /)\n",
      " |      Return self!=value.\n",
      " |  \n",
      " |  __reduce__(...)\n",
      " |      Helper for pickle.\n",
      " |  \n",
      " |  __repr__(self, /)\n",
      " |      Return repr(self).\n",
      " |  \n",
      " |  __reversed__(...)\n",
      " |      Return a reverse iterator.\n",
      " |  \n",
      " |  count(...)\n",
      " |      rangeobject.count(value) -> integer -- return number of occurrences of value\n",
      " |  \n",
      " |  index(...)\n",
      " |      rangeobject.index(value) -> integer -- return index of value.\n",
      " |      Raise ValueError if the value is not present.\n",
      " |  \n",
      " |  ----------------------------------------------------------------------\n",
      " |  Static methods defined here:\n",
      " |  \n",
      " |  __new__(*args, **kwargs) from builtins.type\n",
      " |      Create and return a new object.  See help(type) for accurate signature.\n",
      " |  \n",
      " |  ----------------------------------------------------------------------\n",
      " |  Data descriptors defined here:\n",
      " |  \n",
      " |  start\n",
      " |  \n",
      " |  step\n",
      " |  \n",
      " |  stop\n",
      "\n"
     ]
    }
   ],
   "source": [
    "help(range)"
   ]
  },
  {
   "cell_type": "code",
   "execution_count": 12,
   "id": "6b6b27c3-6032-40b4-bc72-387234aa1d97",
   "metadata": {
    "execution": {
     "iopub.execute_input": "2021-10-16T13:45:36.275377Z",
     "iopub.status.busy": "2021-10-16T13:45:36.274402Z",
     "iopub.status.idle": "2021-10-16T13:45:36.300503Z",
     "shell.execute_reply": "2021-10-16T13:45:36.299467Z",
     "shell.execute_reply.started": "2021-10-16T13:45:36.275377Z"
    },
    "tags": []
   },
   "outputs": [
    {
     "data": {
      "text/plain": [
       "0"
      ]
     },
     "execution_count": 12,
     "metadata": {},
     "output_type": "execute_result"
    }
   ],
   "source": [
    "-1 -(-1)"
   ]
  },
  {
   "cell_type": "code",
   "execution_count": 14,
   "id": "61788075-de1b-4a6a-a52d-8a1ed6d7f044",
   "metadata": {
    "collapsed": true,
    "execution": {
     "iopub.execute_input": "2021-10-16T13:48:07.187146Z",
     "iopub.status.busy": "2021-10-16T13:48:07.186147Z",
     "iopub.status.idle": "2021-10-16T13:48:07.205063Z",
     "shell.execute_reply": "2021-10-16T13:48:07.204486Z",
     "shell.execute_reply.started": "2021-10-16T13:48:07.187146Z"
    },
    "jupyter": {
     "outputs_hidden": true
    },
    "tags": []
   },
   "outputs": [
    {
     "name": "stdout",
     "output_type": "stream",
     "text": [
      "Help on class range in module builtins:\n",
      "\n",
      "class range(object)\n",
      " |  range(stop) -> range object\n",
      " |  range(start, stop[, step]) -> range object\n",
      " |  \n",
      " |  Return an object that produces a sequence of integers from start (inclusive)\n",
      " |  to stop (exclusive) by step.  range(i, j) produces i, i+1, i+2, ..., j-1.\n",
      " |  start defaults to 0, and stop is omitted!  range(4) produces 0, 1, 2, 3.\n",
      " |  These are exactly the valid indices for a list of 4 elements.\n",
      " |  When step is given, it specifies the increment (or decrement).\n",
      " |  \n",
      " |  Methods defined here:\n",
      " |  \n",
      " |  __bool__(self, /)\n",
      " |      self != 0\n",
      " |  \n",
      " |  __contains__(self, key, /)\n",
      " |      Return key in self.\n",
      " |  \n",
      " |  __eq__(self, value, /)\n",
      " |      Return self==value.\n",
      " |  \n",
      " |  __ge__(self, value, /)\n",
      " |      Return self>=value.\n",
      " |  \n",
      " |  __getattribute__(self, name, /)\n",
      " |      Return getattr(self, name).\n",
      " |  \n",
      " |  __getitem__(self, key, /)\n",
      " |      Return self[key].\n",
      " |  \n",
      " |  __gt__(self, value, /)\n",
      " |      Return self>value.\n",
      " |  \n",
      " |  __hash__(self, /)\n",
      " |      Return hash(self).\n",
      " |  \n",
      " |  __iter__(self, /)\n",
      " |      Implement iter(self).\n",
      " |  \n",
      " |  __le__(self, value, /)\n",
      " |      Return self<=value.\n",
      " |  \n",
      " |  __len__(self, /)\n",
      " |      Return len(self).\n",
      " |  \n",
      " |  __lt__(self, value, /)\n",
      " |      Return self<value.\n",
      " |  \n",
      " |  __ne__(self, value, /)\n",
      " |      Return self!=value.\n",
      " |  \n",
      " |  __reduce__(...)\n",
      " |      Helper for pickle.\n",
      " |  \n",
      " |  __repr__(self, /)\n",
      " |      Return repr(self).\n",
      " |  \n",
      " |  __reversed__(...)\n",
      " |      Return a reverse iterator.\n",
      " |  \n",
      " |  count(...)\n",
      " |      rangeobject.count(value) -> integer -- return number of occurrences of value\n",
      " |  \n",
      " |  index(...)\n",
      " |      rangeobject.index(value) -> integer -- return index of value.\n",
      " |      Raise ValueError if the value is not present.\n",
      " |  \n",
      " |  ----------------------------------------------------------------------\n",
      " |  Static methods defined here:\n",
      " |  \n",
      " |  __new__(*args, **kwargs) from builtins.type\n",
      " |      Create and return a new object.  See help(type) for accurate signature.\n",
      " |  \n",
      " |  ----------------------------------------------------------------------\n",
      " |  Data descriptors defined here:\n",
      " |  \n",
      " |  start\n",
      " |  \n",
      " |  step\n",
      " |  \n",
      " |  stop\n",
      "\n"
     ]
    }
   ],
   "source": [
    "help(range)"
   ]
  },
  {
   "cell_type": "code",
   "execution_count": 20,
   "id": "3e4c4b93-a805-4487-ac1b-8dfb9aeed49c",
   "metadata": {
    "execution": {
     "iopub.execute_input": "2021-10-16T13:51:23.115053Z",
     "iopub.status.busy": "2021-10-16T13:51:23.114059Z",
     "iopub.status.idle": "2021-10-16T13:51:23.132983Z",
     "shell.execute_reply": "2021-10-16T13:51:23.132120Z",
     "shell.execute_reply.started": "2021-10-16T13:51:23.115053Z"
    },
    "tags": []
   },
   "outputs": [
    {
     "name": "stdout",
     "output_type": "stream",
     "text": [
      "5\n",
      "4\n",
      "3\n",
      "2\n",
      "1\n",
      "0\n"
     ]
    }
   ],
   "source": [
    "for i in range(5, -1, -1):\n",
    "    print(i)"
   ]
  },
  {
   "cell_type": "code",
   "execution_count": 19,
   "id": "6e8e89a6-fb97-4ce1-93b6-a8abc56e2b8f",
   "metadata": {
    "execution": {
     "iopub.execute_input": "2021-10-16T13:51:21.839335Z",
     "iopub.status.busy": "2021-10-16T13:51:21.839335Z",
     "iopub.status.idle": "2021-10-16T13:51:21.855258Z",
     "shell.execute_reply": "2021-10-16T13:51:21.854260Z",
     "shell.execute_reply.started": "2021-10-16T13:51:21.839335Z"
    },
    "tags": []
   },
   "outputs": [],
   "source": [
    "for i in range(5, -1):\n",
    "    print(i)"
   ]
  },
  {
   "cell_type": "code",
   "execution_count": 21,
   "id": "334fe9a3-36b5-412e-b4b4-ee474a3eff9a",
   "metadata": {
    "execution": {
     "iopub.execute_input": "2021-10-16T13:52:34.629796Z",
     "iopub.status.busy": "2021-10-16T13:52:34.628836Z",
     "iopub.status.idle": "2021-10-16T13:52:34.643875Z",
     "shell.execute_reply": "2021-10-16T13:52:34.643084Z",
     "shell.execute_reply.started": "2021-10-16T13:52:34.629796Z"
    },
    "tags": []
   },
   "outputs": [
    {
     "name": "stdout",
     "output_type": "stream",
     "text": [
      "0\n",
      "1\n",
      "2\n",
      "3\n",
      "4\n"
     ]
    }
   ],
   "source": [
    "for i in range(0, 5):\n",
    "    print(i)"
   ]
  },
  {
   "cell_type": "code",
   "execution_count": 23,
   "id": "23bf878e-265b-452e-8665-f8ad1543397d",
   "metadata": {
    "execution": {
     "iopub.execute_input": "2021-10-16T13:52:53.095306Z",
     "iopub.status.busy": "2021-10-16T13:52:53.094331Z",
     "iopub.status.idle": "2021-10-16T13:52:53.116171Z",
     "shell.execute_reply": "2021-10-16T13:52:53.115638Z",
     "shell.execute_reply.started": "2021-10-16T13:52:53.095306Z"
    },
    "tags": []
   },
   "outputs": [
    {
     "name": "stdout",
     "output_type": "stream",
     "text": [
      "-10\n",
      "-9\n",
      "-8\n",
      "-7\n"
     ]
    }
   ],
   "source": [
    "for i in range(-10, -6, 1):\n",
    "    print(i)"
   ]
  },
  {
   "cell_type": "markdown",
   "id": "aa64e8a4-e4f3-46d2-a678-5a0559098694",
   "metadata": {},
   "source": [
    "# Làm quen với thư viện"
   ]
  },
  {
   "cell_type": "markdown",
   "id": "070a06a4-682b-4929-8950-68594f1855ac",
   "metadata": {
    "execution": {
     "iopub.execute_input": "2021-10-16T07:34:46.534752Z",
     "iopub.status.busy": "2021-10-16T07:34:46.534243Z",
     "iopub.status.idle": "2021-10-16T07:34:46.547020Z",
     "shell.execute_reply": "2021-10-16T07:34:46.546013Z",
     "shell.execute_reply.started": "2021-10-16T07:34:46.534752Z"
    },
    "tags": []
   },
   "source": [
    "Python có thể gọi các hàm cơ bản trực tiếp mà không cần thêm thư viện nào cả, các hàm đó gọi là `built-in functions`, xem ở đây: https://docs.python.org/3/library/functions.html"
   ]
  },
  {
   "cell_type": "markdown",
   "id": "dadff6c6-e49a-472c-af6e-01bc8d9fc45f",
   "metadata": {},
   "source": [
    "Python cũng có một tập hợp những thư viện gọi là `standard library`, xem thêm ở đây: https://docs.python.org/3/library/"
   ]
  },
  {
   "cell_type": "markdown",
   "id": "1e9c0fcf-d77d-4464-b85c-bb77c1c373f7",
   "metadata": {},
   "source": [
    "Để thêm thư viện vào code python, ta cần câu lệnh `import`, cấu trúc như sau:\n",
    "- Từ khóa `import`\n",
    "- Tên module muốn import\n",
    "- [không bắt buộc] gán tên module thành tên khác"
   ]
  },
  {
   "cell_type": "markdown",
   "id": "a023cf3e-8f53-453b-97a2-68ecb700a100",
   "metadata": {},
   "source": [
    "#### Module `random`"
   ]
  },
  {
   "cell_type": "code",
   "execution_count": 25,
   "id": "a111ab0a-03db-4e20-9e33-7db90fe83bd5",
   "metadata": {
    "execution": {
     "iopub.execute_input": "2021-10-16T13:58:47.872300Z",
     "iopub.status.busy": "2021-10-16T13:58:47.871549Z",
     "iopub.status.idle": "2021-10-16T13:58:47.945803Z",
     "shell.execute_reply": "2021-10-16T13:58:47.943838Z",
     "shell.execute_reply.started": "2021-10-16T13:58:47.872300Z"
    },
    "tags": []
   },
   "outputs": [
    {
     "data": {
      "text/plain": [
       "\u001b[1;31mSignature:\u001b[0m \u001b[0mrandom\u001b[0m\u001b[1;33m.\u001b[0m\u001b[0mrandint\u001b[0m\u001b[1;33m(\u001b[0m\u001b[0ma\u001b[0m\u001b[1;33m,\u001b[0m \u001b[0mb\u001b[0m\u001b[1;33m)\u001b[0m\u001b[1;33m\u001b[0m\u001b[1;33m\u001b[0m\u001b[0m\n",
       "\u001b[1;31mDocstring:\u001b[0m\n",
       "Return random integer in range [a, b], including both end points.\n",
       "        \n",
       "\u001b[1;31mFile:\u001b[0m      c:\\users\\nvatu\\anaconda3\\lib\\random.py\n",
       "\u001b[1;31mType:\u001b[0m      method\n"
      ]
     },
     "metadata": {},
     "output_type": "display_data"
    }
   ],
   "source": [
    "random.randint?"
   ]
  },
  {
   "cell_type": "code",
   "execution_count": 24,
   "id": "14e84493-1b8d-49b7-8854-a54fb7c3df04",
   "metadata": {
    "execution": {
     "iopub.execute_input": "2021-10-16T13:58:38.094018Z",
     "iopub.status.busy": "2021-10-16T13:58:38.094018Z",
     "iopub.status.idle": "2021-10-16T13:58:38.100413Z",
     "shell.execute_reply": "2021-10-16T13:58:38.099405Z",
     "shell.execute_reply.started": "2021-10-16T13:58:38.094018Z"
    },
    "tags": []
   },
   "outputs": [
    {
     "name": "stdout",
     "output_type": "stream",
     "text": [
      "4\n",
      "2\n",
      "1\n",
      "7\n",
      "4\n"
     ]
    }
   ],
   "source": [
    "import random\n",
    "for i in range(5):\n",
    "    print(random.randint(1, 10))"
   ]
  },
  {
   "cell_type": "markdown",
   "id": "fd5d69b9-02ee-4b60-ae1f-24882b80c149",
   "metadata": {},
   "source": [
    "https://en.wikipedia.org/wiki/Randomized_algorithm"
   ]
  },
  {
   "cell_type": "code",
   "execution_count": 28,
   "id": "e466ac82-02e5-4de1-b117-be9bed358498",
   "metadata": {
    "execution": {
     "iopub.execute_input": "2021-10-16T14:07:36.781325Z",
     "iopub.status.busy": "2021-10-16T14:07:36.780325Z",
     "iopub.status.idle": "2021-10-16T14:07:36.788668Z",
     "shell.execute_reply": "2021-10-16T14:07:36.787993Z",
     "shell.execute_reply.started": "2021-10-16T14:07:36.781325Z"
    },
    "tags": []
   },
   "outputs": [
    {
     "name": "stdout",
     "output_type": "stream",
     "text": [
      "n=0 -> sum=0\n",
      "n=1 -> sum=0.0\n",
      "n=2 -> sum=0.5\n",
      "n=3 -> sum=1.0\n",
      "n=4 -> sum=1.375\n",
      "n=5 -> sum=1.625\n",
      "n=6 -> sum=1.78125\n",
      "n=7 -> sum=1.875\n",
      "n=8 -> sum=1.9296875\n",
      "n=9 -> sum=1.9609375\n"
     ]
    }
   ],
   "source": [
    "n = 10\n",
    "for _n in range(n): # lim\n",
    "    total = 0\n",
    "    for i in range(_n):\n",
    "        total += i / 2 ** i\n",
    "    print(f'n={_n} -> sum={total}')"
   ]
  },
  {
   "cell_type": "markdown",
   "id": "0aa35038-1a7e-4834-a921-6c1aca41cb30",
   "metadata": {},
   "source": [
    "Xem thêm ở đây: https://autbor.com/printrandom/"
   ]
  },
  {
   "cell_type": "markdown",
   "id": "fefd680d-c196-4749-a726-f8d7376705b3",
   "metadata": {},
   "source": [
    "# ⚠️ Đừng có ghi đè lại các module"
   ]
  },
  {
   "cell_type": "markdown",
   "id": "eaf29b19-82aa-437d-bb8b-8cb2a62c17d5",
   "metadata": {},
   "source": [
    "Trong trường hợp bạn đặt tên file là `random.py`, nhưng Python lại có module `random`, lúc này import vào sẽ là file `random.py` bạn vừa khởi tạo kia."
   ]
  },
  {
   "cell_type": "markdown",
   "id": "044e7ec4-4d70-412d-8b79-8a8a96802749",
   "metadata": {},
   "source": [
    "Giả sử, nhà cái có số từ [0, 1]\n",
    "\n",
    "Mình dự đoán đúng, thì mình sẽ có gấp đôi (200%)\n",
    "\n",
    "Mình thua thì mình chỉ mất 30%"
   ]
  },
  {
   "cell_type": "markdown",
   "id": "48a37a2b-d8b3-41b7-af63-ad2aa5cf3c8c",
   "metadata": {},
   "source": [
    "Mọi người ăn: 3 -> 3 lần cá đều 0 cả\n",
    "\n",
    "Tuấn ăn: 2"
   ]
  },
  {
   "cell_type": "code",
   "execution_count": 106,
   "id": "d88bfd40-51bc-414c-bfbe-9d0375370cf9",
   "metadata": {
    "execution": {
     "iopub.execute_input": "2021-10-16T14:25:31.683932Z",
     "iopub.status.busy": "2021-10-16T14:25:31.683602Z",
     "iopub.status.idle": "2021-10-16T14:25:31.698365Z",
     "shell.execute_reply": "2021-10-16T14:25:31.697291Z",
     "shell.execute_reply.started": "2021-10-16T14:25:31.683932Z"
    },
    "tags": []
   },
   "outputs": [],
   "source": [
    "import numpy as np"
   ]
  },
  {
   "cell_type": "code",
   "execution_count": 107,
   "id": "d4a7a344-33c0-4404-9beb-de9f8c723767",
   "metadata": {
    "execution": {
     "iopub.execute_input": "2021-10-16T14:25:34.987289Z",
     "iopub.status.busy": "2021-10-16T14:25:34.987289Z",
     "iopub.status.idle": "2021-10-16T14:25:35.008448Z",
     "shell.execute_reply": "2021-10-16T14:25:35.006458Z",
     "shell.execute_reply.started": "2021-10-16T14:25:34.987289Z"
    },
    "tags": []
   },
   "outputs": [
    {
     "name": "stdout",
     "output_type": "stream",
     "text": [
      "1 1 1 1 0 1 1 1 1 1 "
     ]
    }
   ],
   "source": [
    "for i in range(10):\n",
    "    so = np.random.choice([0, 1], p=[0.5, 0.5])\n",
    "    print(so, end=' ')"
   ]
  },
  {
   "cell_type": "markdown",
   "id": "96a4fad8-3471-4e47-9367-52e296321619",
   "metadata": {},
   "source": [
    "#### Ví dụ về import nhiều module"
   ]
  },
  {
   "cell_type": "code",
   "execution_count": 108,
   "id": "8f2d6da5-c8f6-4161-a071-0e93dacafa96",
   "metadata": {
    "execution": {
     "iopub.execute_input": "2021-10-16T14:25:57.023300Z",
     "iopub.status.busy": "2021-10-16T14:25:57.023300Z",
     "iopub.status.idle": "2021-10-16T14:25:57.034292Z",
     "shell.execute_reply": "2021-10-16T14:25:57.034292Z",
     "shell.execute_reply.started": "2021-10-16T14:25:57.023300Z"
    },
    "tags": []
   },
   "outputs": [],
   "source": [
    "import random, sys, os, math"
   ]
  },
  {
   "cell_type": "code",
   "execution_count": 118,
   "id": "8b74ee7d-750c-4113-bd18-47a24cdb3541",
   "metadata": {
    "execution": {
     "iopub.execute_input": "2021-10-16T14:28:12.924228Z",
     "iopub.status.busy": "2021-10-16T14:28:12.923719Z",
     "iopub.status.idle": "2021-10-16T14:28:12.944999Z",
     "shell.execute_reply": "2021-10-16T14:28:12.944555Z",
     "shell.execute_reply.started": "2021-10-16T14:28:12.924228Z"
    },
    "tags": []
   },
   "outputs": [
    {
     "data": {
      "text/plain": [
       "28"
      ]
     },
     "execution_count": 118,
     "metadata": {},
     "output_type": "execute_result"
    }
   ],
   "source": [
    "random.randint(0, 100)"
   ]
  },
  {
   "cell_type": "code",
   "execution_count": 110,
   "id": "9d8c4e19-a225-4c7a-9618-6970209a36ef",
   "metadata": {
    "execution": {
     "iopub.execute_input": "2021-10-16T14:27:21.241356Z",
     "iopub.status.busy": "2021-10-16T14:27:21.241356Z",
     "iopub.status.idle": "2021-10-16T14:27:21.260681Z",
     "shell.execute_reply": "2021-10-16T14:27:21.259908Z",
     "shell.execute_reply.started": "2021-10-16T14:27:21.241356Z"
    },
    "tags": []
   },
   "outputs": [],
   "source": [
    "import aiclub # đúng tên file"
   ]
  },
  {
   "cell_type": "code",
   "execution_count": 117,
   "id": "d0e025b2-462d-43ba-81f4-14429a32a84f",
   "metadata": {
    "execution": {
     "iopub.execute_input": "2021-10-16T14:27:52.045468Z",
     "iopub.status.busy": "2021-10-16T14:27:52.043911Z",
     "iopub.status.idle": "2021-10-16T14:27:52.055838Z",
     "shell.execute_reply": "2021-10-16T14:27:52.055006Z",
     "shell.execute_reply.started": "2021-10-16T14:27:52.045307Z"
    },
    "tags": []
   },
   "outputs": [
    {
     "data": {
      "text/plain": [
       "1"
      ]
     },
     "execution_count": 117,
     "metadata": {},
     "output_type": "execute_result"
    }
   ],
   "source": [
    "aiclub.hoctiep()"
   ]
  },
  {
   "cell_type": "code",
   "execution_count": 119,
   "id": "7b792bc5-43a1-4b7d-b87a-855455e34fc8",
   "metadata": {
    "execution": {
     "iopub.execute_input": "2021-10-16T14:28:40.016807Z",
     "iopub.status.busy": "2021-10-16T14:28:40.016807Z",
     "iopub.status.idle": "2021-10-16T14:28:40.026808Z",
     "shell.execute_reply": "2021-10-16T14:28:40.026332Z",
     "shell.execute_reply.started": "2021-10-16T14:28:40.016807Z"
    },
    "tags": []
   },
   "outputs": [],
   "source": [
    "from aiclub import hoctiep"
   ]
  },
  {
   "cell_type": "code",
   "execution_count": 120,
   "id": "bed55b8d-0b1e-4e9a-91bf-212f4f0442ea",
   "metadata": {
    "execution": {
     "iopub.execute_input": "2021-10-16T14:28:42.491035Z",
     "iopub.status.busy": "2021-10-16T14:28:42.491035Z",
     "iopub.status.idle": "2021-10-16T14:28:42.514447Z",
     "shell.execute_reply": "2021-10-16T14:28:42.513442Z",
     "shell.execute_reply.started": "2021-10-16T14:28:42.491035Z"
    },
    "tags": []
   },
   "outputs": [
    {
     "data": {
      "text/plain": [
       "1"
      ]
     },
     "execution_count": 120,
     "metadata": {},
     "output_type": "execute_result"
    }
   ],
   "source": [
    "hoctiep()"
   ]
  },
  {
   "cell_type": "markdown",
   "id": "a0851cd7-d92d-482a-9858-42e21d20b48f",
   "metadata": {},
   "source": [
    "### Một cách import module khác, câu lệnh `from ... import ...`"
   ]
  },
  {
   "cell_type": "code",
   "execution_count": null,
   "id": "653860af-9614-41ca-af95-35294d19ef03",
   "metadata": {
    "tags": []
   },
   "outputs": [],
   "source": [
    "from random import randint\n",
    "randint(1, 10)"
   ]
  },
  {
   "cell_type": "code",
   "execution_count": null,
   "id": "3071ca5f-48ab-4005-a00d-5cafcd98af1a",
   "metadata": {
    "tags": []
   },
   "outputs": [],
   "source": [
    "from math import sqrt\n",
    "sqrt(4)"
   ]
  },
  {
   "cell_type": "markdown",
   "id": "930a3273-7648-4ab8-bea0-05a918c0b936",
   "metadata": {},
   "source": [
    "#### Kết thúc chương trình với `sys.exit()`"
   ]
  },
  {
   "cell_type": "markdown",
   "id": "b3aa4f28-9730-4397-acce-9e023c441c8e",
   "metadata": {},
   "source": [
    "sys.exit() (trong python) -> return 0 (trong C)"
   ]
  },
  {
   "cell_type": "code",
   "execution_count": 123,
   "id": "faa5c68b-0c5f-4772-b56d-f70a3050181c",
   "metadata": {
    "execution": {
     "iopub.execute_input": "2021-10-16T14:30:09.235800Z",
     "iopub.status.busy": "2021-10-16T14:30:09.234795Z",
     "iopub.status.idle": "2021-10-16T14:30:11.672797Z",
     "shell.execute_reply": "2021-10-16T14:30:11.671825Z",
     "shell.execute_reply.started": "2021-10-16T14:30:09.235800Z"
    },
    "tags": []
   },
   "outputs": [
    {
     "name": "stdout",
     "output_type": "stream",
     "text": [
      "Type exit to exit.\n"
     ]
    },
    {
     "name": "stdin",
     "output_type": "stream",
     "text": [
      " exit\n"
     ]
    },
    {
     "ename": "SystemExit",
     "evalue": "",
     "output_type": "error",
     "traceback": [
      "An exception has occurred, use %tb to see the full traceback.\n",
      "\u001b[1;31mSystemExit\u001b[0m\n"
     ]
    },
    {
     "name": "stderr",
     "output_type": "stream",
     "text": [
      "C:\\Users\\nvatu\\anaconda3\\lib\\site-packages\\IPython\\core\\interactiveshell.py:3449: UserWarning: To exit: use 'exit', 'quit', or Ctrl-D.\n",
      "  warn(\"To exit: use 'exit', 'quit', or Ctrl-D.\", stacklevel=1)\n"
     ]
    }
   ],
   "source": [
    "import sys\n",
    "\n",
    "while True:\n",
    "    print('Type exit to exit.')\n",
    "    response = input()\n",
    "    if response == 'exit':\n",
    "        sys.exit()\n",
    "    print('You typed ' + response + '.')"
   ]
  },
  {
   "cell_type": "code",
   "execution_count": 125,
   "id": "91b5ffc8-10c3-4527-84f1-4779551039ef",
   "metadata": {
    "execution": {
     "iopub.execute_input": "2021-10-16T14:32:18.473830Z",
     "iopub.status.busy": "2021-10-16T14:32:18.473546Z",
     "iopub.status.idle": "2021-10-16T14:32:18.489414Z",
     "shell.execute_reply": "2021-10-16T14:32:18.487673Z",
     "shell.execute_reply.started": "2021-10-16T14:32:18.473830Z"
    },
    "tags": []
   },
   "outputs": [
    {
     "name": "stdout",
     "output_type": "stream",
     "text": [
      "Dòng này sẽ được in ra\n"
     ]
    }
   ],
   "source": [
    "%run sys_exit.py"
   ]
  },
  {
   "cell_type": "markdown",
   "id": "ecc4f14d-821c-4635-8bde-ec74b0e41a92",
   "metadata": {},
   "source": [
    "# Chương trình Đoán số"
   ]
  },
  {
   "cell_type": "code",
   "execution_count": null,
   "id": "53979004-ed27-46d3-9382-9ad31ab26a9b",
   "metadata": {
    "tags": []
   },
   "outputs": [],
   "source": [
    "# This is a guess the number game.\n",
    "import random\n",
    "secretNumber = random.randint(1, 20)\n",
    "print('I am thinking of a number between 1 and 20.')\n",
    "\n",
    "# Ask the player to guess 6 times.\n",
    "for guessesTaken in range(1, 7):\n",
    "    print('Take a guess.')\n",
    "    guess = int(input())\n",
    "\n",
    "    if guess < secretNumber:\n",
    "        print('Your guess is too low.')\n",
    "    elif guess > secretNumber:\n",
    "        print('Your guess is too high.')\n",
    "    else:\n",
    "        break    # This condition is the correct guess!\n",
    "\n",
    "if guess == secretNumber:\n",
    "    print('Good job! You guessed my number in ' + str(guessesTaken) + ' guesses!')\n",
    "else:\n",
    "    print('Nope. The number I was thinking of was ' + str(secretNumber))"
   ]
  },
  {
   "cell_type": "markdown",
   "id": "796f2621-5801-4c98-8f8c-5bf6a76502b2",
   "metadata": {},
   "source": [
    "# Chương trình Kéo, Búa, Bao"
   ]
  },
  {
   "cell_type": "code",
   "execution_count": null,
   "id": "fb2e342f-e5af-4969-bbb5-7f0425ebf53a",
   "metadata": {
    "tags": []
   },
   "outputs": [],
   "source": [
    "import random, sys\n",
    "\n",
    "print('ROCK, PAPER, SCISSORS')\n",
    "\n",
    "# These variables keep track of the number of wins, losses, and ties.\n",
    "wins = 0\n",
    "losses = 0\n",
    "ties = 0\n",
    "\n",
    "while True: # The main game loop.\n",
    "    print('%s Wins, %s Losses, %s Ties' % (wins, losses, ties))\n",
    "    while True: # The player input loop.\n",
    "        print('Enter your move: (r)ock (p)aper (s)cissors or (q)uit')\n",
    "        playerMove = input()\n",
    "        if playerMove == 'q':\n",
    "            sys.exit() # Quit the program.\n",
    "        if playerMove == 'r' or playerMove == 'p' or playerMove == 's':\n",
    "            break # Break out of the player input loop.\n",
    "        print('Type one of r, p, s, or q.')\n",
    "\n",
    "    # Display what the player chose:\n",
    "    if playerMove == 'r':\n",
    "        print('ROCK versus...')\n",
    "    elif playerMove == 'p':\n",
    "        print('PAPER versus...')\n",
    "    elif playerMove == 's':\n",
    "        print('SCISSORS versus...')\n",
    "\n",
    "    # Display what the computer chose:\n",
    "    randomNumber = random.randint(1, 3)\n",
    "    if randomNumber == 1:\n",
    "        computerMove = 'r'\n",
    "        print('ROCK')\n",
    "    elif randomNumber == 2:\n",
    "        computerMove = 'p'\n",
    "        print('PAPER')\n",
    "    elif randomNumber == 3:\n",
    "        computerMove = 's'\n",
    "        print('SCISSORS')\n",
    "\n",
    "    # Display and record the win/loss/tie:\n",
    "    if playerMove == computerMove:\n",
    "        print('It is a tie!')\n",
    "        ties = ties + 1\n",
    "    elif playerMove == 'r' and computerMove == 's':\n",
    "        print('You win!')\n",
    "        wins = wins + 1\n",
    "    elif playerMove == 'p' and computerMove == 'r':\n",
    "        print('You win!')\n",
    "        wins = wins + 1\n",
    "    elif playerMove == 's' and computerMove == 'p':\n",
    "        print('You win!')\n",
    "        wins = wins + 1\n",
    "    elif playerMove == 'r' and computerMove == 'p':\n",
    "        print('You lose!')\n",
    "        losses = losses + 1\n",
    "    elif playerMove == 'p' and computerMove == 's':\n",
    "        print('You lose!')\n",
    "        losses = losses + 1\n",
    "    elif playerMove == 's' and computerMove == 'r':\n",
    "        print('You lose!')\n",
    "        losses = losses + 1"
   ]
  },
  {
   "cell_type": "markdown",
   "id": "5e768e57-a51d-4025-a06c-3f16be93cf6e",
   "metadata": {},
   "source": [
    "# Có luyện tập mới thành tài 🗻"
   ]
  },
  {
   "cell_type": "markdown",
   "id": "187d27bb-200f-4923-a1a5-1bb851e99b35",
   "metadata": {},
   "source": [
    "1. Bạn có thể ấn nút nào để thoát khỏi vòng lặp vô hạn"
   ]
  },
  {
   "cell_type": "markdown",
   "id": "14d2d15f-7577-4458-8b9c-6a068e9edc8f",
   "metadata": {},
   "source": [
    "2. Sự khác nhau giữa `break` và `continue`"
   ]
  },
  {
   "cell_type": "markdown",
   "id": "584741cf-2c9f-400c-9618-21ed264ca2e4",
   "metadata": {},
   "source": [
    "3. Sự khác nhau giữa `range(10)`, `range(0, 10)`, `range(0, 10, 1)` trong vòng lặp `for`"
   ]
  },
  {
   "cell_type": "markdown",
   "id": "9fc7d64e-42f0-43b1-ac27-5ce9ed666c31",
   "metadata": {},
   "source": [
    "4. Viết một đoạn code in số từ 1 đến 10 sử dụng vòng `for`, sau đó viết một đoạn code tương tự nhưng dùng vòng `while`"
   ]
  },
  {
   "cell_type": "markdown",
   "id": "e72e6f3a-f484-4677-a712-39e9e568cda3",
   "metadata": {},
   "source": [
    "5. Giả sử bạn có một hàm `bacon()` trong module tên là `spam`, làm cách nào để gọi hàm `bacon()` khi import `spam`"
   ]
  },
  {
   "cell_type": "markdown",
   "id": "937a5914-ee1c-4a6d-9171-16b38affe606",
   "metadata": {},
   "source": [
    "6. Cải thiện `chatbot` từ bài tập buổi trước, `chatbot` mới sẽ có tiêu chí sau\n",
    "- Sẽ chạy liên tục, chỉ dừng khi người dùng nhập `quit`\n",
    "- Ngoài ra, `chat bot` sẽ thêm những ví dụ sau:\n",
    "    ```\n",
    "        Hỏi: \"Tính giai thừa của ...\" (phần 3 chấm là phần số)\n",
    "        Chat bot: \"Xuất ra giai thừa của số người dùng vừa hỏi\"\n",
    "    ```\n",
    "    ---\n",
    "    ```\n",
    "        Hỏi: \"Tính tổng từ ... đến ...\" (... là phần số nhập vào)\n",
    "        Chat bot: Xuất ra kết quả \n",
    "    ```\n",
    "    ---\n",
    "    ```\n",
    "        Hỏi: \"Tính tích các số lẻ từ ... đến ...\" (... là phần số nhập vào)\n",
    "        Chat bot: Xuất ra kết quả \n",
    "    ```\n",
    "Ngoài ra, bạn có thể thêm thắt theo ý bạn đấy"
   ]
  },
  {
   "cell_type": "markdown",
   "id": "e0e848df-43e9-4856-b0df-ce049f8ff84d",
   "metadata": {},
   "source": [
    "7. Viết code để xuất ra theo các format sau đây:\n",
    "\n",
    "    Nhập số hàng = 4\n",
    "  \n",
    "    ```\n",
    "    1\n",
    "    12\n",
    "    123\n",
    "    1234\n",
    "    ```\n",
    "    ---\n",
    "    Nhập số hàng = 4\n",
    "    ```\n",
    "    1\n",
    "    22\n",
    "    333\n",
    "    4444\n",
    "    ```\n",
    "    ---\n",
    "    Nhập số hàng = 4\n",
    "    ```\n",
    "       1 \n",
    "      2 3 \n",
    "     4 5 6 \n",
    "    7 8 9 10 \n",
    "    ```\n",
    "    ---\n",
    "    Đây là tam giác pascal\n",
    "    \n",
    "    Nhập số hàng bằng 5\n",
    "    ```\n",
    "            1\n",
    "          1   1 \n",
    "        1   2   1 \n",
    "      1   3   3   1\n",
    "    1   4   6   4   1 \n",
    "    ```"
   ]
  },
  {
   "cell_type": "markdown",
   "id": "65ef0c54-ce3e-4285-bb58-eb577abdf6a5",
   "metadata": {},
   "source": [
    "8. Viết code để xuất ra bảng cửu chương từ 1 đến 10 của một số (người dùng nhập)\n",
    "\n",
    "Nhập 15: \n",
    "\n",
    "```\n",
    "15 X 1 = 15\n",
    "...\n",
    "...\n",
    "15 X 10 = 150\n",
    "```"
   ]
  },
  {
   "cell_type": "markdown",
   "id": "2f61f1c4-d222-48ef-a664-2ce257a734d7",
   "metadata": {},
   "source": [
    "9. Viết code để xuất ra số nguyên tố từ 1 đến 1000"
   ]
  },
  {
   "cell_type": "markdown",
   "id": "fe3425b6-3fab-4ada-9a92-1ca4a35c3cf3",
   "metadata": {},
   "source": [
    "10. Sử dụng vòng lặp để xuất ra dạng nhị phân (binary) của một số được nhập vào\n",
    "\n",
    "Nhập: 200\n",
    "\n",
    "Xuất ra: 11001000"
   ]
  },
  {
   "cell_type": "markdown",
   "id": "f2de4fc3-322c-45a3-9a0f-d3eb9110e51f",
   "metadata": {},
   "source": [
    "11. Code thuật toán random từ a -> b"
   ]
  },
  {
   "cell_type": "markdown",
   "id": "9e58ff30-7799-4b25-983a-e23af2d43d7d",
   "metadata": {},
   "source": [
    "Đọc thêm ở đây: https://automatetheboringstuff.com/2e/chapter2/"
   ]
  }
 ],
 "metadata": {
  "kernelspec": {
   "display_name": "Python 3 (ipykernel)",
   "language": "python",
   "name": "python3"
  },
  "language_info": {
   "codemirror_mode": {
    "name": "ipython",
    "version": 3
   },
   "file_extension": ".py",
   "mimetype": "text/x-python",
   "name": "python",
   "nbconvert_exporter": "python",
   "pygments_lexer": "ipython3",
   "version": "3.8.11"
  }
 },
 "nbformat": 4,
 "nbformat_minor": 5
}
