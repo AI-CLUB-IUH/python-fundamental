{
 "cells": [
  {
   "cell_type": "markdown",
   "id": "49cf239b-d095-4b98-992f-ef938af8f2df",
   "metadata": {},
   "source": [
    "# Lập trình (programming) là gì?"
   ]
  },
  {
   "cell_type": "markdown",
   "id": "e8be48ee-c493-4a7a-b09e-104564383b54",
   "metadata": {
    "slideshow": {
     "slide_type": "slide"
    }
   },
   "source": [
    "![](assets/programming_old_now.png)"
   ]
  },
  {
   "cell_type": "markdown",
   "id": "ea561be8-15b5-48d0-ae51-b166c0e06567",
   "metadata": {},
   "source": [
    "Lập trình hiện đại không chỉ là gõ những con số $0$ và $1$, đó là cả một nghệ thuật."
   ]
  },
  {
   "cell_type": "markdown",
   "id": "049a02c4-d717-4e11-a098-61a936f92357",
   "metadata": {},
   "source": [
    "__Một ví dụ về lập trình:__\n",
    "là tập hợp những khối lệnh\n",
    "\n",
    "- \"Làm điều này, sau đó làm điều kia\"\n",
    "- \"Nếu điều kiện này đúng thì làm điều này, ngược lại thì làm điều kia\"\n",
    "- \"Làm điều này chính xác $27$ lần\"\n",
    "- \"Tiếp tục làm khi mà điều kiện này đúng\""
   ]
  },
  {
   "cell_type": "markdown",
   "id": "0893df21-9c57-46c2-a0aa-8a900774ddb3",
   "metadata": {},
   "source": [
    "```python\n",
    "➊ passwordFile = open('SecretPasswordFile.txt')\n",
    "➋ secretPassword = passwordFile.read()\n",
    "➌ print('Enter your password.')\n",
    "   typedPassword = input()\n",
    "➍ if typedPassword == secretPassword:\n",
    "    ➎ print('Access granted')\n",
    "    ➏ if typedPassword == '12345':\n",
    "       ➐ print('That password is one that an idiot puts on their luggage.')\n",
    "      else: \n",
    "       ➑ print('Access denied')\n",
    "```"
   ]
  },
  {
   "cell_type": "markdown",
   "id": "b6946f72-47af-4cba-977d-b93cedd11f36",
   "metadata": {},
   "source": [
    "Đoạn code `Python` ở trên đang làm nhiệm vụ so khớp mật khẩu của người dùng với mật khẩu được lưu trong máy."
   ]
  },
  {
   "cell_type": "markdown",
   "id": "5b0474cf-778c-4daa-9b21-4fe809e63454",
   "metadata": {},
   "source": [
    "# Python là cái chi chi?"
   ]
  },
  {
   "cell_type": "markdown",
   "id": "e97c2d4e-8bfe-452c-879b-05657d3c9be4",
   "metadata": {
    "execution": {
     "iopub.execute_input": "2021-10-07T03:15:02.936884Z",
     "iopub.status.busy": "2021-10-07T03:15:02.936884Z",
     "iopub.status.idle": "2021-10-07T03:15:02.960435Z",
     "shell.execute_reply": "2021-10-07T03:15:02.959621Z",
     "shell.execute_reply.started": "2021-10-07T03:15:02.936884Z"
    },
    "tags": []
   },
   "source": [
    "**Python là:**\n",
    "- Một ngôn ngữ với một tập các quy tắc được quy định trước\n",
    "\n",
    "    => Ngôn ngữ lập trình\n",
    "    \n",
    "Tải và đọc tài liệu của `Python` ở đây: https://www.python.org/"
   ]
  },
  {
   "cell_type": "markdown",
   "id": "f42af6f5-600c-41b0-97d2-4a1ab2ab22fb",
   "metadata": {},
   "source": [
    "# Lập trình là một hành động mang tính sáng tạo"
   ]
  },
  {
   "cell_type": "markdown",
   "id": "32aa68e8-0aac-46ce-b714-f52a1d01100e",
   "metadata": {},
   "source": [
    "![](assets/creative_task.png)"
   ]
  },
  {
   "cell_type": "markdown",
   "id": "e6e09396-60c4-4639-bb62-e0846b81bcbd",
   "metadata": {},
   "source": [
    "Tiềm năng phát triển đến vô tận"
   ]
  },
  {
   "cell_type": "markdown",
   "id": "81759174-13d0-491d-af62-9cbb3df31382",
   "metadata": {},
   "source": [
    "# Môi trường để \"code\""
   ]
  },
  {
   "cell_type": "markdown",
   "id": "4dff57e4-7a02-4c92-b71a-0f40a25f275f",
   "metadata": {
    "execution": {
     "iopub.execute_input": "2021-10-07T03:54:49.076973Z",
     "iopub.status.busy": "2021-10-07T03:54:49.076973Z",
     "iopub.status.idle": "2021-10-07T03:54:49.084565Z",
     "shell.execute_reply": "2021-10-07T03:54:49.083288Z",
     "shell.execute_reply.started": "2021-10-07T03:54:49.076973Z"
    },
    "tags": []
   },
   "source": [
    "|Tiêu chí|Jupyter Notebook, Lab| Google Colab |\n",
    "|--| --- | --- |\n",
    "|**Cài như nào**|Cài Python rồi cài package `jupyterlab`, `notebook` hoặc cài `Anaconda`, `Miniconda` (`notebook` sẽ tự có) |https://colab.research.google.com|\n",
    "|**Mức độ sẵn sàng để sử dụng**|Có thể code offline trên máy|Có mạng mới sài được|\n",
    "|**Khả năng sử dụng**|Máy chưa hỏng thì vẫn có thể sài 24/7|Giới hạn 12 giờ chạy liên tục|\n",
    "|**Tốc độ**|Tốc độ phụ thuộc vào máy|Tốc độ phụ thuộc vào mạng|\n",
    "\n",
    "- Tải Anaconda: https://www.anaconda.com/products/individual\n",
    "- Tải Miniconda: https://docs.conda.io/en/latest/miniconda.html"
   ]
  },
  {
   "cell_type": "markdown",
   "id": "d71c8d9f-a29e-4802-809c-8a8e5c5a9f00",
   "metadata": {},
   "source": [
    "# Deep Dive into Python"
   ]
  },
  {
   "cell_type": "markdown",
   "id": "8bb5e93b-9464-48f1-89bd-c6daff3e6849",
   "metadata": {},
   "source": [
    "## Biểu thức và toán tử"
   ]
  },
  {
   "cell_type": "markdown",
   "id": "2886082d-f010-4326-935c-92ba7b070813",
   "metadata": {},
   "source": [
    "Thực hiện biểu thức (expression) trong python"
   ]
  },
  {
   "cell_type": "code",
   "execution_count": 1,
   "id": "52c3ce2c-e04f-44ee-9c5d-03716a2b4bde",
   "metadata": {
    "execution": {
     "iopub.execute_input": "2021-10-09T13:30:28.480699Z",
     "iopub.status.busy": "2021-10-09T13:30:28.480699Z",
     "iopub.status.idle": "2021-10-09T13:30:28.515622Z",
     "shell.execute_reply": "2021-10-09T13:30:28.514387Z",
     "shell.execute_reply.started": "2021-10-09T13:30:28.480699Z"
    },
    "tags": []
   },
   "outputs": [
    {
     "data": {
      "text/plain": [
       "5"
      ]
     },
     "execution_count": 1,
     "metadata": {},
     "output_type": "execute_result"
    }
   ],
   "source": [
    "2 + 3"
   ]
  },
  {
   "cell_type": "markdown",
   "id": "b22e8f4f-7074-4e57-b220-8312a9bae182",
   "metadata": {},
   "source": [
    "`Biểu thức` là kiểu `câu lệnh` đơn giản nhất trong ngôn ngữ lập trình"
   ]
  },
  {
   "cell_type": "markdown",
   "id": "cc60e7cb-9ceb-422b-8bfe-a074a41369b0",
   "metadata": {},
   "source": [
    "Biểu thức chứa `giá trị` và `toán tử`.\n",
    "\n",
    "Trong trường hợp trên `2` và `3` là `giá trị`, `+` là `toán tử`."
   ]
  },
  {
   "cell_type": "code",
   "execution_count": 2,
   "id": "51fafe50-fbbe-48ae-9031-7a5692ec004b",
   "metadata": {
    "execution": {
     "iopub.execute_input": "2021-10-09T13:30:57.454395Z",
     "iopub.status.busy": "2021-10-09T13:30:57.454395Z",
     "iopub.status.idle": "2021-10-09T13:30:57.471281Z",
     "shell.execute_reply": "2021-10-09T13:30:57.470278Z",
     "shell.execute_reply.started": "2021-10-09T13:30:57.454395Z"
    },
    "tags": []
   },
   "outputs": [
    {
     "data": {
      "text/plain": [
       "2"
      ]
     },
     "execution_count": 2,
     "metadata": {},
     "output_type": "execute_result"
    }
   ],
   "source": [
    "2"
   ]
  },
  {
   "cell_type": "markdown",
   "id": "48898901-21c6-493a-b553-543e162095dc",
   "metadata": {
    "execution": {
     "iopub.execute_input": "2021-10-07T04:12:58.334365Z",
     "iopub.status.busy": "2021-10-07T04:12:58.334365Z",
     "iopub.status.idle": "2021-10-07T04:12:58.358906Z",
     "shell.execute_reply": "2021-10-07T04:12:58.357982Z",
     "shell.execute_reply.started": "2021-10-07T04:12:58.334365Z"
    },
    "tags": []
   },
   "source": [
    "Biểu thức không chứa toán tử, cũng gọi là biểu thức"
   ]
  },
  {
   "cell_type": "markdown",
   "id": "65a199b4-b700-4fb5-853b-802e1aa0aaec",
   "metadata": {
    "tags": []
   },
   "source": [
    "#### Bảng 1. Các toán tử trong Python theo mức độ ưu tiên giảm dần\n",
    "|Toán tử|Ý nghĩa của toán tử|Ví dụ|Tạo ra được kết quả...|\n",
    "|--|--|--|--|\n",
    "|`**`|Lũy thừa|`2 ** 3`|`8`|\n",
    "|`%`|Chia lấy dư|`22 % 8`|`6`|\n",
    "|`//`|Chia lấy nguyên|`22 // 8`|`2`|\n",
    "|`/`|Chia (ra số thực)|`22 / 8`|`2.75`|\n",
    "|`*`|Nhân|`3 * 5`|`15`|\n",
    "|`-`|Trừ|`5 - 2`|`3`|\n",
    "|`+`|Cộng|`2 + 2`|`4`|"
   ]
  },
  {
   "cell_type": "markdown",
   "id": "e2dd07c2-50f1-4449-974d-7b92cf27a6c5",
   "metadata": {},
   "source": [
    "Thứ tự thực hiện rất quan trọng"
   ]
  },
  {
   "cell_type": "code",
   "execution_count": 3,
   "id": "ddffafc9-e628-4efb-a61f-6a054560603a",
   "metadata": {
    "execution": {
     "iopub.execute_input": "2021-10-09T13:32:46.363146Z",
     "iopub.status.busy": "2021-10-09T13:32:46.363146Z",
     "iopub.status.idle": "2021-10-09T13:32:46.380294Z",
     "shell.execute_reply": "2021-10-09T13:32:46.379287Z",
     "shell.execute_reply.started": "2021-10-09T13:32:46.363146Z"
    },
    "tags": []
   },
   "outputs": [
    {
     "data": {
      "text/plain": [
       "20"
      ]
     },
     "execution_count": 3,
     "metadata": {},
     "output_type": "execute_result"
    }
   ],
   "source": [
    "2 + 3 * 6"
   ]
  },
  {
   "cell_type": "code",
   "execution_count": 4,
   "id": "8476d460-b10a-4c37-89ad-de32f729516a",
   "metadata": {
    "execution": {
     "iopub.execute_input": "2021-10-09T13:33:10.531122Z",
     "iopub.status.busy": "2021-10-09T13:33:10.530121Z",
     "iopub.status.idle": "2021-10-09T13:33:10.551167Z",
     "shell.execute_reply": "2021-10-09T13:33:10.550474Z",
     "shell.execute_reply.started": "2021-10-09T13:33:10.531122Z"
    },
    "tags": []
   },
   "outputs": [
    {
     "data": {
      "text/plain": [
       "30"
      ]
     },
     "execution_count": 4,
     "metadata": {},
     "output_type": "execute_result"
    }
   ],
   "source": [
    "(2 + 3) * 6"
   ]
  },
  {
   "cell_type": "code",
   "execution_count": null,
   "id": "82bd674c-0079-42f2-b741-f659d7e7acd8",
   "metadata": {
    "tags": []
   },
   "outputs": [],
   "source": [
    "48565878 * 578453"
   ]
  },
  {
   "cell_type": "code",
   "execution_count": null,
   "id": "5048e0ad-45d8-4eba-aa75-26448dea057a",
   "metadata": {
    "tags": []
   },
   "outputs": [],
   "source": [
    "2 ** 8"
   ]
  },
  {
   "cell_type": "code",
   "execution_count": null,
   "id": "f8f5b576-a017-46d3-b97f-e9d82e58f103",
   "metadata": {
    "tags": []
   },
   "outputs": [],
   "source": [
    "23 / 7"
   ]
  },
  {
   "cell_type": "code",
   "execution_count": null,
   "id": "1d76688d-27e1-42f1-b7f7-7ea9a09a57f7",
   "metadata": {
    "tags": []
   },
   "outputs": [],
   "source": [
    "23 // 7"
   ]
  },
  {
   "cell_type": "code",
   "execution_count": null,
   "id": "7d9563d7-b84e-439b-a343-55a0bbc03a01",
   "metadata": {
    "tags": []
   },
   "outputs": [],
   "source": [
    "23 % 7"
   ]
  },
  {
   "cell_type": "code",
   "execution_count": null,
   "id": "d223de15-d329-4288-9236-e20e51415df0",
   "metadata": {
    "tags": []
   },
   "outputs": [],
   "source": [
    "2      +         2"
   ]
  },
  {
   "cell_type": "code",
   "execution_count": null,
   "id": "f8798a3f-1373-4597-a641-82066ed662e9",
   "metadata": {
    "tags": []
   },
   "outputs": [],
   "source": [
    "(5 - 1) * ((7 + 1) / (3 - 1))"
   ]
  },
  {
   "cell_type": "markdown",
   "id": "5742e5bf-c149-4f8c-9d9f-57c53b52b8e1",
   "metadata": {
    "execution": {
     "iopub.execute_input": "2021-10-07T04:22:09.189112Z",
     "iopub.status.busy": "2021-10-07T04:22:09.189112Z",
     "iopub.status.idle": "2021-10-07T04:22:09.262512Z",
     "shell.execute_reply": "2021-10-07T04:22:09.261780Z",
     "shell.execute_reply.started": "2021-10-07T04:22:09.189112Z"
    },
    "tags": []
   },
   "source": [
    "![](assets/expression.jpg)"
   ]
  },
  {
   "cell_type": "markdown",
   "id": "6438b831-d0f8-4728-8df4-4d3575a8c141",
   "metadata": {},
   "source": [
    "Trên đây là những biểu thức đúng ngữ pháp `Python`"
   ]
  },
  {
   "cell_type": "markdown",
   "id": "6f38c813-a44a-4196-86af-82edb284c400",
   "metadata": {},
   "source": [
    "Dưới đây không đúng ngữ pháp của `Python`"
   ]
  },
  {
   "cell_type": "code",
   "execution_count": 5,
   "id": "ccb795ef-df7d-458c-9930-3228cc77fe47",
   "metadata": {
    "execution": {
     "iopub.execute_input": "2021-10-09T13:35:17.927736Z",
     "iopub.status.busy": "2021-10-09T13:35:17.926734Z",
     "iopub.status.idle": "2021-10-09T13:35:17.935116Z",
     "shell.execute_reply": "2021-10-09T13:35:17.934287Z",
     "shell.execute_reply.started": "2021-10-09T13:35:17.927736Z"
    },
    "tags": []
   },
   "outputs": [
    {
     "ename": "SyntaxError",
     "evalue": "invalid syntax (Temp/ipykernel_10208/1731150352.py, line 1)",
     "output_type": "error",
     "traceback": [
      "\u001b[1;36m  File \u001b[1;32m\"C:\\Users\\nvatu\\AppData\\Local\\Temp/ipykernel_10208/1731150352.py\"\u001b[1;36m, line \u001b[1;32m1\u001b[0m\n\u001b[1;33m    5 +\u001b[0m\n\u001b[1;37m        ^\u001b[0m\n\u001b[1;31mSyntaxError\u001b[0m\u001b[1;31m:\u001b[0m invalid syntax\n"
     ]
    }
   ],
   "source": [
    "5 + "
   ]
  },
  {
   "cell_type": "code",
   "execution_count": 6,
   "id": "af5a46e4-22a0-4c4f-9293-a7e36de8ed02",
   "metadata": {
    "execution": {
     "iopub.execute_input": "2021-10-09T13:35:30.455487Z",
     "iopub.status.busy": "2021-10-09T13:35:30.454694Z",
     "iopub.status.idle": "2021-10-09T13:35:30.471762Z",
     "shell.execute_reply": "2021-10-09T13:35:30.470922Z",
     "shell.execute_reply.started": "2021-10-09T13:35:30.455487Z"
    },
    "tags": []
   },
   "outputs": [
    {
     "ename": "SyntaxError",
     "evalue": "invalid syntax (Temp/ipykernel_10208/3854472213.py, line 1)",
     "output_type": "error",
     "traceback": [
      "\u001b[1;36m  File \u001b[1;32m\"C:\\Users\\nvatu\\AppData\\Local\\Temp/ipykernel_10208/3854472213.py\"\u001b[1;36m, line \u001b[1;32m1\u001b[0m\n\u001b[1;33m    42 + 5 + * 2\u001b[0m\n\u001b[1;37m             ^\u001b[0m\n\u001b[1;31mSyntaxError\u001b[0m\u001b[1;31m:\u001b[0m invalid syntax\n"
     ]
    }
   ],
   "source": [
    "42 + 5 + * 2"
   ]
  },
  {
   "cell_type": "markdown",
   "id": "11ac472e-9a85-4003-9ef0-23e5be4788d6",
   "metadata": {},
   "source": [
    "## Kiểu dữ liệu số nguyên, số thực, và kiểu chuỗi"
   ]
  },
  {
   "cell_type": "markdown",
   "id": "d155c4a9-bf54-4e30-9111-4480a0d7d47c",
   "metadata": {
    "execution": {
     "iopub.execute_input": "2021-10-07T04:28:12.151135Z",
     "iopub.status.busy": "2021-10-07T04:28:12.150116Z",
     "iopub.status.idle": "2021-10-07T04:28:12.163000Z",
     "shell.execute_reply": "2021-10-07T04:28:12.161474Z",
     "shell.execute_reply.started": "2021-10-07T04:28:12.151135Z"
    },
    "tags": []
   },
   "source": [
    "Thật ra là `Integer`, `Floating-point numbers`, và `Strings`"
   ]
  },
  {
   "cell_type": "markdown",
   "id": "517c0170-584e-4bb5-a035-f2f15fe0b491",
   "metadata": {},
   "source": [
    "`Giá trị` trong Python thường được phân loại thành các kiểu, và mỗi `giá trị` chỉ có $1$ kiểu duy nhất."
   ]
  },
  {
   "cell_type": "markdown",
   "id": "c414ca93-a0c7-4c1d-80ce-3fa7d997f0f6",
   "metadata": {},
   "source": [
    "#### Bảng 2. Kiểu dữ liệu chung\n",
    "\n",
    "|Kiểu dữ liệu (Data type)|Ví dụ|\n",
    "|--|--|\n",
    "|`Integer`|`-2, -1, 0, 1, 2, 3, 4, 5`|\n",
    "|`Floating-point numbers`|`-1.24, -1.0, -0.5, 0.0, 0.5, 1.0, 1.25`|\n",
    "|`String`|`'a', 'aa', 'aaa', 'Hello!', '11 cats'`|"
   ]
  },
  {
   "cell_type": "markdown",
   "id": "51e12b3d-28c5-41ea-a714-b09ab8b3bdec",
   "metadata": {
    "execution": {
     "iopub.execute_input": "2021-10-07T04:32:44.638262Z",
     "iopub.status.busy": "2021-10-07T04:32:44.638262Z",
     "iopub.status.idle": "2021-10-07T04:32:44.645198Z",
     "shell.execute_reply": "2021-10-07T04:32:44.644651Z",
     "shell.execute_reply.started": "2021-10-07T04:32:44.638262Z"
    },
    "tags": []
   },
   "source": [
    "Kiểu `Strings` có thể quy định bởi dấu ngoặc đơn (`''`) hoặc dấu ngoặc kép (`\"\"`)"
   ]
  },
  {
   "cell_type": "code",
   "execution_count": 7,
   "id": "78f982c7-5048-435a-8af7-703218f52e8a",
   "metadata": {
    "execution": {
     "iopub.execute_input": "2021-10-09T13:38:40.549239Z",
     "iopub.status.busy": "2021-10-09T13:38:40.549239Z",
     "iopub.status.idle": "2021-10-09T13:38:40.565380Z",
     "shell.execute_reply": "2021-10-09T13:38:40.563417Z",
     "shell.execute_reply.started": "2021-10-09T13:38:40.549239Z"
    },
    "tags": []
   },
   "outputs": [
    {
     "data": {
      "text/plain": [
       "'Hello Cac ban'"
      ]
     },
     "execution_count": 7,
     "metadata": {},
     "output_type": "execute_result"
    }
   ],
   "source": [
    "\"Hello Cac ban\""
   ]
  },
  {
   "cell_type": "code",
   "execution_count": 8,
   "id": "ff99d71b-d785-45e9-9a32-dc47df98485a",
   "metadata": {
    "execution": {
     "iopub.execute_input": "2021-10-09T13:38:59.839945Z",
     "iopub.status.busy": "2021-10-09T13:38:59.839945Z",
     "iopub.status.idle": "2021-10-09T13:38:59.850150Z",
     "shell.execute_reply": "2021-10-09T13:38:59.849167Z",
     "shell.execute_reply.started": "2021-10-09T13:38:59.839945Z"
    },
    "tags": []
   },
   "outputs": [
    {
     "data": {
      "text/plain": [
       "5"
      ]
     },
     "execution_count": 8,
     "metadata": {},
     "output_type": "execute_result"
    }
   ],
   "source": [
    "5"
   ]
  },
  {
   "cell_type": "code",
   "execution_count": 9,
   "id": "b19adc51-7d15-4b96-8ee3-7cc282c6c194",
   "metadata": {
    "execution": {
     "iopub.execute_input": "2021-10-09T13:39:06.847099Z",
     "iopub.status.busy": "2021-10-09T13:39:06.847099Z",
     "iopub.status.idle": "2021-10-09T13:39:06.867266Z",
     "shell.execute_reply": "2021-10-09T13:39:06.866333Z",
     "shell.execute_reply.started": "2021-10-09T13:39:06.847099Z"
    },
    "tags": []
   },
   "outputs": [
    {
     "data": {
      "text/plain": [
       "9.2"
      ]
     },
     "execution_count": 9,
     "metadata": {},
     "output_type": "execute_result"
    }
   ],
   "source": [
    "9.2"
   ]
  },
  {
   "cell_type": "code",
   "execution_count": 10,
   "id": "eb3f525d-1d21-48af-849b-84e5563adc15",
   "metadata": {
    "execution": {
     "iopub.execute_input": "2021-10-09T13:39:13.754310Z",
     "iopub.status.busy": "2021-10-09T13:39:13.753309Z",
     "iopub.status.idle": "2021-10-09T13:39:13.765840Z",
     "shell.execute_reply": "2021-10-09T13:39:13.764974Z",
     "shell.execute_reply.started": "2021-10-09T13:39:13.754310Z"
    },
    "tags": []
   },
   "outputs": [
    {
     "data": {
      "text/plain": [
       "9.0"
      ]
     },
     "execution_count": 10,
     "metadata": {},
     "output_type": "execute_result"
    }
   ],
   "source": [
    "9.0"
   ]
  },
  {
   "cell_type": "code",
   "execution_count": 11,
   "id": "3fa3b3a8-e188-41d1-a19e-88b928656dac",
   "metadata": {
    "execution": {
     "iopub.execute_input": "2021-10-09T13:39:25.920023Z",
     "iopub.status.busy": "2021-10-09T13:39:25.920023Z",
     "iopub.status.idle": "2021-10-09T13:39:25.933295Z",
     "shell.execute_reply": "2021-10-09T13:39:25.932242Z",
     "shell.execute_reply.started": "2021-10-09T13:39:25.920023Z"
    },
    "tags": []
   },
   "outputs": [
    {
     "data": {
      "text/plain": [
       "int"
      ]
     },
     "execution_count": 11,
     "metadata": {},
     "output_type": "execute_result"
    }
   ],
   "source": [
    "type(9)"
   ]
  },
  {
   "cell_type": "code",
   "execution_count": 12,
   "id": "f7df4010-6ac2-4c08-b6f4-acb76ea13b6d",
   "metadata": {
    "execution": {
     "iopub.execute_input": "2021-10-09T13:39:32.304907Z",
     "iopub.status.busy": "2021-10-09T13:39:32.304907Z",
     "iopub.status.idle": "2021-10-09T13:39:32.314911Z",
     "shell.execute_reply": "2021-10-09T13:39:32.313907Z",
     "shell.execute_reply.started": "2021-10-09T13:39:32.304907Z"
    },
    "tags": []
   },
   "outputs": [
    {
     "data": {
      "text/plain": [
       "float"
      ]
     },
     "execution_count": 12,
     "metadata": {},
     "output_type": "execute_result"
    }
   ],
   "source": [
    "type(9.0)"
   ]
  },
  {
   "cell_type": "code",
   "execution_count": 14,
   "id": "4416d6ae-bbd6-43d8-9f61-e7568584cf60",
   "metadata": {
    "execution": {
     "iopub.execute_input": "2021-10-09T13:40:32.252206Z",
     "iopub.status.busy": "2021-10-09T13:40:32.252206Z",
     "iopub.status.idle": "2021-10-09T13:40:32.273128Z",
     "shell.execute_reply": "2021-10-09T13:40:32.272333Z",
     "shell.execute_reply.started": "2021-10-09T13:40:32.252206Z"
    },
    "tags": []
   },
   "outputs": [
    {
     "data": {
      "text/plain": [
       "300000000000"
      ]
     },
     "execution_count": 14,
     "metadata": {},
     "output_type": "execute_result"
    }
   ],
   "source": [
    "300 * 10 ** 9"
   ]
  },
  {
   "cell_type": "markdown",
   "id": "243e29fe-40eb-4d14-8de1-eab2706705b4",
   "metadata": {},
   "source": [
    "Lỗi quên đóng ngoặc"
   ]
  },
  {
   "cell_type": "code",
   "execution_count": 19,
   "id": "c7ab3a51-a809-437a-b328-d8dc98926cc2",
   "metadata": {
    "execution": {
     "iopub.execute_input": "2021-10-09T13:41:40.931934Z",
     "iopub.status.busy": "2021-10-09T13:41:40.930958Z",
     "iopub.status.idle": "2021-10-09T13:41:40.950121Z",
     "shell.execute_reply": "2021-10-09T13:41:40.948475Z",
     "shell.execute_reply.started": "2021-10-09T13:41:40.931934Z"
    },
    "tags": []
   },
   "outputs": [
    {
     "ename": "SyntaxError",
     "evalue": "EOL while scanning string literal (Temp/ipykernel_10208/1551967912.py, line 1)",
     "output_type": "error",
     "traceback": [
      "\u001b[1;36m  File \u001b[1;32m\"C:\\Users\\nvatu\\AppData\\Local\\Temp/ipykernel_10208/1551967912.py\"\u001b[1;36m, line \u001b[1;32m1\u001b[0m\n\u001b[1;33m    'Hello, world!\u001b[0m\n\u001b[1;37m                  ^\u001b[0m\n\u001b[1;31mSyntaxError\u001b[0m\u001b[1;31m:\u001b[0m EOL while scanning string literal\n"
     ]
    }
   ],
   "source": [
    "'Hello, world!"
   ]
  },
  {
   "cell_type": "code",
   "execution_count": 20,
   "id": "994a5910-401f-44f4-87c6-8abb1ae2b882",
   "metadata": {
    "execution": {
     "iopub.execute_input": "2021-10-09T13:42:22.528361Z",
     "iopub.status.busy": "2021-10-09T13:42:22.528063Z",
     "iopub.status.idle": "2021-10-09T13:42:22.546213Z",
     "shell.execute_reply": "2021-10-09T13:42:22.545418Z",
     "shell.execute_reply.started": "2021-10-09T13:42:22.528361Z"
    },
    "tags": []
   },
   "outputs": [
    {
     "data": {
      "text/plain": [
       "1942668892225729070919461906823518906642406839052139521251812409738904285205208498176"
      ]
     },
     "execution_count": 20,
     "metadata": {},
     "output_type": "execute_result"
    }
   ],
   "source": [
    "2 ** 280"
   ]
  },
  {
   "cell_type": "markdown",
   "id": "7f875d48-655d-42dd-950d-c03c8e4c1b9a",
   "metadata": {},
   "source": [
    "## Nối chuỗi và lặp chuỗi"
   ]
  },
  {
   "cell_type": "markdown",
   "id": "d75984c2-a3f4-4a9b-a17b-65442805dfa7",
   "metadata": {},
   "source": [
    "Từ khóa tiếng anh: String Concatenation and Replication"
   ]
  },
  {
   "cell_type": "code",
   "execution_count": 21,
   "id": "87266533-e46f-43e8-8f92-570c8cc84faa",
   "metadata": {
    "execution": {
     "iopub.execute_input": "2021-10-09T13:44:20.382906Z",
     "iopub.status.busy": "2021-10-09T13:44:20.382906Z",
     "iopub.status.idle": "2021-10-09T13:44:20.397915Z",
     "shell.execute_reply": "2021-10-09T13:44:20.396904Z",
     "shell.execute_reply.started": "2021-10-09T13:44:20.382906Z"
    },
    "tags": []
   },
   "outputs": [
    {
     "data": {
      "text/plain": [
       "'AliceBob'"
      ]
     },
     "execution_count": 21,
     "metadata": {},
     "output_type": "execute_result"
    }
   ],
   "source": [
    "'Alice' + 'Bob'"
   ]
  },
  {
   "cell_type": "markdown",
   "id": "c557831c-a839-4e33-97e1-5b24a39f5960",
   "metadata": {
    "execution": {
     "iopub.execute_input": "2021-10-07T04:34:54.942548Z",
     "iopub.status.busy": "2021-10-07T04:34:54.942548Z",
     "iopub.status.idle": "2021-10-07T04:34:54.959138Z",
     "shell.execute_reply": "2021-10-07T04:34:54.958357Z",
     "shell.execute_reply.started": "2021-10-07T04:34:54.942548Z"
    },
    "tags": []
   },
   "source": [
    "Phải cùng kiểu dữ liệu mới có thể dùng toán tử"
   ]
  },
  {
   "cell_type": "code",
   "execution_count": 37,
   "id": "49d8b032-d3b4-451f-9ca2-192acea7111c",
   "metadata": {
    "execution": {
     "iopub.execute_input": "2021-10-09T13:53:58.542038Z",
     "iopub.status.busy": "2021-10-09T13:53:58.542038Z",
     "iopub.status.idle": "2021-10-09T13:53:58.555332Z",
     "shell.execute_reply": "2021-10-09T13:53:58.554759Z",
     "shell.execute_reply.started": "2021-10-09T13:53:58.542038Z"
    },
    "tags": []
   },
   "outputs": [
    {
     "ename": "TypeError",
     "evalue": "can only concatenate str (not \"int\") to str",
     "output_type": "error",
     "traceback": [
      "\u001b[1;31m---------------------------------------------------------------------------\u001b[0m",
      "\u001b[1;31mTypeError\u001b[0m                                 Traceback (most recent call last)",
      "\u001b[1;32m~\\AppData\\Local\\Temp/ipykernel_10208/3504299338.py\u001b[0m in \u001b[0;36m<module>\u001b[1;34m\u001b[0m\n\u001b[1;32m----> 1\u001b[1;33m \u001b[1;34m'Alice'\u001b[0m \u001b[1;33m+\u001b[0m \u001b[1;36m42\u001b[0m\u001b[1;33m\u001b[0m\u001b[1;33m\u001b[0m\u001b[0m\n\u001b[0m",
      "\u001b[1;31mTypeError\u001b[0m: can only concatenate str (not \"int\") to str"
     ]
    }
   ],
   "source": [
    "'Alice' + 42"
   ]
  },
  {
   "cell_type": "code",
   "execution_count": 23,
   "id": "cc3a3dc7-bd04-4eba-9808-e4067a4a932e",
   "metadata": {
    "execution": {
     "iopub.execute_input": "2021-10-09T13:45:39.076092Z",
     "iopub.status.busy": "2021-10-09T13:45:39.075072Z",
     "iopub.status.idle": "2021-10-09T13:45:39.096070Z",
     "shell.execute_reply": "2021-10-09T13:45:39.095134Z",
     "shell.execute_reply.started": "2021-10-09T13:45:39.076092Z"
    },
    "tags": []
   },
   "outputs": [
    {
     "data": {
      "text/plain": [
       "'AliceAliceAliceAliceAlice'"
      ]
     },
     "execution_count": 23,
     "metadata": {},
     "output_type": "execute_result"
    }
   ],
   "source": [
    "'Alice' * 5"
   ]
  },
  {
   "cell_type": "code",
   "execution_count": 27,
   "id": "1ebb5cc7-41f1-45df-aa79-a564e5c127b1",
   "metadata": {
    "execution": {
     "iopub.execute_input": "2021-10-09T13:48:58.636160Z",
     "iopub.status.busy": "2021-10-09T13:48:58.635145Z",
     "iopub.status.idle": "2021-10-09T13:48:58.652407Z",
     "shell.execute_reply": "2021-10-09T13:48:58.650089Z",
     "shell.execute_reply.started": "2021-10-09T13:48:58.636160Z"
    },
    "tags": []
   },
   "outputs": [
    {
     "ename": "TypeError",
     "evalue": "unsupported operand type(s) for /: 'str' and 'int'",
     "output_type": "error",
     "traceback": [
      "\u001b[1;31m---------------------------------------------------------------------------\u001b[0m",
      "\u001b[1;31mTypeError\u001b[0m                                 Traceback (most recent call last)",
      "\u001b[1;32m~\\AppData\\Local\\Temp/ipykernel_10208/1744382886.py\u001b[0m in \u001b[0;36m<module>\u001b[1;34m\u001b[0m\n\u001b[1;32m----> 1\u001b[1;33m \u001b[1;34m'Alice'\u001b[0m \u001b[1;33m/\u001b[0m \u001b[1;36m5\u001b[0m\u001b[1;33m\u001b[0m\u001b[1;33m\u001b[0m\u001b[0m\n\u001b[0m",
      "\u001b[1;31mTypeError\u001b[0m: unsupported operand type(s) for /: 'str' and 'int'"
     ]
    }
   ],
   "source": [
    "'Alice' / 5"
   ]
  },
  {
   "cell_type": "code",
   "execution_count": null,
   "id": "6aa607ac-a9c5-44e5-b187-93b767b42f43",
   "metadata": {},
   "outputs": [],
   "source": [
    "'chuoi~' / 5"
   ]
  },
  {
   "cell_type": "code",
   "execution_count": 28,
   "id": "3d1989c0-a45c-466a-a80d-8b4874caca16",
   "metadata": {
    "execution": {
     "iopub.execute_input": "2021-10-09T13:50:14.402644Z",
     "iopub.status.busy": "2021-10-09T13:50:14.401468Z",
     "iopub.status.idle": "2021-10-09T13:50:14.429466Z",
     "shell.execute_reply": "2021-10-09T13:50:14.424239Z",
     "shell.execute_reply.started": "2021-10-09T13:50:14.402644Z"
    },
    "tags": []
   },
   "outputs": [
    {
     "ename": "TypeError",
     "evalue": "can only concatenate str (not \"int\") to str",
     "output_type": "error",
     "traceback": [
      "\u001b[1;31m---------------------------------------------------------------------------\u001b[0m",
      "\u001b[1;31mTypeError\u001b[0m                                 Traceback (most recent call last)",
      "\u001b[1;32m~\\AppData\\Local\\Temp/ipykernel_10208/3589231472.py\u001b[0m in \u001b[0;36m<module>\u001b[1;34m\u001b[0m\n\u001b[1;32m----> 1\u001b[1;33m \u001b[1;34m'ba'\u001b[0m \u001b[1;33m+\u001b[0m \u001b[1;36m1\u001b[0m\u001b[1;33m\u001b[0m\u001b[1;33m\u001b[0m\u001b[0m\n\u001b[0m",
      "\u001b[1;31mTypeError\u001b[0m: can only concatenate str (not \"int\") to str"
     ]
    }
   ],
   "source": [
    "'ba' + 1"
   ]
  },
  {
   "cell_type": "code",
   "execution_count": 29,
   "id": "c0ff5bf8-931a-47b0-8765-2db0f4240d3f",
   "metadata": {
    "execution": {
     "iopub.execute_input": "2021-10-09T13:50:25.227477Z",
     "iopub.status.busy": "2021-10-09T13:50:25.227477Z",
     "iopub.status.idle": "2021-10-09T13:50:25.246569Z",
     "shell.execute_reply": "2021-10-09T13:50:25.244677Z",
     "shell.execute_reply.started": "2021-10-09T13:50:25.227477Z"
    },
    "tags": []
   },
   "outputs": [
    {
     "ename": "TypeError",
     "evalue": "unsupported operand type(s) for -: 'str' and 'int'",
     "output_type": "error",
     "traceback": [
      "\u001b[1;31m---------------------------------------------------------------------------\u001b[0m",
      "\u001b[1;31mTypeError\u001b[0m                                 Traceback (most recent call last)",
      "\u001b[1;32m~\\AppData\\Local\\Temp/ipykernel_10208/343168165.py\u001b[0m in \u001b[0;36m<module>\u001b[1;34m\u001b[0m\n\u001b[1;32m----> 1\u001b[1;33m \u001b[1;34m'dat'\u001b[0m \u001b[1;33m-\u001b[0m \u001b[1;36m2\u001b[0m\u001b[1;33m\u001b[0m\u001b[1;33m\u001b[0m\u001b[0m\n\u001b[0m",
      "\u001b[1;31mTypeError\u001b[0m: unsupported operand type(s) for -: 'str' and 'int'"
     ]
    }
   ],
   "source": [
    "'dat' - 2"
   ]
  },
  {
   "cell_type": "code",
   "execution_count": 34,
   "id": "17ef2552-9795-46dd-9653-01272d277fed",
   "metadata": {
    "execution": {
     "iopub.execute_input": "2021-10-09T13:51:36.685388Z",
     "iopub.status.busy": "2021-10-09T13:51:36.685388Z",
     "iopub.status.idle": "2021-10-09T13:51:36.703246Z",
     "shell.execute_reply": "2021-10-09T13:51:36.702315Z",
     "shell.execute_reply.started": "2021-10-09T13:51:36.685388Z"
    },
    "tags": []
   },
   "outputs": [
    {
     "data": {
      "text/plain": [
       "'tuan'"
      ]
     },
     "execution_count": 34,
     "metadata": {},
     "output_type": "execute_result"
    }
   ],
   "source": [
    "'tuan' * (5 // 5)"
   ]
  },
  {
   "cell_type": "code",
   "execution_count": 31,
   "id": "62706419-f1d5-4fb1-ad97-27b2a5c60147",
   "metadata": {
    "execution": {
     "iopub.execute_input": "2021-10-09T13:50:44.710861Z",
     "iopub.status.busy": "2021-10-09T13:50:44.709861Z",
     "iopub.status.idle": "2021-10-09T13:50:44.732516Z",
     "shell.execute_reply": "2021-10-09T13:50:44.730868Z",
     "shell.execute_reply.started": "2021-10-09T13:50:44.710861Z"
    },
    "tags": []
   },
   "outputs": [
    {
     "ename": "TypeError",
     "evalue": "unsupported operand type(s) for /: 'str' and 'int'",
     "output_type": "error",
     "traceback": [
      "\u001b[1;31m---------------------------------------------------------------------------\u001b[0m",
      "\u001b[1;31mTypeError\u001b[0m                                 Traceback (most recent call last)",
      "\u001b[1;32m~\\AppData\\Local\\Temp/ipykernel_10208/1466969043.py\u001b[0m in \u001b[0;36m<module>\u001b[1;34m\u001b[0m\n\u001b[1;32m----> 1\u001b[1;33m \u001b[1;34m'an'\u001b[0m \u001b[1;33m/\u001b[0m \u001b[1;36m10\u001b[0m\u001b[1;33m\u001b[0m\u001b[1;33m\u001b[0m\u001b[0m\n\u001b[0m",
      "\u001b[1;31mTypeError\u001b[0m: unsupported operand type(s) for /: 'str' and 'int'"
     ]
    }
   ],
   "source": [
    "'an' / 10"
   ]
  },
  {
   "cell_type": "code",
   "execution_count": 35,
   "id": "baff8086-aeba-43af-a367-67f0e7b0df80",
   "metadata": {
    "execution": {
     "iopub.execute_input": "2021-10-09T13:52:50.247873Z",
     "iopub.status.busy": "2021-10-09T13:52:50.247873Z",
     "iopub.status.idle": "2021-10-09T13:52:50.260943Z",
     "shell.execute_reply": "2021-10-09T13:52:50.259947Z",
     "shell.execute_reply.started": "2021-10-09T13:52:50.247873Z"
    },
    "tags": []
   },
   "outputs": [
    {
     "ename": "TypeError",
     "evalue": "unsupported operand type(s) for //: 'str' and 'int'",
     "output_type": "error",
     "traceback": [
      "\u001b[1;31m---------------------------------------------------------------------------\u001b[0m",
      "\u001b[1;31mTypeError\u001b[0m                                 Traceback (most recent call last)",
      "\u001b[1;32m~\\AppData\\Local\\Temp/ipykernel_10208/4021899455.py\u001b[0m in \u001b[0;36m<module>\u001b[1;34m\u001b[0m\n\u001b[1;32m----> 1\u001b[1;33m \u001b[1;34m'abc'\u001b[0m \u001b[1;33m//\u001b[0m \u001b[1;36m3\u001b[0m\u001b[1;33m\u001b[0m\u001b[1;33m\u001b[0m\u001b[0m\n\u001b[0m",
      "\u001b[1;31mTypeError\u001b[0m: unsupported operand type(s) for //: 'str' and 'int'"
     ]
    }
   ],
   "source": [
    "'abc' // 3"
   ]
  },
  {
   "cell_type": "code",
   "execution_count": 25,
   "id": "8ea7820c-c860-4ef6-bdf1-27471aabc0a5",
   "metadata": {
    "execution": {
     "iopub.execute_input": "2021-10-09T13:46:35.496726Z",
     "iopub.status.busy": "2021-10-09T13:46:35.496005Z",
     "iopub.status.idle": "2021-10-09T13:46:35.508779Z",
     "shell.execute_reply": "2021-10-09T13:46:35.507776Z",
     "shell.execute_reply.started": "2021-10-09T13:46:35.496005Z"
    },
    "tags": []
   },
   "outputs": [
    {
     "data": {
      "text/plain": [
       "25.0"
      ]
     },
     "execution_count": 25,
     "metadata": {},
     "output_type": "execute_result"
    }
   ],
   "source": [
    "5 * 5.0"
   ]
  },
  {
   "cell_type": "code",
   "execution_count": 43,
   "id": "63a0f587-012d-43c8-9fa5-98714d302681",
   "metadata": {
    "execution": {
     "iopub.execute_input": "2021-10-09T13:56:59.894334Z",
     "iopub.status.busy": "2021-10-09T13:56:59.893337Z",
     "iopub.status.idle": "2021-10-09T13:56:59.914336Z",
     "shell.execute_reply": "2021-10-09T13:56:59.913336Z",
     "shell.execute_reply.started": "2021-10-09T13:56:59.894334Z"
    },
    "tags": []
   },
   "outputs": [
    {
     "ename": "TypeError",
     "evalue": "ord() expected a character, but string of length 2 found",
     "output_type": "error",
     "traceback": [
      "\u001b[1;31m---------------------------------------------------------------------------\u001b[0m",
      "\u001b[1;31mTypeError\u001b[0m                                 Traceback (most recent call last)",
      "\u001b[1;32m~\\AppData\\Local\\Temp/ipykernel_10208/3586082815.py\u001b[0m in \u001b[0;36m<module>\u001b[1;34m\u001b[0m\n\u001b[1;32m----> 1\u001b[1;33m \u001b[0mord\u001b[0m\u001b[1;33m(\u001b[0m\u001b[1;34m'AB'\u001b[0m\u001b[1;33m)\u001b[0m\u001b[1;33m\u001b[0m\u001b[1;33m\u001b[0m\u001b[0m\n\u001b[0m",
      "\u001b[1;31mTypeError\u001b[0m: ord() expected a character, but string of length 2 found"
     ]
    }
   ],
   "source": [
    "ord('AB')"
   ]
  },
  {
   "cell_type": "code",
   "execution_count": null,
   "id": "7c125732-9075-4ff3-8781-614e1073aaba",
   "metadata": {},
   "outputs": [],
   "source": [
    "print('A')"
   ]
  },
  {
   "cell_type": "code",
   "execution_count": 40,
   "id": "a56c975f-146b-4791-9ead-a1fce366e072",
   "metadata": {
    "execution": {
     "iopub.execute_input": "2021-10-09T13:55:24.506560Z",
     "iopub.status.busy": "2021-10-09T13:55:24.506560Z",
     "iopub.status.idle": "2021-10-09T13:55:24.524846Z",
     "shell.execute_reply": "2021-10-09T13:55:24.523598Z",
     "shell.execute_reply.started": "2021-10-09T13:55:24.506560Z"
    },
    "tags": []
   },
   "outputs": [
    {
     "ename": "ValueError",
     "evalue": "invalid literal for int() with base 10: 'A'",
     "output_type": "error",
     "traceback": [
      "\u001b[1;31m---------------------------------------------------------------------------\u001b[0m",
      "\u001b[1;31mValueError\u001b[0m                                Traceback (most recent call last)",
      "\u001b[1;32m~\\AppData\\Local\\Temp/ipykernel_10208/593083718.py\u001b[0m in \u001b[0;36m<module>\u001b[1;34m\u001b[0m\n\u001b[1;32m----> 1\u001b[1;33m \u001b[0mint\u001b[0m\u001b[1;33m(\u001b[0m\u001b[1;34m'A'\u001b[0m\u001b[1;33m)\u001b[0m\u001b[1;33m\u001b[0m\u001b[1;33m\u001b[0m\u001b[0m\n\u001b[0m",
      "\u001b[1;31mValueError\u001b[0m: invalid literal for int() with base 10: 'A'"
     ]
    }
   ],
   "source": [
    "print(int('A'))"
   ]
  },
  {
   "cell_type": "code",
   "execution_count": 41,
   "id": "28d672d4-44a1-4f81-aec9-54cefe48654d",
   "metadata": {
    "execution": {
     "iopub.execute_input": "2021-10-09T13:55:53.520769Z",
     "iopub.status.busy": "2021-10-09T13:55:53.519738Z",
     "iopub.status.idle": "2021-10-09T13:55:53.538321Z",
     "shell.execute_reply": "2021-10-09T13:55:53.537321Z",
     "shell.execute_reply.started": "2021-10-09T13:55:53.520769Z"
    },
    "tags": []
   },
   "outputs": [
    {
     "name": "stdout",
     "output_type": "stream",
     "text": [
      "'A'\n"
     ]
    }
   ],
   "source": [
    "print(ascii('A'))"
   ]
  },
  {
   "cell_type": "markdown",
   "id": "2ee5c6eb-a5d5-463a-be23-47f439da32ce",
   "metadata": {},
   "source": [
    "Dấu `*` chỉ dùng được cho biểu thức có `1` chuỗi và `1` số nguyên hoặc là `2` số bất kỳ. Nếu dùng sai thì Python sẽ báo lỗi thôi."
   ]
  },
  {
   "cell_type": "code",
   "execution_count": null,
   "id": "85feac61-df0f-46bf-baf8-13d24bfdaf60",
   "metadata": {
    "tags": []
   },
   "outputs": [],
   "source": [
    "'Alice' * 'Bob'"
   ]
  },
  {
   "cell_type": "code",
   "execution_count": null,
   "id": "b55b8208-b75a-4a85-b960-b8900fe5c264",
   "metadata": {
    "tags": []
   },
   "outputs": [],
   "source": [
    "'Alice' * 5.0"
   ]
  },
  {
   "cell_type": "markdown",
   "id": "3875227c-5d60-40e3-8d93-9234106b72f5",
   "metadata": {},
   "source": [
    "## Lưu trữ các giá trị trong `biến`"
   ]
  },
  {
   "cell_type": "markdown",
   "id": "a41fe09e-6f09-447c-9009-b8051bb8c5bc",
   "metadata": {
    "execution": {
     "iopub.execute_input": "2021-10-07T04:37:31.450995Z",
     "iopub.status.busy": "2021-10-07T04:37:31.450288Z",
     "iopub.status.idle": "2021-10-07T04:37:31.460154Z",
     "shell.execute_reply": "2021-10-07T04:37:31.459045Z",
     "shell.execute_reply.started": "2021-10-07T04:37:31.450995Z"
    },
    "tags": []
   },
   "source": [
    "Biến là `Variable`"
   ]
  },
  {
   "cell_type": "markdown",
   "id": "77622433-a9a8-47b2-9fa6-2be8e9739154",
   "metadata": {},
   "source": [
    "`Biến` giống như một cái hộp trong vùng nhớ máy tính, nơi mà chúng ta có thể lưu `một` giá trị nào đó. Có thể dùng để lưu kết quả của `Biểu thức`"
   ]
  },
  {
   "cell_type": "code",
   "execution_count": 45,
   "id": "5139448f-d0f6-495b-be8b-e4d43705ccc8",
   "metadata": {
    "execution": {
     "iopub.execute_input": "2021-10-09T13:58:35.101929Z",
     "iopub.status.busy": "2021-10-09T13:58:35.100929Z",
     "iopub.status.idle": "2021-10-09T13:58:35.121688Z",
     "shell.execute_reply": "2021-10-09T13:58:35.120679Z",
     "shell.execute_reply.started": "2021-10-09T13:58:35.101929Z"
    },
    "tags": []
   },
   "outputs": [
    {
     "data": {
      "text/plain": [
       "2"
      ]
     },
     "execution_count": 45,
     "metadata": {},
     "output_type": "execute_result"
    }
   ],
   "source": [
    "eggs"
   ]
  },
  {
   "cell_type": "markdown",
   "id": "4c784320-87d7-4e02-aaa7-38d3786e0e85",
   "metadata": {},
   "source": [
    "![](assets/box.jpg)"
   ]
  },
  {
   "cell_type": "markdown",
   "id": "571f931a-9cd9-468c-84e6-f4c6369bdfe3",
   "metadata": {},
   "source": [
    "### Câu lệnh gán (assignment statements)"
   ]
  },
  {
   "cell_type": "markdown",
   "id": "0c989912-30bb-46d8-bc26-bb501dea741b",
   "metadata": {},
   "source": [
    "Khởi tạo biến"
   ]
  },
  {
   "cell_type": "code",
   "execution_count": null,
   "id": "9a76d3cf-b1fa-4c84-be34-6af6e413d624",
   "metadata": {
    "tags": []
   },
   "outputs": [],
   "source": [
    "spam = 40"
   ]
  },
  {
   "cell_type": "code",
   "execution_count": 1,
   "id": "248a7dc0",
   "metadata": {},
   "outputs": [],
   "source": [
    "dat = \"Dat\""
   ]
  },
  {
   "cell_type": "code",
   "execution_count": 2,
   "id": "871dd3c0",
   "metadata": {},
   "outputs": [
    {
     "data": {
      "text/plain": [
       "'Dat'"
      ]
     },
     "execution_count": 2,
     "metadata": {},
     "output_type": "execute_result"
    }
   ],
   "source": [
    "dat"
   ]
  },
  {
   "cell_type": "code",
   "execution_count": 7,
   "id": "a7282d9f",
   "metadata": {},
   "outputs": [],
   "source": [
    "dat = 18"
   ]
  },
  {
   "cell_type": "code",
   "execution_count": 8,
   "id": "e9bb676c",
   "metadata": {},
   "outputs": [
    {
     "data": {
      "text/plain": [
       "18"
      ]
     },
     "execution_count": 8,
     "metadata": {},
     "output_type": "execute_result"
    }
   ],
   "source": [
    "dat"
   ]
  },
  {
   "cell_type": "code",
   "execution_count": 9,
   "id": "0cae977a",
   "metadata": {},
   "outputs": [
    {
     "data": {
      "text/plain": [
       "'dat'"
      ]
     },
     "execution_count": 9,
     "metadata": {},
     "output_type": "execute_result"
    }
   ],
   "source": [
    "dat = 'dat'\n",
    "dat"
   ]
  },
  {
   "cell_type": "code",
   "execution_count": 11,
   "id": "572ad1d4",
   "metadata": {},
   "outputs": [
    {
     "data": {
      "text/plain": [
       "300.0"
      ]
     },
     "execution_count": 11,
     "metadata": {},
     "output_type": "execute_result"
    }
   ],
   "source": [
    "dat = 18\n",
    "dat = 'dat chuoi'\n",
    "dat = 200.00\n",
    "dat = 'hello dat'\n",
    "dat = 100\n",
    "dat = 300.00\n",
    "dat"
   ]
  },
  {
   "cell_type": "code",
   "execution_count": 12,
   "id": "bdf37bcf",
   "metadata": {},
   "outputs": [],
   "source": [
    "dat: int = 18"
   ]
  },
  {
   "cell_type": "code",
   "execution_count": 13,
   "id": "9a275f81",
   "metadata": {},
   "outputs": [],
   "source": [
    "dat: str = 'hello '"
   ]
  },
  {
   "cell_type": "code",
   "execution_count": 14,
   "id": "4ac7fe74",
   "metadata": {},
   "outputs": [
    {
     "data": {
      "text/plain": [
       "'hello '"
      ]
     },
     "execution_count": 14,
     "metadata": {},
     "output_type": "execute_result"
    }
   ],
   "source": [
    "dat"
   ]
  },
  {
   "cell_type": "code",
   "execution_count": 15,
   "id": "ca5136ff",
   "metadata": {},
   "outputs": [],
   "source": [
    "dat: float = 19.99"
   ]
  },
  {
   "cell_type": "code",
   "execution_count": 16,
   "id": "9e2e165c",
   "metadata": {},
   "outputs": [
    {
     "data": {
      "text/plain": [
       "19.99"
      ]
     },
     "execution_count": 16,
     "metadata": {},
     "output_type": "execute_result"
    }
   ],
   "source": [
    "dat"
   ]
  },
  {
   "cell_type": "code",
   "execution_count": 3,
   "id": "80039581",
   "metadata": {},
   "outputs": [],
   "source": [
    "dat_age = 18"
   ]
  },
  {
   "cell_type": "code",
   "execution_count": 4,
   "id": "45ff7240",
   "metadata": {},
   "outputs": [
    {
     "data": {
      "text/plain": [
       "18"
      ]
     },
     "execution_count": 4,
     "metadata": {},
     "output_type": "execute_result"
    }
   ],
   "source": [
    "dat_age"
   ]
  },
  {
   "cell_type": "code",
   "execution_count": 5,
   "id": "b0d739e5",
   "metadata": {},
   "outputs": [],
   "source": [
    "dat_money = 200.000"
   ]
  },
  {
   "cell_type": "code",
   "execution_count": 6,
   "id": "462c44bd",
   "metadata": {},
   "outputs": [
    {
     "data": {
      "text/plain": [
       "200.0"
      ]
     },
     "execution_count": 6,
     "metadata": {},
     "output_type": "execute_result"
    }
   ],
   "source": [
    "dat_money"
   ]
  },
  {
   "cell_type": "markdown",
   "id": "fa457298-1342-4b67-8c85-0d5b7df5eaea",
   "metadata": {},
   "source": [
    "Dùng biến"
   ]
  },
  {
   "cell_type": "code",
   "execution_count": null,
   "id": "48b61982-6b6f-44fd-a03d-4e08ab04d3cb",
   "metadata": {
    "tags": []
   },
   "outputs": [],
   "source": [
    "spam"
   ]
  },
  {
   "cell_type": "code",
   "execution_count": 44,
   "id": "0047bf5e-a4c2-43b5-8d70-ff12a9f2ffe2",
   "metadata": {
    "execution": {
     "iopub.execute_input": "2021-10-09T13:58:29.605559Z",
     "iopub.status.busy": "2021-10-09T13:58:29.604557Z",
     "iopub.status.idle": "2021-10-09T13:58:29.624166Z",
     "shell.execute_reply": "2021-10-09T13:58:29.623158Z",
     "shell.execute_reply.started": "2021-10-09T13:58:29.605559Z"
    },
    "tags": []
   },
   "outputs": [],
   "source": [
    "eggs = 2"
   ]
  },
  {
   "cell_type": "code",
   "execution_count": null,
   "id": "c12c0bed-9ee0-4b8a-bf05-d30db218e662",
   "metadata": {
    "tags": []
   },
   "outputs": [],
   "source": [
    "spam + eggs"
   ]
  },
  {
   "cell_type": "code",
   "execution_count": null,
   "id": "f44fe054-9629-4577-afdf-7ca57347705d",
   "metadata": {
    "tags": []
   },
   "outputs": [],
   "source": [
    "spam + eggs + spam"
   ]
  },
  {
   "cell_type": "code",
   "execution_count": null,
   "id": "a2f2b432-ac0b-4919-9d91-9b28fd51e9f7",
   "metadata": {
    "tags": []
   },
   "outputs": [],
   "source": [
    "spam = spam + 2"
   ]
  },
  {
   "cell_type": "code",
   "execution_count": null,
   "id": "e2e7f958-535b-456e-b651-c275ff47fb94",
   "metadata": {
    "tags": []
   },
   "outputs": [],
   "source": [
    "spam"
   ]
  },
  {
   "cell_type": "markdown",
   "id": "4c09520c-87ef-4dfe-ab57-c387161fd9d5",
   "metadata": {},
   "source": [
    "Không thể dùng biến chưa khởi tạo"
   ]
  },
  {
   "cell_type": "code",
   "execution_count": null,
   "id": "ee8113df-79a8-47d8-9773-dd4fe2afbd6e",
   "metadata": {
    "tags": []
   },
   "outputs": [],
   "source": [
    "chao"
   ]
  },
  {
   "cell_type": "markdown",
   "id": "7ddfd818-bee6-4b3c-b285-61ec584163e2",
   "metadata": {},
   "source": [
    "Cái hộp `biến` có thể thay đổi giá trị"
   ]
  },
  {
   "cell_type": "code",
   "execution_count": null,
   "id": "4edd0acd-15e3-4f3f-836c-a5945a2910d7",
   "metadata": {
    "tags": []
   },
   "outputs": [],
   "source": [
    "spam = 'Hello'"
   ]
  },
  {
   "cell_type": "code",
   "execution_count": null,
   "id": "5ae710b6-7c01-4ec8-b0eb-6fbc2d211092",
   "metadata": {
    "tags": []
   },
   "outputs": [],
   "source": [
    "spam"
   ]
  },
  {
   "cell_type": "code",
   "execution_count": null,
   "id": "706d7f8e-547c-4aa1-b023-49c94e07e0de",
   "metadata": {
    "tags": []
   },
   "outputs": [],
   "source": [
    "spam = 'Goodbye'"
   ]
  },
  {
   "cell_type": "code",
   "execution_count": null,
   "id": "a7b36cd8-7434-43d1-b96d-1885e6bb1c2c",
   "metadata": {
    "tags": []
   },
   "outputs": [],
   "source": [
    "spam"
   ]
  },
  {
   "cell_type": "markdown",
   "id": "9d851144-bf89-4c44-94c1-796be328c2d8",
   "metadata": {},
   "source": [
    "![](assets/box1.jpg)"
   ]
  },
  {
   "cell_type": "markdown",
   "id": "cf720647-59d3-428d-95f4-6b5b0c5384e1",
   "metadata": {},
   "source": [
    "## Tên biến"
   ]
  },
  {
   "cell_type": "markdown",
   "id": "cdcff098-d82f-4c2d-8131-8b8858c24eb0",
   "metadata": {},
   "source": [
    "Một tên biến tốt, là một tên biến có thể mô tả được dữ liệu mà nó chứa"
   ]
  },
  {
   "cell_type": "markdown",
   "id": "4c1d2053-f457-49a4-bfc9-07512fe6f9d6",
   "metadata": {},
   "source": [
    "- Là một từ không có dấu cách\n",
    "- có thể sử dụng ký tự, số, dấu gạch chân (_)\n",
    "- Không thể bắt đầu bằng số"
   ]
  },
  {
   "cell_type": "markdown",
   "id": "22547263-4393-4b35-af64-19c35f7cd94c",
   "metadata": {},
   "source": [
    "![](assets/var.jpg)"
   ]
  },
  {
   "cell_type": "markdown",
   "id": "c6744c79-f8b4-4478-ad20-9ac8c1e8c8a6",
   "metadata": {},
   "source": [
    "Tên biến cũng phân biệt chữ hoa chữ thường, nghĩa là `spam`, `SPAM`, `Spam`, và `sPaM` là 4 biến khác nhau."
   ]
  },
  {
   "cell_type": "markdown",
   "id": "29ae97ed-c4fe-4d5b-b53a-1b023860edde",
   "metadata": {},
   "source": [
    "__Quy ước:__ Kiểu viết lạc đà `camelcase` cho tên biến, nghĩa là dùng dấu `_` để ngăn cách các thành phần có ý nghĩa thường được sử dụng trong Python\n",
    "\n",
    "Có thể tìm thêm: `PEP8`"
   ]
  },
  {
   "cell_type": "code",
   "execution_count": 17,
   "id": "91f330a4",
   "metadata": {},
   "outputs": [],
   "source": [
    "dat_dep_trai_nhung_it_tien = 5"
   ]
  },
  {
   "cell_type": "code",
   "execution_count": 18,
   "id": "34434402",
   "metadata": {},
   "outputs": [
    {
     "data": {
      "text/plain": [
       "5"
      ]
     },
     "execution_count": 18,
     "metadata": {},
     "output_type": "execute_result"
    }
   ],
   "source": [
    "dat_dep_trai_nhung_it_tien"
   ]
  },
  {
   "cell_type": "code",
   "execution_count": 19,
   "id": "c6ce48f8",
   "metadata": {},
   "outputs": [],
   "source": [
    "a_b_c_d_e_f_g_h_j_k_l_o_p_uy_t_e_e_w_c_b_d_e_a_asdfasdfas = 100"
   ]
  },
  {
   "cell_type": "code",
   "execution_count": 21,
   "id": "949cc482",
   "metadata": {},
   "outputs": [],
   "source": [
    "a_b_c_d_e_f_g_h_j_k_l_o_p_uy_t_e_e_w_c_b_d_e_a_asdfasdfas_a_b_c_d_e_f_g_h_j_k_l_o_p_uy_t_e_e_w_c_b_d_e_a_asdfasdfas_a_b_c_d_e_f_g_h_j_k_l_o_p_uy_t_e_e_w_c_b_d_e_a_asdfasdfas_a_b_c_d_e_f_g_h_j_k_l_o_p_uy_t_e_e_w_c_b_d_e_a_asdfasdfas_v = 'daiquanhokhonghet'"
   ]
  },
  {
   "cell_type": "code",
   "execution_count": 22,
   "id": "14e3a4aa",
   "metadata": {},
   "outputs": [
    {
     "data": {
      "text/plain": [
       "'daiquanhokhonghet'"
      ]
     },
     "execution_count": 22,
     "metadata": {},
     "output_type": "execute_result"
    }
   ],
   "source": [
    "a_b_c_d_e_f_g_h_j_k_l_o_p_uy_t_e_e_w_c_b_d_e_a_asdfasdfas_a_b_c_d_e_f_g_h_j_k_l_o_p_uy_t_e_e_w_c_b_d_e_a_asdfasdfas_a_b_c_d_e_f_g_h_j_k_l_o_p_uy_t_e_e_w_c_b_d_e_a_asdfasdfas_a_b_c_d_e_f_g_h_j_k_l_o_p_uy_t_e_e_w_c_b_d_e_a_asdfasdfas_v"
   ]
  },
  {
   "cell_type": "code",
   "execution_count": null,
   "id": "be98cab6-0b13-4e59-94bb-c50e51d678ba",
   "metadata": {
    "tags": []
   },
   "outputs": [],
   "source": [
    "bien_nhu_the_nay = 5"
   ]
  },
  {
   "cell_type": "code",
   "execution_count": null,
   "id": "b2782c2e-adf8-4927-886a-3ba2d3b61b57",
   "metadata": {
    "tags": []
   },
   "outputs": [],
   "source": [
    "var_like_this_one = 6"
   ]
  },
  {
   "cell_type": "code",
   "execution_count": 23,
   "id": "27686b9e",
   "metadata": {},
   "outputs": [],
   "source": [
    "bien_co_chamPhay = 5"
   ]
  },
  {
   "cell_type": "code",
   "execution_count": 25,
   "id": "15523849",
   "metadata": {},
   "outputs": [
    {
     "name": "stdout",
     "output_type": "stream",
     "text": [
      "5\n"
     ]
    }
   ],
   "source": [
    "print(bien_co_chamPhay);"
   ]
  },
  {
   "cell_type": "code",
   "execution_count": 27,
   "id": "da306235",
   "metadata": {},
   "outputs": [],
   "source": [
    "a = 2; b = 5; c = 7"
   ]
  },
  {
   "cell_type": "code",
   "execution_count": 31,
   "id": "957396b0",
   "metadata": {},
   "outputs": [
    {
     "ename": "SyntaxError",
     "evalue": "cannot assign to literal (Temp/ipykernel_12748/665616328.py, line 1)",
     "output_type": "error",
     "traceback": [
      "\u001b[1;36m  File \u001b[1;32m\"C:\\Users\\nvatu\\AppData\\Local\\Temp/ipykernel_12748/665616328.py\"\u001b[1;36m, line \u001b[1;32m1\u001b[0m\n\u001b[1;33m    a = 2, b = 2, c = 7\u001b[0m\n\u001b[1;37m        ^\u001b[0m\n\u001b[1;31mSyntaxError\u001b[0m\u001b[1;31m:\u001b[0m cannot assign to literal\n"
     ]
    }
   ],
   "source": [
    "a = 2, b = 2, c = 7"
   ]
  },
  {
   "cell_type": "code",
   "execution_count": 36,
   "id": "862910cd",
   "metadata": {},
   "outputs": [],
   "source": [
    "a, b, c = 2, 2, 7"
   ]
  },
  {
   "cell_type": "code",
   "execution_count": 37,
   "id": "14671514",
   "metadata": {},
   "outputs": [
    {
     "data": {
      "text/plain": [
       "(2, 2, 7)"
      ]
     },
     "execution_count": 37,
     "metadata": {},
     "output_type": "execute_result"
    }
   ],
   "source": [
    "a, b, c"
   ]
  },
  {
   "cell_type": "code",
   "execution_count": 35,
   "id": "fe5a50b5",
   "metadata": {},
   "outputs": [
    {
     "data": {
      "text/plain": [
       "tuple"
      ]
     },
     "execution_count": 35,
     "metadata": {},
     "output_type": "execute_result"
    }
   ],
   "source": [
    "type((a, b, c))"
   ]
  },
  {
   "cell_type": "code",
   "execution_count": 33,
   "id": "bbc8628e",
   "metadata": {},
   "outputs": [
    {
     "data": {
      "text/plain": [
       "(5, 7, 8)"
      ]
     },
     "execution_count": 33,
     "metadata": {},
     "output_type": "execute_result"
    }
   ],
   "source": [
    "5, 7, 8"
   ]
  },
  {
   "cell_type": "code",
   "execution_count": 28,
   "id": "522480bf",
   "metadata": {},
   "outputs": [
    {
     "data": {
      "text/plain": [
       "2"
      ]
     },
     "execution_count": 28,
     "metadata": {},
     "output_type": "execute_result"
    }
   ],
   "source": [
    "a"
   ]
  },
  {
   "cell_type": "code",
   "execution_count": 30,
   "id": "924acb0e",
   "metadata": {},
   "outputs": [
    {
     "data": {
      "text/plain": [
       "7"
      ]
     },
     "execution_count": 30,
     "metadata": {},
     "output_type": "execute_result"
    }
   ],
   "source": [
    "c"
   ]
  },
  {
   "cell_type": "code",
   "execution_count": 29,
   "id": "c53f557b",
   "metadata": {},
   "outputs": [
    {
     "data": {
      "text/plain": [
       "5"
      ]
     },
     "execution_count": 29,
     "metadata": {},
     "output_type": "execute_result"
    }
   ],
   "source": [
    "b"
   ]
  },
  {
   "cell_type": "markdown",
   "id": "3f9b88c9-ea15-4582-81b8-483689beb0ac",
   "metadata": {},
   "source": [
    "## Chương trình đầu tiên"
   ]
  },
  {
   "cell_type": "markdown",
   "id": "1d804f19-ebaa-48bf-809d-a6155092e389",
   "metadata": {},
   "source": [
    "```python\n",
    "➊ # This program says hello and asks for my name.\n",
    "\n",
    "➋ print('Hello, world!')\n",
    "   print('What is your name?')    # ask for their name\n",
    "➌ myName = input()\n",
    "➍ print('It is good to meet you, ' + myName)\n",
    "➎ print('The length of your name is:')\n",
    "   print(len(myName))\n",
    "➏ print('What is your age?')    # ask for their age\n",
    "   myAge = input()\n",
    "   print('You will be ' + str(int(myAge) + 1) + ' in a year.')\n",
    "```"
   ]
  },
  {
   "cell_type": "markdown",
   "id": "f0bf2229-956e-4a09-b3c5-d863e7137d4c",
   "metadata": {},
   "source": [
    "Bài tập: Gõ từ trên xuống dưới và chạy thử, đừng gõ các con số ký hiệu"
   ]
  },
  {
   "cell_type": "code",
   "execution_count": null,
   "id": "d207056c-b122-467b-807c-11ecdc4a9ed5",
   "metadata": {},
   "outputs": [],
   "source": []
  },
  {
   "cell_type": "markdown",
   "id": "f182376c-24b5-42cb-a60f-977db4a7bda8",
   "metadata": {},
   "source": [
    "## Mổ xẻ chương trình"
   ]
  },
  {
   "cell_type": "markdown",
   "id": "d18d4411-6d9b-4b40-9813-c225291c7c00",
   "metadata": {},
   "source": [
    "### Comments"
   ]
  },
  {
   "cell_type": "markdown",
   "id": "f1a4357a-e30c-43f6-92c1-eef403f19082",
   "metadata": {
    "execution": {
     "iopub.execute_input": "2021-10-07T05:00:52.404689Z",
     "iopub.status.busy": "2021-10-07T05:00:52.404211Z",
     "iopub.status.idle": "2021-10-07T05:00:52.419942Z",
     "shell.execute_reply": "2021-10-07T05:00:52.418799Z",
     "shell.execute_reply.started": "2021-10-07T05:00:52.404689Z"
    },
    "tags": []
   },
   "source": [
    "Python sẽ bỏ qua các comment, các comment là dùng cho lập trình viên"
   ]
  },
  {
   "cell_type": "code",
   "execution_count": null,
   "id": "5a6ecf27-fa1f-4739-ab27-2738a61e8cdc",
   "metadata": {
    "tags": []
   },
   "outputs": [],
   "source": [
    "# dòng này không được chạy đâu"
   ]
  },
  {
   "cell_type": "markdown",
   "id": "ec91f26a-8e7d-4484-bddf-cdf59e79564e",
   "metadata": {},
   "source": [
    "### Hàm `print()`"
   ]
  },
  {
   "cell_type": "code",
   "execution_count": 38,
   "id": "567f9f12-e7da-40bc-a141-703e23473460",
   "metadata": {
    "tags": []
   },
   "outputs": [
    {
     "name": "stdout",
     "output_type": "stream",
     "text": [
      "Hello, world!\n"
     ]
    }
   ],
   "source": [
    "print('Hello, world!')"
   ]
  },
  {
   "cell_type": "code",
   "execution_count": null,
   "id": "07e82bc3-c6ee-4626-acfb-8a69ce777bf7",
   "metadata": {
    "tags": []
   },
   "outputs": [],
   "source": [
    "print('What is your name?')"
   ]
  },
  {
   "cell_type": "code",
   "execution_count": null,
   "id": "81dece53-1915-49e9-a1bd-9b311cdd9bc3",
   "metadata": {
    "tags": []
   },
   "outputs": [],
   "source": [
    "print('Dòng đầu tiên')\n",
    "print() # dòng thứ hai\n",
    "print('Dòng thứ ba')"
   ]
  },
  {
   "cell_type": "markdown",
   "id": "c8f00072-0106-4a72-b555-31bd5ccdab04",
   "metadata": {},
   "source": [
    "### Hàm `input()`"
   ]
  },
  {
   "cell_type": "markdown",
   "id": "68f613b0-0d77-4ea3-9dc0-0d44dba310dc",
   "metadata": {},
   "source": [
    "Hàm `input()` sẽ đợi người dùng nhập một cái gì đó"
   ]
  },
  {
   "cell_type": "code",
   "execution_count": 39,
   "id": "d79ec288-24bf-496e-aad2-bf995ccc93d3",
   "metadata": {
    "tags": []
   },
   "outputs": [
    {
     "name": "stdout",
     "output_type": "stream",
     "text": [
      "10\n"
     ]
    }
   ],
   "source": [
    "myName = input()"
   ]
  },
  {
   "cell_type": "code",
   "execution_count": 40,
   "id": "47afffc8",
   "metadata": {},
   "outputs": [
    {
     "data": {
      "text/plain": [
       "'10'"
      ]
     },
     "execution_count": 40,
     "metadata": {},
     "output_type": "execute_result"
    }
   ],
   "source": [
    "myName"
   ]
  },
  {
   "cell_type": "markdown",
   "id": "f8865e82-d329-4cd7-b8d2-f58ef1ba4f3d",
   "metadata": {},
   "source": [
    "Câu lệnh trên gán chuỗi người dùng nhập vào biến `my_name`"
   ]
  },
  {
   "cell_type": "markdown",
   "id": "03a8f2e6-3715-4ecd-8d1d-a760034296a2",
   "metadata": {},
   "source": [
    "## In tên người dùng"
   ]
  },
  {
   "cell_type": "code",
   "execution_count": null,
   "id": "ac2e8c7e-9fbd-42df-8194-5ceafba37a6e",
   "metadata": {
    "tags": []
   },
   "outputs": [],
   "source": [
    "print('It is good to meet you, ' + myName)"
   ]
  },
  {
   "cell_type": "markdown",
   "id": "39742aa7-453c-48a0-bb86-bb375b7ae1d0",
   "metadata": {},
   "source": [
    "## Hàm `len()` "
   ]
  },
  {
   "cell_type": "markdown",
   "id": "27181e9d-abe6-480e-a447-f8c1a73a8cb0",
   "metadata": {
    "execution": {
     "iopub.execute_input": "2021-10-07T05:07:28.075106Z",
     "iopub.status.busy": "2021-10-07T05:07:28.075106Z",
     "iopub.status.idle": "2021-10-07T05:07:28.083151Z",
     "shell.execute_reply": "2021-10-07T05:07:28.082138Z",
     "shell.execute_reply.started": "2021-10-07T05:07:28.075106Z"
    },
    "tags": []
   },
   "source": [
    "`len()` sẽ nhận vào một biến kiểu chuỗi, hoặc chuỗi và trả về số lượng phần tử của biến đó"
   ]
  },
  {
   "cell_type": "code",
   "execution_count": null,
   "id": "cee12db2-3906-4120-9527-ae7e0664b49b",
   "metadata": {
    "tags": []
   },
   "outputs": [],
   "source": [
    "print('The length of your name is:')\n",
    "print(len(myName))"
   ]
  },
  {
   "cell_type": "code",
   "execution_count": null,
   "id": "38cef8ac-47d9-4b6b-948b-17678247062f",
   "metadata": {
    "tags": []
   },
   "outputs": [],
   "source": [
    "len('hello')"
   ]
  },
  {
   "cell_type": "code",
   "execution_count": null,
   "id": "c95b9c0a-60e5-473a-a547-676098d4a2bc",
   "metadata": {
    "tags": []
   },
   "outputs": [],
   "source": [
    "len('My very energetic monster just scarfed nachos.')"
   ]
  },
  {
   "cell_type": "code",
   "execution_count": null,
   "id": "0e28f64c-32e3-490a-9f90-23d16aca4578",
   "metadata": {
    "tags": []
   },
   "outputs": [],
   "source": [
    "len('')"
   ]
  },
  {
   "cell_type": "code",
   "execution_count": null,
   "id": "2c1e4aa7-161c-4a3f-a62f-d96a96300491",
   "metadata": {
    "tags": []
   },
   "outputs": [],
   "source": [
    "print('I am ' + 29 + ' years old.')"
   ]
  },
  {
   "cell_type": "markdown",
   "id": "c3d80d6a-471a-4498-bdc3-8bec47b53f73",
   "metadata": {},
   "source": [
    "## Hàm `str()`, `int()`, `float()`"
   ]
  },
  {
   "cell_type": "markdown",
   "id": "50ade8bb-29e7-4869-a510-38bbfe49e00d",
   "metadata": {},
   "source": [
    "Câu lệnh trên chạy bị sai do không thực hiện toán tử `+` với `giá trị` nó mong muốn. Ta phải ép số `29` thành kiểu `str`"
   ]
  },
  {
   "cell_type": "code",
   "execution_count": null,
   "id": "d9899664-452e-436d-a6e9-5453156bdd1b",
   "metadata": {
    "tags": []
   },
   "outputs": [],
   "source": [
    "str(29)"
   ]
  },
  {
   "cell_type": "code",
   "execution_count": null,
   "id": "92547be8-81eb-4c54-a69c-7b258db8441d",
   "metadata": {
    "tags": []
   },
   "outputs": [],
   "source": [
    "print('I am ' + str(29) + ' years old.')"
   ]
  },
  {
   "cell_type": "code",
   "execution_count": null,
   "id": "970bf23b-9fa7-46b4-8e82-12bcc204f53d",
   "metadata": {
    "tags": []
   },
   "outputs": [],
   "source": [
    "str(0)"
   ]
  },
  {
   "cell_type": "code",
   "execution_count": null,
   "id": "41d31a0e-0c3f-4f87-9080-ccb96e0add09",
   "metadata": {
    "tags": []
   },
   "outputs": [],
   "source": [
    "str(-3.14)"
   ]
  },
  {
   "cell_type": "code",
   "execution_count": null,
   "id": "939fb9dc-7236-4ee1-9404-6731d429fb64",
   "metadata": {
    "tags": []
   },
   "outputs": [],
   "source": [
    "str('42')"
   ]
  },
  {
   "cell_type": "code",
   "execution_count": null,
   "id": "6ae41e7a-1294-4d7f-a6a0-883d507bf63a",
   "metadata": {
    "tags": []
   },
   "outputs": [],
   "source": [
    "int('-99')"
   ]
  },
  {
   "cell_type": "code",
   "execution_count": null,
   "id": "4259867c-2ffd-47ae-b393-9fa046e6991b",
   "metadata": {
    "tags": []
   },
   "outputs": [],
   "source": [
    "int(1.25)"
   ]
  },
  {
   "cell_type": "code",
   "execution_count": null,
   "id": "f46c1848-758c-4615-a511-c8a53491d729",
   "metadata": {
    "tags": []
   },
   "outputs": [],
   "source": [
    "int(1.99)"
   ]
  },
  {
   "cell_type": "code",
   "execution_count": null,
   "id": "69704e48-ae1b-4074-ab78-e973e91b4641",
   "metadata": {
    "tags": []
   },
   "outputs": [],
   "source": [
    "float('3.14')"
   ]
  },
  {
   "cell_type": "code",
   "execution_count": null,
   "id": "256bfa52-071d-446f-9caf-bd74ff886841",
   "metadata": {
    "tags": []
   },
   "outputs": [],
   "source": [
    "float(10)"
   ]
  },
  {
   "cell_type": "markdown",
   "id": "df0c9d13-4ac3-46ec-b4b0-37d34813df59",
   "metadata": {
    "execution": {
     "iopub.execute_input": "2021-10-07T05:11:50.043045Z",
     "iopub.status.busy": "2021-10-07T05:11:50.043045Z",
     "iopub.status.idle": "2021-10-07T05:11:50.057399Z",
     "shell.execute_reply": "2021-10-07T05:11:50.056342Z",
     "shell.execute_reply.started": "2021-10-07T05:11:50.043045Z"
    },
    "tags": []
   },
   "source": [
    "**Nhập một số**"
   ]
  },
  {
   "cell_type": "code",
   "execution_count": null,
   "id": "56ecdb79-9700-462c-9db0-abd96dbb739f",
   "metadata": {
    "tags": []
   },
   "outputs": [],
   "source": [
    "spam = input()"
   ]
  },
  {
   "cell_type": "code",
   "execution_count": null,
   "id": "4fa26f6c-21c1-477d-8e98-d859014c03d1",
   "metadata": {
    "tags": []
   },
   "outputs": [],
   "source": [
    "spam"
   ]
  },
  {
   "cell_type": "code",
   "execution_count": null,
   "id": "a6b362c8-f1b9-4536-8629-99714a74cd9a",
   "metadata": {
    "tags": []
   },
   "outputs": [],
   "source": [
    "spam = int(spam)"
   ]
  },
  {
   "cell_type": "code",
   "execution_count": null,
   "id": "18a9e93f-932e-4f88-821f-dd22e049416b",
   "metadata": {
    "tags": []
   },
   "outputs": [],
   "source": [
    "spam"
   ]
  },
  {
   "cell_type": "code",
   "execution_count": null,
   "id": "7ad5831d-dca3-46b0-a3a2-da5df0bad6a3",
   "metadata": {
    "tags": []
   },
   "outputs": [],
   "source": [
    "spam * 10 / 5"
   ]
  },
  {
   "cell_type": "markdown",
   "id": "9eddb16e-89d5-4339-a3d5-5c704a986c3f",
   "metadata": {
    "execution": {
     "iopub.execute_input": "2021-10-07T05:13:02.737783Z",
     "iopub.status.busy": "2021-10-07T05:13:02.737783Z",
     "iopub.status.idle": "2021-10-07T05:13:02.751523Z",
     "shell.execute_reply": "2021-10-07T05:13:02.750082Z",
     "shell.execute_reply.started": "2021-10-07T05:13:02.737783Z"
    },
    "tags": []
   },
   "source": [
    "**Sử dụng không đúng là báo lỗi ngay**"
   ]
  },
  {
   "cell_type": "code",
   "execution_count": null,
   "id": "460e7091-3033-44e3-877f-f9cb75ecfb66",
   "metadata": {
    "tags": []
   },
   "outputs": [],
   "source": [
    "int('99.99')"
   ]
  },
  {
   "cell_type": "code",
   "execution_count": null,
   "id": "025fdeed-d5e6-4951-8457-21e3d30f564e",
   "metadata": {
    "tags": []
   },
   "outputs": [],
   "source": [
    "int('twelve')"
   ]
  },
  {
   "cell_type": "code",
   "execution_count": null,
   "id": "eefe564f-7875-4a11-b5cb-7374e5f64028",
   "metadata": {
    "tags": []
   },
   "outputs": [],
   "source": [
    "int(7.7)"
   ]
  },
  {
   "cell_type": "code",
   "execution_count": null,
   "id": "f4137e2d-8e80-4db2-9aa0-3e93fe76fff9",
   "metadata": {
    "tags": []
   },
   "outputs": [],
   "source": [
    "int(7.7) + 1"
   ]
  },
  {
   "cell_type": "code",
   "execution_count": null,
   "id": "9015e0d6-8a4e-4b20-bd59-a79b64f25960",
   "metadata": {
    "tags": []
   },
   "outputs": [],
   "source": [
    "print('What is your age?') # ask for their age\n",
    "myAge = input()\n",
    "print('You will be ' + str(int(myAge) + 1) + ' in a year.')"
   ]
  },
  {
   "cell_type": "markdown",
   "id": "adc9fd97-d583-4646-967e-df3789f078e8",
   "metadata": {},
   "source": [
    "## Chuỗi và số có tương đương không?"
   ]
  },
  {
   "cell_type": "code",
   "execution_count": 41,
   "id": "835a9ed2-7197-4c99-8110-08a8a47ac516",
   "metadata": {
    "tags": []
   },
   "outputs": [
    {
     "data": {
      "text/plain": [
       "False"
      ]
     },
     "execution_count": 41,
     "metadata": {},
     "output_type": "execute_result"
    }
   ],
   "source": [
    "42 == '42'"
   ]
  },
  {
   "cell_type": "code",
   "execution_count": 42,
   "id": "e2e406c6-4d2b-468b-9a97-25b14320ceb4",
   "metadata": {
    "tags": []
   },
   "outputs": [
    {
     "data": {
      "text/plain": [
       "True"
      ]
     },
     "execution_count": 42,
     "metadata": {},
     "output_type": "execute_result"
    }
   ],
   "source": [
    "42 == 42.0"
   ]
  },
  {
   "cell_type": "code",
   "execution_count": null,
   "id": "0f3dc390-fec4-4d67-b5c7-17715f88b6f6",
   "metadata": {
    "tags": []
   },
   "outputs": [],
   "source": [
    "42.0 == 0042.000"
   ]
  },
  {
   "cell_type": "code",
   "execution_count": null,
   "id": "b2cbd753-dc78-44bf-980f-a508b62d2c25",
   "metadata": {
    "tags": []
   },
   "outputs": [],
   "source": [
    "print('You will be ' + str(int(myAge) + 1) + ' in a year.')"
   ]
  },
  {
   "cell_type": "markdown",
   "id": "efef1ec9-d3be-4b7b-bdab-5a42bafcf619",
   "metadata": {
    "execution": {
     "iopub.execute_input": "2021-10-07T05:15:44.269943Z",
     "iopub.status.busy": "2021-10-07T05:15:44.269943Z",
     "iopub.status.idle": "2021-10-07T05:15:44.318080Z",
     "shell.execute_reply": "2021-10-07T05:15:44.317361Z",
     "shell.execute_reply.started": "2021-10-07T05:15:44.269943Z"
    },
    "tags": []
   },
   "source": [
    "![](assets/code.jpg)"
   ]
  },
  {
   "cell_type": "markdown",
   "id": "576eb600-618f-4782-829f-060040d6a0c1",
   "metadata": {},
   "source": [
    "# Luyện tập mới thành tài"
   ]
  },
  {
   "cell_type": "markdown",
   "id": "696d7f68-ea34-4d55-829c-ceeae83407bf",
   "metadata": {},
   "source": [
    "1. Cái nào dưới đây là toán tử, cái nào là giá trị\n",
    "```\n",
    "    *\n",
    "    'hello'\n",
    "    -88.8\n",
    "    -\n",
    "    /\n",
    "    +\n",
    "    5\n",
    "```"
   ]
  },
  {
   "cell_type": "markdown",
   "id": "deb485fd-4a63-4fdb-a59e-2c902982950c",
   "metadata": {},
   "source": [
    "2. Cái nào là biến, cái nào là chuỗi\n",
    "```\n",
    "    spam\n",
    "    'spam'\n",
    "```"
   ]
  },
  {
   "cell_type": "markdown",
   "id": "b3da963a-984f-4b7f-8840-b3ea7707788a",
   "metadata": {},
   "source": [
    "3. Liệt kê ba loại kiểu dữ liệu"
   ]
  },
  {
   "cell_type": "markdown",
   "id": "3387a989-cf48-4adc-be40-310a0cdb938c",
   "metadata": {},
   "source": [
    "4. Biểu thức gồm những gì? Biểu thức để làm gì?"
   ]
  },
  {
   "cell_type": "markdown",
   "id": "ec06e05d-bc21-4b40-b782-acfccde44cba",
   "metadata": {},
   "source": [
    "5. Sự khác biệt giữa biểu thức và một câu lệnh"
   ]
  },
  {
   "cell_type": "markdown",
   "id": "f3a568c0-aebc-4db4-a935-7ace764db5ad",
   "metadata": {},
   "source": [
    "6. Biến `bacon` sẽ chứa giá trị nào sau khi chạy\n",
    "```python\n",
    "bacon = 20\n",
    "bacon + 1\n",
    "```"
   ]
  },
  {
   "cell_type": "markdown",
   "id": "fd1542c5-6d29-4a5d-8614-5f986a40b1f0",
   "metadata": {},
   "source": [
    "7. Hai câu lệnh dưới đây làm gì\n",
    "```python\n",
    "'spam' + 'spamspam'\n",
    "'spam' * 3\n",
    "```"
   ]
  },
  {
   "cell_type": "markdown",
   "id": "03fd534d-72ac-4274-8008-4025f75a1ac1",
   "metadata": {},
   "source": [
    "8. Tại sao `egg` là một biến hợp lệ trong khi `100` không phải"
   ]
  },
  {
   "cell_type": "markdown",
   "id": "51ca744b-94c0-42e4-bc0a-4994e6d5cbf0",
   "metadata": {},
   "source": [
    "9. Hàm nào dùng để ép kiểu nguyên, thực, chuỗi"
   ]
  },
  {
   "cell_type": "markdown",
   "id": "6e75afde-63ca-47b3-9a25-08519c241ead",
   "metadata": {},
   "source": [
    "10. Tại sao câu lệnh dưới đây lại lỗi, bạn fix bằng cách nào?\n",
    "```python\n",
    "'I have eaten ' + 99 + ' burritos.'\n",
    "```"
   ]
  },
  {
   "cell_type": "markdown",
   "id": "66d23d3c-db5a-46bd-b4d6-fc894c88afe8",
   "metadata": {},
   "source": [
    "Đọc thêm ở: https://automatetheboringstuff.com/2e/chapter1"
   ]
  }
 ],
 "metadata": {
  "kernelspec": {
   "display_name": "Python 3 (ipykernel)",
   "language": "python",
   "name": "python3"
  },
  "language_info": {
   "codemirror_mode": {
    "name": "ipython",
    "version": 3
   },
   "file_extension": ".py",
   "mimetype": "text/x-python",
   "name": "python",
   "nbconvert_exporter": "python",
   "pygments_lexer": "ipython3",
   "version": "3.8.11"
  }
 },
 "nbformat": 4,
 "nbformat_minor": 5
}
