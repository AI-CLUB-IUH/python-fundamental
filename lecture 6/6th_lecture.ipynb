{
 "cells": [
  {
   "cell_type": "markdown",
   "id": "20915233-53ea-4fc2-b97e-555d08b49817",
   "metadata": {},
   "source": [
    "# Buổi trước chúng ta đã học gì?\n",
    "- Kiểu dữ liệu `list`\n",
    "- Các thao tác và các hàm với `list`\n",
    "- Các keyword để các bạn thực hành khám phá\n",
    "- Các chương trình mẫu vận dụng `list`\n",
    "- Luyện tập mới thành tài 👌😉"
   ]
  },
  {
   "cell_type": "markdown",
   "id": "99341a24-43f8-4964-b354-5f5618a77f61",
   "metadata": {},
   "source": [
    "Hint cho bài cướp biển: josephus problem, cp-algorithm.com"
   ]
  },
  {
   "cell_type": "markdown",
   "id": "df1ebe6e-55e2-4190-9e83-68a990f00f86",
   "metadata": {},
   "source": [
    "# Hôm nay chúng ta sẽ làm quen với\n",
    "- Kiểu dữ liệu `dictionary`\n",
    "- Các thao tác trên `dictionary`\n",
    "- Hàm in \"đẹp\""
   ]
  },
  {
   "cell_type": "markdown",
   "id": "db5d7678-0ead-4777-9f08-e9753b4d2976",
   "metadata": {},
   "source": [
    "# Kiểu dữ liệu `dictionary`"
   ]
  },
  {
   "cell_type": "markdown",
   "id": "06aa53c1-03bd-4a5a-8dc7-36685df286c8",
   "metadata": {},
   "source": [
    "Giống với `list`, `dictionary` cũng là một kiểu dữ liệu làm việc trên nhiều phần tử.\n",
    "\n",
    "Nhưng khác ở chỗ `index`, `index` của `list` chỉ là `số nguyên`, còn của `dictionary` là `key` (một vài kiểu dữ liệu cụ thể). Đây được gọi là cặp khóa-giá trị (key-value pair)."
   ]
  },
  {
   "cell_type": "markdown",
   "id": "6ebf6046-476e-4624-88c1-c6431bc2efe8",
   "metadata": {},
   "source": [
    "![](https://lh3.googleusercontent.com/proxy/2jGsYThQ_N1aDut9WUgaypI1tLjp-sYTC3Fzp5lwy_Pa4sa6pky2g0lbidG91ydR1750aaoHwaMsw-y_IUHrCzA2XcjCp_S1aTfO1V9nZyo)"
   ]
  },
  {
   "cell_type": "code",
   "execution_count": 5,
   "id": "e15a464f-954f-4c7b-8850-3b9bebae5879",
   "metadata": {},
   "outputs": [
    {
     "data": {
      "text/plain": [
       "[1, 2, 3, 4]"
      ]
     },
     "execution_count": 5,
     "metadata": {},
     "output_type": "execute_result"
    }
   ],
   "source": [
    "[1, 2, 3, 4]"
   ]
  },
  {
   "cell_type": "code",
   "execution_count": 6,
   "id": "ef2e3c8c-08f7-4820-baa4-85a89b929d27",
   "metadata": {},
   "outputs": [],
   "source": [
    "myCat = {'size': 'fat', 'color': 'gray', 'disposition': 'loud'}"
   ]
  },
  {
   "cell_type": "code",
   "execution_count": 7,
   "id": "4ea12258-d695-4863-8ace-235d8229a967",
   "metadata": {},
   "outputs": [
    {
     "data": {
      "text/plain": [
       "{'size': 'fat', 'color': 'gray', 'disposition': 'loud'}"
      ]
     },
     "execution_count": 7,
     "metadata": {},
     "output_type": "execute_result"
    }
   ],
   "source": [
    "myCat"
   ]
  },
  {
   "cell_type": "code",
   "execution_count": 8,
   "id": "e7ab2f33-fdc3-41f1-8918-b23f22781426",
   "metadata": {},
   "outputs": [
    {
     "data": {
      "text/plain": [
       "'fat'"
      ]
     },
     "execution_count": 8,
     "metadata": {},
     "output_type": "execute_result"
    }
   ],
   "source": [
    "myCat['size']"
   ]
  },
  {
   "cell_type": "code",
   "execution_count": 9,
   "id": "b68c7a42-2c36-4104-abb0-a23f07bd53ea",
   "metadata": {},
   "outputs": [
    {
     "data": {
      "text/plain": [
       "'My cat has gray fur.'"
      ]
     },
     "execution_count": 9,
     "metadata": {},
     "output_type": "execute_result"
    }
   ],
   "source": [
    "'My cat has ' + myCat['color'] + ' fur.'"
   ]
  },
  {
   "cell_type": "code",
   "execution_count": 10,
   "id": "f504aa08-194a-41f1-8603-56bf5b019174",
   "metadata": {},
   "outputs": [],
   "source": [
    "spam = {12345: 'Luggage Combination', 42: 'The Answer'}"
   ]
  },
  {
   "cell_type": "code",
   "execution_count": 11,
   "id": "4b8c5720-e942-4985-a6b6-ea98ff6961bb",
   "metadata": {},
   "outputs": [
    {
     "data": {
      "text/plain": [
       "{12345: 'Luggage Combination', 42: 'The Answer'}"
      ]
     },
     "execution_count": 11,
     "metadata": {},
     "output_type": "execute_result"
    }
   ],
   "source": [
    "spam"
   ]
  },
  {
   "cell_type": "markdown",
   "id": "e4bca22e-f8c3-4ea0-bfaa-9380f4dcf582",
   "metadata": {},
   "source": [
    "# Dictionary vs. List"
   ]
  },
  {
   "cell_type": "markdown",
   "id": "9627f718-a95d-4cd1-9027-451845a361e0",
   "metadata": {},
   "source": [
    "Trong list, các phần tử sẽ được sắp xếp theo index, ví dụ list `spam` có `spam[0]`. Nhưng trong dictionary, không có phần tử nào là \"đầu tiên\", \"thứ hai\" cả."
   ]
  },
  {
   "cell_type": "code",
   "execution_count": 12,
   "id": "726eeabe-4487-4dd5-9ff3-be31671d780d",
   "metadata": {},
   "outputs": [],
   "source": [
    "spam = ['cats', 'dogs', 'moose']"
   ]
  },
  {
   "cell_type": "code",
   "execution_count": 13,
   "id": "07ef8f4b-4e5c-481b-a910-f65e306d6fb6",
   "metadata": {},
   "outputs": [],
   "source": [
    "bacon = ['dogs', 'moose', 'cats']"
   ]
  },
  {
   "cell_type": "code",
   "execution_count": 14,
   "id": "18e747d4-adcc-4a0e-b6ff-803a172b182a",
   "metadata": {},
   "outputs": [
    {
     "data": {
      "text/plain": [
       "False"
      ]
     },
     "execution_count": 14,
     "metadata": {},
     "output_type": "execute_result"
    }
   ],
   "source": [
    "spam == bacon"
   ]
  },
  {
   "cell_type": "code",
   "execution_count": 15,
   "id": "e182cbec-2a7b-47e9-8428-0c9d4f04827d",
   "metadata": {},
   "outputs": [],
   "source": [
    "eggs = {'name': 'Zophie', 'species': 'cat', 'age': '8'}"
   ]
  },
  {
   "cell_type": "code",
   "execution_count": 16,
   "id": "0e02dd6f-cb54-48d5-82d7-b745482afe6c",
   "metadata": {},
   "outputs": [],
   "source": [
    "ham = {'species': 'cat', 'age': '8', 'name': 'Zophie'}"
   ]
  },
  {
   "cell_type": "code",
   "execution_count": 17,
   "id": "90bc49a1-891d-41ab-b7d4-160af68d01c6",
   "metadata": {},
   "outputs": [
    {
     "data": {
      "text/plain": [
       "True"
      ]
     },
     "execution_count": 17,
     "metadata": {},
     "output_type": "execute_result"
    }
   ],
   "source": [
    "eggs == ham"
   ]
  },
  {
   "cell_type": "markdown",
   "id": "e1cf8348-7f7a-425c-93a4-4e5f21895924",
   "metadata": {},
   "source": [
    "=> Dictionary không theo thứ tự, nên không thể có slice như list"
   ]
  },
  {
   "cell_type": "code",
   "execution_count": 18,
   "id": "6efbe2d3-7de4-4c6f-98ca-7763acd20e64",
   "metadata": {},
   "outputs": [],
   "source": [
    "spam = {'name': 'Zophie', 'age': 7}"
   ]
  },
  {
   "cell_type": "markdown",
   "id": "351f61f4-e880-4aa0-abbe-68c0881054ef",
   "metadata": {},
   "source": [
    "**Báo lỗi của List vs. Dictionary**"
   ]
  },
  {
   "cell_type": "code",
   "execution_count": 19,
   "id": "d06787fc-3869-4a0d-9cee-1f72bd8700be",
   "metadata": {},
   "outputs": [],
   "source": [
    "foo = ['bar', 'wig', 'koo']"
   ]
  },
  {
   "cell_type": "code",
   "execution_count": 20,
   "id": "38bf3b56-5a4b-4f2d-9502-a7e98b716278",
   "metadata": {},
   "outputs": [
    {
     "ename": "IndexError",
     "evalue": "list index out of range",
     "output_type": "error",
     "traceback": [
      "\u001b[1;31m---------------------------------------------------------------------------\u001b[0m",
      "\u001b[1;31mIndexError\u001b[0m                                Traceback (most recent call last)",
      "\u001b[1;32m<ipython-input-20-c4ab54093ff9>\u001b[0m in \u001b[0;36m<module>\u001b[1;34m\u001b[0m\n\u001b[1;32m----> 1\u001b[1;33m \u001b[0mfoo\u001b[0m\u001b[1;33m[\u001b[0m\u001b[1;36m10\u001b[0m\u001b[1;33m]\u001b[0m\u001b[1;33m\u001b[0m\u001b[1;33m\u001b[0m\u001b[0m\n\u001b[0m",
      "\u001b[1;31mIndexError\u001b[0m: list index out of range"
     ]
    }
   ],
   "source": [
    "foo[10]"
   ]
  },
  {
   "cell_type": "code",
   "execution_count": 21,
   "id": "ecf6001a-977b-439b-8620-252e9dacc3ce",
   "metadata": {},
   "outputs": [
    {
     "ename": "TypeError",
     "evalue": "list indices must be integers or slices, not str",
     "output_type": "error",
     "traceback": [
      "\u001b[1;31m---------------------------------------------------------------------------\u001b[0m",
      "\u001b[1;31mTypeError\u001b[0m                                 Traceback (most recent call last)",
      "\u001b[1;32m<ipython-input-21-bd4f46f12c8a>\u001b[0m in \u001b[0;36m<module>\u001b[1;34m\u001b[0m\n\u001b[1;32m----> 1\u001b[1;33m \u001b[0mfoo\u001b[0m\u001b[1;33m[\u001b[0m\u001b[1;34m'color'\u001b[0m\u001b[1;33m]\u001b[0m\u001b[1;33m\u001b[0m\u001b[1;33m\u001b[0m\u001b[0m\n\u001b[0m",
      "\u001b[1;31mTypeError\u001b[0m: list indices must be integers or slices, not str"
     ]
    }
   ],
   "source": [
    "foo['color']"
   ]
  },
  {
   "cell_type": "code",
   "execution_count": 22,
   "id": "07f4feb7-b7e4-46fd-81f3-37c57dd3d3cc",
   "metadata": {},
   "outputs": [
    {
     "ename": "KeyError",
     "evalue": "'color'",
     "output_type": "error",
     "traceback": [
      "\u001b[1;31m---------------------------------------------------------------------------\u001b[0m",
      "\u001b[1;31mKeyError\u001b[0m                                  Traceback (most recent call last)",
      "\u001b[1;32m<ipython-input-22-4ab2633f52b0>\u001b[0m in \u001b[0;36m<module>\u001b[1;34m\u001b[0m\n\u001b[1;32m----> 1\u001b[1;33m \u001b[0mspam\u001b[0m\u001b[1;33m[\u001b[0m\u001b[1;34m'color'\u001b[0m\u001b[1;33m]\u001b[0m\u001b[1;33m\u001b[0m\u001b[1;33m\u001b[0m\u001b[0m\n\u001b[0m",
      "\u001b[1;31mKeyError\u001b[0m: 'color'"
     ]
    }
   ],
   "source": [
    "spam['color']"
   ]
  },
  {
   "cell_type": "code",
   "execution_count": 23,
   "id": "51456f5a-9a73-4e0a-8d6e-4697fe050a0e",
   "metadata": {},
   "outputs": [
    {
     "name": "stdout",
     "output_type": "stream",
     "text": [
      "Không có key: color\n"
     ]
    }
   ],
   "source": [
    "try:\n",
    "    spam['color']\n",
    "except KeyError:\n",
    "    print('Không có key: color')"
   ]
  },
  {
   "cell_type": "markdown",
   "id": "082b6423-c45e-4777-bb55-226500a34e0e",
   "metadata": {},
   "source": [
    "Bởi vì dictionary không sắp xếp theo thứ tự, ta có thể có bất kỳ key nào tùy ý."
   ]
  },
  {
   "cell_type": "markdown",
   "id": "4d06c9d3-393a-4b7c-b48d-b9a605fec207",
   "metadata": {},
   "source": [
    "Các bạn hãy gõ lại đoạn code dưới đây và lưu với file `birthdays.py`"
   ]
  },
  {
   "cell_type": "markdown",
   "id": "2d5f2bbd-b91c-4caf-8639-daea85c6d163",
   "metadata": {},
   "source": [
    "```python\n",
    "➊ birthdays = {'Alice': 'Apr 1', 'Bob': 'Dec 12', 'Carol': 'Mar 4'}\n",
    "\n",
    "   while True:\n",
    "       print('Enter a name: (blank to quit)')\n",
    "       name = input()\n",
    "       if name == '':\n",
    "           break\n",
    "\n",
    "    ➋ if name in birthdays:\n",
    "        ➌ print(birthdays[name] + ' is the birthday of ' + name)\n",
    "       else:\n",
    "           print('I do not have birthday information for ' + name)\n",
    "           print('What is their birthday?')\n",
    "           bday = input()\n",
    "        ➍ birthdays[name] = bday\n",
    "           print('Birthday database updated.')\n",
    "```"
   ]
  },
  {
   "cell_type": "markdown",
   "id": "3afd38ed-08cb-456b-931d-eff389a90b47",
   "metadata": {},
   "source": [
    "Xem thêm chương trình ở đây: https://autbor.com/bdaydb"
   ]
  },
  {
   "cell_type": "markdown",
   "id": "a4d89f23-f700-40d7-92f4-f69f4ea2834a",
   "metadata": {},
   "source": [
    "Kết quả sẽ trông như thế này:\n",
    "\n",
    "```\n",
    "Enter a name: (blank to quit)\n",
    "Alice\n",
    "Apr 1 is the birthday of Alice\n",
    "Enter a name: (blank to quit)\n",
    "Eve\n",
    "I do not have birthday information for Eve\n",
    "What is their birthday?\n",
    "Dec 5\n",
    "Birthday database updated.\n",
    "Enter a name: (blank to quit)\n",
    "Eve\n",
    "Dec 5 is the birthday of Eve\n",
    "Enter a name: (blank to quit)\n",
    "```"
   ]
  },
  {
   "cell_type": "code",
   "execution_count": null,
   "id": "e8564488-978b-4602-87cc-d007baa1804d",
   "metadata": {},
   "outputs": [],
   "source": [
    "# %run birthday.py"
   ]
  },
  {
   "cell_type": "markdown",
   "id": "608b6721-d9f5-45a8-903a-5bd1168c0b8e",
   "metadata": {},
   "source": [
    "# Các hàm và thao tác trên dictionary"
   ]
  },
  {
   "cell_type": "markdown",
   "id": "7b5d2fe5-38b0-4198-8385-737f3d2776a7",
   "metadata": {},
   "source": [
    "## Lấy giá trị của dictionary"
   ]
  },
  {
   "cell_type": "markdown",
   "id": "0ba2eac6-679c-49ce-b14f-b6971ae6752e",
   "metadata": {},
   "source": [
    "- Hàm `keys()` sẽ trả về một list những key của dictionary\n",
    "- Hàm `values()` sẽ trả về một list những value của dictionary\n",
    "- Hàm `items()` sẽ trả về một list những cặp key-value của dictionary theo dạng tuple"
   ]
  },
  {
   "cell_type": "code",
   "execution_count": 24,
   "id": "3c0ea349-13da-4869-93d6-c4e69951af2a",
   "metadata": {},
   "outputs": [],
   "source": [
    "spam = {'color': 'red', 'age': 42}"
   ]
  },
  {
   "cell_type": "code",
   "execution_count": 25,
   "id": "f20345d4-d691-4b3d-806d-6eb689d0f063",
   "metadata": {},
   "outputs": [
    {
     "data": {
      "text/plain": [
       "dict_values(['red', 42])"
      ]
     },
     "execution_count": 25,
     "metadata": {},
     "output_type": "execute_result"
    }
   ],
   "source": [
    "spam.values()"
   ]
  },
  {
   "cell_type": "code",
   "execution_count": 26,
   "id": "3890df19-2e75-44ab-8b93-fd09f786ebb6",
   "metadata": {},
   "outputs": [
    {
     "data": {
      "text/plain": [
       "dict_keys(['color', 'age'])"
      ]
     },
     "execution_count": 26,
     "metadata": {},
     "output_type": "execute_result"
    }
   ],
   "source": [
    "spam.keys()"
   ]
  },
  {
   "cell_type": "code",
   "execution_count": 27,
   "id": "c2b0b580-2c0c-42ca-beaa-0c6e9cff188f",
   "metadata": {},
   "outputs": [
    {
     "data": {
      "text/plain": [
       "dict_items([('color', 'red'), ('age', 42)])"
      ]
     },
     "execution_count": 27,
     "metadata": {},
     "output_type": "execute_result"
    }
   ],
   "source": [
    "spam.items()"
   ]
  },
  {
   "cell_type": "code",
   "execution_count": 28,
   "id": "1f684f3c-48f2-4b12-90f0-57674353ebb5",
   "metadata": {},
   "outputs": [
    {
     "data": {
      "text/plain": [
       "['color', 'age']"
      ]
     },
     "execution_count": 28,
     "metadata": {},
     "output_type": "execute_result"
    }
   ],
   "source": [
    "list(spam.keys())"
   ]
  },
  {
   "cell_type": "code",
   "execution_count": 29,
   "id": "9936a5ed-c3b3-4b68-807a-88fcae38d1cf",
   "metadata": {},
   "outputs": [
    {
     "name": "stdout",
     "output_type": "stream",
     "text": [
      "red\n",
      "42\n"
     ]
    }
   ],
   "source": [
    "for v in spam.values():\n",
    "    print(v)"
   ]
  },
  {
   "cell_type": "code",
   "execution_count": 30,
   "id": "ce6ec74d-da5e-4008-b1e1-6f685e66c4f3",
   "metadata": {},
   "outputs": [
    {
     "name": "stdout",
     "output_type": "stream",
     "text": [
      "color\n",
      "age\n"
     ]
    }
   ],
   "source": [
    "for k in spam.keys():\n",
    "    print(k)"
   ]
  },
  {
   "cell_type": "code",
   "execution_count": 31,
   "id": "d163f72c-d316-4fa5-8721-b992f4e3b9a9",
   "metadata": {},
   "outputs": [
    {
     "name": "stdout",
     "output_type": "stream",
     "text": [
      "('color', 'red')\n",
      "('age', 42)\n"
     ]
    }
   ],
   "source": [
    "for i in spam.items():\n",
    "    print(i)"
   ]
  },
  {
   "cell_type": "code",
   "execution_count": 33,
   "id": "d59f20c6-e23f-45d0-8074-fb57e744e76e",
   "metadata": {},
   "outputs": [
    {
     "name": "stdout",
     "output_type": "stream",
     "text": [
      "('color',)\n",
      "('age',)\n"
     ]
    }
   ],
   "source": [
    "for i in spam.items():\n",
    "    print(i[:1])"
   ]
  },
  {
   "cell_type": "code",
   "execution_count": 37,
   "id": "0ac431ed-21e6-4b28-930c-d54210db98c0",
   "metadata": {},
   "outputs": [
    {
     "name": "stdout",
     "output_type": "stream",
     "text": [
      "color\n",
      "age\n"
     ]
    }
   ],
   "source": [
    "for i in spam.items():\n",
    "    print(i[0])"
   ]
  },
  {
   "cell_type": "code",
   "execution_count": 40,
   "id": "b06c1304-ae0d-4a23-8efe-9d4ed967afad",
   "metadata": {},
   "outputs": [
    {
     "name": "stdout",
     "output_type": "stream",
     "text": [
      "key\n",
      "value\n"
     ]
    }
   ],
   "source": [
    "k, v = ('key', 'value')\n",
    "print(k)\n",
    "print(v)"
   ]
  },
  {
   "cell_type": "code",
   "execution_count": 38,
   "id": "bea7e7ea-e7e3-4753-a0c1-5d51763ac60c",
   "metadata": {},
   "outputs": [
    {
     "name": "stdout",
     "output_type": "stream",
     "text": [
      "Key: color | Value: red\n",
      "Key: age | Value: 42\n"
     ]
    }
   ],
   "source": [
    "for k, v in spam.items():\n",
    "    print('Key: ' + k + ' | Value: ' + str(v))"
   ]
  },
  {
   "cell_type": "markdown",
   "id": "a8203ec9-c484-4a21-b432-8ef164671f05",
   "metadata": {},
   "source": [
    "## Kiểm tra liệu rằng Key hoặc Value có trong dictionary không"
   ]
  },
  {
   "cell_type": "markdown",
   "id": "4628a05c-6016-4adf-97d7-507383ff379c",
   "metadata": {},
   "source": [
    "Ta dùng lại câu lệnh ```in``` và ```not in```"
   ]
  },
  {
   "cell_type": "code",
   "execution_count": 41,
   "id": "6d7b24f0-2f68-468c-bf85-94c0e8ec7e8c",
   "metadata": {},
   "outputs": [
    {
     "data": {
      "text/plain": [
       "['foo', 'bar', 'wig', 'egg']"
      ]
     },
     "execution_count": 41,
     "metadata": {},
     "output_type": "execute_result"
    }
   ],
   "source": [
    "sample_list = ['foo', 'bar', 'wig', 'egg']\n",
    "sample_list"
   ]
  },
  {
   "cell_type": "code",
   "execution_count": 42,
   "id": "69c27e05-13f2-4b4a-a0e6-df7e198711e7",
   "metadata": {},
   "outputs": [],
   "source": [
    "cat_name = 'meow'"
   ]
  },
  {
   "cell_type": "code",
   "execution_count": 45,
   "id": "f342db4f-89a3-48af-aec0-b427f348c793",
   "metadata": {},
   "outputs": [
    {
     "data": {
      "text/plain": [
       "True"
      ]
     },
     "execution_count": 45,
     "metadata": {},
     "output_type": "execute_result"
    }
   ],
   "source": [
    "# Kiểm tra xem meow có trong sample_list không\n",
    "cat_name not in sample_list"
   ]
  },
  {
   "cell_type": "code",
   "execution_count": 46,
   "id": "a93856e2-b85d-4955-8cdf-ff30c062fa58",
   "metadata": {},
   "outputs": [],
   "source": [
    "spam = {'name': 'Zophie', 'age': 7}"
   ]
  },
  {
   "cell_type": "code",
   "execution_count": 50,
   "id": "162c0740-01a8-4375-9eb9-68a191800cf7",
   "metadata": {},
   "outputs": [
    {
     "data": {
      "text/plain": [
       "dict_keys(['name', 'age'])"
      ]
     },
     "execution_count": 50,
     "metadata": {},
     "output_type": "execute_result"
    }
   ],
   "source": [
    "spam.keys()"
   ]
  },
  {
   "cell_type": "code",
   "execution_count": 51,
   "id": "f10ce7fb-112e-40c1-8bef-1f78e6a4b924",
   "metadata": {},
   "outputs": [
    {
     "data": {
      "text/plain": [
       "True"
      ]
     },
     "execution_count": 51,
     "metadata": {},
     "output_type": "execute_result"
    }
   ],
   "source": [
    "'name' in list(spam.keys())"
   ]
  },
  {
   "cell_type": "code",
   "execution_count": 52,
   "id": "7b73e8aa-c3c3-4a1b-b48f-22b941278b37",
   "metadata": {},
   "outputs": [
    {
     "data": {
      "text/plain": [
       "True"
      ]
     },
     "execution_count": 52,
     "metadata": {},
     "output_type": "execute_result"
    }
   ],
   "source": [
    "'Zophie' in spam.values()"
   ]
  },
  {
   "cell_type": "code",
   "execution_count": 54,
   "id": "f2e91ae9-bb8f-4003-b282-36ab0e55d004",
   "metadata": {},
   "outputs": [
    {
     "data": {
      "text/plain": [
       "dict_keys(['name', 'age'])"
      ]
     },
     "execution_count": 54,
     "metadata": {},
     "output_type": "execute_result"
    }
   ],
   "source": [
    "spam.keys()"
   ]
  },
  {
   "cell_type": "code",
   "execution_count": 53,
   "id": "17d48e8f-e898-4ec9-8061-692492166fa5",
   "metadata": {},
   "outputs": [
    {
     "data": {
      "text/plain": [
       "False"
      ]
     },
     "execution_count": 53,
     "metadata": {},
     "output_type": "execute_result"
    }
   ],
   "source": [
    "'color' in spam.keys()"
   ]
  },
  {
   "cell_type": "code",
   "execution_count": 55,
   "id": "62960a92-ec27-41c1-9a97-ea0ee228d500",
   "metadata": {},
   "outputs": [
    {
     "data": {
      "text/plain": [
       "True"
      ]
     },
     "execution_count": 55,
     "metadata": {},
     "output_type": "execute_result"
    }
   ],
   "source": [
    "'color' not in spam.keys()"
   ]
  },
  {
   "cell_type": "code",
   "execution_count": 56,
   "id": "90460f13-0691-4027-9506-2e7c01fff17a",
   "metadata": {},
   "outputs": [
    {
     "data": {
      "text/plain": [
       "dict"
      ]
     },
     "execution_count": 56,
     "metadata": {},
     "output_type": "execute_result"
    }
   ],
   "source": [
    "type(spam)"
   ]
  },
  {
   "cell_type": "code",
   "execution_count": 57,
   "id": "d7e6847c-1b8a-430d-82a2-1e057c96e47c",
   "metadata": {},
   "outputs": [
    {
     "data": {
      "text/plain": [
       "False"
      ]
     },
     "execution_count": 57,
     "metadata": {},
     "output_type": "execute_result"
    }
   ],
   "source": [
    "'color' in spam"
   ]
  },
  {
   "cell_type": "code",
   "execution_count": 58,
   "id": "7ccce7b2-bf33-4590-a8ce-7be14a5db9c1",
   "metadata": {},
   "outputs": [
    {
     "data": {
      "text/plain": [
       "True"
      ]
     },
     "execution_count": 58,
     "metadata": {},
     "output_type": "execute_result"
    }
   ],
   "source": [
    "'name' in spam"
   ]
  },
  {
   "cell_type": "markdown",
   "id": "e2acf2c9-42f8-4ccd-91fb-5cfdee811ea0",
   "metadata": {},
   "source": [
    "## Hàm `get()`"
   ]
  },
  {
   "cell_type": "markdown",
   "id": "76d54981-56e0-4a66-9496-463351a56381",
   "metadata": {},
   "source": [
    "Khi chưa sử dụng `get()`"
   ]
  },
  {
   "cell_type": "code",
   "execution_count": 70,
   "id": "91fe5d34-9fed-47f7-b516-fbe0c884d5f6",
   "metadata": {},
   "outputs": [],
   "source": [
    "eggs = {}"
   ]
  },
  {
   "cell_type": "code",
   "execution_count": 60,
   "id": "ca3b55ad-9bf7-4bc6-9bd7-c560dd25602c",
   "metadata": {},
   "outputs": [
    {
     "ename": "KeyError",
     "evalue": "'a'",
     "output_type": "error",
     "traceback": [
      "\u001b[1;31m---------------------------------------------------------------------------\u001b[0m",
      "\u001b[1;31mKeyError\u001b[0m                                  Traceback (most recent call last)",
      "\u001b[1;32m<ipython-input-60-09c0da7c056f>\u001b[0m in \u001b[0;36m<module>\u001b[1;34m\u001b[0m\n\u001b[1;32m----> 1\u001b[1;33m \u001b[0meggs\u001b[0m\u001b[1;33m[\u001b[0m\u001b[1;34m'a'\u001b[0m\u001b[1;33m]\u001b[0m \u001b[1;33m+=\u001b[0m \u001b[1;36m1\u001b[0m\u001b[1;33m\u001b[0m\u001b[1;33m\u001b[0m\u001b[0m\n\u001b[0m",
      "\u001b[1;31mKeyError\u001b[0m: 'a'"
     ]
    }
   ],
   "source": [
    "eggs['a'] += 1"
   ]
  },
  {
   "cell_type": "code",
   "execution_count": 71,
   "id": "c872975e-9ae2-4ed7-bab6-37f7458b5918",
   "metadata": {},
   "outputs": [],
   "source": [
    "if 'a' not in eggs:\n",
    "    eggs['a'] = 0\n",
    "eggs['a'] += 1"
   ]
  },
  {
   "cell_type": "code",
   "execution_count": 72,
   "id": "6257e7a6-ebe1-4684-8a77-8c400c4aa239",
   "metadata": {},
   "outputs": [
    {
     "data": {
      "text/plain": [
       "{'a': 1}"
      ]
     },
     "execution_count": 72,
     "metadata": {},
     "output_type": "execute_result"
    }
   ],
   "source": [
    "eggs"
   ]
  },
  {
   "cell_type": "code",
   "execution_count": 63,
   "id": "2c3091dc-73eb-4d26-a6c5-cfe6ad9751da",
   "metadata": {},
   "outputs": [],
   "source": [
    "eggs = {}"
   ]
  },
  {
   "cell_type": "code",
   "execution_count": 64,
   "id": "d3800bf2-71de-4ec3-af20-258e4c728c35",
   "metadata": {},
   "outputs": [],
   "source": [
    "if 'a' not in eggs:\n",
    "    eggs['a'] = []\n",
    "eggs['a'] += [1]\n",
    "eggs['a'] += ['string']"
   ]
  },
  {
   "cell_type": "code",
   "execution_count": 65,
   "id": "ac7302b5-4687-4c51-9b4c-018e8f055a78",
   "metadata": {},
   "outputs": [
    {
     "data": {
      "text/plain": [
       "{'a': [1, 'string']}"
      ]
     },
     "execution_count": 65,
     "metadata": {},
     "output_type": "execute_result"
    }
   ],
   "source": [
    "eggs"
   ]
  },
  {
   "cell_type": "markdown",
   "id": "8f4bbb29-a373-4d74-9c0e-fbf5715e6f56",
   "metadata": {},
   "source": [
    "Khi sử dụng hàm `get()` với giá trị mặc định là 0"
   ]
  },
  {
   "cell_type": "code",
   "execution_count": 73,
   "id": "e34c5d88-519a-4f9b-80e3-16860378421e",
   "metadata": {},
   "outputs": [
    {
     "data": {
      "text/plain": [
       "{'a': 1}"
      ]
     },
     "execution_count": 73,
     "metadata": {},
     "output_type": "execute_result"
    }
   ],
   "source": [
    "eggs = {}\n",
    "if 'a' not in eggs:\n",
    "    eggs['a'] = 0\n",
    "eggs['a'] += 1\n",
    "eggs"
   ]
  },
  {
   "cell_type": "markdown",
   "id": "8a7ea48a-e86f-4e23-ab0e-f10dae25b177",
   "metadata": {},
   "source": [
    "---"
   ]
  },
  {
   "cell_type": "code",
   "execution_count": 88,
   "id": "4a20e203-68cb-4793-99c8-c794df3c1e18",
   "metadata": {},
   "outputs": [
    {
     "name": "stdout",
     "output_type": "stream",
     "text": [
      "Help on built-in function get:\n",
      "\n",
      "get(key, default=None, /) method of builtins.dict instance\n",
      "    Return the value for key if key is in the dictionary, else default.\n",
      "\n"
     ]
    }
   ],
   "source": [
    "# chức năng của hàm get\n",
    "help(eggs.get)"
   ]
  },
  {
   "cell_type": "code",
   "execution_count": 89,
   "id": "4c324cf5-5457-42cc-a6c9-ddc252cc66d2",
   "metadata": {},
   "outputs": [
    {
     "data": {
      "text/plain": [
       "'string123'"
      ]
     },
     "execution_count": 89,
     "metadata": {},
     "output_type": "execute_result"
    }
   ],
   "source": [
    "# một ví dụ về get\n",
    "eggs = {'a': 0, 'b': 'string123'}\n",
    "eggs.get('b', 999)"
   ]
  },
  {
   "cell_type": "code",
   "execution_count": 87,
   "id": "497e867d-d41f-4729-9cc5-7bb158df15bd",
   "metadata": {},
   "outputs": [
    {
     "data": {
      "text/plain": [
       "{'a': 3}"
      ]
     },
     "execution_count": 87,
     "metadata": {},
     "output_type": "execute_result"
    }
   ],
   "source": [
    "eggs = {'a': 2}\n",
    "eggs['a'] = eggs.get('a', 0) + 1\n",
    "eggs"
   ]
  },
  {
   "cell_type": "markdown",
   "id": "6b5930bc-3b69-45fd-a187-3501a8daa8dc",
   "metadata": {},
   "source": [
    "Một số ví dụ khác"
   ]
  },
  {
   "cell_type": "code",
   "execution_count": null,
   "id": "e3ece5b3-8c20-40a7-bbcd-2aa96c18b7db",
   "metadata": {},
   "outputs": [],
   "source": [
    "picnicItems = {'apples': 5, 'cups': 2}"
   ]
  },
  {
   "cell_type": "code",
   "execution_count": null,
   "id": "54a0272f-68fd-4780-a178-dc48c7605270",
   "metadata": {},
   "outputs": [],
   "source": [
    "'I am bringing ' + str(picnicItems.get('cups', 0)) + ' cups.'"
   ]
  },
  {
   "cell_type": "code",
   "execution_count": null,
   "id": "d9572d0b-dbc1-4317-b2b2-cd4fbc8f23da",
   "metadata": {},
   "outputs": [],
   "source": [
    "'I am bringing ' + str(picnicItems.get('eggs', 0)) + ' eggs.'"
   ]
  },
  {
   "cell_type": "code",
   "execution_count": null,
   "id": "64fcf55a-5718-469c-a997-0a5f6a9ca5f6",
   "metadata": {},
   "outputs": [],
   "source": [
    "picnicItems = {'apples': 5, 'cups': 2}"
   ]
  },
  {
   "cell_type": "code",
   "execution_count": null,
   "id": "482089c9-f71d-4a19-ac26-ec7124b41115",
   "metadata": {},
   "outputs": [],
   "source": [
    "'I am bringing ' + str(picnicItems['eggs']) + ' eggs.'"
   ]
  },
  {
   "cell_type": "markdown",
   "id": "329b8778-598e-48e7-a29f-251b1c0d6990",
   "metadata": {},
   "source": [
    "## Hàm `setdefault()`"
   ]
  },
  {
   "cell_type": "code",
   "execution_count": null,
   "id": "c8646088-ec6d-4a3a-b703-e2536528a7b7",
   "metadata": {},
   "outputs": [],
   "source": []
  },
  {
   "cell_type": "code",
   "execution_count": 90,
   "id": "71133f2b-9514-45d3-9b72-e00ca67b6b03",
   "metadata": {},
   "outputs": [],
   "source": [
    "spam = {'name': 'Pooka', 'age': 5}\n",
    "if 'color' not in spam:\n",
    "    spam['color'] = 'black'"
   ]
  },
  {
   "cell_type": "code",
   "execution_count": 91,
   "id": "2a85d1b4-df3b-449e-aeb2-91fa1bac0d5b",
   "metadata": {},
   "outputs": [],
   "source": [
    "spam = {'name': 'Pooka', 'age': 5}"
   ]
  },
  {
   "cell_type": "code",
   "execution_count": 92,
   "id": "b4a94906-4927-461b-9b7e-b857dc390c6d",
   "metadata": {},
   "outputs": [
    {
     "data": {
      "text/plain": [
       "'black'"
      ]
     },
     "execution_count": 92,
     "metadata": {},
     "output_type": "execute_result"
    }
   ],
   "source": [
    "spam.setdefault('color', 'black')"
   ]
  },
  {
   "cell_type": "code",
   "execution_count": 93,
   "id": "e3c82814-23be-46a7-b053-0fe0d2042063",
   "metadata": {},
   "outputs": [
    {
     "data": {
      "text/plain": [
       "{'name': 'Pooka', 'age': 5, 'color': 'black'}"
      ]
     },
     "execution_count": 93,
     "metadata": {},
     "output_type": "execute_result"
    }
   ],
   "source": [
    "spam"
   ]
  },
  {
   "cell_type": "code",
   "execution_count": 94,
   "id": "79fe1cae-bc42-48d4-a229-9368900559cd",
   "metadata": {},
   "outputs": [
    {
     "data": {
      "text/plain": [
       "'black'"
      ]
     },
     "execution_count": 94,
     "metadata": {},
     "output_type": "execute_result"
    }
   ],
   "source": [
    "spam.setdefault('color', 'white')"
   ]
  },
  {
   "cell_type": "code",
   "execution_count": 96,
   "id": "20014f31-c134-4370-82a0-3d9dbca0e408",
   "metadata": {},
   "outputs": [
    {
     "name": "stdout",
     "output_type": "stream",
     "text": [
      "Help on built-in function setdefault:\n",
      "\n",
      "setdefault(key, default=None, /) method of builtins.dict instance\n",
      "    Insert key with a value of default if key is not in the dictionary.\n",
      "    \n",
      "    Return the value for key if key is in the dictionary, else default.\n",
      "\n"
     ]
    }
   ],
   "source": [
    "help(spam.setdefault)"
   ]
  },
  {
   "cell_type": "code",
   "execution_count": 95,
   "id": "6bf1f0cf-c698-4d93-ab4b-4d5234e869ba",
   "metadata": {},
   "outputs": [
    {
     "data": {
      "text/plain": [
       "{'name': 'Pooka', 'age': 5, 'color': 'black'}"
      ]
     },
     "execution_count": 95,
     "metadata": {},
     "output_type": "execute_result"
    }
   ],
   "source": [
    "spam"
   ]
  },
  {
   "cell_type": "markdown",
   "id": "ac6dd939-473b-4693-ade2-87286ae1ee99",
   "metadata": {},
   "source": [
    "Các bạn hãy gõ lại đoạn code dưới đây và đặt tên file là `characterCount.py` và chạy thử"
   ]
  },
  {
   "cell_type": "markdown",
   "id": "41edc42a-ff8e-4342-a3ed-aa053b8df935",
   "metadata": {},
   "source": [
    "```python\n",
    "message = 'It was a bright cold day in April, and the clocks were striking thirteen.'\n",
    "count = {}\n",
    "\n",
    "for character in message:\n",
    "➊ count.setdefault(character, 0)\n",
    "➋ count[character] = count[character] + 1\n",
    "\n",
    "print(count)    \n",
    "```"
   ]
  },
  {
   "cell_type": "markdown",
   "id": "6784cf42-383f-4f5e-a6bf-8a9ce463ace9",
   "metadata": {},
   "source": [
    "Xem thêm ở: https://autbor.com/setdefault"
   ]
  },
  {
   "cell_type": "markdown",
   "id": "b7405add-1e9d-4085-a771-da4d94df8e86",
   "metadata": {},
   "source": [
    "Kết quả:\n",
    "\n",
    "```\n",
    "{'I': 1, 't': 6, ' ': 13, 'w': 2, 'a': 4, 's': 3, 'b': 1, 'r': 5, 'i': 6, 'g': 2, 'h': 3, 'c': 3, 'o': 2, 'l': 3, 'd': 3, 'y': 1, 'n': 4, 'A': 1, 'p': 1, ',': 1, 'e': 5, 'k': 2, '.': 1}\n",
    "```"
   ]
  },
  {
   "cell_type": "markdown",
   "id": "85193457-5d03-40ba-94c8-b32604ac6741",
   "metadata": {},
   "source": [
    "# Pretty Printing"
   ]
  },
  {
   "cell_type": "code",
   "execution_count": 101,
   "id": "e8ee2ff5-3a88-45bc-9d8c-9bb3b32432eb",
   "metadata": {},
   "outputs": [],
   "source": [
    "# help(pprint)"
   ]
  },
  {
   "cell_type": "code",
   "execution_count": 97,
   "id": "639b79ab-13cd-4a06-a8be-07fa63dfd434",
   "metadata": {},
   "outputs": [
    {
     "name": "stdout",
     "output_type": "stream",
     "text": [
      "{' ': 13,\n",
      " ',': 1,\n",
      " '.': 1,\n",
      " 'A': 1,\n",
      " 'I': 1,\n",
      " 'a': 4,\n",
      " 'b': 1,\n",
      " 'c': 3,\n",
      " 'd': 3,\n",
      " 'e': 5,\n",
      " 'g': 2,\n",
      " 'h': 3,\n",
      " 'i': 6,\n",
      " 'k': 2,\n",
      " 'l': 3,\n",
      " 'n': 4,\n",
      " 'o': 2,\n",
      " 'p': 1,\n",
      " 'r': 5,\n",
      " 's': 3,\n",
      " 't': 6,\n",
      " 'w': 2,\n",
      " 'y': 1}\n"
     ]
    }
   ],
   "source": [
    "import pprint\n",
    "message = 'It was a bright cold day in April, and the clocks were striking thirteen.'\n",
    "count = {}\n",
    "\n",
    "for character in message:\n",
    "    count.setdefault(character, 0)\n",
    "    count[character] = count[character] + 1\n",
    "\n",
    "pprint.pprint(count)"
   ]
  },
  {
   "cell_type": "code",
   "execution_count": 98,
   "id": "d8ae9470-6d9a-480d-b05d-2ba1df48a548",
   "metadata": {},
   "outputs": [
    {
     "name": "stdout",
     "output_type": "stream",
     "text": [
      "{'I': 1, 't': 6, ' ': 13, 'w': 2, 'a': 4, 's': 3, 'b': 1, 'r': 5, 'i': 6, 'g': 2, 'h': 3, 'c': 3, 'o': 2, 'l': 3, 'd': 3, 'y': 1, 'n': 4, 'A': 1, 'p': 1, ',': 1, 'e': 5, 'k': 2, '.': 1}\n"
     ]
    }
   ],
   "source": [
    "print(count)"
   ]
  },
  {
   "cell_type": "code",
   "execution_count": null,
   "id": "3b42f273-cb9e-45bc-8b5d-2c6307ef5e05",
   "metadata": {},
   "outputs": [],
   "source": [
    "pprint.pprint(count)"
   ]
  },
  {
   "cell_type": "code",
   "execution_count": 99,
   "id": "fa09a64c-b9e2-48d0-ab1f-4cfb29162d25",
   "metadata": {},
   "outputs": [
    {
     "name": "stdout",
     "output_type": "stream",
     "text": [
      "{' ': 13,\n",
      " ',': 1,\n",
      " '.': 1,\n",
      " 'A': 1,\n",
      " 'I': 1,\n",
      " 'a': 4,\n",
      " 'b': 1,\n",
      " 'c': 3,\n",
      " 'd': 3,\n",
      " 'e': 5,\n",
      " 'g': 2,\n",
      " 'h': 3,\n",
      " 'i': 6,\n",
      " 'k': 2,\n",
      " 'l': 3,\n",
      " 'n': 4,\n",
      " 'o': 2,\n",
      " 'p': 1,\n",
      " 'r': 5,\n",
      " 's': 3,\n",
      " 't': 6,\n",
      " 'w': 2,\n",
      " 'y': 1}\n"
     ]
    }
   ],
   "source": [
    "print(pprint.pformat(count))"
   ]
  },
  {
   "cell_type": "markdown",
   "id": "8f491d8e-eb20-4caf-b950-31b4ccc64514",
   "metadata": {},
   "source": [
    "# Sử dụng cấu trúc dữ liệu để mô tả những thứ trên thế giới thực"
   ]
  },
  {
   "cell_type": "markdown",
   "id": "3acc3e26-b253-4df3-86cd-7ad1be203a45",
   "metadata": {},
   "source": [
    "## Bàn cờ vua"
   ]
  },
  {
   "cell_type": "markdown",
   "id": "7cab8909-c7fa-422e-923d-8522a8dd90e5",
   "metadata": {},
   "source": [
    "![](http://automatetheboringstuff.com/2e/images/000006.jpg)"
   ]
  },
  {
   "cell_type": "markdown",
   "id": "6084ec08-e2e8-4a3b-8921-29420408e100",
   "metadata": {},
   "source": [
    "Một ví dụ về cách lưu trữ"
   ]
  },
  {
   "cell_type": "code",
   "execution_count": 102,
   "id": "4c8fb008-28ee-4d21-b774-861a9e48e6c9",
   "metadata": {},
   "outputs": [
    {
     "data": {
      "text/plain": [
       "{'1h': 'bking', '6c': 'wqueen', '2g': 'bbishop', '5h': 'bqueen', '3e': 'wking'}"
      ]
     },
     "execution_count": 102,
     "metadata": {},
     "output_type": "execute_result"
    }
   ],
   "source": [
    "{'1h': 'bking', '6c': 'wqueen', '2g': 'bbishop', '5h': 'bqueen', '3e': 'wking'}"
   ]
  },
  {
   "cell_type": "markdown",
   "id": "488e700a-fc3b-45ce-a608-aba5f7209ede",
   "metadata": {},
   "source": [
    "# Bàn cờ tic-tac-toe"
   ]
  },
  {
   "cell_type": "markdown",
   "id": "8a355509-249c-4625-b848-42f38c5d55d1",
   "metadata": {},
   "source": [
    "![](http://automatetheboringstuff.com/2e/images/000048.jpg)"
   ]
  },
  {
   "cell_type": "markdown",
   "id": "3f2b0fe2-080f-49bb-a521-65895cc9c816",
   "metadata": {},
   "source": [
    "Đoạn code đưới đây sẽ mô tả bàn cờ rỗng"
   ]
  },
  {
   "cell_type": "code",
   "execution_count": 103,
   "id": "1d864b13-75af-420f-8220-ee259b58d61f",
   "metadata": {},
   "outputs": [],
   "source": [
    "theBoard = {'top-L': ' ', 'top-M': ' ', 'top-R': ' ',\n",
    "            'mid-L': ' ', 'mid-M': ' ', 'mid-R': ' ',\n",
    "            'low-L': ' ', 'low-M': ' ', 'low-R': ' '}"
   ]
  },
  {
   "cell_type": "code",
   "execution_count": 105,
   "id": "9c31e995-5ab1-402c-ba8c-e80ee3ca6991",
   "metadata": {},
   "outputs": [
    {
     "name": "stdout",
     "output_type": "stream",
     "text": [
      "{'low-L': ' ',\n",
      " 'low-M': ' ',\n",
      " 'low-R': ' ',\n",
      " 'mid-L': ' ',\n",
      " 'mid-M': ' ',\n",
      " 'mid-R': ' ',\n",
      " 'top-L': ' ',\n",
      " 'top-M': ' ',\n",
      " 'top-R': ' '}\n"
     ]
    }
   ],
   "source": [
    "pprint.pprint(theBoard)"
   ]
  },
  {
   "cell_type": "code",
   "execution_count": 104,
   "id": "5e2cc401-e62f-47b6-bd4a-d33df99c8eb0",
   "metadata": {},
   "outputs": [
    {
     "name": "stdout",
     "output_type": "stream",
     "text": [
      "{'top-L': ' ', 'top-M': ' ', 'top-R': ' ', 'mid-L': ' ', 'mid-M': ' ', 'mid-R': ' ', 'low-L': ' ', 'low-M': ' ', 'low-R': ' '}\n"
     ]
    }
   ],
   "source": [
    "print(theBoard)"
   ]
  },
  {
   "cell_type": "markdown",
   "id": "b0d40761-cd65-4a26-9574-c385aaa52853",
   "metadata": {},
   "source": [
    "![](http://automatetheboringstuff.com/2e/images/000141.jpg)"
   ]
  },
  {
   "cell_type": "markdown",
   "id": "ca76b3d4-cffc-471d-88bf-ae96b4c773fe",
   "metadata": {},
   "source": [
    "Khi có một dấu trên bàn cờ"
   ]
  },
  {
   "cell_type": "code",
   "execution_count": 106,
   "id": "ba02dce7-78b2-4a2f-a3a6-7d32f5c63e3a",
   "metadata": {},
   "outputs": [],
   "source": [
    "theBoard = {'top-L': ' ', 'top-M': ' ', 'top-R': ' ',\n",
    "            'mid-L': ' ', 'mid-M': 'X', 'mid-R': ' ',\n",
    "            'low-L': ' ', 'low-M': ' ', 'low-R': ' '}"
   ]
  },
  {
   "cell_type": "markdown",
   "id": "48a94fb0-b029-48b5-a9c4-8b90d591329f",
   "metadata": {},
   "source": [
    "![](http://automatetheboringstuff.com/2e/images/000084.jpg)"
   ]
  },
  {
   "cell_type": "markdown",
   "id": "a4a0ccdb-3945-4501-b1e8-64387c48d424",
   "metadata": {},
   "source": [
    "Đoạn code dưới đây để in bàn cờ"
   ]
  },
  {
   "cell_type": "code",
   "execution_count": 107,
   "id": "d3e91840-57d7-4c93-8324-146524e37438",
   "metadata": {},
   "outputs": [
    {
     "name": "stdout",
     "output_type": "stream",
     "text": [
      "O|O|O\n",
      "-+-+-\n",
      "X|X| \n",
      "-+-+-\n",
      " | |X\n"
     ]
    }
   ],
   "source": [
    "theBoard = {'top-L': 'O', 'top-M': 'O', 'top-R': 'O', 'mid-L': 'X', 'mid-M':\n",
    "'X', 'mid-R': ' ', 'low-L': ' ', 'low-M': ' ', 'low-R': 'X'}\n",
    "\n",
    "def printBoard(board):\n",
    "    print(board['top-L'] + '|' + board['top-M'] + '|' + board['top-R'])\n",
    "    print('-+-+-')\n",
    "    print(board['mid-L'] + '|' + board['mid-M'] + '|' + board['mid-R'])\n",
    "    print('-+-+-')\n",
    "    print(board['low-L'] + '|' + board['low-M'] + '|' + board['low-R'])\n",
    "printBoard(theBoard)"
   ]
  },
  {
   "cell_type": "markdown",
   "id": "b29e599b-0a7a-42e5-8d2d-01024baf6c7c",
   "metadata": {},
   "source": [
    "```python\n",
    "theBoard = {'top-L': ' ', 'top-M': ' ', 'top-R': ' ',\n",
    "            'mid-L': ' ', 'mid-M': ' ', 'mid-R': ' ',\n",
    "            'low-L': ' ', 'low-M': ' ', 'low-R': ' '}\n",
    "\n",
    "def printBoard(board):\n",
    "    print(board['top-L'] + '|' + board['top-M'] + '|' + board['top-R'])\n",
    "    print('-+-+-')\n",
    "    print(board['mid-L'] + '|' + board['mid-M'] + '|' + board['mid-R'])\n",
    "    print('-+-+-')\n",
    "    print(board['low-L'] + '|' + board['low-M'] + '|' + board['low-R'])\n",
    "turn = 'X'\n",
    "for i in range(9):\n",
    "  ➊ printBoard(theBoard)\n",
    "     print('Turn for ' + turn + '. Move on which space?')\n",
    "  ➋ move = input()\n",
    "  ➌ theBoard[move] = turn\n",
    "  ➍ if turn == 'X':\n",
    "         turn = 'O'\n",
    "     else:\n",
    "         turn = 'X'\n",
    " printBoard(theBoard)\n",
    "```"
   ]
  },
  {
   "cell_type": "markdown",
   "id": "5e6252b8-db74-4d01-9950-c41fba977976",
   "metadata": {},
   "source": [
    "Một đoạn code mẫu về việc chơi tic-tac-toe: https://autbor.com/tictactoe3/"
   ]
  },
  {
   "cell_type": "markdown",
   "id": "7c16e4b8-283a-4981-b7bb-22b621f8efc0",
   "metadata": {},
   "source": [
    "## Lồng ghép dictionary và list"
   ]
  },
  {
   "cell_type": "markdown",
   "id": "2aaad065-4c43-44e8-afd3-9e32e286e191",
   "metadata": {},
   "source": [
    "```python\n",
    "allGuests = {'Alice': {'apples': 5, 'pretzels': 12},\n",
    "             'Bob': {'ham sandwiches': 3, 'apples': 2},\n",
    "             'Carol': {'cups': 3, 'apple pies': 1}}\n",
    "\n",
    "def totalBrought(guests, item):\n",
    "    numBrought = 0\n",
    "  ➊ for k, v in guests.items():\n",
    "      ➋ numBrought = numBrought + v.get(item, 0)\n",
    "     return numBrought\n",
    "\n",
    "print('Number of things being brought:')\n",
    "print(' - Apples         ' + str(totalBrought(allGuests, 'apples')))\n",
    "print(' - Cups           ' + str(totalBrought(allGuests, 'cups')))\n",
    "print(' - Cakes          ' + str(totalBrought(allGuests, 'cakes')))\n",
    "print(' - Ham Sandwiches ' + str(totalBrought(allGuests, 'ham sandwiches')))\n",
    "print(' - Apple Pies     ' + str(totalBrought(allGuests, 'apple pies')))\n",
    "```"
   ]
  },
  {
   "cell_type": "markdown",
   "id": "557268ec-bed8-4600-9149-edf628688854",
   "metadata": {},
   "source": [
    "Xem thêm ở đây:  https://autbor.com/guestpicnic/"
   ]
  },
  {
   "cell_type": "markdown",
   "id": "6f15806b-d1e0-4ceb-ab0d-5252e8859770",
   "metadata": {},
   "source": [
    "# Có luyện tập mới thành tài 😉"
   ]
  },
  {
   "cell_type": "markdown",
   "id": "88974ba9-3a6e-4f52-9c25-c6c2ae5d338d",
   "metadata": {},
   "source": [
    "1. Làm cách nào để tạo một dictionary rỗng"
   ]
  },
  {
   "cell_type": "markdown",
   "id": "6bcc67bf-837d-4dc0-a500-71d494f3951e",
   "metadata": {},
   "source": [
    "2. Một dictionary có key `'foo'` và giá trị `42` sẽ trông như thế nào"
   ]
  },
  {
   "cell_type": "markdown",
   "id": "06ba53e0-0aef-4bfc-a5e6-3a8b6ef71456",
   "metadata": {},
   "source": [
    "3. Sự khác nhau chính giữa dictionary và list"
   ]
  },
  {
   "cell_type": "markdown",
   "id": "4ada3535-2202-45e5-9d3f-025dc5f9b398",
   "metadata": {},
   "source": [
    "4. Điều gì sẽ xảy ra nếu bạn cố gắn chạy câu lệnh `spam['foo']` khi `spam = {'bar': 100}`"
   ]
  },
  {
   "cell_type": "markdown",
   "id": "b6bf1623-7bbb-4619-a487-3f7baf66cbc8",
   "metadata": {},
   "source": [
    "5. Nếu biến `spam` lưu trữ một dictionary, sự khác nhau giữa `'cat' in spam` và `'cat' in spam.keys()` là gì"
   ]
  },
  {
   "cell_type": "markdown",
   "id": "f9e9fcf7-80df-4938-8534-42ac24a81606",
   "metadata": {},
   "source": [
    "6. Nếu biến `spam` lưu trữ một dictionary, sự khác nhau giữa `'cat' in spam` và `'cat' in spam.values()` là gì"
   ]
  },
  {
   "cell_type": "markdown",
   "id": "6fc15a64-5359-4727-9e79-5d58569d4377",
   "metadata": {},
   "source": [
    "7. Bạn hãy rút ngắn đoạn code dưới đây\n",
    "\n",
    "```python\n",
    "if 'color' not in spam:\n",
    "    spam['color'] = 'black'\n",
    "```"
   ]
  },
  {
   "cell_type": "markdown",
   "id": "7bb0e3f9-0249-4868-b63e-418e2b92bb71",
   "metadata": {},
   "source": [
    "8. Module nào dùng để in \"đẹp\""
   ]
  },
  {
   "cell_type": "markdown",
   "id": "2d43490f-7a8d-46fc-a71a-18dede8bb831",
   "metadata": {},
   "source": [
    "Toàn bộ bài giảng có thể xem lại ở đây: http://automatetheboringstuff.com/2e/chapter5/"
   ]
  }
 ],
 "metadata": {
  "kernelspec": {
   "display_name": "Python 3",
   "language": "python",
   "name": "python3"
  },
  "language_info": {
   "codemirror_mode": {
    "name": "ipython",
    "version": 3
   },
   "file_extension": ".py",
   "mimetype": "text/x-python",
   "name": "python",
   "nbconvert_exporter": "python",
   "pygments_lexer": "ipython3",
   "version": "3.8.8"
  }
 },
 "nbformat": 4,
 "nbformat_minor": 5
}
