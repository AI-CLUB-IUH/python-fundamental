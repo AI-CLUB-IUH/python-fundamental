{
 "cells": [
  {
   "cell_type": "markdown",
   "id": "6beea8dc-0847-437f-990e-c581956e4adc",
   "metadata": {},
   "source": [
    "# Buổi trước chúng ta đã học gì?"
   ]
  },
  {
   "cell_type": "markdown",
   "id": "ace056a6-1aa8-4475-a888-2e4fd0bb7b3c",
   "metadata": {},
   "source": [
    "- Hai vòng lặp `for` và `while`\n",
    "- Từ khóa `continue` và `break`\n",
    "- Hàm `range()`\n",
    "- Tạo và import các thư viện\n",
    "- Và phần luyện tập 😉\n",
    "    - Bài toán random số từ a -> b"
   ]
  },
  {
   "cell_type": "markdown",
   "id": "9806eb99-06c0-4206-8c02-f270a34f9e25",
   "metadata": {},
   "source": [
    "Solution cho bài toán random số nguyên từ a -> b"
   ]
  },
  {
   "cell_type": "code",
   "execution_count": 84,
   "id": "826e3c54-8e92-4241-8216-b3ee17576f3a",
   "metadata": {},
   "outputs": [],
   "source": [
    "import random\n",
    "import time"
   ]
  },
  {
   "cell_type": "code",
   "execution_count": 2,
   "id": "eb1de582-d9fc-47ba-8e28-319bdb5af3b1",
   "metadata": {},
   "outputs": [],
   "source": [
    "a = 4\n",
    "b = 12"
   ]
  },
  {
   "cell_type": "code",
   "execution_count": 25,
   "id": "0282fcb0-a007-4767-a711-a8a990fecbea",
   "metadata": {},
   "outputs": [
    {
     "data": {
      "text/plain": [
       "11"
      ]
     },
     "execution_count": 25,
     "metadata": {},
     "output_type": "execute_result"
    }
   ],
   "source": [
    "random.randint(a, b)"
   ]
  },
  {
   "cell_type": "markdown",
   "id": "ee5fd5d9-aa25-422b-ad5d-f0c64a3c7bfe",
   "metadata": {},
   "source": [
    "random = A * seed + B \n",
    "\n",
    "A, B cực lớn"
   ]
  },
  {
   "cell_type": "code",
   "execution_count": 121,
   "id": "312190e2-288c-4af4-a6ab-a27d2aac8569",
   "metadata": {},
   "outputs": [],
   "source": [
    "A = 9287359813741834 # một số cực lớn\n",
    "B = 198241290381092380123 # một số cực lớn\n",
    "seed = 21102021 # một số bất kỳ"
   ]
  },
  {
   "cell_type": "markdown",
   "id": "6645652f-b510-4a2a-944f-9ef41f94be8f",
   "metadata": {},
   "source": [
    "Pseudo random"
   ]
  },
  {
   "cell_type": "code",
   "execution_count": 177,
   "id": "5c9a644f-5918-45f8-a4a4-4e2c176e9a4d",
   "metadata": {},
   "outputs": [],
   "source": [
    "def myrandom(A, B, seed):\n",
    "    return A * seed + B"
   ]
  },
  {
   "cell_type": "code",
   "execution_count": 237,
   "id": "809af4ed-b487-412f-bec2-ea75d0e64546",
   "metadata": {},
   "outputs": [
    {
     "name": "stdout",
     "output_type": "stream",
     "text": [
      "11\n"
     ]
    }
   ],
   "source": [
    "seed = myrandom(A, B, seed)\n",
    "print(seed % (b - a + 1) + a)"
   ]
  },
  {
   "cell_type": "markdown",
   "id": "fd26bcb2-72dd-4abb-96c0-9e355e046ecf",
   "metadata": {},
   "source": [
    "Keys: random number phile - youtube"
   ]
  },
  {
   "cell_type": "markdown",
   "id": "a34af46c-a399-4f23-8c7b-37dd65dccc41",
   "metadata": {},
   "source": [
    "# Nội dung kiến thức hôm nay"
   ]
  },
  {
   "cell_type": "markdown",
   "id": "290f8e4d-4d16-459a-b8f4-66cc9969ceb2",
   "metadata": {},
   "source": [
    "- Làm quen với khái niệm `\"hàm\"`\n",
    "- Từ khóa `def` với các tham số"
   ]
  },
  {
   "cell_type": "markdown",
   "id": "b43e7c59-91d5-472d-8fe8-5d048ef4ae02",
   "metadata": {},
   "source": [
    "# Khái niệm \"Hàm\""
   ]
  },
  {
   "cell_type": "markdown",
   "id": "2e108e15-77ed-4061-a364-a321a5c8cbc7",
   "metadata": {},
   "source": [
    "Keys: function concept"
   ]
  },
  {
   "cell_type": "markdown",
   "id": "cefb0b4a-a6ab-44d9-9081-b62bb4b5454e",
   "metadata": {},
   "source": [
    "Hàm giúp tránh việc copy một đoạn code nhiều lần"
   ]
  },
  {
   "cell_type": "code",
   "execution_count": 171,
   "id": "a90e94dc-8b15-40c7-acb8-cf3e8944ea6f",
   "metadata": {},
   "outputs": [],
   "source": [
    "def hello():\n",
    "    print('Howdy!')\n",
    "    print('Howdy!!!')\n",
    "    print('Hello there')"
   ]
  },
  {
   "cell_type": "code",
   "execution_count": 172,
   "id": "b13e34c1-b966-4c3c-8c26-83f133096d45",
   "metadata": {},
   "outputs": [
    {
     "name": "stdout",
     "output_type": "stream",
     "text": [
      "Howdy!\n",
      "Howdy!!!\n",
      "Hello there\n",
      "Howdy!\n",
      "Howdy!!!\n",
      "Hello there\n",
      "Howdy!\n",
      "Howdy!!!\n",
      "Hello there\n"
     ]
    }
   ],
   "source": [
    "hello()\n",
    "hello()\n",
    "hello()"
   ]
  },
  {
   "cell_type": "code",
   "execution_count": 173,
   "id": "07a16692-a5d7-4db9-ae74-9cb47e81be36",
   "metadata": {},
   "outputs": [
    {
     "name": "stdout",
     "output_type": "stream",
     "text": [
      "Howdy!\n",
      "Howdy!!!\n",
      "Hello there.\n",
      "Howdy!\n",
      "Howdy!!!\n",
      "Hello there.\n",
      "Howdy!\n",
      "Howdy!!!\n",
      "Hello there.\n"
     ]
    }
   ],
   "source": [
    "print('Howdy!')\n",
    "print('Howdy!!!')\n",
    "print('Hello there.')\n",
    "print('Howdy!')\n",
    "print('Howdy!!!')\n",
    "print('Hello there.')\n",
    "print('Howdy!')\n",
    "print('Howdy!!!')\n",
    "print('Hello there.')"
   ]
  },
  {
   "cell_type": "markdown",
   "id": "5453fff8-c83f-44ca-aebf-d98bfe34e36f",
   "metadata": {},
   "source": [
    "Xem thêm ở đây: https://autbor.com/hellofunc/"
   ]
  },
  {
   "cell_type": "markdown",
   "id": "3d6aec95-a9c4-4597-bb21-b4417cda9e7a",
   "metadata": {},
   "source": [
    "# Từ khóa `def` với các tham số"
   ]
  },
  {
   "cell_type": "markdown",
   "id": "27c5292a-3134-4ba2-a00e-09df426ffe65",
   "metadata": {},
   "source": [
    "Keys: def statements with parameters"
   ]
  },
  {
   "cell_type": "markdown",
   "id": "9ca5ee98-be08-4ece-b72b-60604bc5f175",
   "metadata": {},
   "source": [
    "Để định nghĩa một hàm, ta cần từ khóa `def`, sau đó đến tên hàm và các tham số muốn đưa vào"
   ]
  },
  {
   "cell_type": "code",
   "execution_count": 174,
   "id": "bc45fde2-7bad-4b01-8ee3-c688dfe4eca9",
   "metadata": {},
   "outputs": [
    {
     "name": "stdout",
     "output_type": "stream",
     "text": [
      "Đây là tham số\n"
     ]
    }
   ],
   "source": [
    "print(\"Đây là tham số\")"
   ]
  },
  {
   "cell_type": "code",
   "execution_count": 175,
   "id": "649115ed-ff94-4f63-94d0-869fa8eb3f94",
   "metadata": {},
   "outputs": [
    {
     "data": {
      "text/plain": [
       "14"
      ]
     },
     "execution_count": 175,
     "metadata": {},
     "output_type": "execute_result"
    }
   ],
   "source": [
    "s = \"Đây là tham số\"\n",
    "len(s)"
   ]
  },
  {
   "cell_type": "code",
   "execution_count": 176,
   "id": "f9055abf-8c27-423d-b8be-6ae170869b05",
   "metadata": {},
   "outputs": [
    {
     "name": "stdout",
     "output_type": "stream",
     "text": [
      "Hello, Alice\n",
      "Hello, Bob\n"
     ]
    }
   ],
   "source": [
    "def hello(name):\n",
    "    print('Hello, ' + name)\n",
    "\n",
    "hello('Alice')\n",
    "hello('Bob')"
   ]
  },
  {
   "cell_type": "markdown",
   "id": "7535c584-2953-435f-a81e-a5e42f94fc2c",
   "metadata": {},
   "source": [
    "Xem thêm ở đây: https://autbor.com/hellofunc2/"
   ]
  },
  {
   "cell_type": "markdown",
   "id": "33a98830-f995-43a4-ac68-0a98dc913951",
   "metadata": {},
   "source": [
    "# Định nghĩa, gọi hàm, truyền vào, đối số, tham số"
   ]
  },
  {
   "cell_type": "markdown",
   "id": "b2188a46-79e2-4cf0-a6de-e2a8c27edc4b",
   "metadata": {},
   "source": [
    "Keys: Define, Call, Pass, Argument, Parameter"
   ]
  },
  {
   "cell_type": "code",
   "execution_count": null,
   "id": "a0fc4f4b-80cf-4ec9-9e5a-29ab6f256512",
   "metadata": {},
   "outputs": [],
   "source": [
    "# 1. từ khóa def định nghĩa hàm sayHello\n",
    "def sayHello(name):\n",
    "    # 4. giá trị 'Al' được truyền vào gọi là đối số\n",
    "    # 5. giá trị 'Al' được gán cho biến name được gọi là tham số\n",
    "    print('Hello, ' + name)\n",
    "    \n",
    "sayHello('Al') # 2. gọi hàm\n",
    "# 3. giá trị 'Al' được truyền vào trong hàm sayHello"
   ]
  },
  {
   "cell_type": "markdown",
   "id": "2e359c18-5921-4415-8325-c81c475c8d21",
   "metadata": {},
   "source": [
    "# Giá trị trả về và câu lệnh trả về"
   ]
  },
  {
   "cell_type": "markdown",
   "id": "b29f2833-d4fb-4ac4-93af-3af46164610c",
   "metadata": {},
   "source": [
    "Keys: Return Values and return Statements\n"
   ]
  },
  {
   "cell_type": "markdown",
   "id": "d3218239-7a4e-4432-b94d-c5d69ce378e6",
   "metadata": {},
   "source": [
    "Khi gọi hàm `len()`, và truyền vào `'Hello'`, hàm này __trả về__ số 5"
   ]
  },
  {
   "cell_type": "code",
   "execution_count": 184,
   "id": "9f29ff94-4ab0-4c4f-bb59-9e138dc91486",
   "metadata": {},
   "outputs": [
    {
     "data": {
      "text/plain": [
       "5"
      ]
     },
     "execution_count": 184,
     "metadata": {},
     "output_type": "execute_result"
    }
   ],
   "source": [
    "len('Hello')"
   ]
  },
  {
   "cell_type": "code",
   "execution_count": 185,
   "id": "ad2eae2f-b9d7-45f5-a15e-8149b9bd86bc",
   "metadata": {},
   "outputs": [
    {
     "data": {
      "text/plain": [
       "10"
      ]
     },
     "execution_count": 185,
     "metadata": {},
     "output_type": "execute_result"
    }
   ],
   "source": [
    "5 + 5"
   ]
  },
  {
   "cell_type": "markdown",
   "id": "74c7fb6a-654e-4da6-b651-da4c44b1e3c9",
   "metadata": {},
   "source": [
    "Để trả về giá trị trong hàm, ta sử dụng từ khóa `return`:\n",
    "- Từ khóa `return`\n",
    "- Giá trị hoặc biểu thức muốn trả về"
   ]
  },
  {
   "cell_type": "markdown",
   "id": "8c935954-bcf5-4863-bc2b-8324bc4a7b19",
   "metadata": {},
   "source": [
    "```python\n",
    "➊ import random\n",
    "\n",
    "➋ def getAnswer(answerNumber): # tham số answerNumber\n",
    "    ➌ if answerNumber == 1:\n",
    "           return 'It is certain'\n",
    "       elif answerNumber == 2:\n",
    "           return 'It is decidedly so'\n",
    "       elif answerNumber == 3:\n",
    "           return 'Yes'\n",
    "       elif answerNumber == 4:\n",
    "           return 'Reply hazy try again'\n",
    "       elif answerNumber == 5:\n",
    "           return 'Ask again later'\n",
    "       elif answerNumber == 6:\n",
    "           return 'Concentrate and ask again'\n",
    "       elif answerNumber == 7:\n",
    "           return 'My reply is no'\n",
    "       elif answerNumber == 8:\n",
    "           return 'Outlook not so good'\n",
    "       elif answerNumber == 9:\n",
    "           return 'Very doubtful'\n",
    "\n",
    "➍ r = random.randint(1, 9)\n",
    "➎ fortune = getAnswer(r) # đối số r\n",
    "➏ print(fortune)\n",
    "```"
   ]
  },
  {
   "cell_type": "markdown",
   "id": "3002da7a-62a6-45c6-bac0-632492045eda",
   "metadata": {},
   "source": [
    "Có thể xem thêm ở đây: https://autbor.com/magic8ball/"
   ]
  },
  {
   "cell_type": "markdown",
   "id": "f1cebfe4-53df-42b6-bf5c-5e2dfb9d824f",
   "metadata": {},
   "source": [
    "Rút gọn của ➍,➎, và ➏"
   ]
  },
  {
   "cell_type": "markdown",
   "id": "f490a2ae-dc13-41dd-9a93-866ec5b6b7cc",
   "metadata": {},
   "source": [
    "```python\n",
    "print(getAnswer(random.randint(1, 9)))\n",
    "```"
   ]
  },
  {
   "cell_type": "markdown",
   "id": "c5e353fc-7d57-4362-ad71-ad7925d5b641",
   "metadata": {},
   "source": [
    "# Giá trị `None`"
   ]
  },
  {
   "cell_type": "markdown",
   "id": "e226d611-a8c6-49cc-a93c-b8712a7b7318",
   "metadata": {},
   "source": [
    "`None` trong python thể hiện sự \"vắng mặt\" của giá trị"
   ]
  },
  {
   "cell_type": "markdown",
   "id": "fff7a85a-54bb-4ee5-a22d-f49c795c1728",
   "metadata": {},
   "source": [
    "![](assets/none.jpg)"
   ]
  },
  {
   "cell_type": "markdown",
   "id": "09e6c372-bb81-4541-aa8d-49fce22be7e5",
   "metadata": {},
   "source": [
    "Và kiểu dữ liệu của `None` là..."
   ]
  },
  {
   "cell_type": "code",
   "execution_count": 186,
   "id": "ed42322a-3362-441f-bd89-a24db05dfb64",
   "metadata": {},
   "outputs": [
    {
     "data": {
      "text/plain": [
       "NoneType"
      ]
     },
     "execution_count": 186,
     "metadata": {},
     "output_type": "execute_result"
    }
   ],
   "source": [
    "type(None)"
   ]
  },
  {
   "cell_type": "markdown",
   "id": "0569d291-458c-4858-a221-7071682655aa",
   "metadata": {},
   "source": [
    "Những ngôn ngữ lập trình khác có thể gọi `None` là `null` (ví dụ như C, C++, Java), `nil` (Ruby), `undefined` (JavaScript)"
   ]
  },
  {
   "cell_type": "code",
   "execution_count": 187,
   "id": "1ce36511-6858-4511-a07c-1e5860c48a45",
   "metadata": {},
   "outputs": [
    {
     "name": "stdout",
     "output_type": "stream",
     "text": [
      "Hello\n"
     ]
    }
   ],
   "source": [
    "print('Hello')"
   ]
  },
  {
   "cell_type": "code",
   "execution_count": 188,
   "id": "d1a25496-7e18-423e-a261-8c21020f6609",
   "metadata": {},
   "outputs": [
    {
     "name": "stdout",
     "output_type": "stream",
     "text": [
      "Hello\n"
     ]
    }
   ],
   "source": [
    "spam = print('Hello')"
   ]
  },
  {
   "cell_type": "code",
   "execution_count": 190,
   "id": "b3ceedbe-ca59-42e0-aff0-c681a6568556",
   "metadata": {},
   "outputs": [
    {
     "name": "stdout",
     "output_type": "stream",
     "text": [
      "None\n"
     ]
    }
   ],
   "source": [
    "print(spam)"
   ]
  },
  {
   "cell_type": "code",
   "execution_count": 192,
   "id": "03da2f7a-851f-474d-a3c8-19f81c0b3cf3",
   "metadata": {},
   "outputs": [
    {
     "name": "stdout",
     "output_type": "stream",
     "text": [
      "Help on built-in function print in module builtins:\n",
      "\n",
      "print(...)\n",
      "    print(value, ..., sep=' ', end='\\n', file=sys.stdout, flush=False)\n",
      "    \n",
      "    Prints the values to a stream, or to sys.stdout by default.\n",
      "    Optional keyword arguments:\n",
      "    file:  a file-like object (stream); defaults to the current sys.stdout.\n",
      "    sep:   string inserted between values, default a space.\n",
      "    end:   string appended after the last value, default a newline.\n",
      "    flush: whether to forcibly flush the stream.\n",
      "\n"
     ]
    }
   ],
   "source": [
    "help(print)"
   ]
  },
  {
   "cell_type": "code",
   "execution_count": 193,
   "id": "1d519e80-faaf-433b-8275-41ea1472bd0d",
   "metadata": {},
   "outputs": [
    {
     "name": "stdout",
     "output_type": "stream",
     "text": [
      "Help on built-in function len in module builtins:\n",
      "\n",
      "len(obj, /)\n",
      "    Return the number of items in a container.\n",
      "\n"
     ]
    }
   ],
   "source": [
    "help(len)"
   ]
  },
  {
   "cell_type": "code",
   "execution_count": 189,
   "id": "64cf5d91-a7df-4441-b669-bf7defa22fb3",
   "metadata": {},
   "outputs": [],
   "source": [
    "spam"
   ]
  },
  {
   "cell_type": "code",
   "execution_count": 191,
   "id": "3dc907e5-3e70-4219-a403-c5039c851e60",
   "metadata": {},
   "outputs": [
    {
     "data": {
      "text/plain": [
       "True"
      ]
     },
     "execution_count": 191,
     "metadata": {},
     "output_type": "execute_result"
    }
   ],
   "source": [
    "None == spam"
   ]
  },
  {
   "cell_type": "markdown",
   "id": "a58522d9-4c3c-407b-9392-f4bc7e03cd85",
   "metadata": {},
   "source": [
    "`Python` luôn ngầm đưa câu lệnh `return None` vào cuối mỗi hàm mà không có từ khóa `return`"
   ]
  },
  {
   "cell_type": "markdown",
   "id": "e23632c5-f162-43c7-b0d8-b4f16ab14751",
   "metadata": {},
   "source": [
    "Tương tự như `while` hay `for` tự đưa từ khóa `continue` vào cuối vòng lặp"
   ]
  },
  {
   "cell_type": "markdown",
   "id": "6fac8bc4-74ea-45a0-b7d7-88b522790cb4",
   "metadata": {},
   "source": [
    "Nếu có `return` nhưng không có giá trị thì sẽ như thế nào?"
   ]
  },
  {
   "cell_type": "code",
   "execution_count": 194,
   "id": "c28bd475-feaf-4c97-96b4-5159a74baf2a",
   "metadata": {},
   "outputs": [
    {
     "name": "stdout",
     "output_type": "stream",
     "text": [
      "ok\n"
     ]
    }
   ],
   "source": [
    "def return_without_value():\n",
    "    print('ok')\n",
    "    return  \n",
    "\n",
    "answer = return_without_value()"
   ]
  },
  {
   "cell_type": "code",
   "execution_count": 195,
   "id": "a4725c36-384f-4441-b19f-86c98c36b3fa",
   "metadata": {},
   "outputs": [],
   "source": [
    "answer"
   ]
  },
  {
   "cell_type": "code",
   "execution_count": 196,
   "id": "6868725f-3576-45db-9577-c1a2eab4ab3f",
   "metadata": {},
   "outputs": [
    {
     "name": "stdout",
     "output_type": "stream",
     "text": [
      "None\n"
     ]
    }
   ],
   "source": [
    "print(answer)"
   ]
  },
  {
   "cell_type": "markdown",
   "id": "fd43ef00-7e0c-486a-9baf-d21a54803971",
   "metadata": {},
   "source": [
    "# Đối số từ khóa và hàm `print()`"
   ]
  },
  {
   "cell_type": "markdown",
   "id": "13a7fa72-33dc-4a74-b531-4e01880c9710",
   "metadata": {},
   "source": [
    "Keys: Keyword arguments, Named parameter"
   ]
  },
  {
   "cell_type": "code",
   "execution_count": 197,
   "id": "8f8e902f-7c0e-4a33-b4f1-2eab738a1d6f",
   "metadata": {},
   "outputs": [
    {
     "name": "stdout",
     "output_type": "stream",
     "text": [
      "Hello\n",
      "World\n"
     ]
    }
   ],
   "source": [
    "print('Hello')\n",
    "print('World')"
   ]
  },
  {
   "cell_type": "code",
   "execution_count": 198,
   "id": "ee9ff687-0974-4448-9abf-cb31be291e53",
   "metadata": {},
   "outputs": [
    {
     "name": "stdout",
     "output_type": "stream",
     "text": [
      "Help on built-in function print in module builtins:\n",
      "\n",
      "print(...)\n",
      "    print(value, ..., sep=' ', end='\\n', file=sys.stdout, flush=False)\n",
      "    \n",
      "    Prints the values to a stream, or to sys.stdout by default.\n",
      "    Optional keyword arguments:\n",
      "    file:  a file-like object (stream); defaults to the current sys.stdout.\n",
      "    sep:   string inserted between values, default a space.\n",
      "    end:   string appended after the last value, default a newline.\n",
      "    flush: whether to forcibly flush the stream.\n",
      "\n"
     ]
    }
   ],
   "source": [
    "help(print)"
   ]
  },
  {
   "cell_type": "code",
   "execution_count": 200,
   "id": "b4b7920e-9dcd-4165-b547-0b979e78f314",
   "metadata": {},
   "outputs": [
    {
     "name": "stdout",
     "output_type": "stream",
     "text": [
      "Hello World\n"
     ]
    }
   ],
   "source": [
    "print('Hello', end=' ')\n",
    "print('World')"
   ]
  },
  {
   "cell_type": "code",
   "execution_count": 201,
   "id": "9e098b7d-8831-4ad7-8bc3-0abd4501ef61",
   "metadata": {},
   "outputs": [
    {
     "name": "stdout",
     "output_type": "stream",
     "text": [
      "cats dogs mice\n"
     ]
    }
   ],
   "source": [
    "print('cats', 'dogs', 'mice')"
   ]
  },
  {
   "cell_type": "code",
   "execution_count": 202,
   "id": "79573db1-a408-4aa7-9982-f4a90c3511dc",
   "metadata": {},
   "outputs": [
    {
     "name": "stdout",
     "output_type": "stream",
     "text": [
      "cats,dogs,mice\n"
     ]
    }
   ],
   "source": [
    "print('cats', 'dogs', 'mice', sep=',')"
   ]
  },
  {
   "cell_type": "code",
   "execution_count": 205,
   "id": "2fa7f973-7f52-4926-9985-6dc77611a944",
   "metadata": {},
   "outputs": [],
   "source": [
    "def nghihoc(chacchua=True):\n",
    "    return chacchua"
   ]
  },
  {
   "cell_type": "code",
   "execution_count": 206,
   "id": "e545fddf-9509-4fce-a638-4789c6976b57",
   "metadata": {},
   "outputs": [
    {
     "data": {
      "text/plain": [
       "False"
      ]
     },
     "execution_count": 206,
     "metadata": {},
     "output_type": "execute_result"
    }
   ],
   "source": [
    "nghihoc(chacchua=False)"
   ]
  },
  {
   "cell_type": "markdown",
   "id": "5efe5a07-4137-4eba-bcf5-8bff6f2bf5c8",
   "metadata": {},
   "source": [
    "# The call stack"
   ]
  },
  {
   "cell_type": "markdown",
   "id": "f1749d8b-f40f-47f0-be82-03af1b180dac",
   "metadata": {},
   "source": [
    "Giả sử bạn đang có một cuộc trò chuyện vòng vo với ai đó. Bạn nói về người bạn Alice, mà lại gợi nhớ đến một câu chuyện của một người đồng nghiệp tên Bob, nhưng trước tiên bạn lại phải giải thích một chút về Carol. Bạn xong câu chuyện về Carol và quay trở lại câu chuyện của Bob, sau khi xong câu chuyện của Bob, bạn lại quay trở lại nói về Alice. Nhưng Alice lại gợi bạn nhớ đến người anh của mình tên David, và bạn lại nói về người anh này, cuối cùng bạn quay trở lại với Alice."
   ]
  },
  {
   "cell_type": "markdown",
   "id": "9049b632-506f-44d5-8656-a94ea2667433",
   "metadata": {},
   "source": [
    "![](http://automatetheboringstuff.com/2e/images/000109.jpg)"
   ]
  },
  {
   "cell_type": "markdown",
   "id": "20433363-a68a-4c81-b1db-3055bc0afe79",
   "metadata": {},
   "source": [
    "Tương tự với cuộc trò chuyện vòng vo kia, Python cũng sẽ làm tương tự với `hàm`"
   ]
  },
  {
   "cell_type": "markdown",
   "id": "9bf724c5-f664-4677-9e63-47402d127186",
   "metadata": {},
   "source": [
    "Tạo một file python tên là `abcdCallStack.py` và nhập những dòng lệnh này vào."
   ]
  },
  {
   "cell_type": "markdown",
   "id": "f360d460-51b2-443a-9dbc-d12d17e7c698",
   "metadata": {},
   "source": [
    "```python\n",
    "def a():\n",
    "   print('a() starts')\n",
    "➊ b()\n",
    "➋ d()\n",
    "   print('a() returns')\n",
    "\n",
    "def b():\n",
    "   print('b() starts')\n",
    "➌ c()\n",
    "   print('b() returns')\n",
    "\n",
    "def c():\n",
    "➍ print('c() starts')\n",
    "   print('c() returns')\n",
    "\n",
    "def d():\n",
    "   print('d() starts')\n",
    "   print('d() returns')\n",
    "\n",
    "➎ a()\n",
    "```"
   ]
  },
  {
   "cell_type": "markdown",
   "id": "fbd5af88-b064-4e18-9e17-ae48e5f20916",
   "metadata": {},
   "source": [
    "Khi chạy, chương trình của chúng ta sẽ trông như thế này:\n",
    "```\n",
    "a() starts\n",
    "b() starts\n",
    "c() starts\n",
    "c() returns\n",
    "b() returns\n",
    "d() starts\n",
    "d() returns\n",
    "a() returns\n",
    "```"
   ]
  },
  {
   "cell_type": "markdown",
   "id": "556dfa6e-ec00-4139-8088-5e59ca193c97",
   "metadata": {},
   "source": [
    "Có thể xem thêm ở đây: https://autbor.com/abcdcallstack/"
   ]
  },
  {
   "cell_type": "markdown",
   "id": "14ac7d9a-7f47-4acb-9165-6f8c3709de71",
   "metadata": {},
   "source": [
    "![](http://automatetheboringstuff.com/2e/images/000054.jpg)"
   ]
  },
  {
   "cell_type": "markdown",
   "id": "dfacc34b-9fc2-4697-bcb9-cada5d758af6",
   "metadata": {},
   "source": [
    "Vị trí đầu tiên của ngăn xếp sẽ được thực hiện trước, sau đó đến những vị trí khác"
   ]
  },
  {
   "cell_type": "markdown",
   "id": "5ba2b5f7-8ebb-4e45-8835-46f984e6fd00",
   "metadata": {},
   "source": [
    "LIFO: last in first out"
   ]
  },
  {
   "cell_type": "markdown",
   "id": "f34c0d8a-ae73-4bfe-bfc7-2cf92cdcbc47",
   "metadata": {},
   "source": [
    "# Tầm vực cục bộ và toàn cục "
   ]
  },
  {
   "cell_type": "markdown",
   "id": "46d52413-f0d5-4394-b0fa-9314e5d4e4da",
   "metadata": {},
   "source": [
    "Keys: local scope, global scope"
   ]
  },
  {
   "cell_type": "markdown",
   "id": "178f08ba-5a1a-4410-8c8d-10b14f39bcfa",
   "metadata": {},
   "source": [
    "- Các tham số và biến được gán trong một hàm thì được gọi là cục bộ (local).\n",
    "- Các biến ở ngoài hàm thì được gọi là toàn cục (global)"
   ]
  },
  {
   "cell_type": "markdown",
   "id": "14b84ec9-f69e-4b80-a698-6026cb0f9254",
   "metadata": {},
   "source": [
    "![](assets/local_global.png)"
   ]
  },
  {
   "cell_type": "markdown",
   "id": "711b8075-bd8e-4131-9b6c-8b67c70ca495",
   "metadata": {},
   "source": [
    "Có thể tưởng tượng `scope` như một khung chứa, khung chứa mà mất, các biến bên trong cũng sẽ biến mất theo.\n",
    "\n",
    "Có duy nhất $1$ Global scope, được tạo ra lúc chạy chương trình, và mất đi khi tắt chương trình."
   ]
  },
  {
   "cell_type": "markdown",
   "id": "5e91da2f-2981-44e9-9f95-1f69544cf21b",
   "metadata": {},
   "source": [
    "Local scope được tạo ra bất cứ khi nào hàm được gọi, bất kì biến nào trong local scope sẽ chỉ tồn tại trong local scope."
   ]
  },
  {
   "cell_type": "markdown",
   "id": "21fb1e6e-0986-4180-93c2-a1de38d05115",
   "metadata": {},
   "source": [
    "Có vài điều cần lưu ý về scope như sau:\n",
    "- Code ở global scope (ở ngoài tất cả các hàm), không thể sử dụng bất kì biến local nào cả (ở trong hàm)\n",
    "- Tuy nhiên, code ở trong local scope có thể sử dụng của global scope\n",
    "- Có thể sử dụng tên biến trùng nhau cho cả global scope và local scope"
   ]
  },
  {
   "cell_type": "markdown",
   "id": "c604d01c-160e-4385-b887-9f475a06962c",
   "metadata": {},
   "source": [
    "## Biến cục bộ không thể sử dụng ở phạm vi toàn cục"
   ]
  },
  {
   "cell_type": "code",
   "execution_count": 207,
   "id": "fc0fefce-5196-44cf-9124-5947cfb3e66a",
   "metadata": {},
   "outputs": [
    {
     "ename": "NameError",
     "evalue": "name 'eggs' is not defined",
     "output_type": "error",
     "traceback": [
      "\u001b[1;31m---------------------------------------------------------------------------\u001b[0m",
      "\u001b[1;31mNameError\u001b[0m                                 Traceback (most recent call last)",
      "\u001b[1;32m<ipython-input-207-9cd214b41988>\u001b[0m in \u001b[0;36m<module>\u001b[1;34m\u001b[0m\n\u001b[0;32m      7\u001b[0m \u001b[1;31m# là local variable\u001b[0m\u001b[1;33m\u001b[0m\u001b[1;33m\u001b[0m\u001b[1;33m\u001b[0m\u001b[0m\n\u001b[0;32m      8\u001b[0m \u001b[1;31m# nên không thể gọi\u001b[0m\u001b[1;33m\u001b[0m\u001b[1;33m\u001b[0m\u001b[1;33m\u001b[0m\u001b[0m\n\u001b[1;32m----> 9\u001b[1;33m \u001b[0mprint\u001b[0m\u001b[1;33m(\u001b[0m\u001b[0meggs\u001b[0m\u001b[1;33m)\u001b[0m\u001b[1;33m\u001b[0m\u001b[1;33m\u001b[0m\u001b[0m\n\u001b[0m",
      "\u001b[1;31mNameError\u001b[0m: name 'eggs' is not defined"
     ]
    }
   ],
   "source": [
    "def spam():\n",
    "    eggs = 31337\n",
    "\n",
    "spam()\n",
    "\n",
    "# eggs nằm trong spam\n",
    "# là local variable\n",
    "# nên không thể gọi\n",
    "print(eggs)"
   ]
  },
  {
   "cell_type": "markdown",
   "id": "3a16a868-6233-4266-aa74-e18042f20309",
   "metadata": {},
   "source": [
    "## Các local scope không thể sử dụng biến của nhau"
   ]
  },
  {
   "cell_type": "code",
   "execution_count": 208,
   "id": "afe70adc-12a2-41f2-b985-143f65746177",
   "metadata": {},
   "outputs": [
    {
     "name": "stdout",
     "output_type": "stream",
     "text": [
      "99\n"
     ]
    }
   ],
   "source": [
    "def spam():\n",
    "    eggs = 99\n",
    "    bacon()\n",
    "    print(eggs)\n",
    "\n",
    "def bacon():\n",
    "    ham = 101\n",
    "    eggs = 0\n",
    "\n",
    "spam()"
   ]
  },
  {
   "cell_type": "markdown",
   "id": "39fad3d0-7bc4-4fb7-8d3e-53a10edc8167",
   "metadata": {},
   "source": [
    "Xem thêm ở đây:  https://autbor.com/otherlocalscopes/"
   ]
  },
  {
   "cell_type": "markdown",
   "id": "053b9d84-5fd7-4e75-af33-149e5aa6b411",
   "metadata": {},
   "source": [
    "## Biến toàn cục có thể đọc được từ tầm vực cục bộ (local scope)"
   ]
  },
  {
   "cell_type": "code",
   "execution_count": 209,
   "id": "c1356f8f-05ae-4c5e-a1a0-83d5566c3d5f",
   "metadata": {},
   "outputs": [
    {
     "name": "stdout",
     "output_type": "stream",
     "text": [
      "42\n",
      "42\n"
     ]
    }
   ],
   "source": [
    "def spam():\n",
    "    print(eggs)\n",
    "    \n",
    "eggs = 42\n",
    "spam()\n",
    "\n",
    "print(eggs)"
   ]
  },
  {
   "cell_type": "markdown",
   "id": "edbc102e-a262-47b0-94f3-a84907592d9e",
   "metadata": {},
   "source": [
    "Xem thêm ở đây: https://autbor.com/readglobal/"
   ]
  },
  {
   "cell_type": "markdown",
   "id": "534c4f25-e89d-48bf-baf8-17982d990afe",
   "metadata": {},
   "source": [
    "## Biến cục bộ và toàn cục có tên giống nhau"
   ]
  },
  {
   "cell_type": "code",
   "execution_count": 211,
   "id": "a80ec2ae-786f-4097-a6c5-272cea42ba45",
   "metadata": {},
   "outputs": [
    {
     "name": "stdout",
     "output_type": "stream",
     "text": [
      "bacon local\n",
      "spam local\n",
      "bacon local\n",
      "global\n"
     ]
    }
   ],
   "source": [
    "def spam():\n",
    "    eggs = 'spam local'\n",
    "    print(eggs)    # prints 'spam local'\n",
    "\n",
    "def bacon():\n",
    "    eggs = 'bacon local'\n",
    "    print(eggs)    # prints 'bacon local'\n",
    "    spam()\n",
    "    print(eggs)    # prints 'bacon local'\n",
    "\n",
    "eggs = 'global'\n",
    "bacon()\n",
    "print(eggs)        # prints 'global'"
   ]
  },
  {
   "cell_type": "markdown",
   "id": "cd3d032a-4ea8-4d7c-ad59-f624fee73ce1",
   "metadata": {},
   "source": [
    "Có thể xem thêm ở đây: https://autbor.com/localglobalsamename/"
   ]
  },
  {
   "cell_type": "markdown",
   "id": "a5069dc5-581b-49f3-97c0-33f47b226d2d",
   "metadata": {},
   "source": [
    "## Câu lệnh `global`"
   ]
  },
  {
   "cell_type": "markdown",
   "id": "b6162aa0-8961-4be6-ab02-0148061d5d15",
   "metadata": {},
   "source": [
    "Nếu cần sửa biến toàn cục trong hàm, có thể sử dụng từ khóa `global`:\n",
    "\n",
    "`global <tên biến>`"
   ]
  },
  {
   "cell_type": "code",
   "execution_count": 212,
   "id": "4e6bc726-5d79-47b1-92e8-b625b1304b82",
   "metadata": {},
   "outputs": [
    {
     "name": "stdout",
     "output_type": "stream",
     "text": [
      "spam\n"
     ]
    }
   ],
   "source": [
    "def spam():\n",
    "    global eggs\n",
    "    eggs = 'spam'\n",
    "\n",
    "eggs = 'global'\n",
    "spam()\n",
    "print(eggs)"
   ]
  },
  {
   "cell_type": "markdown",
   "id": "dfbfed49-3ca4-48f6-9f6e-14a4e8c9c288",
   "metadata": {},
   "source": [
    "Xem thêm ở đây: https://autbor.com/globalstatement/"
   ]
  },
  {
   "cell_type": "code",
   "execution_count": 217,
   "id": "f883ea44-006d-4ba4-8ea3-27700dcb674b",
   "metadata": {},
   "outputs": [
    {
     "ename": "UnboundLocalError",
     "evalue": "local variable 'eggs' referenced before assignment",
     "output_type": "error",
     "traceback": [
      "\u001b[1;31m---------------------------------------------------------------------------\u001b[0m",
      "\u001b[1;31mUnboundLocalError\u001b[0m                         Traceback (most recent call last)",
      "\u001b[1;32m<ipython-input-217-faa5077eab76>\u001b[0m in \u001b[0;36m<module>\u001b[1;34m\u001b[0m\n\u001b[0;32m      4\u001b[0m \u001b[1;33m\u001b[0m\u001b[0m\n\u001b[0;32m      5\u001b[0m \u001b[0meggs\u001b[0m \u001b[1;33m=\u001b[0m \u001b[1;34m'global'\u001b[0m\u001b[1;33m\u001b[0m\u001b[1;33m\u001b[0m\u001b[0m\n\u001b[1;32m----> 6\u001b[1;33m \u001b[0mspam\u001b[0m\u001b[1;33m(\u001b[0m\u001b[1;33m)\u001b[0m\u001b[1;33m\u001b[0m\u001b[1;33m\u001b[0m\u001b[0m\n\u001b[0m",
      "\u001b[1;32m<ipython-input-217-faa5077eab76>\u001b[0m in \u001b[0;36mspam\u001b[1;34m()\u001b[0m\n\u001b[0;32m      1\u001b[0m \u001b[1;32mdef\u001b[0m \u001b[0mspam\u001b[0m\u001b[1;33m(\u001b[0m\u001b[1;33m)\u001b[0m\u001b[1;33m:\u001b[0m\u001b[1;33m\u001b[0m\u001b[1;33m\u001b[0m\u001b[0m\n\u001b[1;32m----> 2\u001b[1;33m     \u001b[0mprint\u001b[0m\u001b[1;33m(\u001b[0m\u001b[0meggs\u001b[0m\u001b[1;33m)\u001b[0m\u001b[1;33m\u001b[0m\u001b[1;33m\u001b[0m\u001b[0m\n\u001b[0m\u001b[0;32m      3\u001b[0m     \u001b[0meggs\u001b[0m \u001b[1;33m=\u001b[0m \u001b[1;34m'spam local'\u001b[0m\u001b[1;33m\u001b[0m\u001b[1;33m\u001b[0m\u001b[0m\n\u001b[0;32m      4\u001b[0m \u001b[1;33m\u001b[0m\u001b[0m\n\u001b[0;32m      5\u001b[0m \u001b[0meggs\u001b[0m \u001b[1;33m=\u001b[0m \u001b[1;34m'global'\u001b[0m\u001b[1;33m\u001b[0m\u001b[1;33m\u001b[0m\u001b[0m\n",
      "\u001b[1;31mUnboundLocalError\u001b[0m: local variable 'eggs' referenced before assignment"
     ]
    }
   ],
   "source": [
    "def spam():\n",
    "    print(eggs)\n",
    "    eggs = 'spam local'\n",
    "\n",
    "eggs = 'global'\n",
    "spam()"
   ]
  },
  {
   "cell_type": "markdown",
   "id": "72f5a243-a811-4462-a72f-b535831d2f1d",
   "metadata": {},
   "source": [
    "# Kiểm soát lỗi"
   ]
  },
  {
   "cell_type": "markdown",
   "id": "282cd5c8-2c31-4ae5-a826-5e6b1e34748f",
   "metadata": {},
   "source": [
    "Keys: Exception Handling"
   ]
  },
  {
   "cell_type": "code",
   "execution_count": 218,
   "id": "b337df06-81ed-46c5-9e5b-7360bb2d19e6",
   "metadata": {},
   "outputs": [
    {
     "name": "stdout",
     "output_type": "stream",
     "text": [
      "21.0\n",
      "3.5\n"
     ]
    },
    {
     "ename": "ZeroDivisionError",
     "evalue": "division by zero",
     "output_type": "error",
     "traceback": [
      "\u001b[1;31m---------------------------------------------------------------------------\u001b[0m",
      "\u001b[1;31mZeroDivisionError\u001b[0m                         Traceback (most recent call last)",
      "\u001b[1;32m<ipython-input-218-cce18d473349>\u001b[0m in \u001b[0;36m<module>\u001b[1;34m\u001b[0m\n\u001b[0;32m      4\u001b[0m \u001b[0mprint\u001b[0m\u001b[1;33m(\u001b[0m\u001b[0mspam\u001b[0m\u001b[1;33m(\u001b[0m\u001b[1;36m2\u001b[0m\u001b[1;33m)\u001b[0m\u001b[1;33m)\u001b[0m\u001b[1;33m\u001b[0m\u001b[1;33m\u001b[0m\u001b[0m\n\u001b[0;32m      5\u001b[0m \u001b[0mprint\u001b[0m\u001b[1;33m(\u001b[0m\u001b[0mspam\u001b[0m\u001b[1;33m(\u001b[0m\u001b[1;36m12\u001b[0m\u001b[1;33m)\u001b[0m\u001b[1;33m)\u001b[0m\u001b[1;33m\u001b[0m\u001b[1;33m\u001b[0m\u001b[0m\n\u001b[1;32m----> 6\u001b[1;33m \u001b[0mprint\u001b[0m\u001b[1;33m(\u001b[0m\u001b[0mspam\u001b[0m\u001b[1;33m(\u001b[0m\u001b[1;36m0\u001b[0m\u001b[1;33m)\u001b[0m\u001b[1;33m)\u001b[0m\u001b[1;33m\u001b[0m\u001b[1;33m\u001b[0m\u001b[0m\n\u001b[0m\u001b[0;32m      7\u001b[0m \u001b[0mprint\u001b[0m\u001b[1;33m(\u001b[0m\u001b[0mspam\u001b[0m\u001b[1;33m(\u001b[0m\u001b[1;36m1\u001b[0m\u001b[1;33m)\u001b[0m\u001b[1;33m)\u001b[0m\u001b[1;33m\u001b[0m\u001b[1;33m\u001b[0m\u001b[0m\n",
      "\u001b[1;32m<ipython-input-218-cce18d473349>\u001b[0m in \u001b[0;36mspam\u001b[1;34m(divideBy)\u001b[0m\n\u001b[0;32m      1\u001b[0m \u001b[1;32mdef\u001b[0m \u001b[0mspam\u001b[0m\u001b[1;33m(\u001b[0m\u001b[0mdivideBy\u001b[0m\u001b[1;33m)\u001b[0m\u001b[1;33m:\u001b[0m\u001b[1;33m\u001b[0m\u001b[1;33m\u001b[0m\u001b[0m\n\u001b[1;32m----> 2\u001b[1;33m     \u001b[1;32mreturn\u001b[0m \u001b[1;36m42\u001b[0m \u001b[1;33m/\u001b[0m \u001b[0mdivideBy\u001b[0m\u001b[1;33m\u001b[0m\u001b[1;33m\u001b[0m\u001b[0m\n\u001b[0m\u001b[0;32m      3\u001b[0m \u001b[1;33m\u001b[0m\u001b[0m\n\u001b[0;32m      4\u001b[0m \u001b[0mprint\u001b[0m\u001b[1;33m(\u001b[0m\u001b[0mspam\u001b[0m\u001b[1;33m(\u001b[0m\u001b[1;36m2\u001b[0m\u001b[1;33m)\u001b[0m\u001b[1;33m)\u001b[0m\u001b[1;33m\u001b[0m\u001b[1;33m\u001b[0m\u001b[0m\n\u001b[0;32m      5\u001b[0m \u001b[0mprint\u001b[0m\u001b[1;33m(\u001b[0m\u001b[0mspam\u001b[0m\u001b[1;33m(\u001b[0m\u001b[1;36m12\u001b[0m\u001b[1;33m)\u001b[0m\u001b[1;33m)\u001b[0m\u001b[1;33m\u001b[0m\u001b[1;33m\u001b[0m\u001b[0m\n",
      "\u001b[1;31mZeroDivisionError\u001b[0m: division by zero"
     ]
    }
   ],
   "source": [
    "def spam(divideBy):\n",
    "    return 42 / divideBy\n",
    "\n",
    "print(spam(2))\n",
    "print(spam(12))\n",
    "print(spam(0))\n",
    "print(spam(1))"
   ]
  },
  {
   "cell_type": "markdown",
   "id": "7c534663-d976-4592-ba36-c90bcb272d88",
   "metadata": {},
   "source": [
    "Xem thêm ở đây: https://autbor.com/zerodivide/"
   ]
  },
  {
   "cell_type": "code",
   "execution_count": 219,
   "id": "d839246d-9a13-475e-927c-89ca091a90c5",
   "metadata": {},
   "outputs": [
    {
     "name": "stdout",
     "output_type": "stream",
     "text": [
      "21.0\n",
      "3.5\n",
      "Error: Invalid argument.\n",
      "None\n",
      "42.0\n"
     ]
    }
   ],
   "source": [
    "def spam(divideBy):\n",
    "    try:\n",
    "        return 42 / divideBy\n",
    "    except ZeroDivisionError:\n",
    "        print('Error: Invalid argument.')\n",
    "\n",
    "print(spam(2))\n",
    "print(spam(12))\n",
    "print(spam(0))\n",
    "print(spam(1))"
   ]
  },
  {
   "cell_type": "code",
   "execution_count": 220,
   "id": "f4a3c57f-f8f4-4f61-b846-09291e2d3b4d",
   "metadata": {},
   "outputs": [
    {
     "name": "stdout",
     "output_type": "stream",
     "text": [
      "21.0\n",
      "3.5\n",
      "Error: Invalid argument.\n"
     ]
    }
   ],
   "source": [
    "def spam(divideBy):\n",
    "    return 42 / divideBy\n",
    "\n",
    "try:\n",
    "    print(spam(2))\n",
    "    print(spam(12))\n",
    "    print(spam(0))\n",
    "    print(spam(1))\n",
    "except ZeroDivisionError:\n",
    "    print('Error: Invalid argument.')"
   ]
  },
  {
   "cell_type": "code",
   "execution_count": 223,
   "id": "e4829e54-b014-4f69-b7e5-71748a9c402b",
   "metadata": {},
   "outputs": [
    {
     "ename": "NameError",
     "evalue": "name 'money' is not defined",
     "output_type": "error",
     "traceback": [
      "\u001b[1;31m---------------------------------------------------------------------------\u001b[0m",
      "\u001b[1;31mNameError\u001b[0m                                 Traceback (most recent call last)",
      "\u001b[1;32m<ipython-input-223-fd0ba6d3a140>\u001b[0m in \u001b[0;36m<module>\u001b[1;34m\u001b[0m\n\u001b[1;32m----> 1\u001b[1;33m \u001b[0mprint\u001b[0m\u001b[1;33m(\u001b[0m\u001b[0mmoney\u001b[0m\u001b[1;33m)\u001b[0m\u001b[1;33m\u001b[0m\u001b[1;33m\u001b[0m\u001b[0m\n\u001b[0m",
      "\u001b[1;31mNameError\u001b[0m: name 'money' is not defined"
     ]
    }
   ],
   "source": [
    "print(money)"
   ]
  },
  {
   "cell_type": "code",
   "execution_count": 225,
   "id": "ab20ce03-d71c-4053-b949-3251f56c9380",
   "metadata": {},
   "outputs": [
    {
     "name": "stdout",
     "output_type": "stream",
     "text": [
      "work harder\n"
     ]
    }
   ],
   "source": [
    "try:\n",
    "    print(money)\n",
    "except NameError:\n",
    "    print('work harder')"
   ]
  },
  {
   "cell_type": "markdown",
   "id": "e14651db-6711-43dd-8c07-98da15a0b514",
   "metadata": {},
   "source": [
    "# Một chương trình ngắn: Zigzag"
   ]
  },
  {
   "cell_type": "markdown",
   "id": "fd965a00-6288-4abe-8d53-208959b2a151",
   "metadata": {},
   "source": [
    "Chạy file `zigzag.py` với cmd"
   ]
  },
  {
   "cell_type": "markdown",
   "id": "d9a70481-cc01-42a0-b564-fd8bf165763b",
   "metadata": {},
   "source": [
    "Dừng bằng `CTRL-C` sẽ gọi đến Exception `KeyboardInterrrupt`"
   ]
  },
  {
   "cell_type": "code",
   "execution_count": null,
   "id": "2132e7ee-e621-4807-bda7-15cd6cd173e1",
   "metadata": {},
   "outputs": [],
   "source": [
    "%run zigzag.py"
   ]
  },
  {
   "cell_type": "markdown",
   "id": "dc2573d5-d831-4dc6-9ac3-98c13d32593a",
   "metadata": {},
   "source": [
    "# Luyện tập mới nhớ lâu được 😉"
   ]
  },
  {
   "cell_type": "markdown",
   "id": "f2b86f27-9842-42b9-aef5-0f6b3df11f7d",
   "metadata": {},
   "source": [
    "Bài tập và mini project này sẽ kéo dài đến thứ 5 tuần sau"
   ]
  },
  {
   "cell_type": "markdown",
   "id": "251927f6-7898-4800-9f65-11b27ffa92e8",
   "metadata": {},
   "source": [
    "1. Tại sao sử dụng hàm lại ta lại có lợi cho chương trình hơn?"
   ]
  },
  {
   "cell_type": "markdown",
   "id": "76737e5b-2916-456f-bf3b-01548464d031",
   "metadata": {},
   "source": [
    "2. Khi nào code trong hàm chạy: Khi định nghĩa hàm hay khi gọi hàm"
   ]
  },
  {
   "cell_type": "markdown",
   "id": "5ae9f81c-5cfd-4477-9620-609a4f1ef811",
   "metadata": {},
   "source": [
    "3. Câu lệnh nào tạo hàm"
   ]
  },
  {
   "cell_type": "markdown",
   "id": "402969fa-42ad-4bc7-80b0-608c2c3735ce",
   "metadata": {},
   "source": [
    "4. Sự khác nhau giữa hàm và gọi hàm"
   ]
  },
  {
   "cell_type": "markdown",
   "id": "0b2f14df-bb85-4357-b5e3-725da671ed71",
   "metadata": {},
   "source": [
    "5. Có bao nhiêu global scope trong chương trình Python? Có bao nhiêu local scope?"
   ]
  },
  {
   "cell_type": "markdown",
   "id": "fce7c805-4890-42a6-bc88-93e001b96c46",
   "metadata": {},
   "source": [
    "6. Điều gì xảy ra với biến trong local scope khi câu lệnh `return` của hàm chạy"
   ]
  },
  {
   "cell_type": "markdown",
   "id": "b76d9ca0-07f4-4375-95ef-b719757b69af",
   "metadata": {},
   "source": [
    "7. Giá trị trả về là gì? Ta có thể trả về một biểu thức được không"
   ]
  },
  {
   "cell_type": "markdown",
   "id": "80c0bde2-363d-48d4-8a69-f2670baad7ae",
   "metadata": {},
   "source": [
    "8. Nếu một hàm không có câu lệnh `return`, giá trị nào hàm sẽ trả về"
   ]
  },
  {
   "cell_type": "markdown",
   "id": "19503535-a93d-4f0e-b6e1-ca522a41227c",
   "metadata": {},
   "source": [
    "9. Làm cách nào để sử dụng biến toàn cục vào trong một hàm"
   ]
  },
  {
   "cell_type": "markdown",
   "id": "6709b3f6-a34a-475d-91df-b7801c8d94d0",
   "metadata": {},
   "source": [
    "10. Kiểu dữ liệu của `None` là gì"
   ]
  },
  {
   "cell_type": "markdown",
   "id": "7192bc6d-1559-452e-8c60-23244c70de91",
   "metadata": {},
   "source": [
    "11. Câu lệnh `import areallyourpetsnamederic` làm gì"
   ]
  },
  {
   "cell_type": "markdown",
   "id": "20474c0d-9267-4cbf-986f-4f5b5a271355",
   "metadata": {},
   "source": [
    "12. Nếu bạn có một hàm `bacon()` trong một module tên là `spam`, làm cách nào bạn có thể gọi hàm đó sau khi import spam"
   ]
  },
  {
   "cell_type": "markdown",
   "id": "add45c7e-f8bf-47ff-bb75-ecd48977ad27",
   "metadata": {},
   "source": [
    "13. Làm cách nào để chương trình tránh bị lỗi khi xảy ra lỗi"
   ]
  },
  {
   "cell_type": "markdown",
   "id": "6aa296f6-677e-4329-8a8b-d8729b8f866b",
   "metadata": {},
   "source": [
    "14. Điều gì xảy ra trong `try`? Điều gì xảy ra trong `except` "
   ]
  },
  {
   "cell_type": "markdown",
   "id": "9c0df6b0-4c02-4c16-9c5e-6bc178514270",
   "metadata": {},
   "source": [
    "## Bài tập kiếm thêm thu nhập"
   ]
  },
  {
   "cell_type": "markdown",
   "id": "75750548-516b-438e-99a5-7179830d8667",
   "metadata": {},
   "source": [
    "### Câu 1: (3đ)\n",
    "\n",
    "Toàn có một **cái bảng $2$ hàng và $n$ cột**. Toàn muốn cái bảng này phải được bao phủ **bằng cách sử dụng $n$ quân cờ có kích thước $1$x$2$.** Toàn nói rằng:$``$ có thể đặt chúng theo chiều dọc hoặc chiều ngang và mỗi ô phải được bao phủ bởi chính xác $1$ quân cờ$\"$\n",
    "\n",
    "Sau đó, Toàn nói với Trung là: $``$ giờ tao sẽ **show cho m một hàng** của cái bảng. Nhiệm vụ của m là **tìm hàng còn lại của cái bảng** thử xem $\"$\n",
    "\n",
    "input: gồm nhiều trường hợp thử nghiệm. chứa số nguyên $t, 1\\le t\\le5000$ - số trường hợp thử nghiệm.\n",
    "\n",
    "dòng đầu tiên của mỗi trường hợp thử nghiệm chứa một sô nguyên $n,1\\le n\\le100$ - chiều rộng của bảng\n",
    "\n",
    "dòng tiếp theo chứa chuỗi $s$ bao gồm $n$ kí tự, mỗi kí tự là $L$ hoặc $R$ hoặc $U$ hoặc $D$ đại diện cho - trái(L), phải(R), trên(U), dưới(D).\n",
    "\n",
    "output: đối với mỗi trường hợp - xuất chuỗi - hàng còn lại của bảng.. nếu có nhiều câu trả lời. in bất kì câu nào củng được.\n",
    "\n",
    "\n",
    "VD:\n",
    "\n",
    "**input:**\n",
    "\n",
    "2\n",
    "\n",
    "1\n",
    "\n",
    "**U**\n",
    "\n",
    "4\n",
    "\n",
    "**LRLR**\n",
    "\n",
    "**output:**\n",
    "\n",
    "D\n",
    "\n",
    "**LRLR**"
   ]
  },
  {
   "cell_type": "markdown",
   "id": "bde61e0b-f0b2-4549-8421-685df20e9b87",
   "metadata": {},
   "source": [
    "### Câu 2: (4đ)\n",
    "\n",
    "Hôm nay, Sơn lên H2.2 chơi thì phát hiện trên bàn **có một chuỗi $t$.** Sơn đặc biệt thích **kí tự $s$.** Sơn gọi một chuỗi là đặc biệt nếu chuỗi đó có đúng hơn 1 nửa số ký tự trong chuỗi là kí tự $s$. Ví dụ $`` sssbb\"$ hoặc $\"sass\"$ là một chuỗi đặc biệt tuy nhiên chuỗi $sbsc$ hoặc chuỗi rỗng thì không phải chuỗi đặc biệt.\n",
    "\n",
    "Sơn quyết định **xóa một vài kí tự ra khỏi chuỗi**. vì Sơn muốn biết sau khi xóa xong thì chuỗi dài nhất còn lại là gì sau khi xóa một số kí tự ( có thể là 0) **để có được chuỗi đặc biệt**  Đảm bảo rẳng chuỗi có ít nhất một kí tự **s** trong đó, vì vậy đáp án luôn tồn tại \n",
    "\n",
    "**input**:\n",
    "\n",
    "dòng duy nhất chứa chuỗi $t,1\\le t\\le50$ gồm các kí tự tiếng anh viết thường ( nghĩa là không có ă, ấ, ơ, ....) luôn đảm bảo rằng có kí tự $s$ trong chuỗi $t$.\n",
    "\n",
    "**output**:\n",
    "\n",
    "in ra  1 số nguyên duy nhất là độ dài của chuỗi đặc biệt dài nhất  mà Sơn có được sau khi xóa một vài kí tự khỏi chuỗi $t$.\n",
    "\n",
    "**vd**:\n",
    "\n",
    "input: asaaaas\n",
    "\n",
    "output: 3\n",
    "\n",
    "input: sssbss\n",
    "\n",
    "output: 6"
   ]
  },
  {
   "cell_type": "markdown",
   "id": "ce58c209-4c4f-4e03-b30e-133622b54c56",
   "metadata": {},
   "source": [
    "### Bài 3: (1.5đ)\n",
    "\n",
    "Hôm nay, chị đi học nhập môn tin học, thầy bắt làm bài tập rằng cho một số bất kì ở hệ 10, nhiệm vụ của chị là chuyển sang hệ nhị phân và hệ cơ số 16 của số nguyên đó... hmm vì hôm học chị cúp để ngủ gục mất. Nên nhờ các bạn giúp chị nhé ><\n",
    "\n",
    "input: số nguyên $n$\n",
    "\n",
    "output: hệ cơ số 2 của n và hệ cơ số 16 của n\n",
    "\n",
    "\n",
    "vd: \n",
    "\n",
    "input: n=15,\n",
    "\n",
    "output: \n",
    "\n",
    "hệ cơ số 2 của số nguyên 15 là: 1111\n",
    "\n",
    "hệ cơ số 16 của số nguyên 15 là F"
   ]
  },
  {
   "cell_type": "markdown",
   "id": "25f03d16-c0fd-4215-920d-37dfce7b7759",
   "metadata": {},
   "source": [
    "### Bài 4: (1.5đ)\n",
    "Số nguyên tố hay còn gọi là hợp số, đây là tập hợp số tự nhiên chỉ chia hết cho 1 và chính nó. \n",
    "\n",
    "Yêu cầu: viết chương trình phân tích số nguyên $n$ thành các số nguyên tố \n",
    "\n",
    "input: số nguyên $n$\n",
    "\n",
    "output: kết quả \n",
    "\n",
    "ví dụ:\n",
    "\n",
    "input: n=10\n",
    "\n",
    "output: 10=2x5"
   ]
  },
  {
   "cell_type": "markdown",
   "id": "0f68cc79-b74e-43c4-abb2-b9d6dd2af564",
   "metadata": {},
   "source": [
    "## Project luyện tập"
   ]
  },
  {
   "cell_type": "markdown",
   "id": "7abeaae8-9b03-45d7-8d39-06e68d6797e3",
   "metadata": {},
   "source": [
    "Viết một hàm tên là `collatz()` có một tham số `number`. Nếu `number` là chẵn, `collatz()` sẽ in ra `number // 2` và trả về giá trị này. Nếu `number` là lẻ, thì `collatz()` sẽ in ra và trả về `3 * number + 1`.\n",
    "\n",
    "Sau đó viết một chương trình cho người dùng nhập một số nguyên và cứ tiếp tục gọi `collatz()` đối với số đó đến khi nào trả về `1` thì thôi.\n",
    "\n",
    "Nhớ là ép kiểu hàm `input()` thành số nguyên trước."
   ]
  },
  {
   "cell_type": "markdown",
   "id": "8d1aa546-1a73-4e6b-9bbd-266510097cfe",
   "metadata": {},
   "source": [
    "Output mẫu:\n",
    "```\n",
    "Enter number:\n",
    "3\n",
    "10\n",
    "5\n",
    "16\n",
    "8\n",
    "4\n",
    "2\n",
    "1\n",
    "```"
   ]
  },
  {
   "cell_type": "markdown",
   "id": "d09c9b11-796b-4b62-a14e-3f096b92ddd7",
   "metadata": {},
   "source": [
    "### Kiểm tra input"
   ]
  },
  {
   "cell_type": "markdown",
   "id": "7cad81e4-a007-4db7-bffa-b8245bda9dac",
   "metadata": {},
   "source": [
    "Thêm `try` và `except` vào trong chương trình trên để phát hiện xem cái người dùng nhập không phải số hay không. Thông thường, hàm `int()` sẽ tạo ra một lỗi tên là `ValueError` nếu đối số đưa vào không phải số, vd: `int('puppy')`"
   ]
  }
 ],
 "metadata": {
  "kernelspec": {
   "display_name": "Python 3",
   "language": "python",
   "name": "python3"
  },
  "language_info": {
   "codemirror_mode": {
    "name": "ipython",
    "version": 3
   },
   "file_extension": ".py",
   "mimetype": "text/x-python",
   "name": "python",
   "nbconvert_exporter": "python",
   "pygments_lexer": "ipython3",
   "version": "3.8.8"
  }
 },
 "nbformat": 4,
 "nbformat_minor": 5
}
