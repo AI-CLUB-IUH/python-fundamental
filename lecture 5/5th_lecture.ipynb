{
 "cells": [
  {
   "cell_type": "markdown",
   "id": "b1829811",
   "metadata": {},
   "source": [
    "# Buổi trước chúng ta đã học gì\n",
    "- Khái niệm \"Hàm\"\n",
    "- Định nghĩa hàm với từ khóa `def`\n",
    "- Trả về giá trị với từ khóa `return`\n",
    "- Giá trị `None` và kiểu `NoneType`\n",
    "- Đối số và tham số\n",
    "- The call stack\n",
    "- Local scope và global scope\n",
    "- Luyện tập mới thành tài 😉😉"
   ]
  },
  {
   "cell_type": "markdown",
   "id": "c3fd1fc6",
   "metadata": {},
   "source": [
    "# Hôm nay chúng ta sẽ làm quen với\n",
    "- Kiểu dữ liệu `list`\n",
    "- Các thao tác và các hàm với `list`\n",
    "- Các keyword để các bạn thực hành khám phá\n",
    "- Các chương trình mẫu vận dụng `list`"
   ]
  },
  {
   "cell_type": "markdown",
   "id": "c890ea0a",
   "metadata": {},
   "source": [
    "# Kiểu dữ liệu `list`"
   ]
  },
  {
   "cell_type": "markdown",
   "id": "0ca04fd0",
   "metadata": {},
   "source": [
    "`list` là một giá trị mà chứa nhiều giá trị khác và sắp thành một chuỗi có thứ tự"
   ]
  },
  {
   "cell_type": "markdown",
   "id": "b9c65b6a",
   "metadata": {},
   "source": [
    "list có thể trông như thế này: `['cat', 'bat', 'rat', 'elephant']`"
   ]
  },
  {
   "cell_type": "code",
   "execution_count": 1,
   "id": "5b361706",
   "metadata": {},
   "outputs": [
    {
     "data": {
      "text/plain": [
       "[1, 2, 3]"
      ]
     },
     "execution_count": 1,
     "metadata": {},
     "output_type": "execute_result"
    }
   ],
   "source": [
    "[1, 2, 3]"
   ]
  },
  {
   "cell_type": "code",
   "execution_count": 2,
   "id": "52a19270",
   "metadata": {},
   "outputs": [
    {
     "data": {
      "text/plain": [
       "['cat', 'bat', 'rat', 'elephant']"
      ]
     },
     "execution_count": 2,
     "metadata": {},
     "output_type": "execute_result"
    }
   ],
   "source": [
    "['cat', 'bat', 'rat', 'elephant']"
   ]
  },
  {
   "cell_type": "code",
   "execution_count": 4,
   "id": "ff003a3f",
   "metadata": {},
   "outputs": [
    {
     "data": {
      "text/plain": [
       "['hello', 3.1415, True, None, 42]"
      ]
     },
     "execution_count": 4,
     "metadata": {},
     "output_type": "execute_result"
    }
   ],
   "source": [
    "['hello', 3.1415, True, None, 42]"
   ]
  },
  {
   "cell_type": "code",
   "execution_count": null,
   "id": "0fbef093",
   "metadata": {},
   "outputs": [],
   "source": [
    "spam = ['cat', 'bat', 'rat', 'elephant']\n",
    "spam"
   ]
  },
  {
   "cell_type": "code",
   "execution_count": 5,
   "id": "9b817990",
   "metadata": {},
   "outputs": [
    {
     "data": {
      "text/plain": [
       "[]"
      ]
     },
     "execution_count": 5,
     "metadata": {},
     "output_type": "execute_result"
    }
   ],
   "source": [
    "[]"
   ]
  },
  {
   "cell_type": "code",
   "execution_count": 6,
   "id": "d15430d2",
   "metadata": {
    "scrolled": true,
    "tags": []
   },
   "outputs": [
    {
     "data": {
      "text/plain": [
       "[]"
      ]
     },
     "execution_count": 6,
     "metadata": {},
     "output_type": "execute_result"
    }
   ],
   "source": [
    "empty_list = []\n",
    "empty_list"
   ]
  },
  {
   "cell_type": "markdown",
   "id": "619f5c2d",
   "metadata": {},
   "source": [
    "# Lấy những giá trị cá nhân trong `list` với index (chỉ số)"
   ]
  },
  {
   "cell_type": "markdown",
   "id": "cf57ea2e",
   "metadata": {},
   "source": [
    "![](http://automatetheboringstuff.com/2e/images/000090.jpg)"
   ]
  },
  {
   "cell_type": "code",
   "execution_count": 7,
   "id": "2d1b274d",
   "metadata": {},
   "outputs": [],
   "source": [
    "spam = ['cat', 'bat', 'rat', 'elephant']"
   ]
  },
  {
   "cell_type": "code",
   "execution_count": 8,
   "id": "387a398b",
   "metadata": {},
   "outputs": [
    {
     "data": {
      "text/plain": [
       "'cat'"
      ]
     },
     "execution_count": 8,
     "metadata": {},
     "output_type": "execute_result"
    }
   ],
   "source": [
    "spam[0]"
   ]
  },
  {
   "cell_type": "code",
   "execution_count": 9,
   "id": "a108ba2d",
   "metadata": {},
   "outputs": [
    {
     "data": {
      "text/plain": [
       "'bat'"
      ]
     },
     "execution_count": 9,
     "metadata": {},
     "output_type": "execute_result"
    }
   ],
   "source": [
    "spam[1]"
   ]
  },
  {
   "cell_type": "code",
   "execution_count": null,
   "id": "11c5b0d0",
   "metadata": {},
   "outputs": [],
   "source": [
    "spam[2]"
   ]
  },
  {
   "cell_type": "code",
   "execution_count": null,
   "id": "1b68d12e",
   "metadata": {},
   "outputs": [],
   "source": [
    "spam[3]"
   ]
  },
  {
   "cell_type": "code",
   "execution_count": 10,
   "id": "f9b9adf2",
   "metadata": {},
   "outputs": [
    {
     "data": {
      "text/plain": [
       "'elephant'"
      ]
     },
     "execution_count": 10,
     "metadata": {},
     "output_type": "execute_result"
    }
   ],
   "source": [
    "['cat', 'bat', 'rat', 'elephant'][3]"
   ]
  },
  {
   "cell_type": "code",
   "execution_count": 11,
   "id": "9862dc2a",
   "metadata": {},
   "outputs": [
    {
     "data": {
      "text/plain": [
       "'Hello, cat'"
      ]
     },
     "execution_count": 11,
     "metadata": {},
     "output_type": "execute_result"
    }
   ],
   "source": [
    "'Hello, ' + spam[0]"
   ]
  },
  {
   "cell_type": "code",
   "execution_count": 12,
   "id": "0f19cdb5",
   "metadata": {},
   "outputs": [
    {
     "data": {
      "text/plain": [
       "'The bat ate the cat.'"
      ]
     },
     "execution_count": 12,
     "metadata": {},
     "output_type": "execute_result"
    }
   ],
   "source": [
    "'The ' + spam[1] + ' ate the ' + spam[0] + '.'"
   ]
  },
  {
   "cell_type": "code",
   "execution_count": null,
   "id": "033e6c63",
   "metadata": {},
   "outputs": [],
   "source": [
    "spam = ['cat', 'bat', 'rat', 'elephant']"
   ]
  },
  {
   "cell_type": "markdown",
   "id": "49f60154",
   "metadata": {},
   "source": [
    "Python sẽ đưa ra lỗi `IndexError` khi index vượt qua kích cỡ của list"
   ]
  },
  {
   "cell_type": "code",
   "execution_count": 16,
   "id": "5b017197",
   "metadata": {},
   "outputs": [
    {
     "ename": "IndexError",
     "evalue": "list index out of range",
     "output_type": "error",
     "traceback": [
      "\u001b[1;31m---------------------------------------------------------------------------\u001b[0m",
      "\u001b[1;31mIndexError\u001b[0m                                Traceback (most recent call last)",
      "\u001b[1;32m<ipython-input-16-3b15763110c6>\u001b[0m in \u001b[0;36m<module>\u001b[1;34m\u001b[0m\n\u001b[1;32m----> 1\u001b[1;33m \u001b[0mspam\u001b[0m\u001b[1;33m[\u001b[0m\u001b[1;36m10000\u001b[0m\u001b[1;33m]\u001b[0m\u001b[1;33m\u001b[0m\u001b[1;33m\u001b[0m\u001b[0m\n\u001b[0m",
      "\u001b[1;31mIndexError\u001b[0m: list index out of range"
     ]
    }
   ],
   "source": [
    "spam[10000]"
   ]
  },
  {
   "cell_type": "code",
   "execution_count": 18,
   "id": "48a63c91",
   "metadata": {},
   "outputs": [
    {
     "data": {
      "text/plain": [
       "'bat'"
      ]
     },
     "execution_count": 18,
     "metadata": {},
     "output_type": "execute_result"
    }
   ],
   "source": [
    "spam[1]"
   ]
  },
  {
   "cell_type": "code",
   "execution_count": 19,
   "id": "4bf7b989",
   "metadata": {
    "scrolled": true
   },
   "outputs": [
    {
     "ename": "TypeError",
     "evalue": "list indices must be integers or slices, not float",
     "output_type": "error",
     "traceback": [
      "\u001b[1;31m---------------------------------------------------------------------------\u001b[0m",
      "\u001b[1;31mTypeError\u001b[0m                                 Traceback (most recent call last)",
      "\u001b[1;32m<ipython-input-19-a283f69a570a>\u001b[0m in \u001b[0;36m<module>\u001b[1;34m\u001b[0m\n\u001b[1;32m----> 1\u001b[1;33m \u001b[0mspam\u001b[0m\u001b[1;33m[\u001b[0m\u001b[1;36m1.0\u001b[0m\u001b[1;33m]\u001b[0m\u001b[1;33m\u001b[0m\u001b[1;33m\u001b[0m\u001b[0m\n\u001b[0m",
      "\u001b[1;31mTypeError\u001b[0m: list indices must be integers or slices, not float"
     ]
    }
   ],
   "source": [
    "spam[1.0]"
   ]
  },
  {
   "cell_type": "code",
   "execution_count": 21,
   "id": "be6ed5b2-a621-4db7-89ad-7cfb371dc935",
   "metadata": {},
   "outputs": [
    {
     "data": {
      "text/plain": [
       "1"
      ]
     },
     "execution_count": 21,
     "metadata": {},
     "output_type": "execute_result"
    }
   ],
   "source": [
    "int(1.0)"
   ]
  },
  {
   "cell_type": "code",
   "execution_count": 20,
   "id": "714d6ffe",
   "metadata": {},
   "outputs": [
    {
     "data": {
      "text/plain": [
       "'bat'"
      ]
     },
     "execution_count": 20,
     "metadata": {},
     "output_type": "execute_result"
    }
   ],
   "source": [
    "spam[int(1.0)]"
   ]
  },
  {
   "cell_type": "code",
   "execution_count": 22,
   "id": "1b1ed3c1",
   "metadata": {},
   "outputs": [],
   "source": [
    "spam = [['cat', 'bat'], [10, 20, 30, 40, 50]]"
   ]
  },
  {
   "cell_type": "code",
   "execution_count": 23,
   "id": "7ce67d47",
   "metadata": {},
   "outputs": [
    {
     "data": {
      "text/plain": [
       "['cat', 'bat']"
      ]
     },
     "execution_count": 23,
     "metadata": {},
     "output_type": "execute_result"
    }
   ],
   "source": [
    "spam[0]"
   ]
  },
  {
   "cell_type": "code",
   "execution_count": 24,
   "id": "adb8004a",
   "metadata": {},
   "outputs": [
    {
     "data": {
      "text/plain": [
       "'bat'"
      ]
     },
     "execution_count": 24,
     "metadata": {},
     "output_type": "execute_result"
    }
   ],
   "source": [
    "spam[0][1]"
   ]
  },
  {
   "cell_type": "code",
   "execution_count": null,
   "id": "2a2df0c5",
   "metadata": {},
   "outputs": [],
   "source": [
    "spam[1][4]"
   ]
  },
  {
   "cell_type": "code",
   "execution_count": 25,
   "id": "eeb185d6-7724-4e84-9b52-2524ea66f4d9",
   "metadata": {},
   "outputs": [],
   "source": [
    "spam = [[[[[[[[[[9]]]]]]]]]]"
   ]
  },
  {
   "cell_type": "markdown",
   "id": "bdab7f8f",
   "metadata": {},
   "source": [
    "# Index âm"
   ]
  },
  {
   "cell_type": "markdown",
   "id": "7df731f7",
   "metadata": {},
   "source": [
    "Keys: Negative Indexes"
   ]
  },
  {
   "cell_type": "markdown",
   "id": "cc1dbb90",
   "metadata": {},
   "source": [
    "Index dương sẽ đi từ trái qua phải, bắt đầu với $0$\n",
    "\n",
    "Index âm sẽ đi từ phải qua trái, và bắt đầu với $-1$"
   ]
  },
  {
   "cell_type": "code",
   "execution_count": 26,
   "id": "f9c1d75c",
   "metadata": {},
   "outputs": [],
   "source": [
    "spam = ['cat', 'bat', 'rat', 'elephant']"
   ]
  },
  {
   "cell_type": "code",
   "execution_count": 27,
   "id": "ebeeb6c7",
   "metadata": {},
   "outputs": [
    {
     "data": {
      "text/plain": [
       "'elephant'"
      ]
     },
     "execution_count": 27,
     "metadata": {},
     "output_type": "execute_result"
    }
   ],
   "source": [
    "spam[-1]"
   ]
  },
  {
   "cell_type": "code",
   "execution_count": 28,
   "id": "9eb66157",
   "metadata": {},
   "outputs": [
    {
     "data": {
      "text/plain": [
       "'bat'"
      ]
     },
     "execution_count": 28,
     "metadata": {},
     "output_type": "execute_result"
    }
   ],
   "source": [
    "spam[-3]"
   ]
  },
  {
   "cell_type": "code",
   "execution_count": 29,
   "id": "b47b221a",
   "metadata": {},
   "outputs": [
    {
     "data": {
      "text/plain": [
       "'The elephant is afraid of the bat.'"
      ]
     },
     "execution_count": 29,
     "metadata": {},
     "output_type": "execute_result"
    }
   ],
   "source": [
    "'The ' + spam[-1] + ' is afraid of the ' + spam[-3] + '.'"
   ]
  },
  {
   "cell_type": "markdown",
   "id": "8167024d",
   "metadata": {},
   "source": [
    "# Lấy một list từ list khác với `slice`"
   ]
  },
  {
   "cell_type": "markdown",
   "id": "71cee2be",
   "metadata": {},
   "source": [
    "Keys: slice, lát cắt, slicing"
   ]
  },
  {
   "cell_type": "markdown",
   "id": "8d52bf04",
   "metadata": {},
   "source": [
    "Nếu index chỉ lấy được 1 giá trị từ list, thì slice giúp lấy \"nhiều\" giá trị từ list"
   ]
  },
  {
   "cell_type": "markdown",
   "id": "0eed3c7b",
   "metadata": {},
   "source": [
    "Để ý sự khác nhau giữa 2 dòng code dưới đây"
   ]
  },
  {
   "cell_type": "code",
   "execution_count": 31,
   "id": "5949a34d",
   "metadata": {},
   "outputs": [
    {
     "data": {
      "text/plain": [
       "'rat'"
      ]
     },
     "execution_count": 31,
     "metadata": {},
     "output_type": "execute_result"
    }
   ],
   "source": [
    "spam[2] # 1 số nguyên"
   ]
  },
  {
   "cell_type": "code",
   "execution_count": 35,
   "id": "626c089d-bed0-42b6-a135-2ea32b0dbe4f",
   "metadata": {},
   "outputs": [
    {
     "ename": "SyntaxError",
     "evalue": "illegal target for annotation (<ipython-input-35-72e1cc56f675>, line 1)",
     "output_type": "error",
     "traceback": [
      "\u001b[1;36m  File \u001b[1;32m\"<ipython-input-35-72e1cc56f675>\"\u001b[1;36m, line \u001b[1;32m1\u001b[0m\n\u001b[1;33m    1:4\u001b[0m\n\u001b[1;37m    ^\u001b[0m\n\u001b[1;31mSyntaxError\u001b[0m\u001b[1;31m:\u001b[0m illegal target for annotation\n"
     ]
    }
   ],
   "source": [
    "1:4"
   ]
  },
  {
   "cell_type": "markdown",
   "id": "d8d6f16e-ff66-4996-9467-5098a68587b4",
   "metadata": {},
   "source": [
    "pythonic"
   ]
  },
  {
   "cell_type": "code",
   "execution_count": 34,
   "id": "819176ef",
   "metadata": {},
   "outputs": [
    {
     "data": {
      "text/plain": [
       "['bat', 'rat', 'elephant']"
      ]
     },
     "execution_count": 34,
     "metadata": {},
     "output_type": "execute_result"
    }
   ],
   "source": [
    "# dưới 4\n",
    "spam[1:4] # 2 số nguyên (1, 2, 3)"
   ]
  },
  {
   "cell_type": "markdown",
   "id": "ac9bd15d",
   "metadata": {},
   "source": [
    "Số nguyên đầu tiên là index bắt đầu của giá trị muốn lấy, số tiếp theo là index cuối muốn lấy"
   ]
  },
  {
   "cell_type": "code",
   "execution_count": null,
   "id": "c11f86a0",
   "metadata": {},
   "outputs": [],
   "source": [
    "spam = ['cat', 'bat', 'rat', 'elephant']"
   ]
  },
  {
   "cell_type": "code",
   "execution_count": 36,
   "id": "19fb86f7",
   "metadata": {},
   "outputs": [
    {
     "data": {
      "text/plain": [
       "['cat', 'bat', 'rat', 'elephant']"
      ]
     },
     "execution_count": 36,
     "metadata": {},
     "output_type": "execute_result"
    }
   ],
   "source": [
    "spam[0:4] # lấy từ vị trí 0 đến dưới 4 (3)"
   ]
  },
  {
   "cell_type": "code",
   "execution_count": 37,
   "id": "60de704f",
   "metadata": {},
   "outputs": [
    {
     "data": {
      "text/plain": [
       "['bat', 'rat']"
      ]
     },
     "execution_count": 37,
     "metadata": {},
     "output_type": "execute_result"
    }
   ],
   "source": [
    "spam[1:3] # lấy 1, 2"
   ]
  },
  {
   "cell_type": "code",
   "execution_count": 38,
   "id": "5aa67b94",
   "metadata": {},
   "outputs": [
    {
     "data": {
      "text/plain": [
       "['cat', 'bat', 'rat']"
      ]
     },
     "execution_count": 38,
     "metadata": {},
     "output_type": "execute_result"
    }
   ],
   "source": [
    "spam[0:-1]"
   ]
  },
  {
   "cell_type": "markdown",
   "id": "2126bcdf",
   "metadata": {},
   "source": [
    "Nếu không có index đầu hoặc index cuối, ta sẽ lấy theo hướng của index được đưa vào"
   ]
  },
  {
   "cell_type": "code",
   "execution_count": 39,
   "id": "f20c4b15",
   "metadata": {},
   "outputs": [
    {
     "data": {
      "text/plain": [
       "['cat', 'bat']"
      ]
     },
     "execution_count": 39,
     "metadata": {},
     "output_type": "execute_result"
    }
   ],
   "source": [
    "spam[:2] # lấy từ đầu -> dưới 2"
   ]
  },
  {
   "cell_type": "code",
   "execution_count": 40,
   "id": "8713d5c2",
   "metadata": {},
   "outputs": [
    {
     "data": {
      "text/plain": [
       "['bat', 'rat', 'elephant']"
      ]
     },
     "execution_count": 40,
     "metadata": {},
     "output_type": "execute_result"
    }
   ],
   "source": [
    "spam[1:] # lấy từ 1 -> hết"
   ]
  },
  {
   "cell_type": "code",
   "execution_count": 41,
   "id": "73bd6877",
   "metadata": {},
   "outputs": [
    {
     "data": {
      "text/plain": [
       "['cat', 'bat', 'rat', 'elephant']"
      ]
     },
     "execution_count": 41,
     "metadata": {},
     "output_type": "execute_result"
    }
   ],
   "source": [
    "spam[:] # lấy cả 2 đầu"
   ]
  },
  {
   "cell_type": "markdown",
   "id": "d01ec8a4-7f68-4062-88ba-11ef272b8e77",
   "metadata": {},
   "source": [
    "{} -> dictionary, set\n",
    "\n",
    "() -> tuple"
   ]
  },
  {
   "cell_type": "markdown",
   "id": "d2a479d4",
   "metadata": {},
   "source": [
    "# Lấy độ dài của list với hàm `len()`"
   ]
  },
  {
   "cell_type": "code",
   "execution_count": 44,
   "id": "80f4ecf0",
   "metadata": {},
   "outputs": [],
   "source": [
    "spam = ['cat', 'dog', 'moose']"
   ]
  },
  {
   "cell_type": "code",
   "execution_count": 48,
   "id": "3c6b9838",
   "metadata": {},
   "outputs": [
    {
     "data": {
      "text/plain": [
       "3"
      ]
     },
     "execution_count": 48,
     "metadata": {},
     "output_type": "execute_result"
    }
   ],
   "source": [
    "len(spam)"
   ]
  },
  {
   "cell_type": "code",
   "execution_count": 49,
   "id": "65dfac6b-6d1c-49e8-bdab-644b33a7d192",
   "metadata": {},
   "outputs": [
    {
     "data": {
      "text/plain": [
       "2"
      ]
     },
     "execution_count": 49,
     "metadata": {},
     "output_type": "execute_result"
    }
   ],
   "source": [
    "# index tối đa của list\n",
    "len(spam) - 1"
   ]
  },
  {
   "cell_type": "markdown",
   "id": "1d175d78",
   "metadata": {},
   "source": [
    "# Thay đổi giá trị trong list với index"
   ]
  },
  {
   "cell_type": "markdown",
   "id": "f353a119",
   "metadata": {},
   "source": [
    "Thay đổi bằng dấu `=`"
   ]
  },
  {
   "cell_type": "code",
   "execution_count": 50,
   "id": "a2478011",
   "metadata": {},
   "outputs": [],
   "source": [
    "spam = ['cat', 'bat', 'rat', 'elephant']"
   ]
  },
  {
   "cell_type": "code",
   "execution_count": 51,
   "id": "e6ac4954",
   "metadata": {},
   "outputs": [],
   "source": [
    "spam[1] = 'aardvark'"
   ]
  },
  {
   "cell_type": "code",
   "execution_count": 53,
   "id": "3007e21c",
   "metadata": {},
   "outputs": [],
   "source": [
    "spam[2] = spam[1]"
   ]
  },
  {
   "cell_type": "code",
   "execution_count": 55,
   "id": "552729c7",
   "metadata": {},
   "outputs": [],
   "source": [
    "spam[-1] = 12345"
   ]
  },
  {
   "cell_type": "code",
   "execution_count": 57,
   "id": "94054994-2927-4c41-8fc1-a460098e3fbf",
   "metadata": {},
   "outputs": [],
   "source": [
    "spam[0] = True"
   ]
  },
  {
   "cell_type": "code",
   "execution_count": 61,
   "id": "b64c9fa4-6862-46e2-9d15-81722c7a746a",
   "metadata": {},
   "outputs": [],
   "source": [
    "spam[2] = type(None)"
   ]
  },
  {
   "cell_type": "code",
   "execution_count": 64,
   "id": "ae3760a6-56ef-4992-b61a-6fa1d5f26831",
   "metadata": {},
   "outputs": [],
   "source": [
    "spam[-1] = hello()"
   ]
  },
  {
   "cell_type": "code",
   "execution_count": 71,
   "id": "7b48efe1-4319-4e74-917c-060c42145f1f",
   "metadata": {},
   "outputs": [
    {
     "data": {
      "text/plain": [
       "type"
      ]
     },
     "execution_count": 71,
     "metadata": {},
     "output_type": "execute_result"
    }
   ],
   "source": [
    "type(type(type(int)))"
   ]
  },
  {
   "cell_type": "code",
   "execution_count": 69,
   "id": "ee2dcbcc-6322-4462-99b1-ac36fa3aa347",
   "metadata": {},
   "outputs": [],
   "source": [
    "spam[-1] = type(type(int))"
   ]
  },
  {
   "cell_type": "code",
   "execution_count": 63,
   "id": "567ffd46-53b1-4f17-98f4-5df60d95bc55",
   "metadata": {},
   "outputs": [],
   "source": [
    "def hello():\n",
    "    return 'Hello'"
   ]
  },
  {
   "cell_type": "code",
   "execution_count": 72,
   "id": "5bf32a0b-31d8-4314-a71d-f59fbebfc72f",
   "metadata": {},
   "outputs": [],
   "source": [
    "spam[-1] = hello"
   ]
  },
  {
   "cell_type": "code",
   "execution_count": 73,
   "id": "f249c84b",
   "metadata": {},
   "outputs": [
    {
     "data": {
      "text/plain": [
       "[True, 'aardvark', NoneType, <function __main__.hello()>]"
      ]
     },
     "execution_count": 73,
     "metadata": {},
     "output_type": "execute_result"
    }
   ],
   "source": [
    "spam"
   ]
  },
  {
   "cell_type": "markdown",
   "id": "7e5f6962",
   "metadata": {},
   "source": [
    "# Nối list và lặp list"
   ]
  },
  {
   "cell_type": "markdown",
   "id": "0219dc02",
   "metadata": {},
   "source": [
    "Keys: List Concatenation and List Replication"
   ]
  },
  {
   "cell_type": "markdown",
   "id": "712f487e",
   "metadata": {},
   "source": [
    "Dấu `+` sẽ nối 2 list với nhau, dấu `*` của list và số nguyên sẽ lặp list"
   ]
  },
  {
   "cell_type": "code",
   "execution_count": 74,
   "id": "4ef4c19c",
   "metadata": {},
   "outputs": [
    {
     "data": {
      "text/plain": [
       "[1, 2, 3, 'A', 'B', 'C']"
      ]
     },
     "execution_count": 74,
     "metadata": {},
     "output_type": "execute_result"
    }
   ],
   "source": [
    "[1, 2, 3] + ['A', 'B', 'C']"
   ]
  },
  {
   "cell_type": "code",
   "execution_count": 75,
   "id": "3787d239",
   "metadata": {},
   "outputs": [
    {
     "data": {
      "text/plain": [
       "['X', 'Y', 'Z', 'X', 'Y', 'Z', 'X', 'Y', 'Z']"
      ]
     },
     "execution_count": 75,
     "metadata": {},
     "output_type": "execute_result"
    }
   ],
   "source": [
    "['X', 'Y', 'Z'] * 3"
   ]
  },
  {
   "cell_type": "code",
   "execution_count": 76,
   "id": "fcf0264e",
   "metadata": {},
   "outputs": [],
   "source": [
    "spam = [1, 2, 3]"
   ]
  },
  {
   "cell_type": "code",
   "execution_count": 77,
   "id": "f51fd89c",
   "metadata": {},
   "outputs": [],
   "source": [
    "spam = spam + ['A', 'B', 'C']"
   ]
  },
  {
   "cell_type": "code",
   "execution_count": 78,
   "id": "a911225c",
   "metadata": {},
   "outputs": [
    {
     "data": {
      "text/plain": [
       "[1, 2, 3, 'A', 'B', 'C']"
      ]
     },
     "execution_count": 78,
     "metadata": {},
     "output_type": "execute_result"
    }
   ],
   "source": [
    "spam"
   ]
  },
  {
   "cell_type": "markdown",
   "id": "cd632f9c",
   "metadata": {},
   "source": [
    "# Xóa giá trị khỏi list với câu lệnh `del`"
   ]
  },
  {
   "cell_type": "code",
   "execution_count": 79,
   "id": "cccc7fd8",
   "metadata": {},
   "outputs": [],
   "source": [
    "spam = ['cat', 'bat', 'rat', 'elephant']"
   ]
  },
  {
   "cell_type": "code",
   "execution_count": 80,
   "id": "a782efde",
   "metadata": {},
   "outputs": [],
   "source": [
    "del spam[2]"
   ]
  },
  {
   "cell_type": "code",
   "execution_count": 81,
   "id": "6a435a16",
   "metadata": {},
   "outputs": [
    {
     "data": {
      "text/plain": [
       "['cat', 'bat', 'elephant']"
      ]
     },
     "execution_count": 81,
     "metadata": {},
     "output_type": "execute_result"
    }
   ],
   "source": [
    "spam"
   ]
  },
  {
   "cell_type": "code",
   "execution_count": 82,
   "id": "fe776bd0",
   "metadata": {},
   "outputs": [],
   "source": [
    "del spam[2]"
   ]
  },
  {
   "cell_type": "code",
   "execution_count": 83,
   "id": "b54264c3",
   "metadata": {},
   "outputs": [
    {
     "data": {
      "text/plain": [
       "['cat', 'bat']"
      ]
     },
     "execution_count": 83,
     "metadata": {},
     "output_type": "execute_result"
    }
   ],
   "source": [
    "spam"
   ]
  },
  {
   "cell_type": "code",
   "execution_count": 85,
   "id": "afad65e3-06b0-4482-8718-3f38a98aaaec",
   "metadata": {},
   "outputs": [
    {
     "ename": "SyntaxError",
     "evalue": "cannot delete literal (<ipython-input-85-f601a7787570>, line 1)",
     "output_type": "error",
     "traceback": [
      "\u001b[1;36m  File \u001b[1;32m\"<ipython-input-85-f601a7787570>\"\u001b[1;36m, line \u001b[1;32m1\u001b[0m\n\u001b[1;33m    del [1, 2, 3]\u001b[0m\n\u001b[1;37m        ^\u001b[0m\n\u001b[1;31mSyntaxError\u001b[0m\u001b[1;31m:\u001b[0m cannot delete literal\n"
     ]
    }
   ],
   "source": [
    "del [1, 2, 3]"
   ]
  },
  {
   "cell_type": "markdown",
   "id": "afaab671",
   "metadata": {},
   "source": [
    "# Làm việc với nhiều list"
   ]
  },
  {
   "cell_type": "code",
   "execution_count": 86,
   "id": "6707f37a",
   "metadata": {},
   "outputs": [],
   "source": [
    "catName1 = 'Zophie'\n",
    "catName2 = 'Pooka'\n",
    "catName3 = 'Simon'\n",
    "catName4 = 'Lady Macbeth'\n",
    "catName5 = 'Fat-tail'\n",
    "catName6 = 'Miss Cleo'"
   ]
  },
  {
   "cell_type": "markdown",
   "id": "7b316795",
   "metadata": {},
   "source": [
    "=> Cách cùi mía để viết code"
   ]
  },
  {
   "cell_type": "code",
   "execution_count": 87,
   "id": "dbac0eb3",
   "metadata": {},
   "outputs": [
    {
     "name": "stdout",
     "output_type": "stream",
     "text": [
      "Enter the name of cat 1:\n"
     ]
    },
    {
     "name": "stdin",
     "output_type": "stream",
     "text": [
      " meo\n"
     ]
    },
    {
     "name": "stdout",
     "output_type": "stream",
     "text": [
      "Enter the name of cat 2:\n"
     ]
    },
    {
     "name": "stdin",
     "output_type": "stream",
     "text": [
      " meo\n"
     ]
    },
    {
     "name": "stdout",
     "output_type": "stream",
     "text": [
      "Enter the name of cat 3:\n"
     ]
    },
    {
     "name": "stdin",
     "output_type": "stream",
     "text": [
      " meo\n"
     ]
    },
    {
     "name": "stdout",
     "output_type": "stream",
     "text": [
      "Enter the name of cat 4:\n"
     ]
    },
    {
     "name": "stdin",
     "output_type": "stream",
     "text": [
      " meo\n"
     ]
    },
    {
     "name": "stdout",
     "output_type": "stream",
     "text": [
      "Enter the name of cat 5:\n"
     ]
    },
    {
     "name": "stdin",
     "output_type": "stream",
     "text": [
      " meo\n"
     ]
    },
    {
     "name": "stdout",
     "output_type": "stream",
     "text": [
      "Enter the name of cat 6:\n"
     ]
    },
    {
     "name": "stdin",
     "output_type": "stream",
     "text": [
      " dog\n"
     ]
    },
    {
     "name": "stdout",
     "output_type": "stream",
     "text": [
      "The cat names are:\n",
      "meo meo meo meo meo dog\n"
     ]
    }
   ],
   "source": [
    "print('Enter the name of cat 1:')\n",
    "catName1 = input()\n",
    "print('Enter the name of cat 2:')\n",
    "catName2 = input()\n",
    "print('Enter the name of cat 3:')\n",
    "catName3 = input()\n",
    "print('Enter the name of cat 4:')\n",
    "catName4 = input()\n",
    "print('Enter the name of cat 5:')\n",
    "catName5 = input()\n",
    "print('Enter the name of cat 6:')\n",
    "catName6 = input()\n",
    "print('The cat names are:')\n",
    "print(catName1 + ' ' + catName2 + ' ' + catName3 + ' ' + catName4 + ' ' +\n",
    "catName5 + ' ' + catName6)"
   ]
  },
  {
   "cell_type": "markdown",
   "id": "725f4bab",
   "metadata": {},
   "source": [
    "Xem thêm ở đây: https://autbor.com/allmycats1/"
   ]
  },
  {
   "cell_type": "markdown",
   "id": "8002f919",
   "metadata": {},
   "source": [
    "=> Đây cũng cùi"
   ]
  },
  {
   "cell_type": "code",
   "execution_count": 88,
   "id": "a7dcddb7",
   "metadata": {
    "scrolled": true
   },
   "outputs": [
    {
     "name": "stdout",
     "output_type": "stream",
     "text": [
      "Enter the name of cat 1 (Or enter nothing to stop.):\n"
     ]
    },
    {
     "name": "stdin",
     "output_type": "stream",
     "text": [
      " moe\n"
     ]
    },
    {
     "name": "stdout",
     "output_type": "stream",
     "text": [
      "Enter the name of cat 2 (Or enter nothing to stop.):\n"
     ]
    },
    {
     "name": "stdin",
     "output_type": "stream",
     "text": [
      " moe\n"
     ]
    },
    {
     "name": "stdout",
     "output_type": "stream",
     "text": [
      "Enter the name of cat 3 (Or enter nothing to stop.):\n"
     ]
    },
    {
     "name": "stdin",
     "output_type": "stream",
     "text": [
      " moe\n"
     ]
    },
    {
     "name": "stdout",
     "output_type": "stream",
     "text": [
      "Enter the name of cat 4 (Or enter nothing to stop.):\n"
     ]
    },
    {
     "name": "stdin",
     "output_type": "stream",
     "text": [
      " eo\n"
     ]
    },
    {
     "name": "stdout",
     "output_type": "stream",
     "text": [
      "Enter the name of cat 5 (Or enter nothing to stop.):\n"
     ]
    },
    {
     "name": "stdin",
     "output_type": "stream",
     "text": [
      " \n"
     ]
    },
    {
     "name": "stdout",
     "output_type": "stream",
     "text": [
      "The cat names are:\n",
      "  moe\n",
      "  moe\n",
      "  moe\n",
      "  eo\n"
     ]
    }
   ],
   "source": [
    "catNames = []\n",
    "while True:\n",
    "    print('Enter the name of cat ' + str(len(catNames) + 1) +\n",
    "      ' (Or enter nothing to stop.):')\n",
    "    name = input()\n",
    "    if name == '':\n",
    "        break\n",
    "    catNames = catNames + [name]  # list concatenation\n",
    "print('The cat names are:')\n",
    "for name in catNames:\n",
    "    print('  ' + name)"
   ]
  },
  {
   "cell_type": "markdown",
   "id": "a0528304",
   "metadata": {},
   "source": [
    "Xem thêm ở đây: https://autbor.com/allmycats2/"
   ]
  },
  {
   "cell_type": "markdown",
   "id": "b25b0ea3",
   "metadata": {},
   "source": [
    "# Sử dụng vòng lặp for với list"
   ]
  },
  {
   "cell_type": "markdown",
   "id": "45963005",
   "metadata": {},
   "source": [
    "Ôn lại"
   ]
  },
  {
   "cell_type": "code",
   "execution_count": 89,
   "id": "876198c3",
   "metadata": {},
   "outputs": [
    {
     "name": "stdout",
     "output_type": "stream",
     "text": [
      "0\n",
      "1\n",
      "2\n",
      "3\n"
     ]
    }
   ],
   "source": [
    "for i in range(4):\n",
    "    print(i)"
   ]
  },
  {
   "cell_type": "markdown",
   "id": "e5868886",
   "metadata": {},
   "source": [
    "`range(4)` cũng khá tương tự với `list`"
   ]
  },
  {
   "cell_type": "code",
   "execution_count": 90,
   "id": "71a39e17-de61-4446-8fdb-ab73980c526b",
   "metadata": {},
   "outputs": [
    {
     "data": {
      "text/plain": [
       "[0, 1, 2, 3]"
      ]
     },
     "execution_count": 90,
     "metadata": {},
     "output_type": "execute_result"
    }
   ],
   "source": [
    "list(range(4))"
   ]
  },
  {
   "cell_type": "code",
   "execution_count": 91,
   "id": "e51059d5",
   "metadata": {},
   "outputs": [
    {
     "name": "stdout",
     "output_type": "stream",
     "text": [
      "0\n",
      "1\n",
      "2\n",
      "3\n"
     ]
    }
   ],
   "source": [
    "for i in [0, 1, 2, 3]:\n",
    "    print(i)"
   ]
  },
  {
   "cell_type": "code",
   "execution_count": 92,
   "id": "b789eef9",
   "metadata": {},
   "outputs": [
    {
     "name": "stdout",
     "output_type": "stream",
     "text": [
      "Index 0 in supplies is: pens\n",
      "Index 1 in supplies is: staplers\n",
      "Index 2 in supplies is: flamethrowers\n",
      "Index 3 in supplies is: binders\n"
     ]
    }
   ],
   "source": [
    "supplies = ['pens', 'staplers', 'flamethrowers', 'binders']\n",
    "# len(supplies) -> 4\n",
    "# range(4) -> [0, 1, 2, 3]\n",
    "for i in range(len(supplies)):\n",
    "    print('Index ' + str(i) + ' in supplies is: ' + supplies[i])"
   ]
  },
  {
   "cell_type": "code",
   "execution_count": null,
   "id": "7a0fe1a1",
   "metadata": {},
   "outputs": [],
   "source": [
    "range(len(supplies)) # sẽ lặp qua tất cả index của list supplies"
   ]
  },
  {
   "cell_type": "markdown",
   "id": "3b2da845",
   "metadata": {},
   "source": [
    "# Toán tử `in` và `not in`"
   ]
  },
  {
   "cell_type": "code",
   "execution_count": 93,
   "id": "3e5e6285",
   "metadata": {},
   "outputs": [
    {
     "data": {
      "text/plain": [
       "True"
      ]
     },
     "execution_count": 93,
     "metadata": {},
     "output_type": "execute_result"
    }
   ],
   "source": [
    "'howdy' in ['hello', 'hi', 'howdy', 'heyas']"
   ]
  },
  {
   "cell_type": "code",
   "execution_count": 94,
   "id": "e335d219",
   "metadata": {},
   "outputs": [],
   "source": [
    "spam = ['hello', 'hi', 'howdy', 'heyas']"
   ]
  },
  {
   "cell_type": "code",
   "execution_count": 95,
   "id": "ae8eb058",
   "metadata": {},
   "outputs": [
    {
     "data": {
      "text/plain": [
       "False"
      ]
     },
     "execution_count": 95,
     "metadata": {},
     "output_type": "execute_result"
    }
   ],
   "source": [
    "'cat' in spam"
   ]
  },
  {
   "cell_type": "code",
   "execution_count": 96,
   "id": "c2b99cec",
   "metadata": {},
   "outputs": [
    {
     "data": {
      "text/plain": [
       "False"
      ]
     },
     "execution_count": 96,
     "metadata": {},
     "output_type": "execute_result"
    }
   ],
   "source": [
    "'howdy' not in spam"
   ]
  },
  {
   "cell_type": "code",
   "execution_count": 97,
   "id": "5e4a676f",
   "metadata": {},
   "outputs": [
    {
     "data": {
      "text/plain": [
       "True"
      ]
     },
     "execution_count": 97,
     "metadata": {},
     "output_type": "execute_result"
    }
   ],
   "source": [
    "'cat' not in spam"
   ]
  },
  {
   "cell_type": "code",
   "execution_count": 99,
   "id": "2efe5e52",
   "metadata": {
    "scrolled": true
   },
   "outputs": [
    {
     "name": "stdout",
     "output_type": "stream",
     "text": [
      "Enter a pet name:\n"
     ]
    },
    {
     "name": "stdin",
     "output_type": "stream",
     "text": [
      " Pooka\n"
     ]
    },
    {
     "name": "stdout",
     "output_type": "stream",
     "text": [
      "Pooka is my pet.\n"
     ]
    }
   ],
   "source": [
    "myPets = ['Zophie', 'Pooka', 'Fat-tail']\n",
    "print('Enter a pet name:')\n",
    "name = input()\n",
    "if name not in myPets:\n",
    "    print('I do not have a pet named ' + name)\n",
    "else:\n",
    "    print(name + ' is my pet.')"
   ]
  },
  {
   "cell_type": "markdown",
   "id": "a80c673c",
   "metadata": {},
   "source": [
    "Xem thêm ở đây: https://autbor.com/mypets"
   ]
  },
  {
   "cell_type": "markdown",
   "id": "beeb49c9",
   "metadata": {},
   "source": [
    "# Trick cho phép gán nhiều giá trị cho nhiều biến"
   ]
  },
  {
   "cell_type": "markdown",
   "id": "35399a4b",
   "metadata": {},
   "source": [
    "Keys: multiple assignment trick, tuple unpacking"
   ]
  },
  {
   "cell_type": "markdown",
   "id": "3bc0c27f",
   "metadata": {},
   "source": [
    "**Old way**"
   ]
  },
  {
   "cell_type": "code",
   "execution_count": 100,
   "id": "a99b64a9",
   "metadata": {},
   "outputs": [],
   "source": [
    "cat = ['fat', 'gray', 'loud']\n",
    "size = cat[0]\n",
    "color = cat[1]\n",
    "disposition = cat[2]"
   ]
  },
  {
   "cell_type": "code",
   "execution_count": 101,
   "id": "4d72ec92",
   "metadata": {},
   "outputs": [
    {
     "data": {
      "text/plain": [
       "'fat'"
      ]
     },
     "execution_count": 101,
     "metadata": {},
     "output_type": "execute_result"
    }
   ],
   "source": [
    "size"
   ]
  },
  {
   "cell_type": "code",
   "execution_count": 102,
   "id": "4e345139",
   "metadata": {},
   "outputs": [
    {
     "data": {
      "text/plain": [
       "'gray'"
      ]
     },
     "execution_count": 102,
     "metadata": {},
     "output_type": "execute_result"
    }
   ],
   "source": [
    "color"
   ]
  },
  {
   "cell_type": "code",
   "execution_count": 103,
   "id": "e5495ae6",
   "metadata": {},
   "outputs": [
    {
     "data": {
      "text/plain": [
       "'loud'"
      ]
     },
     "execution_count": 103,
     "metadata": {},
     "output_type": "execute_result"
    }
   ],
   "source": [
    "disposition"
   ]
  },
  {
   "cell_type": "markdown",
   "id": "1a3264bc",
   "metadata": {},
   "source": [
    "**Trick way**"
   ]
  },
  {
   "cell_type": "code",
   "execution_count": 105,
   "id": "df8fbda0",
   "metadata": {},
   "outputs": [],
   "source": [
    "cat = ['fat', 'gray', 'loud']"
   ]
  },
  {
   "cell_type": "code",
   "execution_count": 106,
   "id": "22f2e8d5",
   "metadata": {},
   "outputs": [],
   "source": [
    "size, color, disposition = cat"
   ]
  },
  {
   "cell_type": "code",
   "execution_count": 107,
   "id": "a7e03b4e",
   "metadata": {},
   "outputs": [
    {
     "name": "stdout",
     "output_type": "stream",
     "text": [
      "fat | gray | loud\n"
     ]
    }
   ],
   "source": [
    "print(size, color, disposition, sep=' | ')"
   ]
  },
  {
   "cell_type": "code",
   "execution_count": 109,
   "id": "d3d0e388-ff0e-418e-8f8c-a2f05da5ec7d",
   "metadata": {},
   "outputs": [],
   "source": [
    "# làm cách nào để swap giá trị trong python?\n",
    "a = 3\n",
    "b = 5\n",
    "b, a = a, b"
   ]
  },
  {
   "cell_type": "code",
   "execution_count": 110,
   "id": "c85da79e-6547-4c62-b0a8-1132affa85fd",
   "metadata": {},
   "outputs": [
    {
     "data": {
      "text/plain": [
       "5"
      ]
     },
     "execution_count": 110,
     "metadata": {},
     "output_type": "execute_result"
    }
   ],
   "source": [
    "a"
   ]
  },
  {
   "cell_type": "code",
   "execution_count": 111,
   "id": "e3da3b85-14c3-40ab-aa82-517b374ecf58",
   "metadata": {},
   "outputs": [
    {
     "data": {
      "text/plain": [
       "3"
      ]
     },
     "execution_count": 111,
     "metadata": {},
     "output_type": "execute_result"
    }
   ],
   "source": [
    "b"
   ]
  },
  {
   "cell_type": "code",
   "execution_count": 113,
   "id": "601a1ca4",
   "metadata": {},
   "outputs": [
    {
     "ename": "ValueError",
     "evalue": "not enough values to unpack (expected 4, got 3)",
     "output_type": "error",
     "traceback": [
      "\u001b[1;31m---------------------------------------------------------------------------\u001b[0m",
      "\u001b[1;31mValueError\u001b[0m                                Traceback (most recent call last)",
      "\u001b[1;32m<ipython-input-113-ee84a0560228>\u001b[0m in \u001b[0;36m<module>\u001b[1;34m\u001b[0m\n\u001b[0;32m      1\u001b[0m \u001b[0mcat\u001b[0m \u001b[1;33m=\u001b[0m \u001b[1;33m[\u001b[0m\u001b[1;34m'fat'\u001b[0m\u001b[1;33m,\u001b[0m \u001b[1;34m'gray'\u001b[0m\u001b[1;33m,\u001b[0m \u001b[1;34m'loud'\u001b[0m\u001b[1;33m]\u001b[0m\u001b[1;33m\u001b[0m\u001b[1;33m\u001b[0m\u001b[0m\n\u001b[1;32m----> 2\u001b[1;33m \u001b[0msize\u001b[0m\u001b[1;33m,\u001b[0m \u001b[0mcolor\u001b[0m\u001b[1;33m,\u001b[0m \u001b[0mdisposition\u001b[0m\u001b[1;33m,\u001b[0m \u001b[0mname\u001b[0m \u001b[1;33m=\u001b[0m \u001b[0mcat\u001b[0m\u001b[1;33m\u001b[0m\u001b[1;33m\u001b[0m\u001b[0m\n\u001b[0m",
      "\u001b[1;31mValueError\u001b[0m: not enough values to unpack (expected 4, got 3)"
     ]
    }
   ],
   "source": [
    "cat = ['fat', 'gray', 'loud']\n",
    "size, color, disposition, name = cat"
   ]
  },
  {
   "cell_type": "markdown",
   "id": "8164687c",
   "metadata": {},
   "source": [
    "# Hàm `enumerate()` với `list`"
   ]
  },
  {
   "cell_type": "markdown",
   "id": "a530dce1",
   "metadata": {},
   "source": [
    "Thay vì phải sử dụng `range(len(someList))` với vòng `for` thì ta có thể sử dụng `enumerate()` để vừa lấy index, vừa lấy giá trị"
   ]
  },
  {
   "cell_type": "code",
   "execution_count": 122,
   "id": "9d4c3854",
   "metadata": {},
   "outputs": [],
   "source": [
    "supplies = ['pens', 'staplers', 'flamethrowers', 'binders']"
   ]
  },
  {
   "cell_type": "code",
   "execution_count": 123,
   "id": "ef08decd-c54d-4f4a-86f9-905d5ba559c3",
   "metadata": {},
   "outputs": [
    {
     "data": {
      "text/plain": [
       "['pens', 'staplers', 'flamethrowers', 'binders']"
      ]
     },
     "execution_count": 123,
     "metadata": {},
     "output_type": "execute_result"
    }
   ],
   "source": [
    "supplies"
   ]
  },
  {
   "cell_type": "code",
   "execution_count": 124,
   "id": "e9d7a350",
   "metadata": {},
   "outputs": [
    {
     "name": "stdout",
     "output_type": "stream",
     "text": [
      "Index 0 in supplies is: pens\n",
      "Index 1 in supplies is: staplers\n",
      "Index 2 in supplies is: flamethrowers\n",
      "Index 3 in supplies is: binders\n"
     ]
    }
   ],
   "source": [
    "for index, item in enumerate(supplies):\n",
    "    supplies[0] = 'pencil'\n",
    "    print('Index ' + str(index) + ' in supplies is: ' + item)"
   ]
  },
  {
   "cell_type": "markdown",
   "id": "dcdc1cc0",
   "metadata": {},
   "source": [
    "# Thêm một chút về toán tử gán"
   ]
  },
  {
   "cell_type": "markdown",
   "id": "c26e1426",
   "metadata": {},
   "source": [
    "Keys: The Augmented Assignment Operators"
   ]
  },
  {
   "cell_type": "markdown",
   "id": "2c27cc51",
   "metadata": {},
   "source": [
    "|Toán tử gán tăng cường|Toán tử gán tương đương|\n",
    "|--|--|\n",
    "|`spam += 1`|`spam = spam + 1`|\n",
    "|`spam -= 1`|`spam = spam - 1`|\n",
    "|`spam *= 1`|`spam = spam * 1`|\n",
    "|`spam /= 1`|`spam = spam / 1`|\n",
    "|`spam %= 1`|`spam = spam % 1`|"
   ]
  },
  {
   "cell_type": "code",
   "execution_count": null,
   "id": "aa59c9a0",
   "metadata": {},
   "outputs": [],
   "source": [
    "spam = 'Hello,'"
   ]
  },
  {
   "cell_type": "code",
   "execution_count": null,
   "id": "592184ea",
   "metadata": {},
   "outputs": [],
   "source": [
    "spam += ' world!'"
   ]
  },
  {
   "cell_type": "code",
   "execution_count": null,
   "id": "3da76b6e",
   "metadata": {},
   "outputs": [],
   "source": [
    "spam"
   ]
  },
  {
   "cell_type": "code",
   "execution_count": null,
   "id": "d1d45153",
   "metadata": {},
   "outputs": [],
   "source": [
    "bacon = ['Zophie']"
   ]
  },
  {
   "cell_type": "code",
   "execution_count": null,
   "id": "ca09afd9",
   "metadata": {},
   "outputs": [],
   "source": [
    "bacon *= 3"
   ]
  },
  {
   "cell_type": "code",
   "execution_count": null,
   "id": "b9c9ded1",
   "metadata": {},
   "outputs": [],
   "source": [
    "bacon"
   ]
  },
  {
   "cell_type": "markdown",
   "id": "4d4858f8",
   "metadata": {},
   "source": [
    "# Các phương thức về list khác"
   ]
  },
  {
   "cell_type": "markdown",
   "id": "699e343f",
   "metadata": {},
   "source": [
    "Keys: list methods"
   ]
  },
  {
   "cell_type": "markdown",
   "id": "7f25463d",
   "metadata": {},
   "source": [
    "Phần này sẽ để cho mọi người tự thực hành, dưới đây là một số hàm của `list`"
   ]
  },
  {
   "cell_type": "markdown",
   "id": "24f358da",
   "metadata": {},
   "source": [
    "`index()`, `append()`, `insert()`, `remove()`, `sort()`, `reverse()`"
   ]
  },
  {
   "cell_type": "markdown",
   "id": "abfdd47b",
   "metadata": {},
   "source": [
    "# Chương trình: Magic 8 ball with a list"
   ]
  },
  {
   "cell_type": "code",
   "execution_count": 138,
   "id": "ec0b42e6",
   "metadata": {},
   "outputs": [
    {
     "name": "stdout",
     "output_type": "stream",
     "text": [
      "It is certain\n"
     ]
    }
   ],
   "source": [
    "import random\n",
    "\n",
    "messages = ['It is certain',\n",
    "    'It is decidedly so',\n",
    "    'Yes definitely',\n",
    "    'Reply hazy try again',\n",
    "    'Ask again later',\n",
    "    'Concentrate and ask again',\n",
    "    'My reply is no',\n",
    "    'Outlook not so good',\n",
    "    'Very doubtful']\n",
    "\n",
    "print(messages[random.randint(0, len(messages) - 1)])"
   ]
  },
  {
   "cell_type": "markdown",
   "id": "74b35554",
   "metadata": {},
   "source": [
    "Xem thêm ở đây: https://autbor.com/magic8ball2/"
   ]
  },
  {
   "cell_type": "markdown",
   "id": "a93a39a4-4492-456b-afc5-e71d93d4e95c",
   "metadata": {},
   "source": [
    "## Những chủ đề có thể khám phá thêm"
   ]
  },
  {
   "cell_type": "markdown",
   "id": "84cedcdf",
   "metadata": {},
   "source": [
    "- `str`, `list`, `tuple`\n",
    "- Hàm `reverse()`\n",
    "- `Mutable` and `Immutable` Data Types\n",
    "- Kiểu dữ liệu `tuple`\n",
    "- tham chiếu (reference) trong python\n",
    "- Hàm `id()`\n",
    "- Module `copy`\n",
    "- List comprehension, tuple comprehension "
   ]
  },
  {
   "cell_type": "markdown",
   "id": "fae48958",
   "metadata": {},
   "source": [
    "# Chương trình: Conway’s Game of Life"
   ]
  },
  {
   "cell_type": "markdown",
   "id": "e37f2dd3",
   "metadata": {},
   "source": [
    "Keys: cellular automata"
   ]
  },
  {
   "cell_type": "markdown",
   "id": "24e06a62-6cc0-4753-a487-3264957a19c0",
   "metadata": {},
   "source": [
    "Conway's game of life là một ví dụ về cellcular automata: một tập hợp các quy tắc điều chỉnh hành vi của một trường được tạo thành từ các ô rời rạc. Trong thực tế, nó tạo ra một hình ảnh động đẹp mắt."
   ]
  },
  {
   "cell_type": "markdown",
   "id": "0c6ef914-1ede-411f-b807-934d3863b4a2",
   "metadata": {},
   "source": [
    "Tạo file `conway_game.py` và gõ lại các dòng code dưới đây"
   ]
  },
  {
   "cell_type": "code",
   "execution_count": null,
   "id": "d01a92d3",
   "metadata": {},
   "outputs": [],
   "source": [
    "# Conway's Game of Life\n",
    "import random, time, copy\n",
    "WIDTH = 60\n",
    "HEIGHT = 20\n",
    "\n",
    "# Create a list of list for the cells:\n",
    "nextCells = []\n",
    "for x in range(WIDTH):\n",
    "    column = [] # Create a new column.\n",
    "    for y in range(HEIGHT):\n",
    "        if random.randint(0, 1) == 0:\n",
    "            column.append('#') # Add a living cell.\n",
    "        else:\n",
    "            column.append(' ') # Add a dead cell.\n",
    "    nextCells.append(column) # nextCells is a list of column lists.\n",
    "\n",
    "while True: # Main program loop.\n",
    "    print('\\n\\n\\n\\n\\n') # Separate each step with newlines.\n",
    "    currentCells = copy.deepcopy(nextCells)\n",
    "\n",
    "    # Print currentCells on the screen:\n",
    "    for y in range(HEIGHT):\n",
    "        for x in range(WIDTH):\n",
    "            print(currentCells[x][y], end='') # Print the # or space.\n",
    "        print() # Print a newline at the end of the row.\n",
    "\n",
    "    # Calculate the next step's cells based on current step's cells:\n",
    "    for x in range(WIDTH):\n",
    "        for y in range(HEIGHT):\n",
    "            # Get neighboring coordinates:\n",
    "            # `% WIDTH` ensures leftCoord is always between 0 and WIDTH - 1\n",
    "            leftCoord  = (x - 1) % WIDTH\n",
    "            rightCoord = (x + 1) % WIDTH\n",
    "            aboveCoord = (y - 1) % HEIGHT\n",
    "            belowCoord = (y + 1) % HEIGHT\n",
    "\n",
    "            # Count number of living neighbors:\n",
    "            numNeighbors = 0\n",
    "            if currentCells[leftCoord][aboveCoord] == '#':\n",
    "                numNeighbors += 1 # Top-left neighbor is alive.\n",
    "            if currentCells[x][aboveCoord] == '#':\n",
    "                numNeighbors += 1 # Top neighbor is alive.\n",
    "            if currentCells[rightCoord][aboveCoord] == '#':\n",
    "                numNeighbors += 1 # Top-right neighbor is alive.\n",
    "            if currentCells[leftCoord][y] == '#':\n",
    "                numNeighbors += 1 # Left neighbor is alive.\n",
    "            if currentCells[rightCoord][y] == '#':\n",
    "                numNeighbors += 1 # Right neighbor is alive.\n",
    "            if currentCells[leftCoord][belowCoord] == '#':\n",
    "                numNeighbors += 1 # Bottom-left neighbor is alive.\n",
    "            if currentCells[x][belowCoord] == '#':\n",
    "                numNeighbors += 1 # Bottom neighbor is alive.\n",
    "            if currentCells[rightCoord][belowCoord] == '#':\n",
    "                numNeighbors += 1 # Bottom-right neighbor is alive.\n",
    "\n",
    "            # Set cell based on Conway's Game of Life rules:\n",
    "            if currentCells[x][y] == '#' and (numNeighbors == 2 or\n",
    "numNeighbors == 3):\n",
    "                # Living cells with 2 or 3 neighbors stay alive:\n",
    "                nextCells[x][y] = '#'\n",
    "            elif currentCells[x][y] == ' ' and numNeighbors == 3:\n",
    "                # Dead cells with 3 neighbors become alive:\n",
    "                nextCells[x][y] = '#'\n",
    "            else:\n",
    "                # Everything else dies or stays dead:\n",
    "                nextCells[x][y] = ' '\n",
    "    time.sleep(1) # Add a 1-second pause to reduce flickering."
   ]
  },
  {
   "cell_type": "markdown",
   "id": "631dad02-d8fe-4b85-b32a-6b9fb0539ea4",
   "metadata": {},
   "source": [
    "# Có luyện tập mới thành tài 😉"
   ]
  },
  {
   "cell_type": "markdown",
   "id": "71c7265e-8fe1-45cc-afd3-05e79feda4e4",
   "metadata": {},
   "source": [
    "Một câu chuyện kể rằng, vào năm một nghìn chín trăm hồi đó, có một con thuyền đang lênh đênh trên biển khơi, con thuyền này chứa $n$ thành viên, họ đang đi du lịch và điểm đến của họ là vương quốc **AICLUB**. Bỗng dưng, một khoảnh khắc nào đó, thuyền trưởng nhận ra có một con dao kề sát bên cổ mình, và hàng loạt các thành viên khác trên thuyền bị cướp biển bao vây. Tên khốn cướp biển kia nói:\n",
    "\n",
    "_\"Từ giờ con thuyền này thuộc về bọn ta, bay đâu, tập hợp $n$ đứa này lại và quây nó thành một vòng tròn đi\"_\n",
    "\n",
    "__Hắn nói thêm:__\n",
    "\n",
    "_\"Bọn mi sẽ chơi một trò chơi, ta sẽ đưa cho tên thuyền trưởng một cây súng, cứ sau $k$ lần đếm, tính từ người cầm súng, người đó sẽ phải tự bắn vào đầu mình một nhát\"_\n",
    "\n",
    "_\"Đứa nào là đứa sống sót cuối cùng, ta sẽ thả đến vương quốc AICLUB, nếu không chơi, cả $n$ đều phải nhảy xuống làm mồi cho bọn cá mập kia\"_\n",
    "\n",
    "Nếu gọi $n$ người là $n$ số nguyên từ $1$ đến $n$, vậy thì ai là người sống sót. Bạn được yêu cầu thực nghiệm lại bài toán này, bằng những kiến thức Python đã học. \n",
    "\n",
    "#### __Bạn nộp đầu tiên sẽ được 5 điểm, các bạn nộp sau sẽ được 0.5 điểm.__ \n",
    "\n",
    "VD: Nếu $n=12$ và $k=2$. Thuyền trưởng cầm súng, nghĩa là số 1, người tiếp theo là số 2, người này phải tự kết liễu mình, bắt đầu tiếp với số $3$."
   ]
  }
 ],
 "metadata": {
  "kernelspec": {
   "display_name": "Python 3",
   "language": "python",
   "name": "python3"
  },
  "language_info": {
   "codemirror_mode": {
    "name": "ipython",
    "version": 3
   },
   "file_extension": ".py",
   "mimetype": "text/x-python",
   "name": "python",
   "nbconvert_exporter": "python",
   "pygments_lexer": "ipython3",
   "version": "3.8.8"
  }
 },
 "nbformat": 4,
 "nbformat_minor": 5
}
